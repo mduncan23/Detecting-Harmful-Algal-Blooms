{
 "cells": [
  {
   "cell_type": "markdown",
   "metadata": {
    "toc": true
   },
   "source": [
    "<h1>Table of Contents<span class=\"tocSkip\"></span></h1>\n",
    "<div class=\"toc\"><ul class=\"toc-item\"><li><span><a href=\"#Bringing-in-the-Saved-Dataset-Files\" data-toc-modified-id=\"Bringing-in-the-Saved-Dataset-Files-1\"><span class=\"toc-item-num\">1&nbsp;&nbsp;</span>Bringing in the Saved Dataset Files</a></span></li><li><span><a href=\"#Modeling\" data-toc-modified-id=\"Modeling-2\"><span class=\"toc-item-num\">2&nbsp;&nbsp;</span>Modeling</a></span><ul class=\"toc-item\"><li><span><a href=\"#Setting-up-Pipelines\" data-toc-modified-id=\"Setting-up-Pipelines-2.1\"><span class=\"toc-item-num\">2.1&nbsp;&nbsp;</span>Setting up Pipelines</a></span></li><li><span><a href=\"#Setting-Predictor-and-Target-Variables\" data-toc-modified-id=\"Setting-Predictor-and-Target-Variables-2.2\"><span class=\"toc-item-num\">2.2&nbsp;&nbsp;</span>Setting Predictor and Target Variables</a></span><ul class=\"toc-item\"><li><span><a href=\"#Making-a-Custom-Scorer-to-Cross-Validate-Data\" data-toc-modified-id=\"Making-a-Custom-Scorer-to-Cross-Validate-Data-2.2.1\"><span class=\"toc-item-num\">2.2.1&nbsp;&nbsp;</span>Making a Custom Scorer to Cross Validate Data</a></span></li></ul></li><li><span><a href=\"#Dummy-Model\" data-toc-modified-id=\"Dummy-Model-2.3\"><span class=\"toc-item-num\">2.3&nbsp;&nbsp;</span>Dummy Model</a></span></li><li><span><a href=\"#Logistic-Regression-Model\" data-toc-modified-id=\"Logistic-Regression-Model-2.4\"><span class=\"toc-item-num\">2.4&nbsp;&nbsp;</span>Logistic Regression Model</a></span><ul class=\"toc-item\"><li><span><a href=\"#First-Logistic-Regression-GridSearch\" data-toc-modified-id=\"First-Logistic-Regression-GridSearch-2.4.1\"><span class=\"toc-item-num\">2.4.1&nbsp;&nbsp;</span>First Logistic Regression GridSearch</a></span></li><li><span><a href=\"#Second-Logistic-Regression-GridSearch\" data-toc-modified-id=\"Second-Logistic-Regression-GridSearch-2.4.2\"><span class=\"toc-item-num\">2.4.2&nbsp;&nbsp;</span>Second Logistic Regression GridSearch</a></span></li><li><span><a href=\"#Final-Logistic-Regression-GridSearch\" data-toc-modified-id=\"Final-Logistic-Regression-GridSearch-2.4.3\"><span class=\"toc-item-num\">2.4.3&nbsp;&nbsp;</span>Final Logistic Regression GridSearch</a></span></li><li><span><a href=\"#Best-Logistic-Regression-Model\" data-toc-modified-id=\"Best-Logistic-Regression-Model-2.4.4\"><span class=\"toc-item-num\">2.4.4&nbsp;&nbsp;</span>Best Logistic Regression Model</a></span></li></ul></li><li><span><a href=\"#Random-Forest-Model\" data-toc-modified-id=\"Random-Forest-Model-2.5\"><span class=\"toc-item-num\">2.5&nbsp;&nbsp;</span>Random Forest Model</a></span><ul class=\"toc-item\"><li><span><a href=\"#First-Random-Forest-GridSearch\" data-toc-modified-id=\"First-Random-Forest-GridSearch-2.5.1\"><span class=\"toc-item-num\">2.5.1&nbsp;&nbsp;</span>First Random Forest GridSearch</a></span></li><li><span><a href=\"#Second-Random-Forest-Gridsearch\" data-toc-modified-id=\"Second-Random-Forest-Gridsearch-2.5.2\"><span class=\"toc-item-num\">2.5.2&nbsp;&nbsp;</span>Second Random Forest Gridsearch</a></span></li><li><span><a href=\"#Third-Random-Forest-Gridsearch\" data-toc-modified-id=\"Third-Random-Forest-Gridsearch-2.5.3\"><span class=\"toc-item-num\">2.5.3&nbsp;&nbsp;</span>Third Random Forest Gridsearch</a></span></li><li><span><a href=\"#Best-Random-Forest-Model\" data-toc-modified-id=\"Best-Random-Forest-Model-2.5.4\"><span class=\"toc-item-num\">2.5.4&nbsp;&nbsp;</span>Best Random Forest Model</a></span></li></ul></li><li><span><a href=\"#XGBoost-Model\" data-toc-modified-id=\"XGBoost-Model-2.6\"><span class=\"toc-item-num\">2.6&nbsp;&nbsp;</span>XGBoost Model</a></span><ul class=\"toc-item\"><li><span><a href=\"#XGBoost-Gridsearch\" data-toc-modified-id=\"XGBoost-Gridsearch-2.6.1\"><span class=\"toc-item-num\">2.6.1&nbsp;&nbsp;</span>XGBoost Gridsearch</a></span></li><li><span><a href=\"#Best-XGBoost-Model\" data-toc-modified-id=\"Best-XGBoost-Model-2.6.2\"><span class=\"toc-item-num\">2.6.2&nbsp;&nbsp;</span>Best XGBoost Model</a></span></li></ul></li><li><span><a href=\"#LinearSVC-Model\" data-toc-modified-id=\"LinearSVC-Model-2.7\"><span class=\"toc-item-num\">2.7&nbsp;&nbsp;</span>LinearSVC Model</a></span><ul class=\"toc-item\"><li><span><a href=\"#SVC-GridSearch\" data-toc-modified-id=\"SVC-GridSearch-2.7.1\"><span class=\"toc-item-num\">2.7.1&nbsp;&nbsp;</span>SVC GridSearch</a></span></li></ul></li><li><span><a href=\"#MLP-Model\" data-toc-modified-id=\"MLP-Model-2.8\"><span class=\"toc-item-num\">2.8&nbsp;&nbsp;</span>MLP Model</a></span><ul class=\"toc-item\"><li><span><a href=\"#First-MLPClassifier-Gridsearch\" data-toc-modified-id=\"First-MLPClassifier-Gridsearch-2.8.1\"><span class=\"toc-item-num\">2.8.1&nbsp;&nbsp;</span>First MLPClassifier Gridsearch</a></span></li><li><span><a href=\"#Second-MLPClassifier-GridSearch\" data-toc-modified-id=\"Second-MLPClassifier-GridSearch-2.8.2\"><span class=\"toc-item-num\">2.8.2&nbsp;&nbsp;</span>Second MLPClassifier GridSearch</a></span></li></ul></li><li><span><a href=\"#K-Nearest-Neighbors-Model\" data-toc-modified-id=\"K-Nearest-Neighbors-Model-2.9\"><span class=\"toc-item-num\">2.9&nbsp;&nbsp;</span>K-Nearest Neighbors Model</a></span><ul class=\"toc-item\"><li><span><a href=\"#First-K-Nearest-Neighbors-Gridsearch\" data-toc-modified-id=\"First-K-Nearest-Neighbors-Gridsearch-2.9.1\"><span class=\"toc-item-num\">2.9.1&nbsp;&nbsp;</span>First K-Nearest Neighbors Gridsearch</a></span></li><li><span><a href=\"#Second-K-Nearest-Neighbors-GridSearch\" data-toc-modified-id=\"Second-K-Nearest-Neighbors-GridSearch-2.9.2\"><span class=\"toc-item-num\">2.9.2&nbsp;&nbsp;</span>Second K-Nearest Neighbors GridSearch</a></span></li><li><span><a href=\"#K-Nearest-Neighbors-Best-Model\" data-toc-modified-id=\"K-Nearest-Neighbors-Best-Model-2.9.3\"><span class=\"toc-item-num\">2.9.3&nbsp;&nbsp;</span>K-Nearest Neighbors Best Model</a></span></li></ul></li><li><span><a href=\"#Stacking-Classifier-Model\" data-toc-modified-id=\"Stacking-Classifier-Model-2.10\"><span class=\"toc-item-num\">2.10&nbsp;&nbsp;</span>Stacking Classifier Model</a></span><ul class=\"toc-item\"><li><span><a href=\"#Second-Stacking-Classifier-Model\" data-toc-modified-id=\"Second-Stacking-Classifier-Model-2.10.1\"><span class=\"toc-item-num\">2.10.1&nbsp;&nbsp;</span>Second Stacking Classifier Model</a></span></li><li><span><a href=\"#Third-Iteration-of-Stacking-Classifier\" data-toc-modified-id=\"Third-Iteration-of-Stacking-Classifier-2.10.2\"><span class=\"toc-item-num\">2.10.2&nbsp;&nbsp;</span>Third Iteration of Stacking Classifier</a></span></li><li><span><a href=\"#Final-Iteration-of-Stacking-Classifier\" data-toc-modified-id=\"Final-Iteration-of-Stacking-Classifier-2.10.3\"><span class=\"toc-item-num\">2.10.3&nbsp;&nbsp;</span>Final Iteration of Stacking Classifier</a></span></li></ul></li></ul></li><li><span><a href=\"#Best-Model\" data-toc-modified-id=\"Best-Model-3\"><span class=\"toc-item-num\">3&nbsp;&nbsp;</span>Best Model</a></span><ul class=\"toc-item\"><li><ul class=\"toc-item\"><li><span><a href=\"#Visualizing-Errors\" data-toc-modified-id=\"Visualizing-Errors-3.0.1\"><span class=\"toc-item-num\">3.0.1&nbsp;&nbsp;</span>Visualizing Errors</a></span></li></ul></li></ul></li><li><span><a href=\"#Conclusions\" data-toc-modified-id=\"Conclusions-4\"><span class=\"toc-item-num\">4&nbsp;&nbsp;</span>Conclusions</a></span><ul class=\"toc-item\"><li><span><a href=\"#Analysis\" data-toc-modified-id=\"Analysis-4.1\"><span class=\"toc-item-num\">4.1&nbsp;&nbsp;</span>Analysis</a></span></li><li><span><a href=\"#Future-Considerations\" data-toc-modified-id=\"Future-Considerations-4.2\"><span class=\"toc-item-num\">4.2&nbsp;&nbsp;</span>Future Considerations</a></span></li></ul></li></ul></div>"
   ]
  },
  {
   "cell_type": "markdown",
   "metadata": {},
   "source": [
    "Running main notebook"
   ]
  },
  {
   "cell_type": "code",
   "execution_count": 1,
   "metadata": {
    "ExecuteTime": {
     "end_time": "2023-02-15T14:34:33.897812Z",
     "start_time": "2023-02-15T14:34:32.025517Z"
    }
   },
   "outputs": [],
   "source": [
    "import pandas as pd\n",
    "import matplotlib.pyplot as plt\n",
    "import seaborn as sns\n",
    "import numpy as np\n",
    "\n",
    "import geopandas as gpd\n",
    "from shapely.geometry import Point\n",
    "import geopy.distance as distance\n",
    "\n",
    "import planetary_computer as pc\n",
    "from pystac_client import Client\n",
    "\n",
    "from datetime import datetime\n",
    "from datetime import timedelta\n",
    "from datetime import date\n",
    "\n",
    "# import requests\n",
    "# from PIL import Image\n",
    "# from io import BytesIO\n",
    "\n",
    "# import rioxarray\n",
    "# import odc.stac\n",
    "# import tempfile\n",
    "# import os\n",
    "\n",
    "from sklearn.preprocessing import MinMaxScaler, OneHotEncoder, StandardScaler\n",
    "from sklearn.model_selection import train_test_split, cross_validate, GridSearchCV\n",
    "from sklearn.ensemble import RandomForestClassifier\n",
    "from sklearn.dummy import DummyClassifier\n",
    "from sklearn.pipeline import Pipeline\n",
    "from sklearn.impute import KNNImputer\n",
    "from sklearn.compose import ColumnTransformer\n",
    "from sklearn.metrics import classification_report, mean_squared_error, make_scorer\n",
    "from sklearn.neural_network import MLPClassifier\n",
    "from sklearn.neighbors import KNeighborsClassifier\n",
    "from sklearn.ensemble import StackingClassifier\n",
    "from sklearn.linear_model import LogisticRegression\n",
    "from sklearn.svm import LinearSVC\n",
    "\n",
    "from xgboost import XGBClassifier\n",
    "\n",
    "import hab_functions\n",
    "\n",
    "# import pygrib\n",
    "\n",
    "import warnings\n",
    "warnings.filterwarnings('ignore')\n",
    "\n",
    "%matplotlib inline\n",
    "sns.set_theme()"
   ]
  },
  {
   "cell_type": "markdown",
   "metadata": {},
   "source": [
    "# Bringing in the Saved Dataset Files"
   ]
  },
  {
   "cell_type": "markdown",
   "metadata": {},
   "source": [
    "For the modeling portion of this report, I will be using the full dataset that has undergone the same cleaning that we see in the `Introduction_and_Data` notebook. It includes NASA Satellite Imagery, elevation data, and NOAA Climate data in the form of temperature for one and five day's before the manual sample was taken."
   ]
  },
  {
   "cell_type": "code",
   "execution_count": 2,
   "metadata": {
    "ExecuteTime": {
     "end_time": "2023-02-15T14:34:33.944297Z",
     "start_time": "2023-02-15T14:34:33.899804Z"
    }
   },
   "outputs": [],
   "source": [
    "full_train = pd.read_csv('./Data/clean_train_data.csv')"
   ]
  },
  {
   "cell_type": "code",
   "execution_count": 3,
   "metadata": {
    "ExecuteTime": {
     "end_time": "2023-02-15T14:34:33.959808Z",
     "start_time": "2023-02-15T14:34:33.945298Z"
    }
   },
   "outputs": [
    {
     "data": {
      "text/html": [
       "<div>\n",
       "<style scoped>\n",
       "    .dataframe tbody tr th:only-of-type {\n",
       "        vertical-align: middle;\n",
       "    }\n",
       "\n",
       "    .dataframe tbody tr th {\n",
       "        vertical-align: top;\n",
       "    }\n",
       "\n",
       "    .dataframe thead th {\n",
       "        text-align: right;\n",
       "    }\n",
       "</style>\n",
       "<table border=\"1\" class=\"dataframe\">\n",
       "  <thead>\n",
       "    <tr style=\"text-align: right;\">\n",
       "      <th></th>\n",
       "      <th>date</th>\n",
       "      <th>uid</th>\n",
       "      <th>region</th>\n",
       "      <th>latitude</th>\n",
       "      <th>longitude</th>\n",
       "      <th>img_date</th>\n",
       "      <th>red_mean</th>\n",
       "      <th>red_median</th>\n",
       "      <th>red_max</th>\n",
       "      <th>red_min</th>\n",
       "      <th>...</th>\n",
       "      <th>severity</th>\n",
       "      <th>missing_img_date</th>\n",
       "      <th>days_from_sat_to_sample</th>\n",
       "      <th>season_autumn</th>\n",
       "      <th>season_spring</th>\n",
       "      <th>season_summer</th>\n",
       "      <th>season_winter</th>\n",
       "      <th>elevation</th>\n",
       "      <th>temp_1day</th>\n",
       "      <th>temp_5_day</th>\n",
       "    </tr>\n",
       "  </thead>\n",
       "  <tbody>\n",
       "    <tr>\n",
       "      <th>0</th>\n",
       "      <td>734872</td>\n",
       "      <td>evep</td>\n",
       "      <td>midwest</td>\n",
       "      <td>44.847993</td>\n",
       "      <td>-93.476318</td>\n",
       "      <td>734872</td>\n",
       "      <td>0.000000</td>\n",
       "      <td>0.000000</td>\n",
       "      <td>0.0</td>\n",
       "      <td>0.0</td>\n",
       "      <td>...</td>\n",
       "      <td>1</td>\n",
       "      <td>0</td>\n",
       "      <td>0</td>\n",
       "      <td>0.0</td>\n",
       "      <td>0.0</td>\n",
       "      <td>0.0</td>\n",
       "      <td>1.0</td>\n",
       "      <td>254.000000</td>\n",
       "      <td>NaN</td>\n",
       "      <td>NaN</td>\n",
       "    </tr>\n",
       "    <tr>\n",
       "      <th>1</th>\n",
       "      <td>734872</td>\n",
       "      <td>paev</td>\n",
       "      <td>midwest</td>\n",
       "      <td>44.822478</td>\n",
       "      <td>-93.367962</td>\n",
       "      <td>734872</td>\n",
       "      <td>0.000000</td>\n",
       "      <td>0.000000</td>\n",
       "      <td>0.0</td>\n",
       "      <td>0.0</td>\n",
       "      <td>...</td>\n",
       "      <td>1</td>\n",
       "      <td>0</td>\n",
       "      <td>0</td>\n",
       "      <td>0.0</td>\n",
       "      <td>0.0</td>\n",
       "      <td>0.0</td>\n",
       "      <td>1.0</td>\n",
       "      <td>247.543610</td>\n",
       "      <td>NaN</td>\n",
       "      <td>NaN</td>\n",
       "    </tr>\n",
       "    <tr>\n",
       "      <th>2</th>\n",
       "      <td>734872</td>\n",
       "      <td>gdxr</td>\n",
       "      <td>midwest</td>\n",
       "      <td>44.877646</td>\n",
       "      <td>-93.557842</td>\n",
       "      <td>734863</td>\n",
       "      <td>178.941946</td>\n",
       "      <td>204.755425</td>\n",
       "      <td>255.0</td>\n",
       "      <td>0.0</td>\n",
       "      <td>...</td>\n",
       "      <td>1</td>\n",
       "      <td>0</td>\n",
       "      <td>9</td>\n",
       "      <td>0.0</td>\n",
       "      <td>0.0</td>\n",
       "      <td>0.0</td>\n",
       "      <td>1.0</td>\n",
       "      <td>289.865173</td>\n",
       "      <td>NaN</td>\n",
       "      <td>NaN</td>\n",
       "    </tr>\n",
       "    <tr>\n",
       "      <th>3</th>\n",
       "      <td>734872</td>\n",
       "      <td>guny</td>\n",
       "      <td>midwest</td>\n",
       "      <td>44.878889</td>\n",
       "      <td>-93.490833</td>\n",
       "      <td>734872</td>\n",
       "      <td>0.000000</td>\n",
       "      <td>0.000000</td>\n",
       "      <td>0.0</td>\n",
       "      <td>0.0</td>\n",
       "      <td>...</td>\n",
       "      <td>1</td>\n",
       "      <td>0</td>\n",
       "      <td>0</td>\n",
       "      <td>0.0</td>\n",
       "      <td>0.0</td>\n",
       "      <td>0.0</td>\n",
       "      <td>1.0</td>\n",
       "      <td>277.500000</td>\n",
       "      <td>NaN</td>\n",
       "      <td>NaN</td>\n",
       "    </tr>\n",
       "    <tr>\n",
       "      <th>4</th>\n",
       "      <td>734872</td>\n",
       "      <td>fwbt</td>\n",
       "      <td>midwest</td>\n",
       "      <td>44.850500</td>\n",
       "      <td>-93.515700</td>\n",
       "      <td>734872</td>\n",
       "      <td>0.000000</td>\n",
       "      <td>0.000000</td>\n",
       "      <td>0.0</td>\n",
       "      <td>0.0</td>\n",
       "      <td>...</td>\n",
       "      <td>1</td>\n",
       "      <td>0</td>\n",
       "      <td>0</td>\n",
       "      <td>0.0</td>\n",
       "      <td>0.0</td>\n",
       "      <td>0.0</td>\n",
       "      <td>1.0</td>\n",
       "      <td>265.504028</td>\n",
       "      <td>NaN</td>\n",
       "      <td>NaN</td>\n",
       "    </tr>\n",
       "  </tbody>\n",
       "</table>\n",
       "<p>5 rows × 34 columns</p>\n",
       "</div>"
      ],
      "text/plain": [
       "     date   uid   region   latitude  longitude  img_date    red_mean  \\\n",
       "0  734872  evep  midwest  44.847993 -93.476318    734872    0.000000   \n",
       "1  734872  paev  midwest  44.822478 -93.367962    734872    0.000000   \n",
       "2  734872  gdxr  midwest  44.877646 -93.557842    734863  178.941946   \n",
       "3  734872  guny  midwest  44.878889 -93.490833    734872    0.000000   \n",
       "4  734872  fwbt  midwest  44.850500 -93.515700    734872    0.000000   \n",
       "\n",
       "   red_median  red_max  red_min  ...  severity  missing_img_date  \\\n",
       "0    0.000000      0.0      0.0  ...         1                 0   \n",
       "1    0.000000      0.0      0.0  ...         1                 0   \n",
       "2  204.755425    255.0      0.0  ...         1                 0   \n",
       "3    0.000000      0.0      0.0  ...         1                 0   \n",
       "4    0.000000      0.0      0.0  ...         1                 0   \n",
       "\n",
       "   days_from_sat_to_sample  season_autumn  season_spring  season_summer  \\\n",
       "0                        0            0.0            0.0            0.0   \n",
       "1                        0            0.0            0.0            0.0   \n",
       "2                        9            0.0            0.0            0.0   \n",
       "3                        0            0.0            0.0            0.0   \n",
       "4                        0            0.0            0.0            0.0   \n",
       "\n",
       "   season_winter   elevation  temp_1day  temp_5_day  \n",
       "0            1.0  254.000000        NaN         NaN  \n",
       "1            1.0  247.543610        NaN         NaN  \n",
       "2            1.0  289.865173        NaN         NaN  \n",
       "3            1.0  277.500000        NaN         NaN  \n",
       "4            1.0  265.504028        NaN         NaN  \n",
       "\n",
       "[5 rows x 34 columns]"
      ]
     },
     "execution_count": 3,
     "metadata": {},
     "output_type": "execute_result"
    }
   ],
   "source": [
    "full_train.drop('Unnamed: 0', axis=1, inplace=True)\n",
    "full_train.head()"
   ]
  },
  {
   "cell_type": "code",
   "execution_count": 4,
   "metadata": {
    "ExecuteTime": {
     "end_time": "2023-02-15T14:34:33.975807Z",
     "start_time": "2023-02-15T14:34:33.960808Z"
    }
   },
   "outputs": [],
   "source": [
    "final_train = full_train.copy()\n",
    "final_train['date'] = final_train['date'].map(lambda x: date.fromordinal(x))"
   ]
  },
  {
   "cell_type": "code",
   "execution_count": 5,
   "metadata": {
    "ExecuteTime": {
     "end_time": "2023-02-15T14:34:55.351938Z",
     "start_time": "2023-02-15T14:34:33.976808Z"
    }
   },
   "outputs": [],
   "source": [
    "hab_functions.get_important_info(final_train);"
   ]
  },
  {
   "cell_type": "code",
   "execution_count": 6,
   "metadata": {
    "ExecuteTime": {
     "end_time": "2023-02-15T14:34:55.383971Z",
     "start_time": "2023-02-15T14:34:55.352938Z"
    }
   },
   "outputs": [],
   "source": [
    "full_test_df = pd.read_csv('./Data/clean_test_data.csv')"
   ]
  },
  {
   "cell_type": "code",
   "execution_count": 7,
   "metadata": {
    "ExecuteTime": {
     "end_time": "2023-02-15T14:34:55.399972Z",
     "start_time": "2023-02-15T14:34:55.384971Z"
    }
   },
   "outputs": [
    {
     "data": {
      "text/html": [
       "<div>\n",
       "<style scoped>\n",
       "    .dataframe tbody tr th:only-of-type {\n",
       "        vertical-align: middle;\n",
       "    }\n",
       "\n",
       "    .dataframe tbody tr th {\n",
       "        vertical-align: top;\n",
       "    }\n",
       "\n",
       "    .dataframe thead th {\n",
       "        text-align: right;\n",
       "    }\n",
       "</style>\n",
       "<table border=\"1\" class=\"dataframe\">\n",
       "  <thead>\n",
       "    <tr style=\"text-align: right;\">\n",
       "      <th></th>\n",
       "      <th>date</th>\n",
       "      <th>uid</th>\n",
       "      <th>latitude</th>\n",
       "      <th>longitude</th>\n",
       "      <th>img_date</th>\n",
       "      <th>red_mean</th>\n",
       "      <th>red_median</th>\n",
       "      <th>red_max</th>\n",
       "      <th>red_min</th>\n",
       "      <th>red_sum</th>\n",
       "      <th>...</th>\n",
       "      <th>blue_product</th>\n",
       "      <th>missing_img_date</th>\n",
       "      <th>days_from_sat_to_sample</th>\n",
       "      <th>season_autumn</th>\n",
       "      <th>season_spring</th>\n",
       "      <th>season_summer</th>\n",
       "      <th>season_winter</th>\n",
       "      <th>elevation</th>\n",
       "      <th>temp_1day</th>\n",
       "      <th>temp_5_day</th>\n",
       "    </tr>\n",
       "  </thead>\n",
       "  <tbody>\n",
       "    <tr>\n",
       "      <th>0</th>\n",
       "      <td>734876</td>\n",
       "      <td>eamn</td>\n",
       "      <td>36.9818</td>\n",
       "      <td>-120.221</td>\n",
       "      <td>734872</td>\n",
       "      <td>0.000000</td>\n",
       "      <td>0.000000</td>\n",
       "      <td>0.0</td>\n",
       "      <td>0.0</td>\n",
       "      <td>0.000000</td>\n",
       "      <td>...</td>\n",
       "      <td>0.0</td>\n",
       "      <td>0</td>\n",
       "      <td>4</td>\n",
       "      <td>0.0</td>\n",
       "      <td>0.0</td>\n",
       "      <td>0.0</td>\n",
       "      <td>1.0</td>\n",
       "      <td>62.286789</td>\n",
       "      <td>NaN</td>\n",
       "      <td>NaN</td>\n",
       "    </tr>\n",
       "    <tr>\n",
       "      <th>1</th>\n",
       "      <td>734876</td>\n",
       "      <td>howw</td>\n",
       "      <td>37.0062</td>\n",
       "      <td>-120.600</td>\n",
       "      <td>734863</td>\n",
       "      <td>96.794956</td>\n",
       "      <td>93.012939</td>\n",
       "      <td>255.0</td>\n",
       "      <td>0.0</td>\n",
       "      <td>5420.517560</td>\n",
       "      <td>...</td>\n",
       "      <td>0.0</td>\n",
       "      <td>0</td>\n",
       "      <td>13</td>\n",
       "      <td>0.0</td>\n",
       "      <td>0.0</td>\n",
       "      <td>0.0</td>\n",
       "      <td>1.0</td>\n",
       "      <td>33.658421</td>\n",
       "      <td>NaN</td>\n",
       "      <td>NaN</td>\n",
       "    </tr>\n",
       "    <tr>\n",
       "      <th>2</th>\n",
       "      <td>734876</td>\n",
       "      <td>imsv</td>\n",
       "      <td>36.9836</td>\n",
       "      <td>-120.500</td>\n",
       "      <td>734863</td>\n",
       "      <td>165.295561</td>\n",
       "      <td>178.719942</td>\n",
       "      <td>255.0</td>\n",
       "      <td>0.0</td>\n",
       "      <td>8099.482488</td>\n",
       "      <td>...</td>\n",
       "      <td>0.0</td>\n",
       "      <td>0</td>\n",
       "      <td>13</td>\n",
       "      <td>0.0</td>\n",
       "      <td>0.0</td>\n",
       "      <td>0.0</td>\n",
       "      <td>1.0</td>\n",
       "      <td>36.339100</td>\n",
       "      <td>NaN</td>\n",
       "      <td>NaN</td>\n",
       "    </tr>\n",
       "    <tr>\n",
       "      <th>3</th>\n",
       "      <td>734893</td>\n",
       "      <td>rsos</td>\n",
       "      <td>33.8892</td>\n",
       "      <td>-117.562</td>\n",
       "      <td>734890</td>\n",
       "      <td>83.199385</td>\n",
       "      <td>73.647525</td>\n",
       "      <td>255.0</td>\n",
       "      <td>0.0</td>\n",
       "      <td>4076.769845</td>\n",
       "      <td>...</td>\n",
       "      <td>0.0</td>\n",
       "      <td>0</td>\n",
       "      <td>3</td>\n",
       "      <td>0.0</td>\n",
       "      <td>0.0</td>\n",
       "      <td>0.0</td>\n",
       "      <td>1.0</td>\n",
       "      <td>182.744644</td>\n",
       "      <td>NaN</td>\n",
       "      <td>NaN</td>\n",
       "    </tr>\n",
       "    <tr>\n",
       "      <th>4</th>\n",
       "      <td>734893</td>\n",
       "      <td>wgxq</td>\n",
       "      <td>33.8011</td>\n",
       "      <td>-117.205</td>\n",
       "      <td>734890</td>\n",
       "      <td>108.140408</td>\n",
       "      <td>100.092696</td>\n",
       "      <td>255.0</td>\n",
       "      <td>0.0</td>\n",
       "      <td>6920.986096</td>\n",
       "      <td>...</td>\n",
       "      <td>0.0</td>\n",
       "      <td>0</td>\n",
       "      <td>3</td>\n",
       "      <td>0.0</td>\n",
       "      <td>0.0</td>\n",
       "      <td>0.0</td>\n",
       "      <td>1.0</td>\n",
       "      <td>433.029602</td>\n",
       "      <td>NaN</td>\n",
       "      <td>NaN</td>\n",
       "    </tr>\n",
       "  </tbody>\n",
       "</table>\n",
       "<p>5 rows × 32 columns</p>\n",
       "</div>"
      ],
      "text/plain": [
       "     date   uid  latitude  longitude  img_date    red_mean  red_median  \\\n",
       "0  734876  eamn   36.9818   -120.221    734872    0.000000    0.000000   \n",
       "1  734876  howw   37.0062   -120.600    734863   96.794956   93.012939   \n",
       "2  734876  imsv   36.9836   -120.500    734863  165.295561  178.719942   \n",
       "3  734893  rsos   33.8892   -117.562    734890   83.199385   73.647525   \n",
       "4  734893  wgxq   33.8011   -117.205    734890  108.140408  100.092696   \n",
       "\n",
       "   red_max  red_min      red_sum  ...  blue_product  missing_img_date  \\\n",
       "0      0.0      0.0     0.000000  ...           0.0                 0   \n",
       "1    255.0      0.0  5420.517560  ...           0.0                 0   \n",
       "2    255.0      0.0  8099.482488  ...           0.0                 0   \n",
       "3    255.0      0.0  4076.769845  ...           0.0                 0   \n",
       "4    255.0      0.0  6920.986096  ...           0.0                 0   \n",
       "\n",
       "   days_from_sat_to_sample  season_autumn  season_spring  season_summer  \\\n",
       "0                        4            0.0            0.0            0.0   \n",
       "1                       13            0.0            0.0            0.0   \n",
       "2                       13            0.0            0.0            0.0   \n",
       "3                        3            0.0            0.0            0.0   \n",
       "4                        3            0.0            0.0            0.0   \n",
       "\n",
       "   season_winter   elevation  temp_1day  temp_5_day  \n",
       "0            1.0   62.286789        NaN         NaN  \n",
       "1            1.0   33.658421        NaN         NaN  \n",
       "2            1.0   36.339100        NaN         NaN  \n",
       "3            1.0  182.744644        NaN         NaN  \n",
       "4            1.0  433.029602        NaN         NaN  \n",
       "\n",
       "[5 rows x 32 columns]"
      ]
     },
     "execution_count": 7,
     "metadata": {},
     "output_type": "execute_result"
    }
   ],
   "source": [
    "full_test_df.drop('Unnamed: 0', axis=1, inplace=True)\n",
    "full_test_df.head()"
   ]
  },
  {
   "cell_type": "markdown",
   "metadata": {},
   "source": [
    "# Modeling"
   ]
  },
  {
   "cell_type": "markdown",
   "metadata": {},
   "source": [
    "## Setting up Pipelines"
   ]
  },
  {
   "cell_type": "markdown",
   "metadata": {},
   "source": [
    "Creating a pipeline to fill in missing values and standard scale some features. Imputing and scaling apply to sample site coordinates, to all features brought in from Satellites including images and elevation, and to temperature data from NOAA.\n",
    "\n",
    "I'm utilizing a K-Nearest Neighbor approach for imputing data. Any data that is being imputed will have a missing indicator added so that the model can be aware of imputation."
   ]
  },
  {
   "cell_type": "code",
   "execution_count": 8,
   "metadata": {
    "ExecuteTime": {
     "end_time": "2023-02-15T14:34:55.415972Z",
     "start_time": "2023-02-15T14:34:55.400972Z"
    }
   },
   "outputs": [],
   "source": [
    "impute_scale_pipe = Pipeline([\n",
    "    ('knn_impute', KNNImputer(add_indicator=True)),\n",
    "    ('ss', StandardScaler())\n",
    "])"
   ]
  },
  {
   "cell_type": "code",
   "execution_count": 9,
   "metadata": {
    "ExecuteTime": {
     "end_time": "2023-02-15T14:34:55.431971Z",
     "start_time": "2023-02-15T14:34:55.417973Z"
    }
   },
   "outputs": [],
   "source": [
    "# with lat/long\n",
    "impute_scale_cols = ['latitude', 'longitude', 'red_mean', 'red_median', 'red_max', 'red_min','red_sum',\n",
    "        'red_product', 'green_mean', 'green_median', 'green_max',\n",
    "        'green_min', 'green_sum', 'green_product', 'blue_mean',\n",
    "        'blue_median','blue_max', 'blue_min', 'blue_sum', 'blue_product',\n",
    "        'elevation', 'temp_1day', 'temp_5_day']\n",
    "\n",
    "ColTrans = ColumnTransformer(transformers=[\n",
    "    ('impute_scale_pipe', impute_scale_pipe, impute_scale_cols)\n",
    "    \n",
    "], remainder='passthrough')"
   ]
  },
  {
   "cell_type": "markdown",
   "metadata": {},
   "source": [
    "## Setting Predictor and Target Variables"
   ]
  },
  {
   "cell_type": "markdown",
   "metadata": {},
   "source": [
    "Here I'll be creating the predictor and target variables as well as completing a train/test split to create validation data. I will be using the same ratio for the split as we have on the train/test data."
   ]
  },
  {
   "cell_type": "code",
   "execution_count": 10,
   "metadata": {
    "ExecuteTime": {
     "end_time": "2023-02-15T14:34:55.447975Z",
     "start_time": "2023-02-15T14:34:55.432972Z"
    }
   },
   "outputs": [],
   "source": [
    "X = full_train.drop(['severity','uid', 'region'], axis=1)\n",
    "y = full_train['severity']\n",
    "score = full_train[['uid', 'region']]"
   ]
  },
  {
   "cell_type": "code",
   "execution_count": 11,
   "metadata": {
    "ExecuteTime": {
     "end_time": "2023-02-15T14:34:55.463480Z",
     "start_time": "2023-02-15T14:34:55.448974Z"
    }
   },
   "outputs": [],
   "source": [
    "full_test = full_test_df.drop('uid', axis=1)\n",
    "full_test_uid = full_test_df[['uid']]"
   ]
  },
  {
   "cell_type": "code",
   "execution_count": 12,
   "metadata": {
    "ExecuteTime": {
     "end_time": "2023-02-15T14:34:55.479480Z",
     "start_time": "2023-02-15T14:34:55.464485Z"
    }
   },
   "outputs": [],
   "source": [
    "# setting the val size to the same percent as the real train/test split\n",
    "X_train, X_val, y_train, y_val = train_test_split(X, y, test_size=.276, random_state=42)"
   ]
  },
  {
   "cell_type": "markdown",
   "metadata": {},
   "source": [
    "XGBoost requires that classes begin with zero, I have created an adjusted y variable to account for the requirement. "
   ]
  },
  {
   "cell_type": "code",
   "execution_count": 13,
   "metadata": {
    "ExecuteTime": {
     "end_time": "2023-02-15T14:34:55.495480Z",
     "start_time": "2023-02-15T14:34:55.480482Z"
    }
   },
   "outputs": [],
   "source": [
    "y_adjusted = y.apply(lambda x: x-1)"
   ]
  },
  {
   "cell_type": "code",
   "execution_count": 14,
   "metadata": {
    "ExecuteTime": {
     "end_time": "2023-02-15T14:34:55.511480Z",
     "start_time": "2023-02-15T14:34:55.496482Z"
    }
   },
   "outputs": [],
   "source": [
    "# setting the val size to the same percent as the real train/test split\n",
    "X_train, X_val, y_train_adj, y_val_adj = train_test_split(X, y_adjusted, test_size=.276, random_state=42)"
   ]
  },
  {
   "cell_type": "markdown",
   "metadata": {},
   "source": [
    "### Making a Custom Scorer to Cross Validate Data"
   ]
  },
  {
   "cell_type": "markdown",
   "metadata": {},
   "source": [
    "To score the results of the models, I will be using a custom scorer. It takes the regional Root Mean Squared Error and averages them. I use this approach because of the different levels of sampling in each region to give them each equal weight."
   ]
  },
  {
   "cell_type": "code",
   "execution_count": 15,
   "metadata": {
    "ExecuteTime": {
     "end_time": "2023-02-15T14:34:55.527480Z",
     "start_time": "2023-02-15T14:34:55.512481Z"
    }
   },
   "outputs": [],
   "source": [
    "val_score = score.join(y_val, how='right')"
   ]
  },
  {
   "cell_type": "code",
   "execution_count": 16,
   "metadata": {
    "ExecuteTime": {
     "end_time": "2023-02-15T14:34:55.543483Z",
     "start_time": "2023-02-15T14:34:55.528485Z"
    }
   },
   "outputs": [
    {
     "data": {
      "text/html": [
       "<div>\n",
       "<style scoped>\n",
       "    .dataframe tbody tr th:only-of-type {\n",
       "        vertical-align: middle;\n",
       "    }\n",
       "\n",
       "    .dataframe tbody tr th {\n",
       "        vertical-align: top;\n",
       "    }\n",
       "\n",
       "    .dataframe thead th {\n",
       "        text-align: right;\n",
       "    }\n",
       "</style>\n",
       "<table border=\"1\" class=\"dataframe\">\n",
       "  <thead>\n",
       "    <tr style=\"text-align: right;\">\n",
       "      <th></th>\n",
       "      <th>uid</th>\n",
       "      <th>region</th>\n",
       "      <th>severity</th>\n",
       "    </tr>\n",
       "  </thead>\n",
       "  <tbody>\n",
       "    <tr>\n",
       "      <th>13699</th>\n",
       "      <td>vmps</td>\n",
       "      <td>south</td>\n",
       "      <td>3</td>\n",
       "    </tr>\n",
       "    <tr>\n",
       "      <th>3143</th>\n",
       "      <td>nhqm</td>\n",
       "      <td>south</td>\n",
       "      <td>1</td>\n",
       "    </tr>\n",
       "    <tr>\n",
       "      <th>12222</th>\n",
       "      <td>anmy</td>\n",
       "      <td>midwest</td>\n",
       "      <td>1</td>\n",
       "    </tr>\n",
       "    <tr>\n",
       "      <th>13666</th>\n",
       "      <td>ltvs</td>\n",
       "      <td>west</td>\n",
       "      <td>5</td>\n",
       "    </tr>\n",
       "    <tr>\n",
       "      <th>720</th>\n",
       "      <td>pljh</td>\n",
       "      <td>northeast</td>\n",
       "      <td>3</td>\n",
       "    </tr>\n",
       "    <tr>\n",
       "      <th>...</th>\n",
       "      <td>...</td>\n",
       "      <td>...</td>\n",
       "      <td>...</td>\n",
       "    </tr>\n",
       "    <tr>\n",
       "      <th>12546</th>\n",
       "      <td>jiqv</td>\n",
       "      <td>midwest</td>\n",
       "      <td>2</td>\n",
       "    </tr>\n",
       "    <tr>\n",
       "      <th>7093</th>\n",
       "      <td>fbdi</td>\n",
       "      <td>south</td>\n",
       "      <td>1</td>\n",
       "    </tr>\n",
       "    <tr>\n",
       "      <th>16934</th>\n",
       "      <td>apuu</td>\n",
       "      <td>midwest</td>\n",
       "      <td>3</td>\n",
       "    </tr>\n",
       "    <tr>\n",
       "      <th>6332</th>\n",
       "      <td>lovo</td>\n",
       "      <td>midwest</td>\n",
       "      <td>2</td>\n",
       "    </tr>\n",
       "    <tr>\n",
       "      <th>6608</th>\n",
       "      <td>khum</td>\n",
       "      <td>midwest</td>\n",
       "      <td>4</td>\n",
       "    </tr>\n",
       "  </tbody>\n",
       "</table>\n",
       "<p>4709 rows × 3 columns</p>\n",
       "</div>"
      ],
      "text/plain": [
       "        uid     region  severity\n",
       "13699  vmps      south         3\n",
       "3143   nhqm      south         1\n",
       "12222  anmy    midwest         1\n",
       "13666  ltvs       west         5\n",
       "720    pljh  northeast         3\n",
       "...     ...        ...       ...\n",
       "12546  jiqv    midwest         2\n",
       "7093   fbdi      south         1\n",
       "16934  apuu    midwest         3\n",
       "6332   lovo    midwest         2\n",
       "6608   khum    midwest         4\n",
       "\n",
       "[4709 rows x 3 columns]"
      ]
     },
     "execution_count": 16,
     "metadata": {},
     "output_type": "execute_result"
    }
   ],
   "source": [
    "val_score"
   ]
  },
  {
   "cell_type": "code",
   "execution_count": 17,
   "metadata": {
    "ExecuteTime": {
     "end_time": "2023-02-15T14:34:55.558988Z",
     "start_time": "2023-02-15T14:34:55.544483Z"
    }
   },
   "outputs": [],
   "source": [
    "# This function lets me spot check a score\n",
    "\n",
    "def check_score(val_score, val_pred):\n",
    "    val_score['pred'] = val_pred\n",
    "    region_scores = []\n",
    "    for region in val_score.region.unique():\n",
    "        sub = val_score[val_score.region == region]\n",
    "        region_rmse = mean_squared_error(sub.severity, sub.pred, squared=False)\n",
    "        print(f\"RMSE for {region} (n={len(sub)}): {round(region_rmse, 4)}\")\n",
    "        region_scores.append(region_rmse)\n",
    "\n",
    "    overall_rmse = np.mean(region_scores)\n",
    "    print(f\"Final score: {overall_rmse}\")\n",
    "    return overall_rmse"
   ]
  },
  {
   "cell_type": "code",
   "execution_count": 18,
   "metadata": {
    "ExecuteTime": {
     "end_time": "2023-02-15T14:34:55.574988Z",
     "start_time": "2023-02-15T14:34:55.559993Z"
    }
   },
   "outputs": [],
   "source": [
    "# this function is able to be turned into a custom scorer for cv and gridsearch\n",
    "\n",
    "def custom_scorer(y_val, val_pred):\n",
    "    val_score = score.join(y_val, how='right')\n",
    "    val_score['pred'] = val_pred\n",
    "    region_scores = []\n",
    "    for region in val_score.region.unique():\n",
    "        sub = val_score[val_score.region == region]\n",
    "        region_rmse = mean_squared_error(sub.severity, sub.pred, squared=False)\n",
    "        region_scores.append(region_rmse)\n",
    "\n",
    "    overall_rmse = np.mean(region_scores)\n",
    "    return overall_rmse"
   ]
  },
  {
   "cell_type": "code",
   "execution_count": 19,
   "metadata": {
    "ExecuteTime": {
     "end_time": "2023-02-15T14:34:55.590988Z",
     "start_time": "2023-02-15T14:34:55.575991Z"
    }
   },
   "outputs": [],
   "source": [
    "regional_scorer = make_scorer(custom_scorer, greater_is_better=False)"
   ]
  },
  {
   "cell_type": "code",
   "execution_count": 20,
   "metadata": {
    "ExecuteTime": {
     "end_time": "2023-02-15T14:34:55.606988Z",
     "start_time": "2023-02-15T14:34:55.591993Z"
    }
   },
   "outputs": [],
   "source": [
    "scores_df = pd.DataFrame()\n",
    "\n",
    "# Function to update scorecard as models run\n",
    "def update_scorecard(model, model_name, scores_df):\n",
    "    # score on unseen data\n",
    "    if ('oost') or ('ack') in str(model):\n",
    "        model.fit(X_train, y_train_adj);\n",
    "        pred = model.predict(X_val)\n",
    "        pred=pred+1\n",
    "        score = check_score(val_score, pred)\n",
    "\n",
    "        # cv scores\n",
    "        cv = cross_validate(model, \n",
    "                            X_train, \n",
    "                            y_train_adj, \n",
    "                            scoring=regional_scorer, \n",
    "                            return_train_score=True)\n",
    "    else:\n",
    "        model.fit(X_train, y_train);\n",
    "        pred = model.predict(X_val)\n",
    "        score = check_score(val_score, pred)\n",
    "\n",
    "        # cv scores\n",
    "        cv = cross_validate(model, \n",
    "                            X_train, \n",
    "                            y_train, \n",
    "                            scoring=regional_scorer, \n",
    "                            return_train_score=True)\n",
    "    \n",
    "    # update scorecard\n",
    "    # creating a dictionary to store results\n",
    "    score_dict = {'Model Name':model_name}\n",
    "    # appending to dict and df\n",
    "    score_dict['CV_Train'] = abs(cv['train_score'].mean())\n",
    "    score_dict['CV_Test'] = abs(cv['test_score'].mean())\n",
    "    difference = score_dict['CV_Test'] - score_dict['CV_Train']\n",
    "    difference = np.round(difference, 3)\n",
    "    if difference >0:\n",
    "        score_dict['Fit'] = f'Overfit'\n",
    "    elif difference <0:\n",
    "        score_dict['Fit'] = f'Underfit'\n",
    "    else:\n",
    "        score_dict['Fit'] = f'Good Fit'\n",
    "    score_dict['Difference'] = abs(difference)\n",
    "    score_dict['Unseen Data Score'] = score\n",
    "    scores_df = scores_df.append(score_dict, ignore_index=True)\n",
    "    return(scores_df)"
   ]
  },
  {
   "cell_type": "markdown",
   "metadata": {},
   "source": [
    "## Dummy Model"
   ]
  },
  {
   "cell_type": "markdown",
   "metadata": {},
   "source": [
    "My Dummy Model performs as expected when predicting the most frequent severity level for each sample point. The final Regional RMSE score on unseen validation data for this model is 1.65."
   ]
  },
  {
   "cell_type": "code",
   "execution_count": 21,
   "metadata": {
    "ExecuteTime": {
     "end_time": "2023-02-15T14:34:55.621988Z",
     "start_time": "2023-02-15T14:34:55.607989Z"
    }
   },
   "outputs": [],
   "source": [
    "dummy_model = Pipeline([\n",
    "    ('ColTrans', ColTrans),\n",
    "    ('dummy', DummyClassifier(strategy='most_frequent', random_state=42))\n",
    "])"
   ]
  },
  {
   "cell_type": "code",
   "execution_count": 22,
   "metadata": {
    "ExecuteTime": {
     "end_time": "2023-02-15T14:34:57.965450Z",
     "start_time": "2023-02-15T14:34:55.622989Z"
    },
    "scrolled": false
   },
   "outputs": [],
   "source": [
    "dummy_model.fit(X_train, y_train);"
   ]
  },
  {
   "cell_type": "code",
   "execution_count": 23,
   "metadata": {
    "ExecuteTime": {
     "end_time": "2023-02-15T14:34:57.981286Z",
     "start_time": "2023-02-15T14:34:57.966450Z"
    }
   },
   "outputs": [
    {
     "data": {
      "text/plain": [
       "1    0.433213\n",
       "4    0.209174\n",
       "2    0.193247\n",
       "3    0.161605\n",
       "5    0.002761\n",
       "Name: severity, dtype: float64"
      ]
     },
     "execution_count": 23,
     "metadata": {},
     "output_type": "execute_result"
    }
   ],
   "source": [
    "y_val.value_counts(normalize=True)"
   ]
  },
  {
   "cell_type": "code",
   "execution_count": 24,
   "metadata": {
    "ExecuteTime": {
     "end_time": "2023-02-15T14:34:58.720057Z",
     "start_time": "2023-02-15T14:34:57.983284Z"
    }
   },
   "outputs": [
    {
     "data": {
      "text/plain": [
       "0.4332129963898917"
      ]
     },
     "execution_count": 24,
     "metadata": {},
     "output_type": "execute_result"
    }
   ],
   "source": [
    "dummy_model.score(X_val, y_val)"
   ]
  },
  {
   "cell_type": "code",
   "execution_count": 25,
   "metadata": {
    "ExecuteTime": {
     "end_time": "2023-02-15T14:34:59.455146Z",
     "start_time": "2023-02-15T14:34:58.721056Z"
    }
   },
   "outputs": [],
   "source": [
    "dummy_val_pred = dummy_model.predict(X_val)"
   ]
  },
  {
   "cell_type": "code",
   "execution_count": 26,
   "metadata": {
    "ExecuteTime": {
     "end_time": "2023-02-15T14:34:59.470440Z",
     "start_time": "2023-02-15T14:34:59.456149Z"
    }
   },
   "outputs": [
    {
     "name": "stdout",
     "output_type": "stream",
     "text": [
      "RMSE for south (n=2744): 0.9751\n",
      "RMSE for midwest (n=626): 1.5982\n",
      "RMSE for west (n=1030): 2.8527\n",
      "RMSE for northeast (n=309): 1.1892\n",
      "Final score: 1.6538061708774303\n"
     ]
    }
   ],
   "source": [
    "dummy_score = check_score(val_score, dummy_val_pred)"
   ]
  },
  {
   "cell_type": "markdown",
   "metadata": {},
   "source": [
    "Updating the scorecard."
   ]
  },
  {
   "cell_type": "code",
   "execution_count": 27,
   "metadata": {
    "ExecuteTime": {
     "end_time": "2023-02-15T14:35:16.045253Z",
     "start_time": "2023-02-15T14:34:59.473440Z"
    }
   },
   "outputs": [
    {
     "name": "stdout",
     "output_type": "stream",
     "text": [
      "RMSE for south (n=2744): 0.9751\n",
      "RMSE for midwest (n=626): 1.5982\n",
      "RMSE for west (n=1030): 2.8527\n",
      "RMSE for northeast (n=309): 1.1892\n",
      "Final score: 1.6538061708774303\n"
     ]
    },
    {
     "data": {
      "text/html": [
       "<div>\n",
       "<style scoped>\n",
       "    .dataframe tbody tr th:only-of-type {\n",
       "        vertical-align: middle;\n",
       "    }\n",
       "\n",
       "    .dataframe tbody tr th {\n",
       "        vertical-align: top;\n",
       "    }\n",
       "\n",
       "    .dataframe thead th {\n",
       "        text-align: right;\n",
       "    }\n",
       "</style>\n",
       "<table border=\"1\" class=\"dataframe\">\n",
       "  <thead>\n",
       "    <tr style=\"text-align: right;\">\n",
       "      <th></th>\n",
       "      <th>Model Name</th>\n",
       "      <th>CV_Train</th>\n",
       "      <th>CV_Test</th>\n",
       "      <th>Difference</th>\n",
       "      <th>Unseen Data</th>\n",
       "    </tr>\n",
       "  </thead>\n",
       "  <tbody>\n",
       "    <tr>\n",
       "      <th>0</th>\n",
       "      <td>dummy_model</td>\n",
       "      <td>1.658196</td>\n",
       "      <td>1.657582</td>\n",
       "      <td>Underfit: (0.001)</td>\n",
       "      <td>1.653806</td>\n",
       "    </tr>\n",
       "  </tbody>\n",
       "</table>\n",
       "</div>"
      ],
      "text/plain": [
       "    Model Name  CV_Train   CV_Test         Difference  Unseen Data\n",
       "0  dummy_model  1.658196  1.657582  Underfit: (0.001)     1.653806"
      ]
     },
     "execution_count": 27,
     "metadata": {},
     "output_type": "execute_result"
    }
   ],
   "source": [
    "scores_df = update_scorecard(dummy_model, 'dummy_model', scores_df)\n",
    "scores_df"
   ]
  },
  {
   "cell_type": "markdown",
   "metadata": {},
   "source": [
    "## Logistic Regression Model"
   ]
  },
  {
   "cell_type": "markdown",
   "metadata": {},
   "source": [
    "The baseline Logistic Regression Model performs exactly the same as the dummy model."
   ]
  },
  {
   "cell_type": "code",
   "execution_count": 28,
   "metadata": {
    "ExecuteTime": {
     "end_time": "2023-02-15T14:35:16.061260Z",
     "start_time": "2023-02-15T14:35:16.046253Z"
    }
   },
   "outputs": [],
   "source": [
    "log_reg_model = Pipeline([\n",
    "    ('ColTrans', ColTrans),\n",
    "    ('logreg', LogisticRegression(random_state=42))\n",
    "])"
   ]
  },
  {
   "cell_type": "code",
   "execution_count": 29,
   "metadata": {
    "ExecuteTime": {
     "end_time": "2023-02-15T14:35:18.091056Z",
     "start_time": "2023-02-15T14:35:16.062261Z"
    }
   },
   "outputs": [],
   "source": [
    "log_reg_model.fit(X_train, y_train);"
   ]
  },
  {
   "cell_type": "code",
   "execution_count": 30,
   "metadata": {
    "ExecuteTime": {
     "end_time": "2023-02-15T14:35:18.831420Z",
     "start_time": "2023-02-15T14:35:18.092056Z"
    }
   },
   "outputs": [
    {
     "data": {
      "text/plain": [
       "0.4332129963898917"
      ]
     },
     "execution_count": 30,
     "metadata": {},
     "output_type": "execute_result"
    }
   ],
   "source": [
    "log_reg_model.score(X_val, y_val)"
   ]
  },
  {
   "cell_type": "code",
   "execution_count": 31,
   "metadata": {
    "ExecuteTime": {
     "end_time": "2023-02-15T14:35:19.561853Z",
     "start_time": "2023-02-15T14:35:18.832422Z"
    }
   },
   "outputs": [],
   "source": [
    "log_reg_pred = log_reg_model.predict(X_val)"
   ]
  },
  {
   "cell_type": "code",
   "execution_count": 32,
   "metadata": {
    "ExecuteTime": {
     "end_time": "2023-02-15T14:35:19.577487Z",
     "start_time": "2023-02-15T14:35:19.562853Z"
    }
   },
   "outputs": [
    {
     "name": "stdout",
     "output_type": "stream",
     "text": [
      "RMSE for south (n=2744): 0.9751\n",
      "RMSE for midwest (n=626): 1.5982\n",
      "RMSE for west (n=1030): 2.8527\n",
      "RMSE for northeast (n=309): 1.1892\n",
      "Final score: 1.6538061708774303\n"
     ]
    }
   ],
   "source": [
    "lr_base_score = check_score(val_score, log_reg_pred)"
   ]
  },
  {
   "cell_type": "code",
   "execution_count": 33,
   "metadata": {
    "ExecuteTime": {
     "end_time": "2023-02-15T14:35:33.525629Z",
     "start_time": "2023-02-15T14:35:19.578487Z"
    }
   },
   "outputs": [],
   "source": [
    "log_reg_cv = cross_validate(log_reg_model, \n",
    "                            X_train, \n",
    "                            y_train, \n",
    "                            scoring=regional_scorer, \n",
    "                            return_train_score=True)"
   ]
  },
  {
   "cell_type": "code",
   "execution_count": 34,
   "metadata": {
    "ExecuteTime": {
     "end_time": "2023-02-15T14:35:33.541667Z",
     "start_time": "2023-02-15T14:35:33.526629Z"
    }
   },
   "outputs": [
    {
     "name": "stdout",
     "output_type": "stream",
     "text": [
      "Train: -1.658196064281532\n",
      "Test: -1.6575819051725245\n"
     ]
    },
    {
     "data": {
      "text/plain": [
       "{'fit_time': array([1.21992159, 1.338094  , 1.21638942, 1.22110868, 1.29319096]),\n",
       " 'score_time': array([0.31773472, 0.30054617, 0.24852228, 0.31603432, 0.32213616]),\n",
       " 'test_score': array([-1.64969162, -1.62809574, -1.66571971, -1.65495332, -1.68944913]),\n",
       " 'train_score': array([-1.65997003, -1.66581971, -1.65633035, -1.65907389, -1.64978634])}"
      ]
     },
     "execution_count": 34,
     "metadata": {},
     "output_type": "execute_result"
    }
   ],
   "source": [
    "print(f\"Train: {log_reg_cv['train_score'].mean()}\")\n",
    "print(f\"Test: {log_reg_cv['test_score'].mean()}\")\n",
    "log_reg_cv"
   ]
  },
  {
   "cell_type": "markdown",
   "metadata": {},
   "source": [
    "Updating the scorecard."
   ]
  },
  {
   "cell_type": "code",
   "execution_count": 35,
   "metadata": {
    "ExecuteTime": {
     "end_time": "2023-02-15T14:35:50.303425Z",
     "start_time": "2023-02-15T14:35:33.543667Z"
    }
   },
   "outputs": [
    {
     "name": "stdout",
     "output_type": "stream",
     "text": [
      "RMSE for south (n=2744): 0.9751\n",
      "RMSE for midwest (n=626): 1.5982\n",
      "RMSE for west (n=1030): 2.8527\n",
      "RMSE for northeast (n=309): 1.1892\n",
      "Final score: 1.6538061708774303\n"
     ]
    },
    {
     "data": {
      "text/html": [
       "<div>\n",
       "<style scoped>\n",
       "    .dataframe tbody tr th:only-of-type {\n",
       "        vertical-align: middle;\n",
       "    }\n",
       "\n",
       "    .dataframe tbody tr th {\n",
       "        vertical-align: top;\n",
       "    }\n",
       "\n",
       "    .dataframe thead th {\n",
       "        text-align: right;\n",
       "    }\n",
       "</style>\n",
       "<table border=\"1\" class=\"dataframe\">\n",
       "  <thead>\n",
       "    <tr style=\"text-align: right;\">\n",
       "      <th></th>\n",
       "      <th>Model Name</th>\n",
       "      <th>CV_Train</th>\n",
       "      <th>CV_Test</th>\n",
       "      <th>Difference</th>\n",
       "      <th>Unseen Data</th>\n",
       "    </tr>\n",
       "  </thead>\n",
       "  <tbody>\n",
       "    <tr>\n",
       "      <th>0</th>\n",
       "      <td>dummy_model</td>\n",
       "      <td>1.658196</td>\n",
       "      <td>1.657582</td>\n",
       "      <td>Underfit: (0.001)</td>\n",
       "      <td>1.653806</td>\n",
       "    </tr>\n",
       "    <tr>\n",
       "      <th>1</th>\n",
       "      <td>LogReg_Base</td>\n",
       "      <td>1.658196</td>\n",
       "      <td>1.657582</td>\n",
       "      <td>Underfit: (0.001)</td>\n",
       "      <td>1.653806</td>\n",
       "    </tr>\n",
       "  </tbody>\n",
       "</table>\n",
       "</div>"
      ],
      "text/plain": [
       "    Model Name  CV_Train   CV_Test         Difference  Unseen Data\n",
       "0  dummy_model  1.658196  1.657582  Underfit: (0.001)     1.653806\n",
       "1  LogReg_Base  1.658196  1.657582  Underfit: (0.001)     1.653806"
      ]
     },
     "execution_count": 35,
     "metadata": {},
     "output_type": "execute_result"
    }
   ],
   "source": [
    "scores_df = update_scorecard(log_reg_model, 'LogReg_Base', scores_df)\n",
    "scores_df"
   ]
  },
  {
   "cell_type": "markdown",
   "metadata": {},
   "source": [
    "### First Logistic Regression GridSearch"
   ]
  },
  {
   "cell_type": "markdown",
   "metadata": {},
   "source": [
    "The first implementation of GridSearch greatly increased the performance of the model, going from a score of 1.65 on the validation data to a cross-validated score of .984."
   ]
  },
  {
   "cell_type": "code",
   "execution_count": 36,
   "metadata": {
    "ExecuteTime": {
     "end_time": "2023-02-15T14:35:50.318726Z",
     "start_time": "2023-02-15T14:35:50.304425Z"
    }
   },
   "outputs": [],
   "source": [
    "log_params = {\n",
    "    'logreg__solver':['liblinear', 'sag', 'saga', 'newton-cg', 'lbfgs'],\n",
    "    'logreg__fit_intercept':[True, False]\n",
    "}"
   ]
  },
  {
   "cell_type": "code",
   "execution_count": 37,
   "metadata": {
    "ExecuteTime": {
     "end_time": "2023-02-15T14:36:57.297134Z",
     "start_time": "2023-02-15T14:35:50.319726Z"
    }
   },
   "outputs": [
    {
     "name": "stdout",
     "output_type": "stream",
     "text": [
      "Fitting 5 folds for each of 10 candidates, totalling 50 fits\n"
     ]
    }
   ],
   "source": [
    "log_reg_gs = GridSearchCV(estimator=log_reg_model, \n",
    "                          param_grid=log_params,\n",
    "                          scoring=regional_scorer,\n",
    "                          cv=5, \n",
    "                          verbose=1,\n",
    "                          n_jobs=2)\n",
    "\n",
    "log_reg_gs.fit(X_train, y_train);"
   ]
  },
  {
   "cell_type": "code",
   "execution_count": 38,
   "metadata": {
    "ExecuteTime": {
     "end_time": "2023-02-15T14:36:57.313134Z",
     "start_time": "2023-02-15T14:36:57.298133Z"
    }
   },
   "outputs": [
    {
     "data": {
      "text/plain": [
       "{'logreg__fit_intercept': False, 'logreg__solver': 'newton-cg'}"
      ]
     },
     "execution_count": 38,
     "metadata": {},
     "output_type": "execute_result"
    }
   ],
   "source": [
    "log_reg_gs.best_params_"
   ]
  },
  {
   "cell_type": "code",
   "execution_count": 39,
   "metadata": {
    "ExecuteTime": {
     "end_time": "2023-02-15T14:36:57.329133Z",
     "start_time": "2023-02-15T14:36:57.314137Z"
    }
   },
   "outputs": [
    {
     "data": {
      "text/plain": [
       "-0.9841963009173653"
      ]
     },
     "execution_count": 39,
     "metadata": {},
     "output_type": "execute_result"
    }
   ],
   "source": [
    "log_reg_gs.best_score_"
   ]
  },
  {
   "cell_type": "markdown",
   "metadata": {},
   "source": [
    "Updating the scorecard."
   ]
  },
  {
   "cell_type": "code",
   "execution_count": 40,
   "metadata": {
    "ExecuteTime": {
     "end_time": "2023-02-15T14:37:23.171448Z",
     "start_time": "2023-02-15T14:36:57.330134Z"
    }
   },
   "outputs": [
    {
     "name": "stdout",
     "output_type": "stream",
     "text": [
      "RMSE for south (n=2744): 0.9683\n",
      "RMSE for midwest (n=626): 1.1269\n",
      "RMSE for west (n=1030): 0.526\n",
      "RMSE for northeast (n=309): 1.1892\n",
      "Final score: 0.9526271057193282\n"
     ]
    },
    {
     "data": {
      "text/html": [
       "<div>\n",
       "<style scoped>\n",
       "    .dataframe tbody tr th:only-of-type {\n",
       "        vertical-align: middle;\n",
       "    }\n",
       "\n",
       "    .dataframe tbody tr th {\n",
       "        vertical-align: top;\n",
       "    }\n",
       "\n",
       "    .dataframe thead th {\n",
       "        text-align: right;\n",
       "    }\n",
       "</style>\n",
       "<table border=\"1\" class=\"dataframe\">\n",
       "  <thead>\n",
       "    <tr style=\"text-align: right;\">\n",
       "      <th></th>\n",
       "      <th>Model Name</th>\n",
       "      <th>CV_Train</th>\n",
       "      <th>CV_Test</th>\n",
       "      <th>Difference</th>\n",
       "      <th>Unseen Data</th>\n",
       "    </tr>\n",
       "  </thead>\n",
       "  <tbody>\n",
       "    <tr>\n",
       "      <th>0</th>\n",
       "      <td>dummy_model</td>\n",
       "      <td>1.658196</td>\n",
       "      <td>1.657582</td>\n",
       "      <td>Underfit: (0.001)</td>\n",
       "      <td>1.653806</td>\n",
       "    </tr>\n",
       "    <tr>\n",
       "      <th>1</th>\n",
       "      <td>LogReg_Base</td>\n",
       "      <td>1.658196</td>\n",
       "      <td>1.657582</td>\n",
       "      <td>Underfit: (0.001)</td>\n",
       "      <td>1.653806</td>\n",
       "    </tr>\n",
       "    <tr>\n",
       "      <th>2</th>\n",
       "      <td>LogReg_GS1</td>\n",
       "      <td>0.983089</td>\n",
       "      <td>0.984196</td>\n",
       "      <td>Overfit: (0.001)</td>\n",
       "      <td>0.952627</td>\n",
       "    </tr>\n",
       "  </tbody>\n",
       "</table>\n",
       "</div>"
      ],
      "text/plain": [
       "    Model Name  CV_Train   CV_Test         Difference  Unseen Data\n",
       "0  dummy_model  1.658196  1.657582  Underfit: (0.001)     1.653806\n",
       "1  LogReg_Base  1.658196  1.657582  Underfit: (0.001)     1.653806\n",
       "2   LogReg_GS1  0.983089  0.984196   Overfit: (0.001)     0.952627"
      ]
     },
     "execution_count": 40,
     "metadata": {},
     "output_type": "execute_result"
    }
   ],
   "source": [
    "scores_df = update_scorecard(log_reg_gs.best_estimator_, 'LogReg_GS1', scores_df)\n",
    "scores_df"
   ]
  },
  {
   "cell_type": "markdown",
   "metadata": {},
   "source": [
    "### Second Logistic Regression GridSearch"
   ]
  },
  {
   "cell_type": "markdown",
   "metadata": {},
   "source": [
    "The second iteration of GridSearch continued to see improvement on the final cross validated results. Moving from .984 down to .982. I will complete one final iteration of GridSearch to find the best model."
   ]
  },
  {
   "cell_type": "code",
   "execution_count": 41,
   "metadata": {
    "ExecuteTime": {
     "end_time": "2023-02-15T14:37:23.187449Z",
     "start_time": "2023-02-15T14:37:23.172448Z"
    }
   },
   "outputs": [],
   "source": [
    "log_params2 = {\n",
    "    'logreg__solver':['saga', 'newton-cg', 'lbfgs'],\n",
    "    'logreg__fit_intercept':[True, False],\n",
    "    'logreg__max_iter':[100, 150, 200]\n",
    "}"
   ]
  },
  {
   "cell_type": "code",
   "execution_count": 42,
   "metadata": {
    "ExecuteTime": {
     "end_time": "2023-02-15T14:40:13.886865Z",
     "start_time": "2023-02-15T14:37:23.188453Z"
    }
   },
   "outputs": [
    {
     "name": "stdout",
     "output_type": "stream",
     "text": [
      "Fitting 5 folds for each of 18 candidates, totalling 90 fits\n"
     ]
    }
   ],
   "source": [
    "log_reg_gs2 = GridSearchCV(estimator=log_reg_model, \n",
    "                          param_grid=log_params2,\n",
    "                          scoring=regional_scorer,\n",
    "                          cv=5, \n",
    "                          verbose=1,\n",
    "                          n_jobs=2)\n",
    "\n",
    "log_reg_gs2.fit(X_train, y_train);"
   ]
  },
  {
   "cell_type": "code",
   "execution_count": 43,
   "metadata": {
    "ExecuteTime": {
     "end_time": "2023-02-15T14:40:13.902863Z",
     "start_time": "2023-02-15T14:40:13.887865Z"
    }
   },
   "outputs": [
    {
     "data": {
      "text/plain": [
       "{'logreg__fit_intercept': False,\n",
       " 'logreg__max_iter': 200,\n",
       " 'logreg__solver': 'newton-cg'}"
      ]
     },
     "execution_count": 43,
     "metadata": {},
     "output_type": "execute_result"
    }
   ],
   "source": [
    "log_reg_gs2.best_params_"
   ]
  },
  {
   "cell_type": "code",
   "execution_count": 44,
   "metadata": {
    "ExecuteTime": {
     "end_time": "2023-02-15T14:40:13.918864Z",
     "start_time": "2023-02-15T14:40:13.903863Z"
    }
   },
   "outputs": [
    {
     "data": {
      "text/plain": [
       "-0.9820592442530044"
      ]
     },
     "execution_count": 44,
     "metadata": {},
     "output_type": "execute_result"
    }
   ],
   "source": [
    "log_reg_gs2.best_score_"
   ]
  },
  {
   "cell_type": "markdown",
   "metadata": {},
   "source": [
    "Updating the scorecard."
   ]
  },
  {
   "cell_type": "code",
   "execution_count": 45,
   "metadata": {
    "ExecuteTime": {
     "end_time": "2023-02-15T14:40:55.531620Z",
     "start_time": "2023-02-15T14:40:13.919863Z"
    }
   },
   "outputs": [
    {
     "name": "stdout",
     "output_type": "stream",
     "text": [
      "RMSE for south (n=2744): 0.9685\n",
      "RMSE for midwest (n=626): 1.0975\n",
      "RMSE for west (n=1030): 0.5513\n",
      "RMSE for northeast (n=309): 1.1892\n",
      "Final score: 0.9516217910789043\n"
     ]
    },
    {
     "data": {
      "text/html": [
       "<div>\n",
       "<style scoped>\n",
       "    .dataframe tbody tr th:only-of-type {\n",
       "        vertical-align: middle;\n",
       "    }\n",
       "\n",
       "    .dataframe tbody tr th {\n",
       "        vertical-align: top;\n",
       "    }\n",
       "\n",
       "    .dataframe thead th {\n",
       "        text-align: right;\n",
       "    }\n",
       "</style>\n",
       "<table border=\"1\" class=\"dataframe\">\n",
       "  <thead>\n",
       "    <tr style=\"text-align: right;\">\n",
       "      <th></th>\n",
       "      <th>Model Name</th>\n",
       "      <th>CV_Train</th>\n",
       "      <th>CV_Test</th>\n",
       "      <th>Difference</th>\n",
       "      <th>Unseen Data</th>\n",
       "    </tr>\n",
       "  </thead>\n",
       "  <tbody>\n",
       "    <tr>\n",
       "      <th>0</th>\n",
       "      <td>dummy_model</td>\n",
       "      <td>1.658196</td>\n",
       "      <td>1.657582</td>\n",
       "      <td>Underfit: (0.001)</td>\n",
       "      <td>1.653806</td>\n",
       "    </tr>\n",
       "    <tr>\n",
       "      <th>1</th>\n",
       "      <td>LogReg_Base</td>\n",
       "      <td>1.658196</td>\n",
       "      <td>1.657582</td>\n",
       "      <td>Underfit: (0.001)</td>\n",
       "      <td>1.653806</td>\n",
       "    </tr>\n",
       "    <tr>\n",
       "      <th>2</th>\n",
       "      <td>LogReg_GS1</td>\n",
       "      <td>0.983089</td>\n",
       "      <td>0.984196</td>\n",
       "      <td>Overfit: (0.001)</td>\n",
       "      <td>0.952627</td>\n",
       "    </tr>\n",
       "    <tr>\n",
       "      <th>3</th>\n",
       "      <td>LogReg_GS2</td>\n",
       "      <td>0.978392</td>\n",
       "      <td>0.982059</td>\n",
       "      <td>Overfit: (0.004)</td>\n",
       "      <td>0.951622</td>\n",
       "    </tr>\n",
       "  </tbody>\n",
       "</table>\n",
       "</div>"
      ],
      "text/plain": [
       "    Model Name  CV_Train   CV_Test         Difference  Unseen Data\n",
       "0  dummy_model  1.658196  1.657582  Underfit: (0.001)     1.653806\n",
       "1  LogReg_Base  1.658196  1.657582  Underfit: (0.001)     1.653806\n",
       "2   LogReg_GS1  0.983089  0.984196   Overfit: (0.001)     0.952627\n",
       "3   LogReg_GS2  0.978392  0.982059   Overfit: (0.004)     0.951622"
      ]
     },
     "execution_count": 45,
     "metadata": {},
     "output_type": "execute_result"
    }
   ],
   "source": [
    "scores_df = update_scorecard(log_reg_gs2.best_estimator_, 'LogReg_GS2', scores_df)\n",
    "scores_df"
   ]
  },
  {
   "cell_type": "markdown",
   "metadata": {},
   "source": [
    "### Final Logistic Regression GridSearch"
   ]
  },
  {
   "cell_type": "markdown",
   "metadata": {},
   "source": [
    "The final Iteration of GridSearch identifies the following hyperparameters as the best and returns a final score of .981.\n",
    "\n",
    "- Fit_intercept = False\n",
    "- Max_iter = 175\n",
    "- Penalty = None\n",
    "- Solver = newton_cg"
   ]
  },
  {
   "cell_type": "code",
   "execution_count": 46,
   "metadata": {
    "ExecuteTime": {
     "end_time": "2023-02-15T14:40:55.547633Z",
     "start_time": "2023-02-15T14:40:55.532621Z"
    }
   },
   "outputs": [],
   "source": [
    "log_params3 = {\n",
    "    'logreg__solver':['newton-cg'],\n",
    "    'logreg__fit_intercept':[False],\n",
    "    'logreg__max_iter':[175, 200],\n",
    "    'logreg__penalty':[None, 'l2']\n",
    "}"
   ]
  },
  {
   "cell_type": "code",
   "execution_count": 47,
   "metadata": {
    "ExecuteTime": {
     "end_time": "2023-02-15T14:42:09.223740Z",
     "start_time": "2023-02-15T14:40:55.548635Z"
    }
   },
   "outputs": [
    {
     "name": "stdout",
     "output_type": "stream",
     "text": [
      "Fitting 5 folds for each of 4 candidates, totalling 20 fits\n"
     ]
    }
   ],
   "source": [
    "log_reg_gs3 = GridSearchCV(estimator=log_reg_model, \n",
    "                          param_grid=log_params3,\n",
    "                          scoring=regional_scorer,\n",
    "                          cv=5, \n",
    "                          verbose=1,\n",
    "                          n_jobs=2)\n",
    "\n",
    "log_reg_gs3.fit(X_train, y_train);"
   ]
  },
  {
   "cell_type": "code",
   "execution_count": 48,
   "metadata": {
    "ExecuteTime": {
     "end_time": "2023-02-15T14:42:09.239745Z",
     "start_time": "2023-02-15T14:42:09.224741Z"
    }
   },
   "outputs": [
    {
     "data": {
      "text/plain": [
       "{'logreg__fit_intercept': False,\n",
       " 'logreg__max_iter': 175,\n",
       " 'logreg__penalty': None,\n",
       " 'logreg__solver': 'newton-cg'}"
      ]
     },
     "execution_count": 48,
     "metadata": {},
     "output_type": "execute_result"
    }
   ],
   "source": [
    "log_reg_gs3.best_params_"
   ]
  },
  {
   "cell_type": "code",
   "execution_count": 49,
   "metadata": {
    "ExecuteTime": {
     "end_time": "2023-02-15T14:42:09.255257Z",
     "start_time": "2023-02-15T14:42:09.240745Z"
    }
   },
   "outputs": [
    {
     "data": {
      "text/plain": [
       "-0.9811093931102773"
      ]
     },
     "execution_count": 49,
     "metadata": {},
     "output_type": "execute_result"
    }
   ],
   "source": [
    "log_reg_gs3.best_score_"
   ]
  },
  {
   "cell_type": "markdown",
   "metadata": {},
   "source": [
    "Updating the scorecard."
   ]
  },
  {
   "cell_type": "code",
   "execution_count": 50,
   "metadata": {
    "ExecuteTime": {
     "end_time": "2023-02-15T14:42:50.311609Z",
     "start_time": "2023-02-15T14:42:09.256260Z"
    }
   },
   "outputs": [
    {
     "name": "stdout",
     "output_type": "stream",
     "text": [
      "RMSE for south (n=2744): 0.9683\n",
      "RMSE for midwest (n=626): 1.0946\n",
      "RMSE for west (n=1030): 0.5583\n",
      "RMSE for northeast (n=309): 1.1892\n",
      "Final score: 0.9525960995468835\n"
     ]
    },
    {
     "data": {
      "text/html": [
       "<div>\n",
       "<style scoped>\n",
       "    .dataframe tbody tr th:only-of-type {\n",
       "        vertical-align: middle;\n",
       "    }\n",
       "\n",
       "    .dataframe tbody tr th {\n",
       "        vertical-align: top;\n",
       "    }\n",
       "\n",
       "    .dataframe thead th {\n",
       "        text-align: right;\n",
       "    }\n",
       "</style>\n",
       "<table border=\"1\" class=\"dataframe\">\n",
       "  <thead>\n",
       "    <tr style=\"text-align: right;\">\n",
       "      <th></th>\n",
       "      <th>Model Name</th>\n",
       "      <th>CV_Train</th>\n",
       "      <th>CV_Test</th>\n",
       "      <th>Difference</th>\n",
       "      <th>Unseen Data</th>\n",
       "    </tr>\n",
       "  </thead>\n",
       "  <tbody>\n",
       "    <tr>\n",
       "      <th>0</th>\n",
       "      <td>dummy_model</td>\n",
       "      <td>1.658196</td>\n",
       "      <td>1.657582</td>\n",
       "      <td>Underfit: (0.001)</td>\n",
       "      <td>1.653806</td>\n",
       "    </tr>\n",
       "    <tr>\n",
       "      <th>1</th>\n",
       "      <td>LogReg_Base</td>\n",
       "      <td>1.658196</td>\n",
       "      <td>1.657582</td>\n",
       "      <td>Underfit: (0.001)</td>\n",
       "      <td>1.653806</td>\n",
       "    </tr>\n",
       "    <tr>\n",
       "      <th>2</th>\n",
       "      <td>LogReg_GS1</td>\n",
       "      <td>0.983089</td>\n",
       "      <td>0.984196</td>\n",
       "      <td>Overfit: (0.001)</td>\n",
       "      <td>0.952627</td>\n",
       "    </tr>\n",
       "    <tr>\n",
       "      <th>3</th>\n",
       "      <td>LogReg_GS2</td>\n",
       "      <td>0.978392</td>\n",
       "      <td>0.982059</td>\n",
       "      <td>Overfit: (0.004)</td>\n",
       "      <td>0.951622</td>\n",
       "    </tr>\n",
       "    <tr>\n",
       "      <th>4</th>\n",
       "      <td>LogReg_GS3</td>\n",
       "      <td>0.974411</td>\n",
       "      <td>0.981109</td>\n",
       "      <td>Overfit: (0.007)</td>\n",
       "      <td>0.952596</td>\n",
       "    </tr>\n",
       "  </tbody>\n",
       "</table>\n",
       "</div>"
      ],
      "text/plain": [
       "    Model Name  CV_Train   CV_Test         Difference  Unseen Data\n",
       "0  dummy_model  1.658196  1.657582  Underfit: (0.001)     1.653806\n",
       "1  LogReg_Base  1.658196  1.657582  Underfit: (0.001)     1.653806\n",
       "2   LogReg_GS1  0.983089  0.984196   Overfit: (0.001)     0.952627\n",
       "3   LogReg_GS2  0.978392  0.982059   Overfit: (0.004)     0.951622\n",
       "4   LogReg_GS3  0.974411  0.981109   Overfit: (0.007)     0.952596"
      ]
     },
     "execution_count": 50,
     "metadata": {},
     "output_type": "execute_result"
    }
   ],
   "source": [
    "scores_df = update_scorecard(log_reg_gs3.best_estimator_, 'LogReg_GS3', scores_df)\n",
    "scores_df"
   ]
  },
  {
   "cell_type": "markdown",
   "metadata": {},
   "source": [
    "### Best Logistic Regression Model"
   ]
  },
  {
   "cell_type": "markdown",
   "metadata": {},
   "source": [
    "This is a pretty decent model that is only slightly overfit on training data. Cross validated test score: .981 and train score .974."
   ]
  },
  {
   "cell_type": "code",
   "execution_count": 51,
   "metadata": {
    "ExecuteTime": {
     "end_time": "2023-02-15T14:42:50.327608Z",
     "start_time": "2023-02-15T14:42:50.312610Z"
    }
   },
   "outputs": [],
   "source": [
    "best_log_reg_model = Pipeline([\n",
    "    ('ColTrans', ColTrans),\n",
    "    ('logreg', LogisticRegression(random_state=42,\n",
    "                                 fit_intercept=False,\n",
    "                                 max_iter=175,\n",
    "                                 penalty=None,\n",
    "                                 solver='newton-cg'))\n",
    "])"
   ]
  },
  {
   "cell_type": "code",
   "execution_count": 52,
   "metadata": {
    "ExecuteTime": {
     "end_time": "2023-02-15T14:43:12.720235Z",
     "start_time": "2023-02-15T14:42:50.328607Z"
    }
   },
   "outputs": [],
   "source": [
    "best_log_reg_cv = cross_validate(best_log_reg_model, \n",
    "                                 X_train, \n",
    "                                 y_train, \n",
    "                                 scoring=regional_scorer, \n",
    "                                 return_train_score=True,\n",
    "                                 n_jobs=2)"
   ]
  },
  {
   "cell_type": "code",
   "execution_count": 53,
   "metadata": {
    "ExecuteTime": {
     "end_time": "2023-02-15T14:43:12.735556Z",
     "start_time": "2023-02-15T14:43:12.721235Z"
    }
   },
   "outputs": [
    {
     "name": "stdout",
     "output_type": "stream",
     "text": [
      "Train: -0.9744108414872275\n",
      "Test: -0.9811093931102773\n"
     ]
    },
    {
     "data": {
      "text/plain": [
       "{'fit_time': array([7.4087708 , 5.85198712, 6.66773033, 6.04333472, 4.41429162]),\n",
       " 'score_time': array([0.34947753, 0.35548139, 0.30070376, 0.34329748, 0.31568408]),\n",
       " 'test_score': array([-0.97934291, -0.94962886, -0.97520756, -0.99544208, -1.00592554]),\n",
       " 'train_score': array([-0.97378052, -0.97508696, -0.97036751, -0.97168104, -0.98113818])}"
      ]
     },
     "execution_count": 53,
     "metadata": {},
     "output_type": "execute_result"
    }
   ],
   "source": [
    "print(f\"Train: {best_log_reg_cv['train_score'].mean()}\")\n",
    "print(f\"Test: {best_log_reg_cv['test_score'].mean()}\")\n",
    "best_log_reg_cv"
   ]
  },
  {
   "cell_type": "markdown",
   "metadata": {},
   "source": [
    "**Testing on Validation Data**"
   ]
  },
  {
   "cell_type": "markdown",
   "metadata": {},
   "source": [
    "Final score on unseen data is .95."
   ]
  },
  {
   "cell_type": "code",
   "execution_count": 54,
   "metadata": {
    "ExecuteTime": {
     "end_time": "2023-02-15T14:43:19.647168Z",
     "start_time": "2023-02-15T14:43:12.736556Z"
    }
   },
   "outputs": [],
   "source": [
    "best_log_reg_model.fit(X_train, y_train);"
   ]
  },
  {
   "cell_type": "code",
   "execution_count": 55,
   "metadata": {
    "ExecuteTime": {
     "end_time": "2023-02-15T14:43:20.375466Z",
     "start_time": "2023-02-15T14:43:19.648169Z"
    }
   },
   "outputs": [],
   "source": [
    "best_log_reg_pred = best_log_reg_model.predict(X_val)"
   ]
  },
  {
   "cell_type": "code",
   "execution_count": 56,
   "metadata": {
    "ExecuteTime": {
     "end_time": "2023-02-15T14:43:20.390465Z",
     "start_time": "2023-02-15T14:43:20.376468Z"
    }
   },
   "outputs": [
    {
     "name": "stdout",
     "output_type": "stream",
     "text": [
      "RMSE for south (n=2744): 0.9683\n",
      "RMSE for midwest (n=626): 1.0946\n",
      "RMSE for west (n=1030): 0.5583\n",
      "RMSE for northeast (n=309): 1.1892\n",
      "Final score: 0.9525960995468835\n"
     ]
    },
    {
     "data": {
      "text/plain": [
       "0.9525960995468835"
      ]
     },
     "execution_count": 56,
     "metadata": {},
     "output_type": "execute_result"
    }
   ],
   "source": [
    "check_score(val_score, best_log_reg_pred)"
   ]
  },
  {
   "cell_type": "markdown",
   "metadata": {},
   "source": [
    "## Random Forest Model"
   ]
  },
  {
   "cell_type": "markdown",
   "metadata": {},
   "source": [
    "The baseline random forest model performs well with a Regional RMSE score of .836 on cross-validated data. The model is definitely overfit and can hopefully see better performance through hyperparameter tuning and GridSearch."
   ]
  },
  {
   "cell_type": "code",
   "execution_count": 57,
   "metadata": {
    "ExecuteTime": {
     "end_time": "2023-02-15T14:43:20.406461Z",
     "start_time": "2023-02-15T14:43:20.391465Z"
    }
   },
   "outputs": [],
   "source": [
    "rf_model = Pipeline([\n",
    "    ('ColTrans', ColTrans),\n",
    "    ('rf', RandomForestClassifier(random_state=42))\n",
    "])"
   ]
  },
  {
   "cell_type": "code",
   "execution_count": 58,
   "metadata": {
    "ExecuteTime": {
     "end_time": "2023-02-15T14:43:24.388072Z",
     "start_time": "2023-02-15T14:43:20.407462Z"
    }
   },
   "outputs": [],
   "source": [
    "rf_model.fit(X_train, y_train);"
   ]
  },
  {
   "cell_type": "code",
   "execution_count": 59,
   "metadata": {
    "ExecuteTime": {
     "end_time": "2023-02-15T14:43:25.181122Z",
     "start_time": "2023-02-15T14:43:24.389071Z"
    }
   },
   "outputs": [
    {
     "data": {
      "text/plain": [
       "0.6476959014652792"
      ]
     },
     "execution_count": 59,
     "metadata": {},
     "output_type": "execute_result"
    }
   ],
   "source": [
    "rf_model.score(X_val, y_val)"
   ]
  },
  {
   "cell_type": "code",
   "execution_count": 60,
   "metadata": {
    "ExecuteTime": {
     "end_time": "2023-02-15T14:43:25.985025Z",
     "start_time": "2023-02-15T14:43:25.182124Z"
    }
   },
   "outputs": [],
   "source": [
    "rf_val_pred = rf_model.predict(X_val)"
   ]
  },
  {
   "cell_type": "code",
   "execution_count": 61,
   "metadata": {
    "ExecuteTime": {
     "end_time": "2023-02-15T14:43:26.000156Z",
     "start_time": "2023-02-15T14:43:25.986025Z"
    }
   },
   "outputs": [
    {
     "name": "stdout",
     "output_type": "stream",
     "text": [
      "RMSE for south (n=2744): 0.9233\n",
      "RMSE for midwest (n=626): 0.8766\n",
      "RMSE for west (n=1030): 0.4439\n",
      "RMSE for northeast (n=309): 0.8495\n",
      "Final score: 0.7733224741017735\n"
     ]
    },
    {
     "data": {
      "text/plain": [
       "0.7733224741017735"
      ]
     },
     "execution_count": 61,
     "metadata": {},
     "output_type": "execute_result"
    }
   ],
   "source": [
    "check_score(val_score, rf_val_pred)"
   ]
  },
  {
   "cell_type": "code",
   "execution_count": 62,
   "metadata": {
    "ExecuteTime": {
     "end_time": "2023-02-15T14:43:40.518740Z",
     "start_time": "2023-02-15T14:43:26.001157Z"
    },
    "scrolled": false
   },
   "outputs": [],
   "source": [
    "rf_cv = cross_validate(rf_model, \n",
    "                       X_train, \n",
    "                       y_train, \n",
    "                       scoring=regional_scorer, \n",
    "                       return_train_score=True, \n",
    "                       n_jobs=2)"
   ]
  },
  {
   "cell_type": "code",
   "execution_count": 63,
   "metadata": {
    "ExecuteTime": {
     "end_time": "2023-02-15T14:43:40.534189Z",
     "start_time": "2023-02-15T14:43:40.519741Z"
    }
   },
   "outputs": [
    {
     "name": "stdout",
     "output_type": "stream",
     "text": [
      "Train: -0.004529944947442045\n",
      "Test: -0.8363883564253282\n"
     ]
    },
    {
     "data": {
      "text/plain": [
       "{'fit_time': array([3.03539944, 3.19088244, 2.98695517, 2.91109419, 2.87792826]),\n",
       " 'score_time': array([0.3738451 , 0.44437528, 0.29747128, 0.43694401, 0.34847164]),\n",
       " 'test_score': array([-0.83079048, -0.80881587, -0.79806215, -0.85972863, -0.88454466]),\n",
       " 'train_score': array([-0.00330698, -0.0086926 , -0.00735867, -0.        , -0.00329147])}"
      ]
     },
     "execution_count": 63,
     "metadata": {},
     "output_type": "execute_result"
    }
   ],
   "source": [
    "print(f\"Train: {rf_cv['train_score'].mean()}\")\n",
    "print(f\"Test: {rf_cv['test_score'].mean()}\")\n",
    "rf_cv"
   ]
  },
  {
   "cell_type": "markdown",
   "metadata": {},
   "source": [
    "Updating the scorecard."
   ]
  },
  {
   "cell_type": "code",
   "execution_count": 64,
   "metadata": {
    "ExecuteTime": {
     "end_time": "2023-02-15T14:44:07.716764Z",
     "start_time": "2023-02-15T14:43:40.535190Z"
    }
   },
   "outputs": [
    {
     "name": "stdout",
     "output_type": "stream",
     "text": [
      "RMSE for south (n=2744): 0.9233\n",
      "RMSE for midwest (n=626): 0.8766\n",
      "RMSE for west (n=1030): 0.4439\n",
      "RMSE for northeast (n=309): 0.8495\n",
      "Final score: 0.7733224741017735\n"
     ]
    },
    {
     "data": {
      "text/html": [
       "<div>\n",
       "<style scoped>\n",
       "    .dataframe tbody tr th:only-of-type {\n",
       "        vertical-align: middle;\n",
       "    }\n",
       "\n",
       "    .dataframe tbody tr th {\n",
       "        vertical-align: top;\n",
       "    }\n",
       "\n",
       "    .dataframe thead th {\n",
       "        text-align: right;\n",
       "    }\n",
       "</style>\n",
       "<table border=\"1\" class=\"dataframe\">\n",
       "  <thead>\n",
       "    <tr style=\"text-align: right;\">\n",
       "      <th></th>\n",
       "      <th>Model Name</th>\n",
       "      <th>CV_Train</th>\n",
       "      <th>CV_Test</th>\n",
       "      <th>Difference</th>\n",
       "      <th>Unseen Data</th>\n",
       "    </tr>\n",
       "  </thead>\n",
       "  <tbody>\n",
       "    <tr>\n",
       "      <th>0</th>\n",
       "      <td>dummy_model</td>\n",
       "      <td>1.658196</td>\n",
       "      <td>1.657582</td>\n",
       "      <td>Underfit: (0.001)</td>\n",
       "      <td>1.653806</td>\n",
       "    </tr>\n",
       "    <tr>\n",
       "      <th>1</th>\n",
       "      <td>LogReg_Base</td>\n",
       "      <td>1.658196</td>\n",
       "      <td>1.657582</td>\n",
       "      <td>Underfit: (0.001)</td>\n",
       "      <td>1.653806</td>\n",
       "    </tr>\n",
       "    <tr>\n",
       "      <th>2</th>\n",
       "      <td>LogReg_GS1</td>\n",
       "      <td>0.983089</td>\n",
       "      <td>0.984196</td>\n",
       "      <td>Overfit: (0.001)</td>\n",
       "      <td>0.952627</td>\n",
       "    </tr>\n",
       "    <tr>\n",
       "      <th>3</th>\n",
       "      <td>LogReg_GS2</td>\n",
       "      <td>0.978392</td>\n",
       "      <td>0.982059</td>\n",
       "      <td>Overfit: (0.004)</td>\n",
       "      <td>0.951622</td>\n",
       "    </tr>\n",
       "    <tr>\n",
       "      <th>4</th>\n",
       "      <td>LogReg_GS3</td>\n",
       "      <td>0.974411</td>\n",
       "      <td>0.981109</td>\n",
       "      <td>Overfit: (0.007)</td>\n",
       "      <td>0.952596</td>\n",
       "    </tr>\n",
       "    <tr>\n",
       "      <th>5</th>\n",
       "      <td>Random_Forest_Base</td>\n",
       "      <td>0.004530</td>\n",
       "      <td>0.836388</td>\n",
       "      <td>Overfit: (0.832)</td>\n",
       "      <td>0.773322</td>\n",
       "    </tr>\n",
       "  </tbody>\n",
       "</table>\n",
       "</div>"
      ],
      "text/plain": [
       "           Model Name  CV_Train   CV_Test         Difference  Unseen Data\n",
       "0         dummy_model  1.658196  1.657582  Underfit: (0.001)     1.653806\n",
       "1         LogReg_Base  1.658196  1.657582  Underfit: (0.001)     1.653806\n",
       "2          LogReg_GS1  0.983089  0.984196   Overfit: (0.001)     0.952627\n",
       "3          LogReg_GS2  0.978392  0.982059   Overfit: (0.004)     0.951622\n",
       "4          LogReg_GS3  0.974411  0.981109   Overfit: (0.007)     0.952596\n",
       "5  Random_Forest_Base  0.004530  0.836388   Overfit: (0.832)     0.773322"
      ]
     },
     "execution_count": 64,
     "metadata": {},
     "output_type": "execute_result"
    }
   ],
   "source": [
    "scores_df = update_scorecard(rf_model, 'Random_Forest_Base', scores_df)\n",
    "scores_df"
   ]
  },
  {
   "cell_type": "markdown",
   "metadata": {},
   "source": [
    "### First Random Forest GridSearch"
   ]
  },
  {
   "cell_type": "markdown",
   "metadata": {},
   "source": [
    "Since our data has a class imbalance, we will be testing to see whether class weights help to improve the performance of the model. Additional, we'll look to see if reducing the number of samples helps with model performance. \n",
    "\n",
    "The first iteration of GridSearch improved the Regional RMSE score from .836 to .831."
   ]
  },
  {
   "cell_type": "code",
   "execution_count": 65,
   "metadata": {
    "ExecuteTime": {
     "end_time": "2023-02-15T14:45:23.847434Z",
     "start_time": "2023-02-15T14:44:07.717765Z"
    }
   },
   "outputs": [
    {
     "name": "stdout",
     "output_type": "stream",
     "text": [
      "Fitting 5 folds for each of 6 candidates, totalling 30 fits\n"
     ]
    }
   ],
   "source": [
    "rf_params = {\n",
    "    'rf__class_weight':[None, 'balanced'],\n",
    "    'rf__max_samples':[None, .5, .75]\n",
    "}\n",
    "rf_gs = GridSearchCV(estimator=rf_model, \n",
    "                     param_grid=rf_params, \n",
    "                     scoring=regional_scorer, \n",
    "                     cv=5, \n",
    "                     verbose=1, \n",
    "                     return_train_score=True,\n",
    "                     n_jobs=2)\n",
    "\n",
    "rf_gs.fit(X_train, y_train);"
   ]
  },
  {
   "cell_type": "code",
   "execution_count": 66,
   "metadata": {
    "ExecuteTime": {
     "end_time": "2023-02-15T14:45:23.862433Z",
     "start_time": "2023-02-15T14:45:23.848434Z"
    }
   },
   "outputs": [
    {
     "data": {
      "text/plain": [
       "{'rf__class_weight': None, 'rf__max_samples': 0.75}"
      ]
     },
     "execution_count": 66,
     "metadata": {},
     "output_type": "execute_result"
    }
   ],
   "source": [
    "rf_gs.best_params_"
   ]
  },
  {
   "cell_type": "code",
   "execution_count": 67,
   "metadata": {
    "ExecuteTime": {
     "end_time": "2023-02-15T14:45:23.878434Z",
     "start_time": "2023-02-15T14:45:23.863432Z"
    }
   },
   "outputs": [
    {
     "data": {
      "text/plain": [
       "-0.8316550856065819"
      ]
     },
     "execution_count": 67,
     "metadata": {},
     "output_type": "execute_result"
    }
   ],
   "source": [
    "rf_gs.best_score_"
   ]
  },
  {
   "cell_type": "markdown",
   "metadata": {},
   "source": [
    "Updating the scorecard."
   ]
  },
  {
   "cell_type": "code",
   "execution_count": 68,
   "metadata": {
    "ExecuteTime": {
     "end_time": "2023-02-15T14:45:49.881761Z",
     "start_time": "2023-02-15T14:45:23.879434Z"
    }
   },
   "outputs": [
    {
     "name": "stdout",
     "output_type": "stream",
     "text": [
      "RMSE for south (n=2744): 0.9284\n",
      "RMSE for midwest (n=626): 0.8999\n",
      "RMSE for west (n=1030): 0.4192\n",
      "RMSE for northeast (n=309): 0.9049\n",
      "Final score: 0.7880951444841156\n"
     ]
    },
    {
     "data": {
      "text/html": [
       "<div>\n",
       "<style scoped>\n",
       "    .dataframe tbody tr th:only-of-type {\n",
       "        vertical-align: middle;\n",
       "    }\n",
       "\n",
       "    .dataframe tbody tr th {\n",
       "        vertical-align: top;\n",
       "    }\n",
       "\n",
       "    .dataframe thead th {\n",
       "        text-align: right;\n",
       "    }\n",
       "</style>\n",
       "<table border=\"1\" class=\"dataframe\">\n",
       "  <thead>\n",
       "    <tr style=\"text-align: right;\">\n",
       "      <th></th>\n",
       "      <th>Model Name</th>\n",
       "      <th>CV_Train</th>\n",
       "      <th>CV_Test</th>\n",
       "      <th>Difference</th>\n",
       "      <th>Unseen Data</th>\n",
       "    </tr>\n",
       "  </thead>\n",
       "  <tbody>\n",
       "    <tr>\n",
       "      <th>0</th>\n",
       "      <td>dummy_model</td>\n",
       "      <td>1.658196</td>\n",
       "      <td>1.657582</td>\n",
       "      <td>Underfit: (0.001)</td>\n",
       "      <td>1.653806</td>\n",
       "    </tr>\n",
       "    <tr>\n",
       "      <th>1</th>\n",
       "      <td>LogReg_Base</td>\n",
       "      <td>1.658196</td>\n",
       "      <td>1.657582</td>\n",
       "      <td>Underfit: (0.001)</td>\n",
       "      <td>1.653806</td>\n",
       "    </tr>\n",
       "    <tr>\n",
       "      <th>2</th>\n",
       "      <td>LogReg_GS1</td>\n",
       "      <td>0.983089</td>\n",
       "      <td>0.984196</td>\n",
       "      <td>Overfit: (0.001)</td>\n",
       "      <td>0.952627</td>\n",
       "    </tr>\n",
       "    <tr>\n",
       "      <th>3</th>\n",
       "      <td>LogReg_GS2</td>\n",
       "      <td>0.978392</td>\n",
       "      <td>0.982059</td>\n",
       "      <td>Overfit: (0.004)</td>\n",
       "      <td>0.951622</td>\n",
       "    </tr>\n",
       "    <tr>\n",
       "      <th>4</th>\n",
       "      <td>LogReg_GS3</td>\n",
       "      <td>0.974411</td>\n",
       "      <td>0.981109</td>\n",
       "      <td>Overfit: (0.007)</td>\n",
       "      <td>0.952596</td>\n",
       "    </tr>\n",
       "    <tr>\n",
       "      <th>5</th>\n",
       "      <td>Random_Forest_Base</td>\n",
       "      <td>0.004530</td>\n",
       "      <td>0.836388</td>\n",
       "      <td>Overfit: (0.832)</td>\n",
       "      <td>0.773322</td>\n",
       "    </tr>\n",
       "    <tr>\n",
       "      <th>6</th>\n",
       "      <td>Random_Forest_GS1</td>\n",
       "      <td>0.052565</td>\n",
       "      <td>0.831655</td>\n",
       "      <td>Overfit: (0.779)</td>\n",
       "      <td>0.788095</td>\n",
       "    </tr>\n",
       "  </tbody>\n",
       "</table>\n",
       "</div>"
      ],
      "text/plain": [
       "           Model Name  CV_Train   CV_Test         Difference  Unseen Data\n",
       "0         dummy_model  1.658196  1.657582  Underfit: (0.001)     1.653806\n",
       "1         LogReg_Base  1.658196  1.657582  Underfit: (0.001)     1.653806\n",
       "2          LogReg_GS1  0.983089  0.984196   Overfit: (0.001)     0.952627\n",
       "3          LogReg_GS2  0.978392  0.982059   Overfit: (0.004)     0.951622\n",
       "4          LogReg_GS3  0.974411  0.981109   Overfit: (0.007)     0.952596\n",
       "5  Random_Forest_Base  0.004530  0.836388   Overfit: (0.832)     0.773322\n",
       "6   Random_Forest_GS1  0.052565  0.831655   Overfit: (0.779)     0.788095"
      ]
     },
     "execution_count": 68,
     "metadata": {},
     "output_type": "execute_result"
    }
   ],
   "source": [
    "scores_df = update_scorecard(rf_gs.best_estimator_, 'Random_Forest_GS1', scores_df)\n",
    "scores_df"
   ]
  },
  {
   "cell_type": "markdown",
   "metadata": {},
   "source": [
    "### Second Random Forest Gridsearch"
   ]
  },
  {
   "cell_type": "markdown",
   "metadata": {},
   "source": [
    "The second GridSearch further improved the score of the model from .831 to .814 on cross validated data. I will attempt one more iteration of GridSearch to find the best model."
   ]
  },
  {
   "cell_type": "code",
   "execution_count": 69,
   "metadata": {
    "ExecuteTime": {
     "end_time": "2023-02-15T14:49:09.271575Z",
     "start_time": "2023-02-15T14:45:49.882761Z"
    }
   },
   "outputs": [
    {
     "name": "stdout",
     "output_type": "stream",
     "text": [
      "Fitting 5 folds for each of 27 candidates, totalling 135 fits\n"
     ]
    }
   ],
   "source": [
    "rf_params2 = {\n",
    "    'rf__criterion':['gini', 'entropy', 'log_loss'],\n",
    "    'rf__min_samples_split':[2, 3, 5],\n",
    "    'rf__max_samples':[None, .5, .75]\n",
    "}\n",
    "rf_gs2 = GridSearchCV(estimator=rf_model, \n",
    "                      param_grid=rf_params2, \n",
    "                      scoring=regional_scorer, \n",
    "                      cv=5, \n",
    "                      verbose=1, \n",
    "                      return_train_score=True,\n",
    "                      n_jobs=4)\n",
    "\n",
    "rf_gs2.fit(X_train, y_train);"
   ]
  },
  {
   "cell_type": "code",
   "execution_count": 70,
   "metadata": {
    "ExecuteTime": {
     "end_time": "2023-02-15T14:49:09.286604Z",
     "start_time": "2023-02-15T14:49:09.272606Z"
    }
   },
   "outputs": [
    {
     "data": {
      "text/plain": [
       "{'rf__criterion': 'entropy',\n",
       " 'rf__max_samples': None,\n",
       " 'rf__min_samples_split': 3}"
      ]
     },
     "execution_count": 70,
     "metadata": {},
     "output_type": "execute_result"
    }
   ],
   "source": [
    "rf_gs2.best_params_"
   ]
  },
  {
   "cell_type": "code",
   "execution_count": 71,
   "metadata": {
    "ExecuteTime": {
     "end_time": "2023-02-15T14:49:09.301608Z",
     "start_time": "2023-02-15T14:49:09.287604Z"
    }
   },
   "outputs": [
    {
     "data": {
      "text/plain": [
       "-0.814660181569517"
      ]
     },
     "execution_count": 71,
     "metadata": {},
     "output_type": "execute_result"
    }
   ],
   "source": [
    "rf_gs2.best_score_"
   ]
  },
  {
   "cell_type": "markdown",
   "metadata": {},
   "source": [
    "Updating the scorecard."
   ]
  },
  {
   "cell_type": "code",
   "execution_count": 72,
   "metadata": {
    "ExecuteTime": {
     "end_time": "2023-02-15T14:49:40.668157Z",
     "start_time": "2023-02-15T14:49:09.302608Z"
    }
   },
   "outputs": [
    {
     "name": "stdout",
     "output_type": "stream",
     "text": [
      "RMSE for south (n=2744): 0.927\n",
      "RMSE for midwest (n=626): 0.8784\n",
      "RMSE for west (n=1030): 0.4483\n",
      "RMSE for northeast (n=309): 0.8476\n",
      "Final score: 0.7753245739834157\n"
     ]
    },
    {
     "data": {
      "text/html": [
       "<div>\n",
       "<style scoped>\n",
       "    .dataframe tbody tr th:only-of-type {\n",
       "        vertical-align: middle;\n",
       "    }\n",
       "\n",
       "    .dataframe tbody tr th {\n",
       "        vertical-align: top;\n",
       "    }\n",
       "\n",
       "    .dataframe thead th {\n",
       "        text-align: right;\n",
       "    }\n",
       "</style>\n",
       "<table border=\"1\" class=\"dataframe\">\n",
       "  <thead>\n",
       "    <tr style=\"text-align: right;\">\n",
       "      <th></th>\n",
       "      <th>Model Name</th>\n",
       "      <th>CV_Train</th>\n",
       "      <th>CV_Test</th>\n",
       "      <th>Difference</th>\n",
       "      <th>Unseen Data</th>\n",
       "    </tr>\n",
       "  </thead>\n",
       "  <tbody>\n",
       "    <tr>\n",
       "      <th>0</th>\n",
       "      <td>dummy_model</td>\n",
       "      <td>1.658196</td>\n",
       "      <td>1.657582</td>\n",
       "      <td>Underfit: (0.001)</td>\n",
       "      <td>1.653806</td>\n",
       "    </tr>\n",
       "    <tr>\n",
       "      <th>1</th>\n",
       "      <td>LogReg_Base</td>\n",
       "      <td>1.658196</td>\n",
       "      <td>1.657582</td>\n",
       "      <td>Underfit: (0.001)</td>\n",
       "      <td>1.653806</td>\n",
       "    </tr>\n",
       "    <tr>\n",
       "      <th>2</th>\n",
       "      <td>LogReg_GS1</td>\n",
       "      <td>0.983089</td>\n",
       "      <td>0.984196</td>\n",
       "      <td>Overfit: (0.001)</td>\n",
       "      <td>0.952627</td>\n",
       "    </tr>\n",
       "    <tr>\n",
       "      <th>3</th>\n",
       "      <td>LogReg_GS2</td>\n",
       "      <td>0.978392</td>\n",
       "      <td>0.982059</td>\n",
       "      <td>Overfit: (0.004)</td>\n",
       "      <td>0.951622</td>\n",
       "    </tr>\n",
       "    <tr>\n",
       "      <th>4</th>\n",
       "      <td>LogReg_GS3</td>\n",
       "      <td>0.974411</td>\n",
       "      <td>0.981109</td>\n",
       "      <td>Overfit: (0.007)</td>\n",
       "      <td>0.952596</td>\n",
       "    </tr>\n",
       "    <tr>\n",
       "      <th>5</th>\n",
       "      <td>Random_Forest_Base</td>\n",
       "      <td>0.004530</td>\n",
       "      <td>0.836388</td>\n",
       "      <td>Overfit: (0.832)</td>\n",
       "      <td>0.773322</td>\n",
       "    </tr>\n",
       "    <tr>\n",
       "      <th>6</th>\n",
       "      <td>Random_Forest_GS1</td>\n",
       "      <td>0.052565</td>\n",
       "      <td>0.831655</td>\n",
       "      <td>Overfit: (0.779)</td>\n",
       "      <td>0.788095</td>\n",
       "    </tr>\n",
       "    <tr>\n",
       "      <th>7</th>\n",
       "      <td>Random_Forest_GS2</td>\n",
       "      <td>0.076151</td>\n",
       "      <td>0.814660</td>\n",
       "      <td>Overfit: (0.739)</td>\n",
       "      <td>0.775325</td>\n",
       "    </tr>\n",
       "  </tbody>\n",
       "</table>\n",
       "</div>"
      ],
      "text/plain": [
       "           Model Name  CV_Train   CV_Test         Difference  Unseen Data\n",
       "0         dummy_model  1.658196  1.657582  Underfit: (0.001)     1.653806\n",
       "1         LogReg_Base  1.658196  1.657582  Underfit: (0.001)     1.653806\n",
       "2          LogReg_GS1  0.983089  0.984196   Overfit: (0.001)     0.952627\n",
       "3          LogReg_GS2  0.978392  0.982059   Overfit: (0.004)     0.951622\n",
       "4          LogReg_GS3  0.974411  0.981109   Overfit: (0.007)     0.952596\n",
       "5  Random_Forest_Base  0.004530  0.836388   Overfit: (0.832)     0.773322\n",
       "6   Random_Forest_GS1  0.052565  0.831655   Overfit: (0.779)     0.788095\n",
       "7   Random_Forest_GS2  0.076151  0.814660   Overfit: (0.739)     0.775325"
      ]
     },
     "execution_count": 72,
     "metadata": {},
     "output_type": "execute_result"
    }
   ],
   "source": [
    "scores_df = update_scorecard(rf_gs2.best_estimator_, 'Random_Forest_GS2', scores_df)\n",
    "scores_df"
   ]
  },
  {
   "cell_type": "markdown",
   "metadata": {},
   "source": [
    "### Third Random Forest Gridsearch"
   ]
  },
  {
   "cell_type": "markdown",
   "metadata": {},
   "source": [
    "The third GridSearch continued to see improved results bringing the regional score from .814 to .808."
   ]
  },
  {
   "cell_type": "code",
   "execution_count": 73,
   "metadata": {
    "ExecuteTime": {
     "end_time": "2023-02-15T14:52:12.807708Z",
     "start_time": "2023-02-15T14:49:40.669158Z"
    }
   },
   "outputs": [
    {
     "name": "stdout",
     "output_type": "stream",
     "text": [
      "Fitting 5 folds for each of 18 candidates, totalling 90 fits\n"
     ]
    }
   ],
   "source": [
    "rf_params3 = {\n",
    "    'rf__criterion':['gini', 'entropy'],\n",
    "    'rf__min_samples_split':[3, 4, 6],\n",
    "    'rf__n_estimators':[150, 200, 300]\n",
    "}\n",
    "rf_gs3 = GridSearchCV(estimator=rf_model, \n",
    "                      param_grid=rf_params3, \n",
    "                      scoring=regional_scorer, \n",
    "                      cv=5, \n",
    "                      verbose=1, \n",
    "                      n_jobs=4)\n",
    "\n",
    "rf_gs3.fit(X_train, y_train);"
   ]
  },
  {
   "cell_type": "code",
   "execution_count": 74,
   "metadata": {
    "ExecuteTime": {
     "end_time": "2023-02-15T14:52:12.823218Z",
     "start_time": "2023-02-15T14:52:12.808708Z"
    }
   },
   "outputs": [
    {
     "data": {
      "text/plain": [
       "{'rf__criterion': 'entropy',\n",
       " 'rf__min_samples_split': 3,\n",
       " 'rf__n_estimators': 150}"
      ]
     },
     "execution_count": 74,
     "metadata": {},
     "output_type": "execute_result"
    }
   ],
   "source": [
    "rf_gs3.best_params_"
   ]
  },
  {
   "cell_type": "code",
   "execution_count": 75,
   "metadata": {
    "ExecuteTime": {
     "end_time": "2023-02-15T14:52:12.838723Z",
     "start_time": "2023-02-15T14:52:12.824219Z"
    }
   },
   "outputs": [
    {
     "data": {
      "text/plain": [
       "-0.8081060998387551"
      ]
     },
     "execution_count": 75,
     "metadata": {},
     "output_type": "execute_result"
    }
   ],
   "source": [
    "rf_gs3.best_score_"
   ]
  },
  {
   "cell_type": "markdown",
   "metadata": {},
   "source": [
    "Updating the scorecard."
   ]
  },
  {
   "cell_type": "code",
   "execution_count": 76,
   "metadata": {
    "ExecuteTime": {
     "end_time": "2023-02-15T14:52:51.344701Z",
     "start_time": "2023-02-15T14:52:12.839723Z"
    }
   },
   "outputs": [
    {
     "name": "stdout",
     "output_type": "stream",
     "text": [
      "RMSE for south (n=2744): 0.9246\n",
      "RMSE for midwest (n=626): 0.8811\n",
      "RMSE for west (n=1030): 0.4272\n",
      "RMSE for northeast (n=309): 0.9013\n",
      "Final score: 0.7835635905214304\n"
     ]
    },
    {
     "data": {
      "text/html": [
       "<div>\n",
       "<style scoped>\n",
       "    .dataframe tbody tr th:only-of-type {\n",
       "        vertical-align: middle;\n",
       "    }\n",
       "\n",
       "    .dataframe tbody tr th {\n",
       "        vertical-align: top;\n",
       "    }\n",
       "\n",
       "    .dataframe thead th {\n",
       "        text-align: right;\n",
       "    }\n",
       "</style>\n",
       "<table border=\"1\" class=\"dataframe\">\n",
       "  <thead>\n",
       "    <tr style=\"text-align: right;\">\n",
       "      <th></th>\n",
       "      <th>Model Name</th>\n",
       "      <th>CV_Train</th>\n",
       "      <th>CV_Test</th>\n",
       "      <th>Difference</th>\n",
       "      <th>Unseen Data</th>\n",
       "    </tr>\n",
       "  </thead>\n",
       "  <tbody>\n",
       "    <tr>\n",
       "      <th>0</th>\n",
       "      <td>dummy_model</td>\n",
       "      <td>1.658196</td>\n",
       "      <td>1.657582</td>\n",
       "      <td>Underfit: (0.001)</td>\n",
       "      <td>1.653806</td>\n",
       "    </tr>\n",
       "    <tr>\n",
       "      <th>1</th>\n",
       "      <td>LogReg_Base</td>\n",
       "      <td>1.658196</td>\n",
       "      <td>1.657582</td>\n",
       "      <td>Underfit: (0.001)</td>\n",
       "      <td>1.653806</td>\n",
       "    </tr>\n",
       "    <tr>\n",
       "      <th>2</th>\n",
       "      <td>LogReg_GS1</td>\n",
       "      <td>0.983089</td>\n",
       "      <td>0.984196</td>\n",
       "      <td>Overfit: (0.001)</td>\n",
       "      <td>0.952627</td>\n",
       "    </tr>\n",
       "    <tr>\n",
       "      <th>3</th>\n",
       "      <td>LogReg_GS2</td>\n",
       "      <td>0.978392</td>\n",
       "      <td>0.982059</td>\n",
       "      <td>Overfit: (0.004)</td>\n",
       "      <td>0.951622</td>\n",
       "    </tr>\n",
       "    <tr>\n",
       "      <th>4</th>\n",
       "      <td>LogReg_GS3</td>\n",
       "      <td>0.974411</td>\n",
       "      <td>0.981109</td>\n",
       "      <td>Overfit: (0.007)</td>\n",
       "      <td>0.952596</td>\n",
       "    </tr>\n",
       "    <tr>\n",
       "      <th>5</th>\n",
       "      <td>Random_Forest_Base</td>\n",
       "      <td>0.004530</td>\n",
       "      <td>0.836388</td>\n",
       "      <td>Overfit: (0.832)</td>\n",
       "      <td>0.773322</td>\n",
       "    </tr>\n",
       "    <tr>\n",
       "      <th>6</th>\n",
       "      <td>Random_Forest_GS1</td>\n",
       "      <td>0.052565</td>\n",
       "      <td>0.831655</td>\n",
       "      <td>Overfit: (0.779)</td>\n",
       "      <td>0.788095</td>\n",
       "    </tr>\n",
       "    <tr>\n",
       "      <th>7</th>\n",
       "      <td>Random_Forest_GS2</td>\n",
       "      <td>0.076151</td>\n",
       "      <td>0.814660</td>\n",
       "      <td>Overfit: (0.739)</td>\n",
       "      <td>0.775325</td>\n",
       "    </tr>\n",
       "    <tr>\n",
       "      <th>8</th>\n",
       "      <td>Random_Forest_GS3</td>\n",
       "      <td>0.067371</td>\n",
       "      <td>0.808106</td>\n",
       "      <td>Overfit: (0.741)</td>\n",
       "      <td>0.783564</td>\n",
       "    </tr>\n",
       "  </tbody>\n",
       "</table>\n",
       "</div>"
      ],
      "text/plain": [
       "           Model Name  CV_Train   CV_Test         Difference  Unseen Data\n",
       "0         dummy_model  1.658196  1.657582  Underfit: (0.001)     1.653806\n",
       "1         LogReg_Base  1.658196  1.657582  Underfit: (0.001)     1.653806\n",
       "2          LogReg_GS1  0.983089  0.984196   Overfit: (0.001)     0.952627\n",
       "3          LogReg_GS2  0.978392  0.982059   Overfit: (0.004)     0.951622\n",
       "4          LogReg_GS3  0.974411  0.981109   Overfit: (0.007)     0.952596\n",
       "5  Random_Forest_Base  0.004530  0.836388   Overfit: (0.832)     0.773322\n",
       "6   Random_Forest_GS1  0.052565  0.831655   Overfit: (0.779)     0.788095\n",
       "7   Random_Forest_GS2  0.076151  0.814660   Overfit: (0.739)     0.775325\n",
       "8   Random_Forest_GS3  0.067371  0.808106   Overfit: (0.741)     0.783564"
      ]
     },
     "execution_count": 76,
     "metadata": {},
     "output_type": "execute_result"
    }
   ],
   "source": [
    "scores_df = update_scorecard(rf_gs3.best_estimator_, 'Random_Forest_GS3', scores_df)\n",
    "scores_df"
   ]
  },
  {
   "cell_type": "markdown",
   "metadata": {},
   "source": [
    "### Best Random Forest Model"
   ]
  },
  {
   "cell_type": "markdown",
   "metadata": {},
   "source": [
    "The best model is still very overfit but produces a cross validated score of .808 for test data and .067 on training data. Final Score on the unseen validation data is .783."
   ]
  },
  {
   "cell_type": "code",
   "execution_count": 77,
   "metadata": {
    "ExecuteTime": {
     "end_time": "2023-02-15T14:52:51.360704Z",
     "start_time": "2023-02-15T14:52:51.345705Z"
    }
   },
   "outputs": [],
   "source": [
    "best_rf_model = Pipeline([\n",
    "    ('ColTrans', ColTrans),\n",
    "    ('rf', RandomForestClassifier(criterion='entropy',\n",
    "                                  min_samples_split=3,\n",
    "                                  n_estimators=150,\n",
    "                                  random_state=42))\n",
    "])"
   ]
  },
  {
   "cell_type": "code",
   "execution_count": 78,
   "metadata": {
    "ExecuteTime": {
     "end_time": "2023-02-15T14:53:15.401434Z",
     "start_time": "2023-02-15T14:52:51.361702Z"
    }
   },
   "outputs": [],
   "source": [
    "best_rf_cv = cross_validate(best_rf_model, \n",
    "                            X_train, \n",
    "                            y_train, \n",
    "                            scoring=regional_scorer, \n",
    "                            return_train_score=True,\n",
    "                            n_jobs=2)"
   ]
  },
  {
   "cell_type": "code",
   "execution_count": 79,
   "metadata": {
    "ExecuteTime": {
     "end_time": "2023-02-15T14:53:15.416721Z",
     "start_time": "2023-02-15T14:53:15.402439Z"
    }
   },
   "outputs": [
    {
     "name": "stdout",
     "output_type": "stream",
     "text": [
      "Train: -0.06737069080285488\n",
      "Test: -0.8081060998387551\n"
     ]
    },
    {
     "data": {
      "text/plain": [
       "{'fit_time': array([7.58725142, 7.73125052, 4.87175417, 4.86338663, 4.65893769]),\n",
       " 'score_time': array([0.40613055, 0.43619823, 0.3760047 , 0.47380328, 0.36015153]),\n",
       " 'test_score': array([-0.79269323, -0.80051718, -0.77944494, -0.82543635, -0.84243879]),\n",
       " 'train_score': array([-0.07606819, -0.07727563, -0.0620053 , -0.06328816, -0.05821616])}"
      ]
     },
     "execution_count": 79,
     "metadata": {},
     "output_type": "execute_result"
    }
   ],
   "source": [
    "print(f\"Train: {best_rf_cv['train_score'].mean()}\")\n",
    "print(f\"Test: {best_rf_cv['test_score'].mean()}\")\n",
    "best_rf_cv"
   ]
  },
  {
   "cell_type": "markdown",
   "metadata": {},
   "source": [
    "**Testing on Validation Data**"
   ]
  },
  {
   "cell_type": "code",
   "execution_count": 80,
   "metadata": {
    "ExecuteTime": {
     "end_time": "2023-02-15T14:53:21.635399Z",
     "start_time": "2023-02-15T14:53:15.417722Z"
    }
   },
   "outputs": [],
   "source": [
    "best_rf_model.fit(X_train, y_train);"
   ]
  },
  {
   "cell_type": "code",
   "execution_count": 81,
   "metadata": {
    "ExecuteTime": {
     "end_time": "2023-02-15T14:53:22.480427Z",
     "start_time": "2023-02-15T14:53:21.643404Z"
    }
   },
   "outputs": [],
   "source": [
    "best_rf_val_pred = best_rf_model.predict(X_val)"
   ]
  },
  {
   "cell_type": "code",
   "execution_count": 82,
   "metadata": {
    "ExecuteTime": {
     "end_time": "2023-02-15T14:53:22.496477Z",
     "start_time": "2023-02-15T14:53:22.481431Z"
    }
   },
   "outputs": [
    {
     "name": "stdout",
     "output_type": "stream",
     "text": [
      "RMSE for south (n=2744): 0.9246\n",
      "RMSE for midwest (n=626): 0.8811\n",
      "RMSE for west (n=1030): 0.4272\n",
      "RMSE for northeast (n=309): 0.9013\n",
      "Final score: 0.7835635905214304\n"
     ]
    },
    {
     "data": {
      "text/plain": [
       "0.7835635905214304"
      ]
     },
     "execution_count": 82,
     "metadata": {},
     "output_type": "execute_result"
    }
   ],
   "source": [
    "check_score(val_score, best_rf_val_pred)"
   ]
  },
  {
   "cell_type": "markdown",
   "metadata": {},
   "source": [
    "## XGBoost Model"
   ]
  },
  {
   "cell_type": "markdown",
   "metadata": {},
   "source": [
    "XGBoost has a great score to begin with, unseen validation data is scoring in at .732 and the cross validation on training data is scoring at .768. The model is overfit though with training score coming in at .271 and could see some improvement from cross validating."
   ]
  },
  {
   "cell_type": "code",
   "execution_count": 83,
   "metadata": {
    "ExecuteTime": {
     "end_time": "2023-02-15T14:53:22.512476Z",
     "start_time": "2023-02-15T14:53:22.497477Z"
    }
   },
   "outputs": [],
   "source": [
    "xgb_model = Pipeline([\n",
    "    ('ColTrans', ColTrans),\n",
    "    ('xgb', XGBClassifier(random_state=42))\n",
    "])"
   ]
  },
  {
   "cell_type": "code",
   "execution_count": 84,
   "metadata": {
    "ExecuteTime": {
     "end_time": "2023-02-15T14:53:25.562947Z",
     "start_time": "2023-02-15T14:53:22.513476Z"
    }
   },
   "outputs": [],
   "source": [
    "xgb_model.fit(X_train, y_train_adj);"
   ]
  },
  {
   "cell_type": "code",
   "execution_count": 85,
   "metadata": {
    "ExecuteTime": {
     "end_time": "2023-02-15T14:53:26.332131Z",
     "start_time": "2023-02-15T14:53:25.563947Z"
    }
   },
   "outputs": [
    {
     "data": {
      "text/plain": [
       "0.6689318326608622"
      ]
     },
     "execution_count": 85,
     "metadata": {},
     "output_type": "execute_result"
    }
   ],
   "source": [
    "xgb_model.score(X_val, y_val_adj)"
   ]
  },
  {
   "cell_type": "code",
   "execution_count": 86,
   "metadata": {
    "ExecuteTime": {
     "end_time": "2023-02-15T14:53:27.104955Z",
     "start_time": "2023-02-15T14:53:26.333131Z"
    }
   },
   "outputs": [],
   "source": [
    "xgb_val_pred = xgb_model.predict(X_val)\n",
    "xgb_val_pred = xgb_val_pred+1"
   ]
  },
  {
   "cell_type": "code",
   "execution_count": 87,
   "metadata": {
    "ExecuteTime": {
     "end_time": "2023-02-15T14:53:27.120429Z",
     "start_time": "2023-02-15T14:53:27.105956Z"
    }
   },
   "outputs": [
    {
     "name": "stdout",
     "output_type": "stream",
     "text": [
      "RMSE for south (n=2744): 0.9031\n",
      "RMSE for midwest (n=626): 0.7984\n",
      "RMSE for west (n=1030): 0.4169\n",
      "RMSE for northeast (n=309): 0.8125\n",
      "Final score: 0.7327164273457496\n"
     ]
    },
    {
     "data": {
      "text/plain": [
       "0.7327164273457496"
      ]
     },
     "execution_count": 87,
     "metadata": {},
     "output_type": "execute_result"
    }
   ],
   "source": [
    "check_score(val_score, xgb_val_pred)"
   ]
  },
  {
   "cell_type": "markdown",
   "metadata": {},
   "source": [
    "Test run of crossval to check scorer"
   ]
  },
  {
   "cell_type": "code",
   "execution_count": 88,
   "metadata": {
    "ExecuteTime": {
     "end_time": "2023-02-15T14:53:46.296373Z",
     "start_time": "2023-02-15T14:53:27.121429Z"
    }
   },
   "outputs": [],
   "source": [
    "xgb_cv = cross_validate(xgb_model, \n",
    "                        X_train, \n",
    "                        y_train_adj, \n",
    "                        scoring=regional_scorer, \n",
    "                        return_train_score=True)"
   ]
  },
  {
   "cell_type": "code",
   "execution_count": 89,
   "metadata": {
    "ExecuteTime": {
     "end_time": "2023-02-15T14:53:46.312371Z",
     "start_time": "2023-02-15T14:53:46.297374Z"
    }
   },
   "outputs": [
    {
     "name": "stdout",
     "output_type": "stream",
     "text": [
      "Train: -0.27170464845212283\n",
      "Test: -0.7686739521485018\n"
     ]
    },
    {
     "data": {
      "text/plain": [
       "{'fit_time': array([2.08603621, 2.18671966, 2.1598053 , 2.1740315 , 2.29247046]),\n",
       " 'score_time': array([0.33870506, 0.34140635, 0.28511977, 0.36050725, 0.37961054]),\n",
       " 'test_score': array([-0.77387006, -0.76368498, -0.73119046, -0.79161926, -0.783005  ]),\n",
       " 'train_score': array([-0.26383289, -0.28239701, -0.27817458, -0.27092972, -0.26318904])}"
      ]
     },
     "execution_count": 89,
     "metadata": {},
     "output_type": "execute_result"
    }
   ],
   "source": [
    "print(f\"Train: {xgb_cv['train_score'].mean()}\")\n",
    "print(f\"Test: {xgb_cv['test_score'].mean()}\")\n",
    "xgb_cv"
   ]
  },
  {
   "cell_type": "markdown",
   "metadata": {},
   "source": [
    "Updating the scorecard."
   ]
  },
  {
   "cell_type": "code",
   "execution_count": 90,
   "metadata": {
    "ExecuteTime": {
     "end_time": "2023-02-15T14:54:09.294365Z",
     "start_time": "2023-02-15T14:53:46.313371Z"
    }
   },
   "outputs": [
    {
     "name": "stdout",
     "output_type": "stream",
     "text": [
      "RMSE for south (n=2744): 0.9031\n",
      "RMSE for midwest (n=626): 0.7984\n",
      "RMSE for west (n=1030): 0.4169\n",
      "RMSE for northeast (n=309): 0.8125\n",
      "Final score: 0.7327164273457496\n"
     ]
    },
    {
     "data": {
      "text/html": [
       "<div>\n",
       "<style scoped>\n",
       "    .dataframe tbody tr th:only-of-type {\n",
       "        vertical-align: middle;\n",
       "    }\n",
       "\n",
       "    .dataframe tbody tr th {\n",
       "        vertical-align: top;\n",
       "    }\n",
       "\n",
       "    .dataframe thead th {\n",
       "        text-align: right;\n",
       "    }\n",
       "</style>\n",
       "<table border=\"1\" class=\"dataframe\">\n",
       "  <thead>\n",
       "    <tr style=\"text-align: right;\">\n",
       "      <th></th>\n",
       "      <th>Model Name</th>\n",
       "      <th>CV_Train</th>\n",
       "      <th>CV_Test</th>\n",
       "      <th>Difference</th>\n",
       "      <th>Unseen Data</th>\n",
       "    </tr>\n",
       "  </thead>\n",
       "  <tbody>\n",
       "    <tr>\n",
       "      <th>0</th>\n",
       "      <td>dummy_model</td>\n",
       "      <td>1.658196</td>\n",
       "      <td>1.657582</td>\n",
       "      <td>Underfit: (0.001)</td>\n",
       "      <td>1.653806</td>\n",
       "    </tr>\n",
       "    <tr>\n",
       "      <th>1</th>\n",
       "      <td>LogReg_Base</td>\n",
       "      <td>1.658196</td>\n",
       "      <td>1.657582</td>\n",
       "      <td>Underfit: (0.001)</td>\n",
       "      <td>1.653806</td>\n",
       "    </tr>\n",
       "    <tr>\n",
       "      <th>2</th>\n",
       "      <td>LogReg_GS1</td>\n",
       "      <td>0.983089</td>\n",
       "      <td>0.984196</td>\n",
       "      <td>Overfit: (0.001)</td>\n",
       "      <td>0.952627</td>\n",
       "    </tr>\n",
       "    <tr>\n",
       "      <th>3</th>\n",
       "      <td>LogReg_GS2</td>\n",
       "      <td>0.978392</td>\n",
       "      <td>0.982059</td>\n",
       "      <td>Overfit: (0.004)</td>\n",
       "      <td>0.951622</td>\n",
       "    </tr>\n",
       "    <tr>\n",
       "      <th>4</th>\n",
       "      <td>LogReg_GS3</td>\n",
       "      <td>0.974411</td>\n",
       "      <td>0.981109</td>\n",
       "      <td>Overfit: (0.007)</td>\n",
       "      <td>0.952596</td>\n",
       "    </tr>\n",
       "    <tr>\n",
       "      <th>5</th>\n",
       "      <td>Random_Forest_Base</td>\n",
       "      <td>0.004530</td>\n",
       "      <td>0.836388</td>\n",
       "      <td>Overfit: (0.832)</td>\n",
       "      <td>0.773322</td>\n",
       "    </tr>\n",
       "    <tr>\n",
       "      <th>6</th>\n",
       "      <td>Random_Forest_GS1</td>\n",
       "      <td>0.052565</td>\n",
       "      <td>0.831655</td>\n",
       "      <td>Overfit: (0.779)</td>\n",
       "      <td>0.788095</td>\n",
       "    </tr>\n",
       "    <tr>\n",
       "      <th>7</th>\n",
       "      <td>Random_Forest_GS2</td>\n",
       "      <td>0.076151</td>\n",
       "      <td>0.814660</td>\n",
       "      <td>Overfit: (0.739)</td>\n",
       "      <td>0.775325</td>\n",
       "    </tr>\n",
       "    <tr>\n",
       "      <th>8</th>\n",
       "      <td>Random_Forest_GS3</td>\n",
       "      <td>0.067371</td>\n",
       "      <td>0.808106</td>\n",
       "      <td>Overfit: (0.741)</td>\n",
       "      <td>0.783564</td>\n",
       "    </tr>\n",
       "    <tr>\n",
       "      <th>9</th>\n",
       "      <td>XGBoost_Base</td>\n",
       "      <td>0.271705</td>\n",
       "      <td>0.768674</td>\n",
       "      <td>Overfit: (0.497)</td>\n",
       "      <td>0.732716</td>\n",
       "    </tr>\n",
       "  </tbody>\n",
       "</table>\n",
       "</div>"
      ],
      "text/plain": [
       "           Model Name  CV_Train   CV_Test         Difference  Unseen Data\n",
       "0         dummy_model  1.658196  1.657582  Underfit: (0.001)     1.653806\n",
       "1         LogReg_Base  1.658196  1.657582  Underfit: (0.001)     1.653806\n",
       "2          LogReg_GS1  0.983089  0.984196   Overfit: (0.001)     0.952627\n",
       "3          LogReg_GS2  0.978392  0.982059   Overfit: (0.004)     0.951622\n",
       "4          LogReg_GS3  0.974411  0.981109   Overfit: (0.007)     0.952596\n",
       "5  Random_Forest_Base  0.004530  0.836388   Overfit: (0.832)     0.773322\n",
       "6   Random_Forest_GS1  0.052565  0.831655   Overfit: (0.779)     0.788095\n",
       "7   Random_Forest_GS2  0.076151  0.814660   Overfit: (0.739)     0.775325\n",
       "8   Random_Forest_GS3  0.067371  0.808106   Overfit: (0.741)     0.783564\n",
       "9        XGBoost_Base  0.271705  0.768674   Overfit: (0.497)     0.732716"
      ]
     },
     "execution_count": 90,
     "metadata": {},
     "output_type": "execute_result"
    }
   ],
   "source": [
    "scores_df = update_scorecard(xgb_model, 'XGBoost_Base', scores_df)\n",
    "scores_df"
   ]
  },
  {
   "cell_type": "markdown",
   "metadata": {},
   "source": [
    "### XGBoost Gridsearch"
   ]
  },
  {
   "cell_type": "markdown",
   "metadata": {},
   "source": [
    "XGBoost sees some moderate improvement on the cross validation score when compared to the baseline run with scores going from .768 to .764."
   ]
  },
  {
   "cell_type": "code",
   "execution_count": 91,
   "metadata": {
    "ExecuteTime": {
     "end_time": "2023-02-15T14:59:18.669158Z",
     "start_time": "2023-02-15T14:54:09.295365Z"
    },
    "scrolled": true
   },
   "outputs": [
    {
     "name": "stdout",
     "output_type": "stream",
     "text": [
      "Fitting 5 folds for each of 16 candidates, totalling 80 fits\n"
     ]
    }
   ],
   "source": [
    "xgb_params = {\n",
    "    'xgb__learning_rate':[.1, .05, .2, .3],\n",
    "    'xgb__n_estimators':[100, 200, 300, 400]\n",
    "}\n",
    "xgb_gs = GridSearchCV(estimator=xgb_model, \n",
    "                      param_grid=xgb_params, \n",
    "                      scoring=regional_scorer, \n",
    "                      cv=5, \n",
    "                      verbose=1)\n",
    "\n",
    "xgb_gs.fit(X_train, y_train_adj);"
   ]
  },
  {
   "cell_type": "code",
   "execution_count": 92,
   "metadata": {
    "ExecuteTime": {
     "end_time": "2023-02-15T14:59:18.684669Z",
     "start_time": "2023-02-15T14:59:18.670158Z"
    }
   },
   "outputs": [
    {
     "data": {
      "text/plain": [
       "{'xgb__learning_rate': 0.2, 'xgb__n_estimators': 200}"
      ]
     },
     "execution_count": 92,
     "metadata": {},
     "output_type": "execute_result"
    }
   ],
   "source": [
    "xgb_gs.best_params_"
   ]
  },
  {
   "cell_type": "code",
   "execution_count": 93,
   "metadata": {
    "ExecuteTime": {
     "end_time": "2023-02-15T14:59:18.699687Z",
     "start_time": "2023-02-15T14:59:18.685669Z"
    }
   },
   "outputs": [
    {
     "data": {
      "text/plain": [
       "-0.7645919304785711"
      ]
     },
     "execution_count": 93,
     "metadata": {},
     "output_type": "execute_result"
    }
   ],
   "source": [
    "xgb_gs.best_score_"
   ]
  },
  {
   "cell_type": "markdown",
   "metadata": {},
   "source": [
    "Updating the scorecard."
   ]
  },
  {
   "cell_type": "code",
   "execution_count": 94,
   "metadata": {
    "ExecuteTime": {
     "end_time": "2023-02-15T14:59:47.245619Z",
     "start_time": "2023-02-15T14:59:18.700688Z"
    }
   },
   "outputs": [
    {
     "name": "stdout",
     "output_type": "stream",
     "text": [
      "RMSE for south (n=2744): 0.894\n",
      "RMSE for midwest (n=626): 0.823\n",
      "RMSE for west (n=1030): 0.3978\n",
      "RMSE for northeast (n=309): 0.78\n",
      "Final score: 0.7236974579802316\n"
     ]
    },
    {
     "data": {
      "text/html": [
       "<div>\n",
       "<style scoped>\n",
       "    .dataframe tbody tr th:only-of-type {\n",
       "        vertical-align: middle;\n",
       "    }\n",
       "\n",
       "    .dataframe tbody tr th {\n",
       "        vertical-align: top;\n",
       "    }\n",
       "\n",
       "    .dataframe thead th {\n",
       "        text-align: right;\n",
       "    }\n",
       "</style>\n",
       "<table border=\"1\" class=\"dataframe\">\n",
       "  <thead>\n",
       "    <tr style=\"text-align: right;\">\n",
       "      <th></th>\n",
       "      <th>Model Name</th>\n",
       "      <th>CV_Train</th>\n",
       "      <th>CV_Test</th>\n",
       "      <th>Difference</th>\n",
       "      <th>Unseen Data</th>\n",
       "    </tr>\n",
       "  </thead>\n",
       "  <tbody>\n",
       "    <tr>\n",
       "      <th>0</th>\n",
       "      <td>dummy_model</td>\n",
       "      <td>1.658196</td>\n",
       "      <td>1.657582</td>\n",
       "      <td>Underfit: (0.001)</td>\n",
       "      <td>1.653806</td>\n",
       "    </tr>\n",
       "    <tr>\n",
       "      <th>1</th>\n",
       "      <td>LogReg_Base</td>\n",
       "      <td>1.658196</td>\n",
       "      <td>1.657582</td>\n",
       "      <td>Underfit: (0.001)</td>\n",
       "      <td>1.653806</td>\n",
       "    </tr>\n",
       "    <tr>\n",
       "      <th>2</th>\n",
       "      <td>LogReg_GS1</td>\n",
       "      <td>0.983089</td>\n",
       "      <td>0.984196</td>\n",
       "      <td>Overfit: (0.001)</td>\n",
       "      <td>0.952627</td>\n",
       "    </tr>\n",
       "    <tr>\n",
       "      <th>3</th>\n",
       "      <td>LogReg_GS2</td>\n",
       "      <td>0.978392</td>\n",
       "      <td>0.982059</td>\n",
       "      <td>Overfit: (0.004)</td>\n",
       "      <td>0.951622</td>\n",
       "    </tr>\n",
       "    <tr>\n",
       "      <th>4</th>\n",
       "      <td>LogReg_GS3</td>\n",
       "      <td>0.974411</td>\n",
       "      <td>0.981109</td>\n",
       "      <td>Overfit: (0.007)</td>\n",
       "      <td>0.952596</td>\n",
       "    </tr>\n",
       "    <tr>\n",
       "      <th>5</th>\n",
       "      <td>Random_Forest_Base</td>\n",
       "      <td>0.004530</td>\n",
       "      <td>0.836388</td>\n",
       "      <td>Overfit: (0.832)</td>\n",
       "      <td>0.773322</td>\n",
       "    </tr>\n",
       "    <tr>\n",
       "      <th>6</th>\n",
       "      <td>Random_Forest_GS1</td>\n",
       "      <td>0.052565</td>\n",
       "      <td>0.831655</td>\n",
       "      <td>Overfit: (0.779)</td>\n",
       "      <td>0.788095</td>\n",
       "    </tr>\n",
       "    <tr>\n",
       "      <th>7</th>\n",
       "      <td>Random_Forest_GS2</td>\n",
       "      <td>0.076151</td>\n",
       "      <td>0.814660</td>\n",
       "      <td>Overfit: (0.739)</td>\n",
       "      <td>0.775325</td>\n",
       "    </tr>\n",
       "    <tr>\n",
       "      <th>8</th>\n",
       "      <td>Random_Forest_GS3</td>\n",
       "      <td>0.067371</td>\n",
       "      <td>0.808106</td>\n",
       "      <td>Overfit: (0.741)</td>\n",
       "      <td>0.783564</td>\n",
       "    </tr>\n",
       "    <tr>\n",
       "      <th>9</th>\n",
       "      <td>XGBoost_Base</td>\n",
       "      <td>0.271705</td>\n",
       "      <td>0.768674</td>\n",
       "      <td>Overfit: (0.497)</td>\n",
       "      <td>0.732716</td>\n",
       "    </tr>\n",
       "    <tr>\n",
       "      <th>10</th>\n",
       "      <td>XGBoost_GS</td>\n",
       "      <td>0.211160</td>\n",
       "      <td>0.764592</td>\n",
       "      <td>Overfit: (0.553)</td>\n",
       "      <td>0.723697</td>\n",
       "    </tr>\n",
       "  </tbody>\n",
       "</table>\n",
       "</div>"
      ],
      "text/plain": [
       "            Model Name  CV_Train   CV_Test         Difference  Unseen Data\n",
       "0          dummy_model  1.658196  1.657582  Underfit: (0.001)     1.653806\n",
       "1          LogReg_Base  1.658196  1.657582  Underfit: (0.001)     1.653806\n",
       "2           LogReg_GS1  0.983089  0.984196   Overfit: (0.001)     0.952627\n",
       "3           LogReg_GS2  0.978392  0.982059   Overfit: (0.004)     0.951622\n",
       "4           LogReg_GS3  0.974411  0.981109   Overfit: (0.007)     0.952596\n",
       "5   Random_Forest_Base  0.004530  0.836388   Overfit: (0.832)     0.773322\n",
       "6    Random_Forest_GS1  0.052565  0.831655   Overfit: (0.779)     0.788095\n",
       "7    Random_Forest_GS2  0.076151  0.814660   Overfit: (0.739)     0.775325\n",
       "8    Random_Forest_GS3  0.067371  0.808106   Overfit: (0.741)     0.783564\n",
       "9         XGBoost_Base  0.271705  0.768674   Overfit: (0.497)     0.732716\n",
       "10          XGBoost_GS  0.211160  0.764592   Overfit: (0.553)     0.723697"
      ]
     },
     "execution_count": 94,
     "metadata": {},
     "output_type": "execute_result"
    }
   ],
   "source": [
    "scores_df = update_scorecard(xgb_gs.best_estimator_, 'XGBoost_GS', scores_df)\n",
    "scores_df"
   ]
  },
  {
   "cell_type": "markdown",
   "metadata": {},
   "source": [
    "### Best XGBoost Model"
   ]
  },
  {
   "cell_type": "markdown",
   "metadata": {},
   "source": [
    "The XGBoost final model is scoring better on cross validated data and on the unseen validation data with the validated data improving from .732 to .723. That being said, the model is even more over fit on training data than when just using the baseline XGB model with cross validated training results coming in at .211."
   ]
  },
  {
   "cell_type": "code",
   "execution_count": 95,
   "metadata": {
    "ExecuteTime": {
     "end_time": "2023-02-15T14:59:47.260932Z",
     "start_time": "2023-02-15T14:59:47.246569Z"
    }
   },
   "outputs": [],
   "source": [
    "best_xgb_model = Pipeline([\n",
    "    ('ColTrans', ColTrans),\n",
    "    ('xgb', XGBClassifier(learning_rate= 0.2,\n",
    "                          n_estimators = 200,\n",
    "                          random_state=42))\n",
    "])"
   ]
  },
  {
   "cell_type": "code",
   "execution_count": 96,
   "metadata": {
    "ExecuteTime": {
     "end_time": "2023-02-15T15:00:10.619401Z",
     "start_time": "2023-02-15T14:59:47.261933Z"
    }
   },
   "outputs": [],
   "source": [
    "best_xgb_cv = cross_validate(best_xgb_model, \n",
    "                             X_train, \n",
    "                             y_train_adj, \n",
    "                             scoring=regional_scorer, \n",
    "                             return_train_score=True)"
   ]
  },
  {
   "cell_type": "code",
   "execution_count": 97,
   "metadata": {
    "ExecuteTime": {
     "end_time": "2023-02-15T15:00:10.634360Z",
     "start_time": "2023-02-15T15:00:10.620906Z"
    }
   },
   "outputs": [
    {
     "name": "stdout",
     "output_type": "stream",
     "text": [
      "Train: -0.21116028380884452\n",
      "Test: -0.7645919304785711\n"
     ]
    },
    {
     "data": {
      "text/plain": [
       "{'fit_time': array([3.10522079, 3.12456632, 3.05047655, 2.98119473, 3.09581232]),\n",
       " 'score_time': array([0.33972359, 0.34209323, 0.28432322, 0.3395443 , 0.34049535]),\n",
       " 'test_score': array([-0.80036305, -0.75295327, -0.71766184, -0.77744225, -0.77453924]),\n",
       " 'train_score': array([-0.20585199, -0.20828675, -0.22562312, -0.21283745, -0.2032021 ])}"
      ]
     },
     "execution_count": 97,
     "metadata": {},
     "output_type": "execute_result"
    }
   ],
   "source": [
    "print(f\"Train: {best_xgb_cv['train_score'].mean()}\")\n",
    "print(f\"Test: {best_xgb_cv['test_score'].mean()}\")\n",
    "best_xgb_cv"
   ]
  },
  {
   "cell_type": "markdown",
   "metadata": {},
   "source": [
    "**Testing on Validation Data**"
   ]
  },
  {
   "cell_type": "code",
   "execution_count": 98,
   "metadata": {
    "ExecuteTime": {
     "end_time": "2023-02-15T15:00:14.770734Z",
     "start_time": "2023-02-15T15:00:10.635360Z"
    }
   },
   "outputs": [],
   "source": [
    "best_xgb_model.fit(X_train, y_train_adj);"
   ]
  },
  {
   "cell_type": "code",
   "execution_count": 99,
   "metadata": {
    "ExecuteTime": {
     "end_time": "2023-02-15T15:00:15.522161Z",
     "start_time": "2023-02-15T15:00:14.771737Z"
    }
   },
   "outputs": [],
   "source": [
    "best_xgb_gs_val_pred = best_xgb_model.predict(X_val)\n",
    "best_xgb_gs_val_pred = best_xgb_gs_val_pred+1"
   ]
  },
  {
   "cell_type": "code",
   "execution_count": 100,
   "metadata": {
    "ExecuteTime": {
     "end_time": "2023-02-15T15:00:15.537726Z",
     "start_time": "2023-02-15T15:00:15.523162Z"
    }
   },
   "outputs": [
    {
     "name": "stdout",
     "output_type": "stream",
     "text": [
      "RMSE for south (n=2744): 0.894\n",
      "RMSE for midwest (n=626): 0.823\n",
      "RMSE for west (n=1030): 0.3978\n",
      "RMSE for northeast (n=309): 0.78\n",
      "Final score: 0.7236974579802316\n"
     ]
    },
    {
     "data": {
      "text/plain": [
       "0.7236974579802316"
      ]
     },
     "execution_count": 100,
     "metadata": {},
     "output_type": "execute_result"
    }
   ],
   "source": [
    "check_score(val_score, best_xgb_gs_val_pred)"
   ]
  },
  {
   "cell_type": "markdown",
   "metadata": {},
   "source": [
    "## LinearSVC Model"
   ]
  },
  {
   "cell_type": "markdown",
   "metadata": {},
   "source": [
    "LinearSVC does not perform well with this dataset and scored 1.48 on cross validated test data. I will attempt a GridSearch to improve results."
   ]
  },
  {
   "cell_type": "code",
   "execution_count": 101,
   "metadata": {
    "ExecuteTime": {
     "end_time": "2023-02-15T15:00:15.552746Z",
     "start_time": "2023-02-15T15:00:15.538728Z"
    }
   },
   "outputs": [],
   "source": [
    "svc_model = Pipeline([\n",
    "    ('ColTrans', ColTrans),\n",
    "    ('svc', LinearSVC(random_state=42))\n",
    "])"
   ]
  },
  {
   "cell_type": "code",
   "execution_count": 102,
   "metadata": {
    "ExecuteTime": {
     "end_time": "2023-02-15T15:00:21.526441Z",
     "start_time": "2023-02-15T15:00:15.553746Z"
    }
   },
   "outputs": [],
   "source": [
    "svc_model.fit(X_train, y_train);"
   ]
  },
  {
   "cell_type": "code",
   "execution_count": 103,
   "metadata": {
    "ExecuteTime": {
     "end_time": "2023-02-15T15:00:22.270998Z",
     "start_time": "2023-02-15T15:00:21.527442Z"
    }
   },
   "outputs": [
    {
     "data": {
      "text/plain": [
       "0.4332129963898917"
      ]
     },
     "execution_count": 103,
     "metadata": {},
     "output_type": "execute_result"
    }
   ],
   "source": [
    "svc_model.score(X_val, y_val)"
   ]
  },
  {
   "cell_type": "code",
   "execution_count": 104,
   "metadata": {
    "ExecuteTime": {
     "end_time": "2023-02-15T15:00:23.033615Z",
     "start_time": "2023-02-15T15:00:22.272002Z"
    }
   },
   "outputs": [],
   "source": [
    "svc_pred = svc_model.predict(X_val)"
   ]
  },
  {
   "cell_type": "code",
   "execution_count": 105,
   "metadata": {
    "ExecuteTime": {
     "end_time": "2023-02-15T15:00:23.048742Z",
     "start_time": "2023-02-15T15:00:23.034615Z"
    }
   },
   "outputs": [
    {
     "name": "stdout",
     "output_type": "stream",
     "text": [
      "RMSE for south (n=2744): 0.9751\n",
      "RMSE for midwest (n=626): 1.5982\n",
      "RMSE for west (n=1030): 2.8527\n",
      "RMSE for northeast (n=309): 1.1892\n",
      "Final score: 1.6538061708774303\n"
     ]
    },
    {
     "data": {
      "text/plain": [
       "1.6538061708774303"
      ]
     },
     "execution_count": 105,
     "metadata": {},
     "output_type": "execute_result"
    }
   ],
   "source": [
    "check_score(val_score, svc_pred)"
   ]
  },
  {
   "cell_type": "code",
   "execution_count": 106,
   "metadata": {
    "ExecuteTime": {
     "end_time": "2023-02-15T15:00:52.765150Z",
     "start_time": "2023-02-15T15:00:23.049244Z"
    }
   },
   "outputs": [],
   "source": [
    "svc_cv = cross_validate(svc_model, \n",
    "                        X_train, \n",
    "                        y_train, \n",
    "                        scoring=regional_scorer, \n",
    "                        return_train_score=True)"
   ]
  },
  {
   "cell_type": "code",
   "execution_count": 107,
   "metadata": {
    "ExecuteTime": {
     "end_time": "2023-02-15T15:00:52.781149Z",
     "start_time": "2023-02-15T15:00:52.766100Z"
    }
   },
   "outputs": [
    {
     "name": "stdout",
     "output_type": "stream",
     "text": [
      "Train: -1.4762110688311139\n",
      "Test: -1.4867126514015816\n"
     ]
    },
    {
     "data": {
      "text/plain": [
       "{'fit_time': array([4.33272767, 4.41260242, 4.35159993, 4.33243275, 4.41722202]),\n",
       " 'score_time': array([0.31718206, 0.30801511, 0.26523089, 0.32326651, 0.32066178]),\n",
       " 'test_score': array([-1.37439214, -1.98060022, -1.20816215, -1.65495332, -1.21545543]),\n",
       " 'train_score': array([-1.37929896, -1.94271165, -1.20098151, -1.65907389, -1.19898933])}"
      ]
     },
     "execution_count": 107,
     "metadata": {},
     "output_type": "execute_result"
    }
   ],
   "source": [
    "print(f\"Train: {svc_cv['train_score'].mean()}\")\n",
    "print(f\"Test: {svc_cv['test_score'].mean()}\")\n",
    "svc_cv"
   ]
  },
  {
   "cell_type": "markdown",
   "metadata": {},
   "source": [
    "Updating the scorecard."
   ]
  },
  {
   "cell_type": "code",
   "execution_count": 108,
   "metadata": {
    "ExecuteTime": {
     "end_time": "2023-02-15T15:01:29.696609Z",
     "start_time": "2023-02-15T15:00:52.782151Z"
    }
   },
   "outputs": [
    {
     "name": "stdout",
     "output_type": "stream",
     "text": [
      "RMSE for south (n=2744): 0.9751\n",
      "RMSE for midwest (n=626): 1.5982\n",
      "RMSE for west (n=1030): 2.8527\n",
      "RMSE for northeast (n=309): 1.1892\n",
      "Final score: 1.6538061708774303\n"
     ]
    },
    {
     "data": {
      "text/html": [
       "<div>\n",
       "<style scoped>\n",
       "    .dataframe tbody tr th:only-of-type {\n",
       "        vertical-align: middle;\n",
       "    }\n",
       "\n",
       "    .dataframe tbody tr th {\n",
       "        vertical-align: top;\n",
       "    }\n",
       "\n",
       "    .dataframe thead th {\n",
       "        text-align: right;\n",
       "    }\n",
       "</style>\n",
       "<table border=\"1\" class=\"dataframe\">\n",
       "  <thead>\n",
       "    <tr style=\"text-align: right;\">\n",
       "      <th></th>\n",
       "      <th>Model Name</th>\n",
       "      <th>CV_Train</th>\n",
       "      <th>CV_Test</th>\n",
       "      <th>Difference</th>\n",
       "      <th>Unseen Data</th>\n",
       "    </tr>\n",
       "  </thead>\n",
       "  <tbody>\n",
       "    <tr>\n",
       "      <th>0</th>\n",
       "      <td>dummy_model</td>\n",
       "      <td>1.658196</td>\n",
       "      <td>1.657582</td>\n",
       "      <td>Underfit: (0.001)</td>\n",
       "      <td>1.653806</td>\n",
       "    </tr>\n",
       "    <tr>\n",
       "      <th>1</th>\n",
       "      <td>LogReg_Base</td>\n",
       "      <td>1.658196</td>\n",
       "      <td>1.657582</td>\n",
       "      <td>Underfit: (0.001)</td>\n",
       "      <td>1.653806</td>\n",
       "    </tr>\n",
       "    <tr>\n",
       "      <th>2</th>\n",
       "      <td>LogReg_GS1</td>\n",
       "      <td>0.983089</td>\n",
       "      <td>0.984196</td>\n",
       "      <td>Overfit: (0.001)</td>\n",
       "      <td>0.952627</td>\n",
       "    </tr>\n",
       "    <tr>\n",
       "      <th>3</th>\n",
       "      <td>LogReg_GS2</td>\n",
       "      <td>0.978392</td>\n",
       "      <td>0.982059</td>\n",
       "      <td>Overfit: (0.004)</td>\n",
       "      <td>0.951622</td>\n",
       "    </tr>\n",
       "    <tr>\n",
       "      <th>4</th>\n",
       "      <td>LogReg_GS3</td>\n",
       "      <td>0.974411</td>\n",
       "      <td>0.981109</td>\n",
       "      <td>Overfit: (0.007)</td>\n",
       "      <td>0.952596</td>\n",
       "    </tr>\n",
       "    <tr>\n",
       "      <th>5</th>\n",
       "      <td>Random_Forest_Base</td>\n",
       "      <td>0.004530</td>\n",
       "      <td>0.836388</td>\n",
       "      <td>Overfit: (0.832)</td>\n",
       "      <td>0.773322</td>\n",
       "    </tr>\n",
       "    <tr>\n",
       "      <th>6</th>\n",
       "      <td>Random_Forest_GS1</td>\n",
       "      <td>0.052565</td>\n",
       "      <td>0.831655</td>\n",
       "      <td>Overfit: (0.779)</td>\n",
       "      <td>0.788095</td>\n",
       "    </tr>\n",
       "    <tr>\n",
       "      <th>7</th>\n",
       "      <td>Random_Forest_GS2</td>\n",
       "      <td>0.076151</td>\n",
       "      <td>0.814660</td>\n",
       "      <td>Overfit: (0.739)</td>\n",
       "      <td>0.775325</td>\n",
       "    </tr>\n",
       "    <tr>\n",
       "      <th>8</th>\n",
       "      <td>Random_Forest_GS3</td>\n",
       "      <td>0.067371</td>\n",
       "      <td>0.808106</td>\n",
       "      <td>Overfit: (0.741)</td>\n",
       "      <td>0.783564</td>\n",
       "    </tr>\n",
       "    <tr>\n",
       "      <th>9</th>\n",
       "      <td>XGBoost_Base</td>\n",
       "      <td>0.271705</td>\n",
       "      <td>0.768674</td>\n",
       "      <td>Overfit: (0.497)</td>\n",
       "      <td>0.732716</td>\n",
       "    </tr>\n",
       "    <tr>\n",
       "      <th>10</th>\n",
       "      <td>XGBoost_GS</td>\n",
       "      <td>0.211160</td>\n",
       "      <td>0.764592</td>\n",
       "      <td>Overfit: (0.553)</td>\n",
       "      <td>0.723697</td>\n",
       "    </tr>\n",
       "    <tr>\n",
       "      <th>11</th>\n",
       "      <td>SVC_Base</td>\n",
       "      <td>1.476211</td>\n",
       "      <td>1.486713</td>\n",
       "      <td>Overfit: (0.011)</td>\n",
       "      <td>1.653806</td>\n",
       "    </tr>\n",
       "  </tbody>\n",
       "</table>\n",
       "</div>"
      ],
      "text/plain": [
       "            Model Name  CV_Train   CV_Test         Difference  Unseen Data\n",
       "0          dummy_model  1.658196  1.657582  Underfit: (0.001)     1.653806\n",
       "1          LogReg_Base  1.658196  1.657582  Underfit: (0.001)     1.653806\n",
       "2           LogReg_GS1  0.983089  0.984196   Overfit: (0.001)     0.952627\n",
       "3           LogReg_GS2  0.978392  0.982059   Overfit: (0.004)     0.951622\n",
       "4           LogReg_GS3  0.974411  0.981109   Overfit: (0.007)     0.952596\n",
       "5   Random_Forest_Base  0.004530  0.836388   Overfit: (0.832)     0.773322\n",
       "6    Random_Forest_GS1  0.052565  0.831655   Overfit: (0.779)     0.788095\n",
       "7    Random_Forest_GS2  0.076151  0.814660   Overfit: (0.739)     0.775325\n",
       "8    Random_Forest_GS3  0.067371  0.808106   Overfit: (0.741)     0.783564\n",
       "9         XGBoost_Base  0.271705  0.768674   Overfit: (0.497)     0.732716\n",
       "10          XGBoost_GS  0.211160  0.764592   Overfit: (0.553)     0.723697\n",
       "11            SVC_Base  1.476211  1.486713   Overfit: (0.011)     1.653806"
      ]
     },
     "execution_count": 108,
     "metadata": {},
     "output_type": "execute_result"
    }
   ],
   "source": [
    "scores_df = update_scorecard(svc_model, 'SVC_Base', scores_df)\n",
    "scores_df"
   ]
  },
  {
   "cell_type": "markdown",
   "metadata": {},
   "source": [
    "### SVC GridSearch"
   ]
  },
  {
   "cell_type": "markdown",
   "metadata": {},
   "source": [
    "LinearSVC GridSearch did not improve results. I will not be attempting any further modeling or making a best SVC Model."
   ]
  },
  {
   "cell_type": "code",
   "execution_count": 109,
   "metadata": {
    "ExecuteTime": {
     "end_time": "2023-02-15T15:02:27.667551Z",
     "start_time": "2023-02-15T15:01:29.697610Z"
    }
   },
   "outputs": [
    {
     "name": "stdout",
     "output_type": "stream",
     "text": [
      "Fitting 5 folds for each of 4 candidates, totalling 20 fits\n"
     ]
    }
   ],
   "source": [
    "svc_params = {\n",
    "    'svc__fit_intercept':[True, False],\n",
    "    'svc__class_weight':[None, 'balanced']\n",
    "}\n",
    "svc_gs = GridSearchCV(estimator=svc_model, \n",
    "                      param_grid=svc_params, \n",
    "                      scoring=regional_scorer, \n",
    "                      cv=5, \n",
    "                      verbose=1,\n",
    "                      n_jobs=2)\n",
    "\n",
    "svc_gs.fit(X_train, y_train);"
   ]
  },
  {
   "cell_type": "code",
   "execution_count": 110,
   "metadata": {
    "ExecuteTime": {
     "end_time": "2023-02-15T15:02:27.683635Z",
     "start_time": "2023-02-15T15:02:27.668557Z"
    }
   },
   "outputs": [
    {
     "data": {
      "text/plain": [
       "{'svc__class_weight': None, 'svc__fit_intercept': True}"
      ]
     },
     "execution_count": 110,
     "metadata": {},
     "output_type": "execute_result"
    }
   ],
   "source": [
    "svc_gs.best_params_"
   ]
  },
  {
   "cell_type": "code",
   "execution_count": 111,
   "metadata": {
    "ExecuteTime": {
     "end_time": "2023-02-15T15:02:27.698387Z",
     "start_time": "2023-02-15T15:02:27.684564Z"
    }
   },
   "outputs": [
    {
     "data": {
      "text/plain": [
       "-1.4867126514015816"
      ]
     },
     "execution_count": 111,
     "metadata": {},
     "output_type": "execute_result"
    }
   ],
   "source": [
    "svc_gs.best_score_"
   ]
  },
  {
   "cell_type": "markdown",
   "metadata": {},
   "source": [
    "Updating the scorecard."
   ]
  },
  {
   "cell_type": "code",
   "execution_count": 112,
   "metadata": {
    "ExecuteTime": {
     "end_time": "2023-02-15T15:03:04.636164Z",
     "start_time": "2023-02-15T15:02:27.699391Z"
    }
   },
   "outputs": [
    {
     "name": "stdout",
     "output_type": "stream",
     "text": [
      "RMSE for south (n=2744): 0.9751\n",
      "RMSE for midwest (n=626): 1.5982\n",
      "RMSE for west (n=1030): 2.8527\n",
      "RMSE for northeast (n=309): 1.1892\n",
      "Final score: 1.6538061708774303\n"
     ]
    },
    {
     "data": {
      "text/html": [
       "<div>\n",
       "<style scoped>\n",
       "    .dataframe tbody tr th:only-of-type {\n",
       "        vertical-align: middle;\n",
       "    }\n",
       "\n",
       "    .dataframe tbody tr th {\n",
       "        vertical-align: top;\n",
       "    }\n",
       "\n",
       "    .dataframe thead th {\n",
       "        text-align: right;\n",
       "    }\n",
       "</style>\n",
       "<table border=\"1\" class=\"dataframe\">\n",
       "  <thead>\n",
       "    <tr style=\"text-align: right;\">\n",
       "      <th></th>\n",
       "      <th>Model Name</th>\n",
       "      <th>CV_Train</th>\n",
       "      <th>CV_Test</th>\n",
       "      <th>Difference</th>\n",
       "      <th>Unseen Data</th>\n",
       "    </tr>\n",
       "  </thead>\n",
       "  <tbody>\n",
       "    <tr>\n",
       "      <th>0</th>\n",
       "      <td>dummy_model</td>\n",
       "      <td>1.658196</td>\n",
       "      <td>1.657582</td>\n",
       "      <td>Underfit: (0.001)</td>\n",
       "      <td>1.653806</td>\n",
       "    </tr>\n",
       "    <tr>\n",
       "      <th>1</th>\n",
       "      <td>LogReg_Base</td>\n",
       "      <td>1.658196</td>\n",
       "      <td>1.657582</td>\n",
       "      <td>Underfit: (0.001)</td>\n",
       "      <td>1.653806</td>\n",
       "    </tr>\n",
       "    <tr>\n",
       "      <th>2</th>\n",
       "      <td>LogReg_GS1</td>\n",
       "      <td>0.983089</td>\n",
       "      <td>0.984196</td>\n",
       "      <td>Overfit: (0.001)</td>\n",
       "      <td>0.952627</td>\n",
       "    </tr>\n",
       "    <tr>\n",
       "      <th>3</th>\n",
       "      <td>LogReg_GS2</td>\n",
       "      <td>0.978392</td>\n",
       "      <td>0.982059</td>\n",
       "      <td>Overfit: (0.004)</td>\n",
       "      <td>0.951622</td>\n",
       "    </tr>\n",
       "    <tr>\n",
       "      <th>4</th>\n",
       "      <td>LogReg_GS3</td>\n",
       "      <td>0.974411</td>\n",
       "      <td>0.981109</td>\n",
       "      <td>Overfit: (0.007)</td>\n",
       "      <td>0.952596</td>\n",
       "    </tr>\n",
       "    <tr>\n",
       "      <th>5</th>\n",
       "      <td>Random_Forest_Base</td>\n",
       "      <td>0.004530</td>\n",
       "      <td>0.836388</td>\n",
       "      <td>Overfit: (0.832)</td>\n",
       "      <td>0.773322</td>\n",
       "    </tr>\n",
       "    <tr>\n",
       "      <th>6</th>\n",
       "      <td>Random_Forest_GS1</td>\n",
       "      <td>0.052565</td>\n",
       "      <td>0.831655</td>\n",
       "      <td>Overfit: (0.779)</td>\n",
       "      <td>0.788095</td>\n",
       "    </tr>\n",
       "    <tr>\n",
       "      <th>7</th>\n",
       "      <td>Random_Forest_GS2</td>\n",
       "      <td>0.076151</td>\n",
       "      <td>0.814660</td>\n",
       "      <td>Overfit: (0.739)</td>\n",
       "      <td>0.775325</td>\n",
       "    </tr>\n",
       "    <tr>\n",
       "      <th>8</th>\n",
       "      <td>Random_Forest_GS3</td>\n",
       "      <td>0.067371</td>\n",
       "      <td>0.808106</td>\n",
       "      <td>Overfit: (0.741)</td>\n",
       "      <td>0.783564</td>\n",
       "    </tr>\n",
       "    <tr>\n",
       "      <th>9</th>\n",
       "      <td>XGBoost_Base</td>\n",
       "      <td>0.271705</td>\n",
       "      <td>0.768674</td>\n",
       "      <td>Overfit: (0.497)</td>\n",
       "      <td>0.732716</td>\n",
       "    </tr>\n",
       "    <tr>\n",
       "      <th>10</th>\n",
       "      <td>XGBoost_GS</td>\n",
       "      <td>0.211160</td>\n",
       "      <td>0.764592</td>\n",
       "      <td>Overfit: (0.553)</td>\n",
       "      <td>0.723697</td>\n",
       "    </tr>\n",
       "    <tr>\n",
       "      <th>11</th>\n",
       "      <td>SVC_Base</td>\n",
       "      <td>1.476211</td>\n",
       "      <td>1.486713</td>\n",
       "      <td>Overfit: (0.011)</td>\n",
       "      <td>1.653806</td>\n",
       "    </tr>\n",
       "    <tr>\n",
       "      <th>12</th>\n",
       "      <td>SVC_GS</td>\n",
       "      <td>1.476211</td>\n",
       "      <td>1.486713</td>\n",
       "      <td>Overfit: (0.011)</td>\n",
       "      <td>1.653806</td>\n",
       "    </tr>\n",
       "  </tbody>\n",
       "</table>\n",
       "</div>"
      ],
      "text/plain": [
       "            Model Name  CV_Train   CV_Test         Difference  Unseen Data\n",
       "0          dummy_model  1.658196  1.657582  Underfit: (0.001)     1.653806\n",
       "1          LogReg_Base  1.658196  1.657582  Underfit: (0.001)     1.653806\n",
       "2           LogReg_GS1  0.983089  0.984196   Overfit: (0.001)     0.952627\n",
       "3           LogReg_GS2  0.978392  0.982059   Overfit: (0.004)     0.951622\n",
       "4           LogReg_GS3  0.974411  0.981109   Overfit: (0.007)     0.952596\n",
       "5   Random_Forest_Base  0.004530  0.836388   Overfit: (0.832)     0.773322\n",
       "6    Random_Forest_GS1  0.052565  0.831655   Overfit: (0.779)     0.788095\n",
       "7    Random_Forest_GS2  0.076151  0.814660   Overfit: (0.739)     0.775325\n",
       "8    Random_Forest_GS3  0.067371  0.808106   Overfit: (0.741)     0.783564\n",
       "9         XGBoost_Base  0.271705  0.768674   Overfit: (0.497)     0.732716\n",
       "10          XGBoost_GS  0.211160  0.764592   Overfit: (0.553)     0.723697\n",
       "11            SVC_Base  1.476211  1.486713   Overfit: (0.011)     1.653806\n",
       "12              SVC_GS  1.476211  1.486713   Overfit: (0.011)     1.653806"
      ]
     },
     "execution_count": 112,
     "metadata": {},
     "output_type": "execute_result"
    }
   ],
   "source": [
    "scores_df = update_scorecard(svc_gs.best_estimator_, 'SVC_GS', scores_df)\n",
    "scores_df"
   ]
  },
  {
   "cell_type": "markdown",
   "metadata": {},
   "source": [
    "## MLP Model"
   ]
  },
  {
   "cell_type": "markdown",
   "metadata": {},
   "source": [
    "MLP performs about as well as the Dummy Model on both test and training data. I will attempt to GridSearch the model to improve results."
   ]
  },
  {
   "cell_type": "code",
   "execution_count": 113,
   "metadata": {
    "ExecuteTime": {
     "end_time": "2023-02-15T15:03:04.651181Z",
     "start_time": "2023-02-15T15:03:04.637162Z"
    }
   },
   "outputs": [],
   "source": [
    "mlp_model = Pipeline([\n",
    "    ('ColTrans', ColTrans),\n",
    "    ('mlp', MLPClassifier(early_stopping=True, random_state=42))\n",
    "])"
   ]
  },
  {
   "cell_type": "code",
   "execution_count": 114,
   "metadata": {
    "ExecuteTime": {
     "end_time": "2023-02-15T15:03:07.095340Z",
     "start_time": "2023-02-15T15:03:04.652181Z"
    }
   },
   "outputs": [],
   "source": [
    "mlp_model.fit(X_train, y_train);"
   ]
  },
  {
   "cell_type": "code",
   "execution_count": 115,
   "metadata": {
    "ExecuteTime": {
     "end_time": "2023-02-15T15:03:07.897534Z",
     "start_time": "2023-02-15T15:03:07.096341Z"
    }
   },
   "outputs": [
    {
     "data": {
      "text/plain": [
       "0.4332129963898917"
      ]
     },
     "execution_count": 115,
     "metadata": {},
     "output_type": "execute_result"
    }
   ],
   "source": [
    "mlp_model.score(X_val, y_val)"
   ]
  },
  {
   "cell_type": "code",
   "execution_count": 116,
   "metadata": {
    "ExecuteTime": {
     "end_time": "2023-02-15T15:03:08.670838Z",
     "start_time": "2023-02-15T15:03:07.897534Z"
    }
   },
   "outputs": [],
   "source": [
    "mlp_val_pred = mlp_model.predict(X_val)"
   ]
  },
  {
   "cell_type": "code",
   "execution_count": 117,
   "metadata": {
    "ExecuteTime": {
     "end_time": "2023-02-15T15:03:08.686346Z",
     "start_time": "2023-02-15T15:03:08.671839Z"
    }
   },
   "outputs": [
    {
     "name": "stdout",
     "output_type": "stream",
     "text": [
      "RMSE for south (n=2744): 0.9751\n",
      "RMSE for midwest (n=626): 1.5982\n",
      "RMSE for west (n=1030): 2.8527\n",
      "RMSE for northeast (n=309): 1.1892\n",
      "Final score: 1.6538061708774303\n"
     ]
    },
    {
     "data": {
      "text/plain": [
       "1.6538061708774303"
      ]
     },
     "execution_count": 117,
     "metadata": {},
     "output_type": "execute_result"
    }
   ],
   "source": [
    "check_score(val_score, mlp_val_pred)"
   ]
  },
  {
   "cell_type": "code",
   "execution_count": 118,
   "metadata": {
    "ExecuteTime": {
     "end_time": "2023-02-15T15:03:24.220750Z",
     "start_time": "2023-02-15T15:03:08.687346Z"
    }
   },
   "outputs": [],
   "source": [
    "mlp_cv = cross_validate(mlp_model, \n",
    "                        X_train, \n",
    "                        y_train, \n",
    "                        scoring=regional_scorer, \n",
    "                        return_train_score=True)"
   ]
  },
  {
   "cell_type": "code",
   "execution_count": 119,
   "metadata": {
    "ExecuteTime": {
     "end_time": "2023-02-15T15:03:24.236813Z",
     "start_time": "2023-02-15T15:03:24.221749Z"
    }
   },
   "outputs": [
    {
     "name": "stdout",
     "output_type": "stream",
     "text": [
      "Train: -1.658196064281532\n",
      "Test: -1.6575819051725245\n"
     ]
    },
    {
     "data": {
      "text/plain": [
       "{'fit_time': array([1.47002935, 1.61151934, 1.49399066, 1.45143342, 1.51601028]),\n",
       " 'score_time': array([0.32458496, 0.31403565, 0.25779533, 0.33190417, 0.33066416]),\n",
       " 'test_score': array([-1.64969162, -1.62809574, -1.66571971, -1.65495332, -1.68944913]),\n",
       " 'train_score': array([-1.65997003, -1.66581971, -1.65633035, -1.65907389, -1.64978634])}"
      ]
     },
     "execution_count": 119,
     "metadata": {},
     "output_type": "execute_result"
    }
   ],
   "source": [
    "print(f\"Train: {mlp_cv['train_score'].mean()}\")\n",
    "print(f\"Test: {mlp_cv['test_score'].mean()}\")\n",
    "mlp_cv"
   ]
  },
  {
   "cell_type": "markdown",
   "metadata": {},
   "source": [
    "Updating the scorecard."
   ]
  },
  {
   "cell_type": "code",
   "execution_count": 120,
   "metadata": {
    "ExecuteTime": {
     "end_time": "2023-02-15T15:03:42.927585Z",
     "start_time": "2023-02-15T15:03:24.237765Z"
    }
   },
   "outputs": [
    {
     "name": "stdout",
     "output_type": "stream",
     "text": [
      "RMSE for south (n=2744): 0.9751\n",
      "RMSE for midwest (n=626): 1.5982\n",
      "RMSE for west (n=1030): 2.8527\n",
      "RMSE for northeast (n=309): 1.1892\n",
      "Final score: 1.6538061708774303\n"
     ]
    },
    {
     "data": {
      "text/html": [
       "<div>\n",
       "<style scoped>\n",
       "    .dataframe tbody tr th:only-of-type {\n",
       "        vertical-align: middle;\n",
       "    }\n",
       "\n",
       "    .dataframe tbody tr th {\n",
       "        vertical-align: top;\n",
       "    }\n",
       "\n",
       "    .dataframe thead th {\n",
       "        text-align: right;\n",
       "    }\n",
       "</style>\n",
       "<table border=\"1\" class=\"dataframe\">\n",
       "  <thead>\n",
       "    <tr style=\"text-align: right;\">\n",
       "      <th></th>\n",
       "      <th>Model Name</th>\n",
       "      <th>CV_Train</th>\n",
       "      <th>CV_Test</th>\n",
       "      <th>Difference</th>\n",
       "      <th>Unseen Data</th>\n",
       "    </tr>\n",
       "  </thead>\n",
       "  <tbody>\n",
       "    <tr>\n",
       "      <th>0</th>\n",
       "      <td>dummy_model</td>\n",
       "      <td>1.658196</td>\n",
       "      <td>1.657582</td>\n",
       "      <td>Underfit: (0.001)</td>\n",
       "      <td>1.653806</td>\n",
       "    </tr>\n",
       "    <tr>\n",
       "      <th>1</th>\n",
       "      <td>LogReg_Base</td>\n",
       "      <td>1.658196</td>\n",
       "      <td>1.657582</td>\n",
       "      <td>Underfit: (0.001)</td>\n",
       "      <td>1.653806</td>\n",
       "    </tr>\n",
       "    <tr>\n",
       "      <th>2</th>\n",
       "      <td>LogReg_GS1</td>\n",
       "      <td>0.983089</td>\n",
       "      <td>0.984196</td>\n",
       "      <td>Overfit: (0.001)</td>\n",
       "      <td>0.952627</td>\n",
       "    </tr>\n",
       "    <tr>\n",
       "      <th>3</th>\n",
       "      <td>LogReg_GS2</td>\n",
       "      <td>0.978392</td>\n",
       "      <td>0.982059</td>\n",
       "      <td>Overfit: (0.004)</td>\n",
       "      <td>0.951622</td>\n",
       "    </tr>\n",
       "    <tr>\n",
       "      <th>4</th>\n",
       "      <td>LogReg_GS3</td>\n",
       "      <td>0.974411</td>\n",
       "      <td>0.981109</td>\n",
       "      <td>Overfit: (0.007)</td>\n",
       "      <td>0.952596</td>\n",
       "    </tr>\n",
       "    <tr>\n",
       "      <th>5</th>\n",
       "      <td>Random_Forest_Base</td>\n",
       "      <td>0.004530</td>\n",
       "      <td>0.836388</td>\n",
       "      <td>Overfit: (0.832)</td>\n",
       "      <td>0.773322</td>\n",
       "    </tr>\n",
       "    <tr>\n",
       "      <th>6</th>\n",
       "      <td>Random_Forest_GS1</td>\n",
       "      <td>0.052565</td>\n",
       "      <td>0.831655</td>\n",
       "      <td>Overfit: (0.779)</td>\n",
       "      <td>0.788095</td>\n",
       "    </tr>\n",
       "    <tr>\n",
       "      <th>7</th>\n",
       "      <td>Random_Forest_GS2</td>\n",
       "      <td>0.076151</td>\n",
       "      <td>0.814660</td>\n",
       "      <td>Overfit: (0.739)</td>\n",
       "      <td>0.775325</td>\n",
       "    </tr>\n",
       "    <tr>\n",
       "      <th>8</th>\n",
       "      <td>Random_Forest_GS3</td>\n",
       "      <td>0.067371</td>\n",
       "      <td>0.808106</td>\n",
       "      <td>Overfit: (0.741)</td>\n",
       "      <td>0.783564</td>\n",
       "    </tr>\n",
       "    <tr>\n",
       "      <th>9</th>\n",
       "      <td>XGBoost_Base</td>\n",
       "      <td>0.271705</td>\n",
       "      <td>0.768674</td>\n",
       "      <td>Overfit: (0.497)</td>\n",
       "      <td>0.732716</td>\n",
       "    </tr>\n",
       "    <tr>\n",
       "      <th>10</th>\n",
       "      <td>XGBoost_GS</td>\n",
       "      <td>0.211160</td>\n",
       "      <td>0.764592</td>\n",
       "      <td>Overfit: (0.553)</td>\n",
       "      <td>0.723697</td>\n",
       "    </tr>\n",
       "    <tr>\n",
       "      <th>11</th>\n",
       "      <td>SVC_Base</td>\n",
       "      <td>1.476211</td>\n",
       "      <td>1.486713</td>\n",
       "      <td>Overfit: (0.011)</td>\n",
       "      <td>1.653806</td>\n",
       "    </tr>\n",
       "    <tr>\n",
       "      <th>12</th>\n",
       "      <td>SVC_GS</td>\n",
       "      <td>1.476211</td>\n",
       "      <td>1.486713</td>\n",
       "      <td>Overfit: (0.011)</td>\n",
       "      <td>1.653806</td>\n",
       "    </tr>\n",
       "    <tr>\n",
       "      <th>13</th>\n",
       "      <td>MLP_Base</td>\n",
       "      <td>1.658196</td>\n",
       "      <td>1.657582</td>\n",
       "      <td>Underfit: (0.001)</td>\n",
       "      <td>1.653806</td>\n",
       "    </tr>\n",
       "  </tbody>\n",
       "</table>\n",
       "</div>"
      ],
      "text/plain": [
       "            Model Name  CV_Train   CV_Test         Difference  Unseen Data\n",
       "0          dummy_model  1.658196  1.657582  Underfit: (0.001)     1.653806\n",
       "1          LogReg_Base  1.658196  1.657582  Underfit: (0.001)     1.653806\n",
       "2           LogReg_GS1  0.983089  0.984196   Overfit: (0.001)     0.952627\n",
       "3           LogReg_GS2  0.978392  0.982059   Overfit: (0.004)     0.951622\n",
       "4           LogReg_GS3  0.974411  0.981109   Overfit: (0.007)     0.952596\n",
       "5   Random_Forest_Base  0.004530  0.836388   Overfit: (0.832)     0.773322\n",
       "6    Random_Forest_GS1  0.052565  0.831655   Overfit: (0.779)     0.788095\n",
       "7    Random_Forest_GS2  0.076151  0.814660   Overfit: (0.739)     0.775325\n",
       "8    Random_Forest_GS3  0.067371  0.808106   Overfit: (0.741)     0.783564\n",
       "9         XGBoost_Base  0.271705  0.768674   Overfit: (0.497)     0.732716\n",
       "10          XGBoost_GS  0.211160  0.764592   Overfit: (0.553)     0.723697\n",
       "11            SVC_Base  1.476211  1.486713   Overfit: (0.011)     1.653806\n",
       "12              SVC_GS  1.476211  1.486713   Overfit: (0.011)     1.653806\n",
       "13            MLP_Base  1.658196  1.657582  Underfit: (0.001)     1.653806"
      ]
     },
     "execution_count": 120,
     "metadata": {},
     "output_type": "execute_result"
    }
   ],
   "source": [
    "scores_df = update_scorecard(mlp_model, 'MLP_Base', scores_df)\n",
    "scores_df"
   ]
  },
  {
   "cell_type": "markdown",
   "metadata": {},
   "source": [
    "### First MLPClassifier Gridsearch"
   ]
  },
  {
   "cell_type": "markdown",
   "metadata": {},
   "source": [
    "The first MLPClassifier GridSearch improved cross validated results from 1.657 to 1.293. I will attempt a second GridSearch to further improve the results."
   ]
  },
  {
   "cell_type": "code",
   "execution_count": 121,
   "metadata": {
    "ExecuteTime": {
     "end_time": "2023-02-15T15:05:59.945684Z",
     "start_time": "2023-02-15T15:03:42.928586Z"
    }
   },
   "outputs": [
    {
     "name": "stdout",
     "output_type": "stream",
     "text": [
      "Fitting 5 folds for each of 24 candidates, totalling 120 fits\n"
     ]
    }
   ],
   "source": [
    "mlp_params = {\n",
    "    'mlp__learning_rate':['constant', 'invscaling', 'adaptive'],\n",
    "    'mlp__activation':['relu', 'tanh'],\n",
    "    'mlp__hidden_layer_sizes':[(100,), \n",
    "                               (100, 40, 50, 10), \n",
    "                               (10, 40, 50), \n",
    "                               (40, 40, 40, 23)]\n",
    "}\n",
    "mlp_gs = GridSearchCV(estimator=mlp_model, \n",
    "                      param_grid=mlp_params, \n",
    "                      scoring=regional_scorer, \n",
    "                      cv=5, \n",
    "                      verbose=1, \n",
    "                      n_jobs=2)\n",
    "\n",
    "mlp_gs.fit(X_train, y_train);"
   ]
  },
  {
   "cell_type": "code",
   "execution_count": 122,
   "metadata": {
    "ExecuteTime": {
     "end_time": "2023-02-15T15:05:59.961361Z",
     "start_time": "2023-02-15T15:05:59.946687Z"
    }
   },
   "outputs": [
    {
     "data": {
      "text/plain": [
       "{'mlp__activation': 'relu',\n",
       " 'mlp__hidden_layer_sizes': (100, 40, 50, 10),\n",
       " 'mlp__learning_rate': 'constant'}"
      ]
     },
     "execution_count": 122,
     "metadata": {},
     "output_type": "execute_result"
    }
   ],
   "source": [
    "mlp_gs.best_params_"
   ]
  },
  {
   "cell_type": "code",
   "execution_count": 123,
   "metadata": {
    "ExecuteTime": {
     "end_time": "2023-02-15T15:05:59.976874Z",
     "start_time": "2023-02-15T15:05:59.962363Z"
    }
   },
   "outputs": [
    {
     "data": {
      "text/plain": [
       "-1.2935554220077328"
      ]
     },
     "execution_count": 123,
     "metadata": {},
     "output_type": "execute_result"
    }
   ],
   "source": [
    "mlp_gs.best_score_"
   ]
  },
  {
   "cell_type": "markdown",
   "metadata": {},
   "source": [
    "Updating the scorecard."
   ]
  },
  {
   "cell_type": "code",
   "execution_count": 124,
   "metadata": {
    "ExecuteTime": {
     "end_time": "2023-02-15T15:06:20.453301Z",
     "start_time": "2023-02-15T15:05:59.978376Z"
    }
   },
   "outputs": [
    {
     "name": "stdout",
     "output_type": "stream",
     "text": [
      "RMSE for south (n=2744): 0.9751\n",
      "RMSE for midwest (n=626): 1.5982\n",
      "RMSE for west (n=1030): 2.8527\n",
      "RMSE for northeast (n=309): 1.1892\n",
      "Final score: 1.6538061708774303\n"
     ]
    },
    {
     "data": {
      "text/html": [
       "<div>\n",
       "<style scoped>\n",
       "    .dataframe tbody tr th:only-of-type {\n",
       "        vertical-align: middle;\n",
       "    }\n",
       "\n",
       "    .dataframe tbody tr th {\n",
       "        vertical-align: top;\n",
       "    }\n",
       "\n",
       "    .dataframe thead th {\n",
       "        text-align: right;\n",
       "    }\n",
       "</style>\n",
       "<table border=\"1\" class=\"dataframe\">\n",
       "  <thead>\n",
       "    <tr style=\"text-align: right;\">\n",
       "      <th></th>\n",
       "      <th>Model Name</th>\n",
       "      <th>CV_Train</th>\n",
       "      <th>CV_Test</th>\n",
       "      <th>Difference</th>\n",
       "      <th>Unseen Data</th>\n",
       "    </tr>\n",
       "  </thead>\n",
       "  <tbody>\n",
       "    <tr>\n",
       "      <th>0</th>\n",
       "      <td>dummy_model</td>\n",
       "      <td>1.658196</td>\n",
       "      <td>1.657582</td>\n",
       "      <td>Underfit: (0.001)</td>\n",
       "      <td>1.653806</td>\n",
       "    </tr>\n",
       "    <tr>\n",
       "      <th>1</th>\n",
       "      <td>LogReg_Base</td>\n",
       "      <td>1.658196</td>\n",
       "      <td>1.657582</td>\n",
       "      <td>Underfit: (0.001)</td>\n",
       "      <td>1.653806</td>\n",
       "    </tr>\n",
       "    <tr>\n",
       "      <th>2</th>\n",
       "      <td>LogReg_GS1</td>\n",
       "      <td>0.983089</td>\n",
       "      <td>0.984196</td>\n",
       "      <td>Overfit: (0.001)</td>\n",
       "      <td>0.952627</td>\n",
       "    </tr>\n",
       "    <tr>\n",
       "      <th>3</th>\n",
       "      <td>LogReg_GS2</td>\n",
       "      <td>0.978392</td>\n",
       "      <td>0.982059</td>\n",
       "      <td>Overfit: (0.004)</td>\n",
       "      <td>0.951622</td>\n",
       "    </tr>\n",
       "    <tr>\n",
       "      <th>4</th>\n",
       "      <td>LogReg_GS3</td>\n",
       "      <td>0.974411</td>\n",
       "      <td>0.981109</td>\n",
       "      <td>Overfit: (0.007)</td>\n",
       "      <td>0.952596</td>\n",
       "    </tr>\n",
       "    <tr>\n",
       "      <th>5</th>\n",
       "      <td>Random_Forest_Base</td>\n",
       "      <td>0.004530</td>\n",
       "      <td>0.836388</td>\n",
       "      <td>Overfit: (0.832)</td>\n",
       "      <td>0.773322</td>\n",
       "    </tr>\n",
       "    <tr>\n",
       "      <th>6</th>\n",
       "      <td>Random_Forest_GS1</td>\n",
       "      <td>0.052565</td>\n",
       "      <td>0.831655</td>\n",
       "      <td>Overfit: (0.779)</td>\n",
       "      <td>0.788095</td>\n",
       "    </tr>\n",
       "    <tr>\n",
       "      <th>7</th>\n",
       "      <td>Random_Forest_GS2</td>\n",
       "      <td>0.076151</td>\n",
       "      <td>0.814660</td>\n",
       "      <td>Overfit: (0.739)</td>\n",
       "      <td>0.775325</td>\n",
       "    </tr>\n",
       "    <tr>\n",
       "      <th>8</th>\n",
       "      <td>Random_Forest_GS3</td>\n",
       "      <td>0.067371</td>\n",
       "      <td>0.808106</td>\n",
       "      <td>Overfit: (0.741)</td>\n",
       "      <td>0.783564</td>\n",
       "    </tr>\n",
       "    <tr>\n",
       "      <th>9</th>\n",
       "      <td>XGBoost_Base</td>\n",
       "      <td>0.271705</td>\n",
       "      <td>0.768674</td>\n",
       "      <td>Overfit: (0.497)</td>\n",
       "      <td>0.732716</td>\n",
       "    </tr>\n",
       "    <tr>\n",
       "      <th>10</th>\n",
       "      <td>XGBoost_GS</td>\n",
       "      <td>0.211160</td>\n",
       "      <td>0.764592</td>\n",
       "      <td>Overfit: (0.553)</td>\n",
       "      <td>0.723697</td>\n",
       "    </tr>\n",
       "    <tr>\n",
       "      <th>11</th>\n",
       "      <td>SVC_Base</td>\n",
       "      <td>1.476211</td>\n",
       "      <td>1.486713</td>\n",
       "      <td>Overfit: (0.011)</td>\n",
       "      <td>1.653806</td>\n",
       "    </tr>\n",
       "    <tr>\n",
       "      <th>12</th>\n",
       "      <td>SVC_GS</td>\n",
       "      <td>1.476211</td>\n",
       "      <td>1.486713</td>\n",
       "      <td>Overfit: (0.011)</td>\n",
       "      <td>1.653806</td>\n",
       "    </tr>\n",
       "    <tr>\n",
       "      <th>13</th>\n",
       "      <td>MLP_Base</td>\n",
       "      <td>1.658196</td>\n",
       "      <td>1.657582</td>\n",
       "      <td>Underfit: (0.001)</td>\n",
       "      <td>1.653806</td>\n",
       "    </tr>\n",
       "    <tr>\n",
       "      <th>14</th>\n",
       "      <td>MLP_GS1</td>\n",
       "      <td>1.293554</td>\n",
       "      <td>1.293555</td>\n",
       "      <td>Good Fit: (0.0)</td>\n",
       "      <td>1.653806</td>\n",
       "    </tr>\n",
       "  </tbody>\n",
       "</table>\n",
       "</div>"
      ],
      "text/plain": [
       "            Model Name  CV_Train   CV_Test         Difference  Unseen Data\n",
       "0          dummy_model  1.658196  1.657582  Underfit: (0.001)     1.653806\n",
       "1          LogReg_Base  1.658196  1.657582  Underfit: (0.001)     1.653806\n",
       "2           LogReg_GS1  0.983089  0.984196   Overfit: (0.001)     0.952627\n",
       "3           LogReg_GS2  0.978392  0.982059   Overfit: (0.004)     0.951622\n",
       "4           LogReg_GS3  0.974411  0.981109   Overfit: (0.007)     0.952596\n",
       "5   Random_Forest_Base  0.004530  0.836388   Overfit: (0.832)     0.773322\n",
       "6    Random_Forest_GS1  0.052565  0.831655   Overfit: (0.779)     0.788095\n",
       "7    Random_Forest_GS2  0.076151  0.814660   Overfit: (0.739)     0.775325\n",
       "8    Random_Forest_GS3  0.067371  0.808106   Overfit: (0.741)     0.783564\n",
       "9         XGBoost_Base  0.271705  0.768674   Overfit: (0.497)     0.732716\n",
       "10          XGBoost_GS  0.211160  0.764592   Overfit: (0.553)     0.723697\n",
       "11            SVC_Base  1.476211  1.486713   Overfit: (0.011)     1.653806\n",
       "12              SVC_GS  1.476211  1.486713   Overfit: (0.011)     1.653806\n",
       "13            MLP_Base  1.658196  1.657582  Underfit: (0.001)     1.653806\n",
       "14             MLP_GS1  1.293554  1.293555    Good Fit: (0.0)     1.653806"
      ]
     },
     "execution_count": 124,
     "metadata": {},
     "output_type": "execute_result"
    }
   ],
   "source": [
    "scores_df = update_scorecard(mlp_gs.best_estimator_, 'MLP_GS1', scores_df)\n",
    "scores_df"
   ]
  },
  {
   "cell_type": "markdown",
   "metadata": {},
   "source": [
    "### Second MLPClassifier GridSearch"
   ]
  },
  {
   "cell_type": "markdown",
   "metadata": {},
   "source": [
    "The second iteration of GridSearch for MLPClassifier did not perform any better than the first. I will not pursue this method any further."
   ]
  },
  {
   "cell_type": "code",
   "execution_count": 125,
   "metadata": {
    "ExecuteTime": {
     "end_time": "2023-02-15T15:07:50.156723Z",
     "start_time": "2023-02-15T15:06:20.454303Z"
    }
   },
   "outputs": [
    {
     "name": "stdout",
     "output_type": "stream",
     "text": [
      "Fitting 5 folds for each of 24 candidates, totalling 120 fits\n"
     ]
    }
   ],
   "source": [
    "mlp_params2 = {\n",
    "    'mlp__learning_rate':['constant'],\n",
    "    'mlp__activation':['relu', 'tanh'],\n",
    "    'mlp__hidden_layer_sizes':[(100, 100, 100, 100, 100), \n",
    "                               (100, 40, 50, 10), \n",
    "                               (10, 40, 50), \n",
    "                               (40, 40, 40, 23)],\n",
    "    'mlp__max_iter':[200, 300, 400]\n",
    "}\n",
    "mlp_gs2 = GridSearchCV(estimator=mlp_model, \n",
    "                      param_grid=mlp_params2, \n",
    "                      scoring=regional_scorer, \n",
    "                      cv=5, \n",
    "                      verbose=1, \n",
    "                      n_jobs=4)\n",
    "\n",
    "mlp_gs2.fit(X_train, y_train);"
   ]
  },
  {
   "cell_type": "code",
   "execution_count": 126,
   "metadata": {
    "ExecuteTime": {
     "end_time": "2023-02-15T15:07:50.171950Z",
     "start_time": "2023-02-15T15:07:50.157718Z"
    }
   },
   "outputs": [
    {
     "data": {
      "text/plain": [
       "{'mlp__activation': 'relu',\n",
       " 'mlp__hidden_layer_sizes': (100, 40, 50, 10),\n",
       " 'mlp__learning_rate': 'constant',\n",
       " 'mlp__max_iter': 200}"
      ]
     },
     "execution_count": 126,
     "metadata": {},
     "output_type": "execute_result"
    }
   ],
   "source": [
    "mlp_gs2.best_params_"
   ]
  },
  {
   "cell_type": "code",
   "execution_count": 127,
   "metadata": {
    "ExecuteTime": {
     "end_time": "2023-02-15T15:07:50.187537Z",
     "start_time": "2023-02-15T15:07:50.172949Z"
    }
   },
   "outputs": [
    {
     "data": {
      "text/plain": [
       "-1.2935554220077328"
      ]
     },
     "execution_count": 127,
     "metadata": {},
     "output_type": "execute_result"
    }
   ],
   "source": [
    "mlp_gs2.best_score_"
   ]
  },
  {
   "cell_type": "markdown",
   "metadata": {},
   "source": [
    "Updating the scorecard."
   ]
  },
  {
   "cell_type": "code",
   "execution_count": 128,
   "metadata": {
    "ExecuteTime": {
     "end_time": "2023-02-15T15:08:10.254195Z",
     "start_time": "2023-02-15T15:07:50.188526Z"
    }
   },
   "outputs": [
    {
     "name": "stdout",
     "output_type": "stream",
     "text": [
      "RMSE for south (n=2744): 0.9751\n",
      "RMSE for midwest (n=626): 1.5982\n",
      "RMSE for west (n=1030): 2.8527\n",
      "RMSE for northeast (n=309): 1.1892\n",
      "Final score: 1.6538061708774303\n"
     ]
    },
    {
     "data": {
      "text/html": [
       "<div>\n",
       "<style scoped>\n",
       "    .dataframe tbody tr th:only-of-type {\n",
       "        vertical-align: middle;\n",
       "    }\n",
       "\n",
       "    .dataframe tbody tr th {\n",
       "        vertical-align: top;\n",
       "    }\n",
       "\n",
       "    .dataframe thead th {\n",
       "        text-align: right;\n",
       "    }\n",
       "</style>\n",
       "<table border=\"1\" class=\"dataframe\">\n",
       "  <thead>\n",
       "    <tr style=\"text-align: right;\">\n",
       "      <th></th>\n",
       "      <th>Model Name</th>\n",
       "      <th>CV_Train</th>\n",
       "      <th>CV_Test</th>\n",
       "      <th>Difference</th>\n",
       "      <th>Unseen Data</th>\n",
       "    </tr>\n",
       "  </thead>\n",
       "  <tbody>\n",
       "    <tr>\n",
       "      <th>0</th>\n",
       "      <td>dummy_model</td>\n",
       "      <td>1.658196</td>\n",
       "      <td>1.657582</td>\n",
       "      <td>Underfit: (0.001)</td>\n",
       "      <td>1.653806</td>\n",
       "    </tr>\n",
       "    <tr>\n",
       "      <th>1</th>\n",
       "      <td>LogReg_Base</td>\n",
       "      <td>1.658196</td>\n",
       "      <td>1.657582</td>\n",
       "      <td>Underfit: (0.001)</td>\n",
       "      <td>1.653806</td>\n",
       "    </tr>\n",
       "    <tr>\n",
       "      <th>2</th>\n",
       "      <td>LogReg_GS1</td>\n",
       "      <td>0.983089</td>\n",
       "      <td>0.984196</td>\n",
       "      <td>Overfit: (0.001)</td>\n",
       "      <td>0.952627</td>\n",
       "    </tr>\n",
       "    <tr>\n",
       "      <th>3</th>\n",
       "      <td>LogReg_GS2</td>\n",
       "      <td>0.978392</td>\n",
       "      <td>0.982059</td>\n",
       "      <td>Overfit: (0.004)</td>\n",
       "      <td>0.951622</td>\n",
       "    </tr>\n",
       "    <tr>\n",
       "      <th>4</th>\n",
       "      <td>LogReg_GS3</td>\n",
       "      <td>0.974411</td>\n",
       "      <td>0.981109</td>\n",
       "      <td>Overfit: (0.007)</td>\n",
       "      <td>0.952596</td>\n",
       "    </tr>\n",
       "    <tr>\n",
       "      <th>5</th>\n",
       "      <td>Random_Forest_Base</td>\n",
       "      <td>0.004530</td>\n",
       "      <td>0.836388</td>\n",
       "      <td>Overfit: (0.832)</td>\n",
       "      <td>0.773322</td>\n",
       "    </tr>\n",
       "    <tr>\n",
       "      <th>6</th>\n",
       "      <td>Random_Forest_GS1</td>\n",
       "      <td>0.052565</td>\n",
       "      <td>0.831655</td>\n",
       "      <td>Overfit: (0.779)</td>\n",
       "      <td>0.788095</td>\n",
       "    </tr>\n",
       "    <tr>\n",
       "      <th>7</th>\n",
       "      <td>Random_Forest_GS2</td>\n",
       "      <td>0.076151</td>\n",
       "      <td>0.814660</td>\n",
       "      <td>Overfit: (0.739)</td>\n",
       "      <td>0.775325</td>\n",
       "    </tr>\n",
       "    <tr>\n",
       "      <th>8</th>\n",
       "      <td>Random_Forest_GS3</td>\n",
       "      <td>0.067371</td>\n",
       "      <td>0.808106</td>\n",
       "      <td>Overfit: (0.741)</td>\n",
       "      <td>0.783564</td>\n",
       "    </tr>\n",
       "    <tr>\n",
       "      <th>9</th>\n",
       "      <td>XGBoost_Base</td>\n",
       "      <td>0.271705</td>\n",
       "      <td>0.768674</td>\n",
       "      <td>Overfit: (0.497)</td>\n",
       "      <td>0.732716</td>\n",
       "    </tr>\n",
       "    <tr>\n",
       "      <th>10</th>\n",
       "      <td>XGBoost_GS</td>\n",
       "      <td>0.211160</td>\n",
       "      <td>0.764592</td>\n",
       "      <td>Overfit: (0.553)</td>\n",
       "      <td>0.723697</td>\n",
       "    </tr>\n",
       "    <tr>\n",
       "      <th>11</th>\n",
       "      <td>SVC_Base</td>\n",
       "      <td>1.476211</td>\n",
       "      <td>1.486713</td>\n",
       "      <td>Overfit: (0.011)</td>\n",
       "      <td>1.653806</td>\n",
       "    </tr>\n",
       "    <tr>\n",
       "      <th>12</th>\n",
       "      <td>SVC_GS</td>\n",
       "      <td>1.476211</td>\n",
       "      <td>1.486713</td>\n",
       "      <td>Overfit: (0.011)</td>\n",
       "      <td>1.653806</td>\n",
       "    </tr>\n",
       "    <tr>\n",
       "      <th>13</th>\n",
       "      <td>MLP_Base</td>\n",
       "      <td>1.658196</td>\n",
       "      <td>1.657582</td>\n",
       "      <td>Underfit: (0.001)</td>\n",
       "      <td>1.653806</td>\n",
       "    </tr>\n",
       "    <tr>\n",
       "      <th>14</th>\n",
       "      <td>MLP_GS1</td>\n",
       "      <td>1.293554</td>\n",
       "      <td>1.293555</td>\n",
       "      <td>Good Fit: (0.0)</td>\n",
       "      <td>1.653806</td>\n",
       "    </tr>\n",
       "    <tr>\n",
       "      <th>15</th>\n",
       "      <td>MLP_GS2</td>\n",
       "      <td>1.293554</td>\n",
       "      <td>1.293555</td>\n",
       "      <td>Good Fit: (0.0)</td>\n",
       "      <td>1.653806</td>\n",
       "    </tr>\n",
       "  </tbody>\n",
       "</table>\n",
       "</div>"
      ],
      "text/plain": [
       "            Model Name  CV_Train   CV_Test         Difference  Unseen Data\n",
       "0          dummy_model  1.658196  1.657582  Underfit: (0.001)     1.653806\n",
       "1          LogReg_Base  1.658196  1.657582  Underfit: (0.001)     1.653806\n",
       "2           LogReg_GS1  0.983089  0.984196   Overfit: (0.001)     0.952627\n",
       "3           LogReg_GS2  0.978392  0.982059   Overfit: (0.004)     0.951622\n",
       "4           LogReg_GS3  0.974411  0.981109   Overfit: (0.007)     0.952596\n",
       "5   Random_Forest_Base  0.004530  0.836388   Overfit: (0.832)     0.773322\n",
       "6    Random_Forest_GS1  0.052565  0.831655   Overfit: (0.779)     0.788095\n",
       "7    Random_Forest_GS2  0.076151  0.814660   Overfit: (0.739)     0.775325\n",
       "8    Random_Forest_GS3  0.067371  0.808106   Overfit: (0.741)     0.783564\n",
       "9         XGBoost_Base  0.271705  0.768674   Overfit: (0.497)     0.732716\n",
       "10          XGBoost_GS  0.211160  0.764592   Overfit: (0.553)     0.723697\n",
       "11            SVC_Base  1.476211  1.486713   Overfit: (0.011)     1.653806\n",
       "12              SVC_GS  1.476211  1.486713   Overfit: (0.011)     1.653806\n",
       "13            MLP_Base  1.658196  1.657582  Underfit: (0.001)     1.653806\n",
       "14             MLP_GS1  1.293554  1.293555    Good Fit: (0.0)     1.653806\n",
       "15             MLP_GS2  1.293554  1.293555    Good Fit: (0.0)     1.653806"
      ]
     },
     "execution_count": 128,
     "metadata": {},
     "output_type": "execute_result"
    }
   ],
   "source": [
    "scores_df = update_scorecard(mlp_gs2.best_estimator_, 'MLP_GS2', scores_df)\n",
    "scores_df"
   ]
  },
  {
   "cell_type": "markdown",
   "metadata": {},
   "source": [
    "## K-Nearest Neighbors Model"
   ]
  },
  {
   "cell_type": "markdown",
   "metadata": {},
   "source": [
    "K-Nearest Neighbors performs moderately well compared to the other algorithms. The Regional RMSE is 1.07 on unseen validation data and the cross validated score is 1.11. The model does show signs of overfitting with a cross validated score of .911 on training data that I will attempt to fix during a GridSearch."
   ]
  },
  {
   "cell_type": "code",
   "execution_count": 129,
   "metadata": {
    "ExecuteTime": {
     "end_time": "2023-02-15T15:08:10.270271Z",
     "start_time": "2023-02-15T15:08:10.255195Z"
    }
   },
   "outputs": [],
   "source": [
    "knn = Pipeline([\n",
    "    ('ColTrans', ColTrans),\n",
    "    ('knn', KNeighborsClassifier())\n",
    "])"
   ]
  },
  {
   "cell_type": "code",
   "execution_count": 130,
   "metadata": {
    "ExecuteTime": {
     "end_time": "2023-02-15T15:08:12.266518Z",
     "start_time": "2023-02-15T15:08:10.271270Z"
    }
   },
   "outputs": [],
   "source": [
    "knn.fit(X_train, y_train);"
   ]
  },
  {
   "cell_type": "code",
   "execution_count": 131,
   "metadata": {
    "ExecuteTime": {
     "end_time": "2023-02-15T15:08:13.184055Z",
     "start_time": "2023-02-15T15:08:12.267520Z"
    }
   },
   "outputs": [
    {
     "data": {
      "text/plain": [
       "0.5973667445317478"
      ]
     },
     "execution_count": 131,
     "metadata": {},
     "output_type": "execute_result"
    }
   ],
   "source": [
    "knn.score(X_val, y_val)"
   ]
  },
  {
   "cell_type": "code",
   "execution_count": 132,
   "metadata": {
    "ExecuteTime": {
     "end_time": "2023-02-15T15:08:14.010086Z",
     "start_time": "2023-02-15T15:08:13.185058Z"
    }
   },
   "outputs": [],
   "source": [
    "knn_pred = knn.predict(X_val)"
   ]
  },
  {
   "cell_type": "code",
   "execution_count": 133,
   "metadata": {
    "ExecuteTime": {
     "end_time": "2023-02-15T15:08:14.026104Z",
     "start_time": "2023-02-15T15:08:14.011086Z"
    }
   },
   "outputs": [
    {
     "name": "stdout",
     "output_type": "stream",
     "text": [
      "RMSE for south (n=2744): 0.9383\n",
      "RMSE for midwest (n=626): 1.1769\n",
      "RMSE for west (n=1030): 0.8752\n",
      "RMSE for northeast (n=309): 1.2897\n",
      "Final score: 1.0700377479276688\n"
     ]
    },
    {
     "data": {
      "text/plain": [
       "1.0700377479276688"
      ]
     },
     "execution_count": 133,
     "metadata": {},
     "output_type": "execute_result"
    }
   ],
   "source": [
    "check_score(val_score, knn_pred)"
   ]
  },
  {
   "cell_type": "code",
   "execution_count": 134,
   "metadata": {
    "ExecuteTime": {
     "end_time": "2023-02-15T15:08:29.078131Z",
     "start_time": "2023-02-15T15:08:14.027105Z"
    }
   },
   "outputs": [],
   "source": [
    "knn_cv = cross_validate(knn, \n",
    "                        X_train, \n",
    "                        y_train, \n",
    "                        scoring=regional_scorer, \n",
    "                        return_train_score=True)"
   ]
  },
  {
   "cell_type": "code",
   "execution_count": 135,
   "metadata": {
    "ExecuteTime": {
     "end_time": "2023-02-15T15:08:29.093858Z",
     "start_time": "2023-02-15T15:08:29.079131Z"
    }
   },
   "outputs": [
    {
     "name": "stdout",
     "output_type": "stream",
     "text": [
      "Train: -0.9116659571264305\n",
      "Test: -1.1144825396071767\n"
     ]
    },
    {
     "data": {
      "text/plain": [
       "{'fit_time': array([1.21393991, 1.31882882, 1.2362721 , 1.20509815, 1.27669692]),\n",
       " 'score_time': array([0.35259056, 0.35752082, 0.29324007, 0.36169648, 0.36244822]),\n",
       " 'test_score': array([-1.1854625 , -1.07529758, -1.07921362, -1.10068514, -1.13175386]),\n",
       " 'train_score': array([-0.912322  , -0.9139052 , -0.90338932, -0.92285927, -0.90585399])}"
      ]
     },
     "execution_count": 135,
     "metadata": {},
     "output_type": "execute_result"
    }
   ],
   "source": [
    "print(f\"Train: {knn_cv['train_score'].mean()}\")\n",
    "print(f\"Test: {knn_cv['test_score'].mean()}\")\n",
    "knn_cv"
   ]
  },
  {
   "cell_type": "markdown",
   "metadata": {},
   "source": [
    "Updating the scorecard."
   ]
  },
  {
   "cell_type": "code",
   "execution_count": 136,
   "metadata": {
    "ExecuteTime": {
     "end_time": "2023-02-15T15:08:47.055418Z",
     "start_time": "2023-02-15T15:08:29.094859Z"
    }
   },
   "outputs": [
    {
     "name": "stdout",
     "output_type": "stream",
     "text": [
      "RMSE for south (n=2744): 0.9383\n",
      "RMSE for midwest (n=626): 1.1769\n",
      "RMSE for west (n=1030): 0.8752\n",
      "RMSE for northeast (n=309): 1.2897\n",
      "Final score: 1.0700377479276688\n"
     ]
    },
    {
     "data": {
      "text/html": [
       "<div>\n",
       "<style scoped>\n",
       "    .dataframe tbody tr th:only-of-type {\n",
       "        vertical-align: middle;\n",
       "    }\n",
       "\n",
       "    .dataframe tbody tr th {\n",
       "        vertical-align: top;\n",
       "    }\n",
       "\n",
       "    .dataframe thead th {\n",
       "        text-align: right;\n",
       "    }\n",
       "</style>\n",
       "<table border=\"1\" class=\"dataframe\">\n",
       "  <thead>\n",
       "    <tr style=\"text-align: right;\">\n",
       "      <th></th>\n",
       "      <th>Model Name</th>\n",
       "      <th>CV_Train</th>\n",
       "      <th>CV_Test</th>\n",
       "      <th>Difference</th>\n",
       "      <th>Unseen Data</th>\n",
       "    </tr>\n",
       "  </thead>\n",
       "  <tbody>\n",
       "    <tr>\n",
       "      <th>0</th>\n",
       "      <td>dummy_model</td>\n",
       "      <td>1.658196</td>\n",
       "      <td>1.657582</td>\n",
       "      <td>Underfit: (0.001)</td>\n",
       "      <td>1.653806</td>\n",
       "    </tr>\n",
       "    <tr>\n",
       "      <th>1</th>\n",
       "      <td>LogReg_Base</td>\n",
       "      <td>1.658196</td>\n",
       "      <td>1.657582</td>\n",
       "      <td>Underfit: (0.001)</td>\n",
       "      <td>1.653806</td>\n",
       "    </tr>\n",
       "    <tr>\n",
       "      <th>2</th>\n",
       "      <td>LogReg_GS1</td>\n",
       "      <td>0.983089</td>\n",
       "      <td>0.984196</td>\n",
       "      <td>Overfit: (0.001)</td>\n",
       "      <td>0.952627</td>\n",
       "    </tr>\n",
       "    <tr>\n",
       "      <th>3</th>\n",
       "      <td>LogReg_GS2</td>\n",
       "      <td>0.978392</td>\n",
       "      <td>0.982059</td>\n",
       "      <td>Overfit: (0.004)</td>\n",
       "      <td>0.951622</td>\n",
       "    </tr>\n",
       "    <tr>\n",
       "      <th>4</th>\n",
       "      <td>LogReg_GS3</td>\n",
       "      <td>0.974411</td>\n",
       "      <td>0.981109</td>\n",
       "      <td>Overfit: (0.007)</td>\n",
       "      <td>0.952596</td>\n",
       "    </tr>\n",
       "    <tr>\n",
       "      <th>5</th>\n",
       "      <td>Random_Forest_Base</td>\n",
       "      <td>0.004530</td>\n",
       "      <td>0.836388</td>\n",
       "      <td>Overfit: (0.832)</td>\n",
       "      <td>0.773322</td>\n",
       "    </tr>\n",
       "    <tr>\n",
       "      <th>6</th>\n",
       "      <td>Random_Forest_GS1</td>\n",
       "      <td>0.052565</td>\n",
       "      <td>0.831655</td>\n",
       "      <td>Overfit: (0.779)</td>\n",
       "      <td>0.788095</td>\n",
       "    </tr>\n",
       "    <tr>\n",
       "      <th>7</th>\n",
       "      <td>Random_Forest_GS2</td>\n",
       "      <td>0.076151</td>\n",
       "      <td>0.814660</td>\n",
       "      <td>Overfit: (0.739)</td>\n",
       "      <td>0.775325</td>\n",
       "    </tr>\n",
       "    <tr>\n",
       "      <th>8</th>\n",
       "      <td>Random_Forest_GS3</td>\n",
       "      <td>0.067371</td>\n",
       "      <td>0.808106</td>\n",
       "      <td>Overfit: (0.741)</td>\n",
       "      <td>0.783564</td>\n",
       "    </tr>\n",
       "    <tr>\n",
       "      <th>9</th>\n",
       "      <td>XGBoost_Base</td>\n",
       "      <td>0.271705</td>\n",
       "      <td>0.768674</td>\n",
       "      <td>Overfit: (0.497)</td>\n",
       "      <td>0.732716</td>\n",
       "    </tr>\n",
       "    <tr>\n",
       "      <th>10</th>\n",
       "      <td>XGBoost_GS</td>\n",
       "      <td>0.211160</td>\n",
       "      <td>0.764592</td>\n",
       "      <td>Overfit: (0.553)</td>\n",
       "      <td>0.723697</td>\n",
       "    </tr>\n",
       "    <tr>\n",
       "      <th>11</th>\n",
       "      <td>SVC_Base</td>\n",
       "      <td>1.476211</td>\n",
       "      <td>1.486713</td>\n",
       "      <td>Overfit: (0.011)</td>\n",
       "      <td>1.653806</td>\n",
       "    </tr>\n",
       "    <tr>\n",
       "      <th>12</th>\n",
       "      <td>SVC_GS</td>\n",
       "      <td>1.476211</td>\n",
       "      <td>1.486713</td>\n",
       "      <td>Overfit: (0.011)</td>\n",
       "      <td>1.653806</td>\n",
       "    </tr>\n",
       "    <tr>\n",
       "      <th>13</th>\n",
       "      <td>MLP_Base</td>\n",
       "      <td>1.658196</td>\n",
       "      <td>1.657582</td>\n",
       "      <td>Underfit: (0.001)</td>\n",
       "      <td>1.653806</td>\n",
       "    </tr>\n",
       "    <tr>\n",
       "      <th>14</th>\n",
       "      <td>MLP_GS1</td>\n",
       "      <td>1.293554</td>\n",
       "      <td>1.293555</td>\n",
       "      <td>Good Fit: (0.0)</td>\n",
       "      <td>1.653806</td>\n",
       "    </tr>\n",
       "    <tr>\n",
       "      <th>15</th>\n",
       "      <td>MLP_GS2</td>\n",
       "      <td>1.293554</td>\n",
       "      <td>1.293555</td>\n",
       "      <td>Good Fit: (0.0)</td>\n",
       "      <td>1.653806</td>\n",
       "    </tr>\n",
       "    <tr>\n",
       "      <th>16</th>\n",
       "      <td>KNN_Base</td>\n",
       "      <td>0.911666</td>\n",
       "      <td>1.114483</td>\n",
       "      <td>Overfit: (0.203)</td>\n",
       "      <td>1.070038</td>\n",
       "    </tr>\n",
       "  </tbody>\n",
       "</table>\n",
       "</div>"
      ],
      "text/plain": [
       "            Model Name  CV_Train   CV_Test         Difference  Unseen Data\n",
       "0          dummy_model  1.658196  1.657582  Underfit: (0.001)     1.653806\n",
       "1          LogReg_Base  1.658196  1.657582  Underfit: (0.001)     1.653806\n",
       "2           LogReg_GS1  0.983089  0.984196   Overfit: (0.001)     0.952627\n",
       "3           LogReg_GS2  0.978392  0.982059   Overfit: (0.004)     0.951622\n",
       "4           LogReg_GS3  0.974411  0.981109   Overfit: (0.007)     0.952596\n",
       "5   Random_Forest_Base  0.004530  0.836388   Overfit: (0.832)     0.773322\n",
       "6    Random_Forest_GS1  0.052565  0.831655   Overfit: (0.779)     0.788095\n",
       "7    Random_Forest_GS2  0.076151  0.814660   Overfit: (0.739)     0.775325\n",
       "8    Random_Forest_GS3  0.067371  0.808106   Overfit: (0.741)     0.783564\n",
       "9         XGBoost_Base  0.271705  0.768674   Overfit: (0.497)     0.732716\n",
       "10          XGBoost_GS  0.211160  0.764592   Overfit: (0.553)     0.723697\n",
       "11            SVC_Base  1.476211  1.486713   Overfit: (0.011)     1.653806\n",
       "12              SVC_GS  1.476211  1.486713   Overfit: (0.011)     1.653806\n",
       "13            MLP_Base  1.658196  1.657582  Underfit: (0.001)     1.653806\n",
       "14             MLP_GS1  1.293554  1.293555    Good Fit: (0.0)     1.653806\n",
       "15             MLP_GS2  1.293554  1.293555    Good Fit: (0.0)     1.653806\n",
       "16            KNN_Base  0.911666  1.114483   Overfit: (0.203)     1.070038"
      ]
     },
     "execution_count": 136,
     "metadata": {},
     "output_type": "execute_result"
    }
   ],
   "source": [
    "scores_df = update_scorecard(knn, 'KNN_Base', scores_df)\n",
    "scores_df"
   ]
  },
  {
   "cell_type": "markdown",
   "metadata": {},
   "source": [
    "### First K-Nearest Neighbors Gridsearch"
   ]
  },
  {
   "cell_type": "markdown",
   "metadata": {},
   "source": [
    "The first iteration of GridSearch for KNN shows improved results from a cross validated score of 1.11 to .997. I will look to improve these results in a second iteration of GridSearch."
   ]
  },
  {
   "cell_type": "code",
   "execution_count": 137,
   "metadata": {
    "ExecuteTime": {
     "end_time": "2023-02-15T15:09:43.426566Z",
     "start_time": "2023-02-15T15:08:47.056419Z"
    }
   },
   "outputs": [
    {
     "name": "stdout",
     "output_type": "stream",
     "text": [
      "Fitting 5 folds for each of 8 candidates, totalling 40 fits\n"
     ]
    }
   ],
   "source": [
    "knn_params = {\n",
    "    'knn__weights':['uniform', 'distance'],\n",
    "    'knn__p':[1, 2, 3, 4]\n",
    "}\n",
    "knn_gs = GridSearchCV(estimator=knn, \n",
    "                      param_grid=knn_params, \n",
    "                      scoring=regional_scorer, \n",
    "                      cv=5, \n",
    "                      verbose=1, \n",
    "                      n_jobs=2)\n",
    "\n",
    "knn_gs.fit(X_train, y_train);"
   ]
  },
  {
   "cell_type": "code",
   "execution_count": 138,
   "metadata": {
    "ExecuteTime": {
     "end_time": "2023-02-15T15:09:43.441581Z",
     "start_time": "2023-02-15T15:09:43.427564Z"
    }
   },
   "outputs": [
    {
     "data": {
      "text/plain": [
       "{'knn__p': 1, 'knn__weights': 'distance'}"
      ]
     },
     "execution_count": 138,
     "metadata": {},
     "output_type": "execute_result"
    }
   ],
   "source": [
    "knn_gs.best_params_"
   ]
  },
  {
   "cell_type": "code",
   "execution_count": 139,
   "metadata": {
    "ExecuteTime": {
     "end_time": "2023-02-15T15:09:43.457165Z",
     "start_time": "2023-02-15T15:09:43.442661Z"
    }
   },
   "outputs": [
    {
     "data": {
      "text/plain": [
       "-0.9972729582651667"
      ]
     },
     "execution_count": 139,
     "metadata": {},
     "output_type": "execute_result"
    }
   ],
   "source": [
    "knn_gs.best_score_"
   ]
  },
  {
   "cell_type": "markdown",
   "metadata": {},
   "source": [
    "Updating the scorecard."
   ]
  },
  {
   "cell_type": "code",
   "execution_count": 140,
   "metadata": {
    "ExecuteTime": {
     "end_time": "2023-02-15T15:10:01.593254Z",
     "start_time": "2023-02-15T15:09:43.458165Z"
    }
   },
   "outputs": [
    {
     "name": "stdout",
     "output_type": "stream",
     "text": [
      "RMSE for south (n=2744): 0.9524\n",
      "RMSE for midwest (n=626): 1.0491\n",
      "RMSE for west (n=1030): 0.6812\n",
      "RMSE for northeast (n=309): 1.0582\n",
      "Final score: 0.9352315744769308\n"
     ]
    },
    {
     "data": {
      "text/html": [
       "<div>\n",
       "<style scoped>\n",
       "    .dataframe tbody tr th:only-of-type {\n",
       "        vertical-align: middle;\n",
       "    }\n",
       "\n",
       "    .dataframe tbody tr th {\n",
       "        vertical-align: top;\n",
       "    }\n",
       "\n",
       "    .dataframe thead th {\n",
       "        text-align: right;\n",
       "    }\n",
       "</style>\n",
       "<table border=\"1\" class=\"dataframe\">\n",
       "  <thead>\n",
       "    <tr style=\"text-align: right;\">\n",
       "      <th></th>\n",
       "      <th>Model Name</th>\n",
       "      <th>CV_Train</th>\n",
       "      <th>CV_Test</th>\n",
       "      <th>Difference</th>\n",
       "      <th>Unseen Data</th>\n",
       "    </tr>\n",
       "  </thead>\n",
       "  <tbody>\n",
       "    <tr>\n",
       "      <th>0</th>\n",
       "      <td>dummy_model</td>\n",
       "      <td>1.658196</td>\n",
       "      <td>1.657582</td>\n",
       "      <td>Underfit: (0.001)</td>\n",
       "      <td>1.653806</td>\n",
       "    </tr>\n",
       "    <tr>\n",
       "      <th>1</th>\n",
       "      <td>LogReg_Base</td>\n",
       "      <td>1.658196</td>\n",
       "      <td>1.657582</td>\n",
       "      <td>Underfit: (0.001)</td>\n",
       "      <td>1.653806</td>\n",
       "    </tr>\n",
       "    <tr>\n",
       "      <th>2</th>\n",
       "      <td>LogReg_GS1</td>\n",
       "      <td>0.983089</td>\n",
       "      <td>0.984196</td>\n",
       "      <td>Overfit: (0.001)</td>\n",
       "      <td>0.952627</td>\n",
       "    </tr>\n",
       "    <tr>\n",
       "      <th>3</th>\n",
       "      <td>LogReg_GS2</td>\n",
       "      <td>0.978392</td>\n",
       "      <td>0.982059</td>\n",
       "      <td>Overfit: (0.004)</td>\n",
       "      <td>0.951622</td>\n",
       "    </tr>\n",
       "    <tr>\n",
       "      <th>4</th>\n",
       "      <td>LogReg_GS3</td>\n",
       "      <td>0.974411</td>\n",
       "      <td>0.981109</td>\n",
       "      <td>Overfit: (0.007)</td>\n",
       "      <td>0.952596</td>\n",
       "    </tr>\n",
       "    <tr>\n",
       "      <th>5</th>\n",
       "      <td>Random_Forest_Base</td>\n",
       "      <td>0.004530</td>\n",
       "      <td>0.836388</td>\n",
       "      <td>Overfit: (0.832)</td>\n",
       "      <td>0.773322</td>\n",
       "    </tr>\n",
       "    <tr>\n",
       "      <th>6</th>\n",
       "      <td>Random_Forest_GS1</td>\n",
       "      <td>0.052565</td>\n",
       "      <td>0.831655</td>\n",
       "      <td>Overfit: (0.779)</td>\n",
       "      <td>0.788095</td>\n",
       "    </tr>\n",
       "    <tr>\n",
       "      <th>7</th>\n",
       "      <td>Random_Forest_GS2</td>\n",
       "      <td>0.076151</td>\n",
       "      <td>0.814660</td>\n",
       "      <td>Overfit: (0.739)</td>\n",
       "      <td>0.775325</td>\n",
       "    </tr>\n",
       "    <tr>\n",
       "      <th>8</th>\n",
       "      <td>Random_Forest_GS3</td>\n",
       "      <td>0.067371</td>\n",
       "      <td>0.808106</td>\n",
       "      <td>Overfit: (0.741)</td>\n",
       "      <td>0.783564</td>\n",
       "    </tr>\n",
       "    <tr>\n",
       "      <th>9</th>\n",
       "      <td>XGBoost_Base</td>\n",
       "      <td>0.271705</td>\n",
       "      <td>0.768674</td>\n",
       "      <td>Overfit: (0.497)</td>\n",
       "      <td>0.732716</td>\n",
       "    </tr>\n",
       "    <tr>\n",
       "      <th>10</th>\n",
       "      <td>XGBoost_GS</td>\n",
       "      <td>0.211160</td>\n",
       "      <td>0.764592</td>\n",
       "      <td>Overfit: (0.553)</td>\n",
       "      <td>0.723697</td>\n",
       "    </tr>\n",
       "    <tr>\n",
       "      <th>11</th>\n",
       "      <td>SVC_Base</td>\n",
       "      <td>1.476211</td>\n",
       "      <td>1.486713</td>\n",
       "      <td>Overfit: (0.011)</td>\n",
       "      <td>1.653806</td>\n",
       "    </tr>\n",
       "    <tr>\n",
       "      <th>12</th>\n",
       "      <td>SVC_GS</td>\n",
       "      <td>1.476211</td>\n",
       "      <td>1.486713</td>\n",
       "      <td>Overfit: (0.011)</td>\n",
       "      <td>1.653806</td>\n",
       "    </tr>\n",
       "    <tr>\n",
       "      <th>13</th>\n",
       "      <td>MLP_Base</td>\n",
       "      <td>1.658196</td>\n",
       "      <td>1.657582</td>\n",
       "      <td>Underfit: (0.001)</td>\n",
       "      <td>1.653806</td>\n",
       "    </tr>\n",
       "    <tr>\n",
       "      <th>14</th>\n",
       "      <td>MLP_GS1</td>\n",
       "      <td>1.293554</td>\n",
       "      <td>1.293555</td>\n",
       "      <td>Good Fit: (0.0)</td>\n",
       "      <td>1.653806</td>\n",
       "    </tr>\n",
       "    <tr>\n",
       "      <th>15</th>\n",
       "      <td>MLP_GS2</td>\n",
       "      <td>1.293554</td>\n",
       "      <td>1.293555</td>\n",
       "      <td>Good Fit: (0.0)</td>\n",
       "      <td>1.653806</td>\n",
       "    </tr>\n",
       "    <tr>\n",
       "      <th>16</th>\n",
       "      <td>KNN_Base</td>\n",
       "      <td>0.911666</td>\n",
       "      <td>1.114483</td>\n",
       "      <td>Overfit: (0.203)</td>\n",
       "      <td>1.070038</td>\n",
       "    </tr>\n",
       "    <tr>\n",
       "      <th>17</th>\n",
       "      <td>KNN_GS1</td>\n",
       "      <td>0.000000</td>\n",
       "      <td>0.997273</td>\n",
       "      <td>Overfit: (0.997)</td>\n",
       "      <td>0.935232</td>\n",
       "    </tr>\n",
       "  </tbody>\n",
       "</table>\n",
       "</div>"
      ],
      "text/plain": [
       "            Model Name  CV_Train   CV_Test         Difference  Unseen Data\n",
       "0          dummy_model  1.658196  1.657582  Underfit: (0.001)     1.653806\n",
       "1          LogReg_Base  1.658196  1.657582  Underfit: (0.001)     1.653806\n",
       "2           LogReg_GS1  0.983089  0.984196   Overfit: (0.001)     0.952627\n",
       "3           LogReg_GS2  0.978392  0.982059   Overfit: (0.004)     0.951622\n",
       "4           LogReg_GS3  0.974411  0.981109   Overfit: (0.007)     0.952596\n",
       "5   Random_Forest_Base  0.004530  0.836388   Overfit: (0.832)     0.773322\n",
       "6    Random_Forest_GS1  0.052565  0.831655   Overfit: (0.779)     0.788095\n",
       "7    Random_Forest_GS2  0.076151  0.814660   Overfit: (0.739)     0.775325\n",
       "8    Random_Forest_GS3  0.067371  0.808106   Overfit: (0.741)     0.783564\n",
       "9         XGBoost_Base  0.271705  0.768674   Overfit: (0.497)     0.732716\n",
       "10          XGBoost_GS  0.211160  0.764592   Overfit: (0.553)     0.723697\n",
       "11            SVC_Base  1.476211  1.486713   Overfit: (0.011)     1.653806\n",
       "12              SVC_GS  1.476211  1.486713   Overfit: (0.011)     1.653806\n",
       "13            MLP_Base  1.658196  1.657582  Underfit: (0.001)     1.653806\n",
       "14             MLP_GS1  1.293554  1.293555    Good Fit: (0.0)     1.653806\n",
       "15             MLP_GS2  1.293554  1.293555    Good Fit: (0.0)     1.653806\n",
       "16            KNN_Base  0.911666  1.114483   Overfit: (0.203)     1.070038\n",
       "17             KNN_GS1  0.000000  0.997273   Overfit: (0.997)     0.935232"
      ]
     },
     "execution_count": 140,
     "metadata": {},
     "output_type": "execute_result"
    }
   ],
   "source": [
    "scores_df = update_scorecard(knn_gs.best_estimator_, 'KNN_GS1', scores_df)\n",
    "scores_df"
   ]
  },
  {
   "cell_type": "markdown",
   "metadata": {},
   "source": [
    "### Second K-Nearest Neighbors GridSearch"
   ]
  },
  {
   "cell_type": "markdown",
   "metadata": {},
   "source": [
    "The second iteration of GridSearch shows improved results from a cross validated score of .997 to a cross validated score of .975."
   ]
  },
  {
   "cell_type": "code",
   "execution_count": 141,
   "metadata": {
    "ExecuteTime": {
     "end_time": "2023-02-15T15:12:13.120403Z",
     "start_time": "2023-02-15T15:10:01.594254Z"
    }
   },
   "outputs": [
    {
     "name": "stdout",
     "output_type": "stream",
     "text": [
      "Fitting 5 folds for each of 20 candidates, totalling 100 fits\n"
     ]
    }
   ],
   "source": [
    "knn_params2 = {\n",
    "    'knn__n_neighbors':[1, 2, 3, 4, 5],\n",
    "    'knn__weights':['distance'],\n",
    "    'knn__p':[1, 2, 3, 4]\n",
    "}\n",
    "knn_gs2 = GridSearchCV(estimator=knn, \n",
    "                      param_grid=knn_params2, \n",
    "                      scoring=regional_scorer, \n",
    "                      cv=5, \n",
    "                      verbose=1, \n",
    "                      n_jobs=2)\n",
    "\n",
    "knn_gs2.fit(X_train, y_train);"
   ]
  },
  {
   "cell_type": "code",
   "execution_count": 142,
   "metadata": {
    "ExecuteTime": {
     "end_time": "2023-02-15T15:12:13.136633Z",
     "start_time": "2023-02-15T15:12:13.121403Z"
    }
   },
   "outputs": [
    {
     "data": {
      "text/plain": [
       "{'knn__n_neighbors': 3, 'knn__p': 1, 'knn__weights': 'distance'}"
      ]
     },
     "execution_count": 142,
     "metadata": {},
     "output_type": "execute_result"
    }
   ],
   "source": [
    "knn_gs2.best_params_"
   ]
  },
  {
   "cell_type": "code",
   "execution_count": 143,
   "metadata": {
    "ExecuteTime": {
     "end_time": "2023-02-15T15:12:13.151599Z",
     "start_time": "2023-02-15T15:12:13.137587Z"
    }
   },
   "outputs": [
    {
     "data": {
      "text/plain": [
       "-0.9755125348123379"
      ]
     },
     "execution_count": 143,
     "metadata": {},
     "output_type": "execute_result"
    }
   ],
   "source": [
    "knn_gs2.best_score_"
   ]
  },
  {
   "cell_type": "markdown",
   "metadata": {},
   "source": [
    "Updating the scorecard."
   ]
  },
  {
   "cell_type": "code",
   "execution_count": 144,
   "metadata": {
    "ExecuteTime": {
     "end_time": "2023-02-15T15:12:30.999073Z",
     "start_time": "2023-02-15T15:12:13.152601Z"
    }
   },
   "outputs": [
    {
     "name": "stdout",
     "output_type": "stream",
     "text": [
      "RMSE for south (n=2744): 0.9562\n",
      "RMSE for midwest (n=626): 1.0291\n",
      "RMSE for west (n=1030): 0.6726\n",
      "RMSE for northeast (n=309): 0.9102\n",
      "Final score: 0.8920461891255786\n"
     ]
    },
    {
     "data": {
      "text/html": [
       "<div>\n",
       "<style scoped>\n",
       "    .dataframe tbody tr th:only-of-type {\n",
       "        vertical-align: middle;\n",
       "    }\n",
       "\n",
       "    .dataframe tbody tr th {\n",
       "        vertical-align: top;\n",
       "    }\n",
       "\n",
       "    .dataframe thead th {\n",
       "        text-align: right;\n",
       "    }\n",
       "</style>\n",
       "<table border=\"1\" class=\"dataframe\">\n",
       "  <thead>\n",
       "    <tr style=\"text-align: right;\">\n",
       "      <th></th>\n",
       "      <th>Model Name</th>\n",
       "      <th>CV_Train</th>\n",
       "      <th>CV_Test</th>\n",
       "      <th>Difference</th>\n",
       "      <th>Unseen Data</th>\n",
       "    </tr>\n",
       "  </thead>\n",
       "  <tbody>\n",
       "    <tr>\n",
       "      <th>0</th>\n",
       "      <td>dummy_model</td>\n",
       "      <td>1.658196</td>\n",
       "      <td>1.657582</td>\n",
       "      <td>Underfit: (0.001)</td>\n",
       "      <td>1.653806</td>\n",
       "    </tr>\n",
       "    <tr>\n",
       "      <th>1</th>\n",
       "      <td>LogReg_Base</td>\n",
       "      <td>1.658196</td>\n",
       "      <td>1.657582</td>\n",
       "      <td>Underfit: (0.001)</td>\n",
       "      <td>1.653806</td>\n",
       "    </tr>\n",
       "    <tr>\n",
       "      <th>2</th>\n",
       "      <td>LogReg_GS1</td>\n",
       "      <td>0.983089</td>\n",
       "      <td>0.984196</td>\n",
       "      <td>Overfit: (0.001)</td>\n",
       "      <td>0.952627</td>\n",
       "    </tr>\n",
       "    <tr>\n",
       "      <th>3</th>\n",
       "      <td>LogReg_GS2</td>\n",
       "      <td>0.978392</td>\n",
       "      <td>0.982059</td>\n",
       "      <td>Overfit: (0.004)</td>\n",
       "      <td>0.951622</td>\n",
       "    </tr>\n",
       "    <tr>\n",
       "      <th>4</th>\n",
       "      <td>LogReg_GS3</td>\n",
       "      <td>0.974411</td>\n",
       "      <td>0.981109</td>\n",
       "      <td>Overfit: (0.007)</td>\n",
       "      <td>0.952596</td>\n",
       "    </tr>\n",
       "    <tr>\n",
       "      <th>5</th>\n",
       "      <td>Random_Forest_Base</td>\n",
       "      <td>0.004530</td>\n",
       "      <td>0.836388</td>\n",
       "      <td>Overfit: (0.832)</td>\n",
       "      <td>0.773322</td>\n",
       "    </tr>\n",
       "    <tr>\n",
       "      <th>6</th>\n",
       "      <td>Random_Forest_GS1</td>\n",
       "      <td>0.052565</td>\n",
       "      <td>0.831655</td>\n",
       "      <td>Overfit: (0.779)</td>\n",
       "      <td>0.788095</td>\n",
       "    </tr>\n",
       "    <tr>\n",
       "      <th>7</th>\n",
       "      <td>Random_Forest_GS2</td>\n",
       "      <td>0.076151</td>\n",
       "      <td>0.814660</td>\n",
       "      <td>Overfit: (0.739)</td>\n",
       "      <td>0.775325</td>\n",
       "    </tr>\n",
       "    <tr>\n",
       "      <th>8</th>\n",
       "      <td>Random_Forest_GS3</td>\n",
       "      <td>0.067371</td>\n",
       "      <td>0.808106</td>\n",
       "      <td>Overfit: (0.741)</td>\n",
       "      <td>0.783564</td>\n",
       "    </tr>\n",
       "    <tr>\n",
       "      <th>9</th>\n",
       "      <td>XGBoost_Base</td>\n",
       "      <td>0.271705</td>\n",
       "      <td>0.768674</td>\n",
       "      <td>Overfit: (0.497)</td>\n",
       "      <td>0.732716</td>\n",
       "    </tr>\n",
       "    <tr>\n",
       "      <th>10</th>\n",
       "      <td>XGBoost_GS</td>\n",
       "      <td>0.211160</td>\n",
       "      <td>0.764592</td>\n",
       "      <td>Overfit: (0.553)</td>\n",
       "      <td>0.723697</td>\n",
       "    </tr>\n",
       "    <tr>\n",
       "      <th>11</th>\n",
       "      <td>SVC_Base</td>\n",
       "      <td>1.476211</td>\n",
       "      <td>1.486713</td>\n",
       "      <td>Overfit: (0.011)</td>\n",
       "      <td>1.653806</td>\n",
       "    </tr>\n",
       "    <tr>\n",
       "      <th>12</th>\n",
       "      <td>SVC_GS</td>\n",
       "      <td>1.476211</td>\n",
       "      <td>1.486713</td>\n",
       "      <td>Overfit: (0.011)</td>\n",
       "      <td>1.653806</td>\n",
       "    </tr>\n",
       "    <tr>\n",
       "      <th>13</th>\n",
       "      <td>MLP_Base</td>\n",
       "      <td>1.658196</td>\n",
       "      <td>1.657582</td>\n",
       "      <td>Underfit: (0.001)</td>\n",
       "      <td>1.653806</td>\n",
       "    </tr>\n",
       "    <tr>\n",
       "      <th>14</th>\n",
       "      <td>MLP_GS1</td>\n",
       "      <td>1.293554</td>\n",
       "      <td>1.293555</td>\n",
       "      <td>Good Fit: (0.0)</td>\n",
       "      <td>1.653806</td>\n",
       "    </tr>\n",
       "    <tr>\n",
       "      <th>15</th>\n",
       "      <td>MLP_GS2</td>\n",
       "      <td>1.293554</td>\n",
       "      <td>1.293555</td>\n",
       "      <td>Good Fit: (0.0)</td>\n",
       "      <td>1.653806</td>\n",
       "    </tr>\n",
       "    <tr>\n",
       "      <th>16</th>\n",
       "      <td>KNN_Base</td>\n",
       "      <td>0.911666</td>\n",
       "      <td>1.114483</td>\n",
       "      <td>Overfit: (0.203)</td>\n",
       "      <td>1.070038</td>\n",
       "    </tr>\n",
       "    <tr>\n",
       "      <th>17</th>\n",
       "      <td>KNN_GS1</td>\n",
       "      <td>0.000000</td>\n",
       "      <td>0.997273</td>\n",
       "      <td>Overfit: (0.997)</td>\n",
       "      <td>0.935232</td>\n",
       "    </tr>\n",
       "    <tr>\n",
       "      <th>18</th>\n",
       "      <td>KNN_GS2</td>\n",
       "      <td>0.000000</td>\n",
       "      <td>0.975513</td>\n",
       "      <td>Overfit: (0.976)</td>\n",
       "      <td>0.892046</td>\n",
       "    </tr>\n",
       "  </tbody>\n",
       "</table>\n",
       "</div>"
      ],
      "text/plain": [
       "            Model Name  CV_Train   CV_Test         Difference  Unseen Data\n",
       "0          dummy_model  1.658196  1.657582  Underfit: (0.001)     1.653806\n",
       "1          LogReg_Base  1.658196  1.657582  Underfit: (0.001)     1.653806\n",
       "2           LogReg_GS1  0.983089  0.984196   Overfit: (0.001)     0.952627\n",
       "3           LogReg_GS2  0.978392  0.982059   Overfit: (0.004)     0.951622\n",
       "4           LogReg_GS3  0.974411  0.981109   Overfit: (0.007)     0.952596\n",
       "5   Random_Forest_Base  0.004530  0.836388   Overfit: (0.832)     0.773322\n",
       "6    Random_Forest_GS1  0.052565  0.831655   Overfit: (0.779)     0.788095\n",
       "7    Random_Forest_GS2  0.076151  0.814660   Overfit: (0.739)     0.775325\n",
       "8    Random_Forest_GS3  0.067371  0.808106   Overfit: (0.741)     0.783564\n",
       "9         XGBoost_Base  0.271705  0.768674   Overfit: (0.497)     0.732716\n",
       "10          XGBoost_GS  0.211160  0.764592   Overfit: (0.553)     0.723697\n",
       "11            SVC_Base  1.476211  1.486713   Overfit: (0.011)     1.653806\n",
       "12              SVC_GS  1.476211  1.486713   Overfit: (0.011)     1.653806\n",
       "13            MLP_Base  1.658196  1.657582  Underfit: (0.001)     1.653806\n",
       "14             MLP_GS1  1.293554  1.293555    Good Fit: (0.0)     1.653806\n",
       "15             MLP_GS2  1.293554  1.293555    Good Fit: (0.0)     1.653806\n",
       "16            KNN_Base  0.911666  1.114483   Overfit: (0.203)     1.070038\n",
       "17             KNN_GS1  0.000000  0.997273   Overfit: (0.997)     0.935232\n",
       "18             KNN_GS2  0.000000  0.975513   Overfit: (0.976)     0.892046"
      ]
     },
     "execution_count": 144,
     "metadata": {},
     "output_type": "execute_result"
    }
   ],
   "source": [
    "scores_df = update_scorecard(knn_gs2.best_estimator_, 'KNN_GS2', scores_df)\n",
    "scores_df"
   ]
  },
  {
   "cell_type": "markdown",
   "metadata": {},
   "source": [
    "### K-Nearest Neighbors Best Model"
   ]
  },
  {
   "cell_type": "markdown",
   "metadata": {},
   "source": [
    "The KNN best model is performing ok with a cross validated score of .975 and a score of .892 on unseen validation data. The model is incredibly overfit with a perfect training score."
   ]
  },
  {
   "cell_type": "code",
   "execution_count": 145,
   "metadata": {
    "ExecuteTime": {
     "end_time": "2023-02-15T15:12:31.015092Z",
     "start_time": "2023-02-15T15:12:31.000074Z"
    }
   },
   "outputs": [],
   "source": [
    "best_knn = Pipeline([\n",
    "    ('ColTrans', ColTrans),\n",
    "    ('knn', KNeighborsClassifier(n_neighbors=3,\n",
    "                                p=1,\n",
    "                                weights='distance'))\n",
    "])"
   ]
  },
  {
   "cell_type": "code",
   "execution_count": 146,
   "metadata": {
    "ExecuteTime": {
     "end_time": "2023-02-15T15:12:45.974632Z",
     "start_time": "2023-02-15T15:12:31.016092Z"
    }
   },
   "outputs": [],
   "source": [
    "best_knn_cv = cross_validate(best_knn, \n",
    "                             X_train, \n",
    "                             y_train, \n",
    "                             scoring=regional_scorer, \n",
    "                             return_train_score=True)"
   ]
  },
  {
   "cell_type": "code",
   "execution_count": 147,
   "metadata": {
    "ExecuteTime": {
     "end_time": "2023-02-15T15:12:45.990145Z",
     "start_time": "2023-02-15T15:12:45.975634Z"
    }
   },
   "outputs": [
    {
     "name": "stdout",
     "output_type": "stream",
     "text": [
      "Train: 0.0\n",
      "Test: -0.9755125348123379\n"
     ]
    },
    {
     "data": {
      "text/plain": [
       "{'fit_time': array([1.2116127 , 1.30742168, 1.21670222, 1.18318868, 1.27573204]),\n",
       " 'score_time': array([0.3593657 , 0.34653974, 0.29802251, 0.35856032, 0.35385442]),\n",
       " 'test_score': array([-1.01255625, -0.93576172, -0.94862547, -0.99144258, -0.98917666]),\n",
       " 'train_score': array([-0., -0., -0., -0., -0.])}"
      ]
     },
     "execution_count": 147,
     "metadata": {},
     "output_type": "execute_result"
    }
   ],
   "source": [
    "print(f\"Train: {best_knn_cv['train_score'].mean()}\")\n",
    "print(f\"Test: {best_knn_cv['test_score'].mean()}\")\n",
    "best_knn_cv"
   ]
  },
  {
   "cell_type": "markdown",
   "metadata": {},
   "source": [
    "**Testing on Validation Data**"
   ]
  },
  {
   "cell_type": "code",
   "execution_count": 148,
   "metadata": {
    "ExecuteTime": {
     "end_time": "2023-02-15T15:12:47.965668Z",
     "start_time": "2023-02-15T15:12:45.991145Z"
    }
   },
   "outputs": [],
   "source": [
    "best_knn.fit(X_train, y_train);"
   ]
  },
  {
   "cell_type": "code",
   "execution_count": 149,
   "metadata": {
    "ExecuteTime": {
     "end_time": "2023-02-15T15:12:48.799252Z",
     "start_time": "2023-02-15T15:12:47.966670Z"
    }
   },
   "outputs": [],
   "source": [
    "best_knn_pred = best_knn.predict(X_val)"
   ]
  },
  {
   "cell_type": "code",
   "execution_count": 150,
   "metadata": {
    "ExecuteTime": {
     "end_time": "2023-02-15T15:12:48.814400Z",
     "start_time": "2023-02-15T15:12:48.800252Z"
    }
   },
   "outputs": [
    {
     "name": "stdout",
     "output_type": "stream",
     "text": [
      "RMSE for south (n=2744): 0.9562\n",
      "RMSE for midwest (n=626): 1.0291\n",
      "RMSE for west (n=1030): 0.6726\n",
      "RMSE for northeast (n=309): 0.9102\n",
      "Final score: 0.8920461891255786\n"
     ]
    },
    {
     "data": {
      "text/plain": [
       "0.8920461891255786"
      ]
     },
     "execution_count": 150,
     "metadata": {},
     "output_type": "execute_result"
    }
   ],
   "source": [
    "check_score(val_score, best_knn_pred)"
   ]
  },
  {
   "cell_type": "markdown",
   "metadata": {},
   "source": [
    "## Stacking Classifier Model"
   ]
  },
  {
   "cell_type": "markdown",
   "metadata": {},
   "source": [
    "I'm setting up a stacking classifier with the best models and their hyperparameters to see how they perform in tandem. The stacking classifier received a score of .719 on unseen validation data. It also has cross validated results of .788 on test data and .392 on training data.\n",
    "\n",
    "I am only including models that received a score of less than 1.00 on cross validated training data. I am excluding KNN due to the extreme overfitting of the model.\n",
    "\n",
    "While this model has a cross validated test score that is lower than the XGBoost model, it is much less overfit and performs better on unseen validation data."
   ]
  },
  {
   "cell_type": "code",
   "execution_count": 151,
   "metadata": {
    "ExecuteTime": {
     "end_time": "2023-02-15T15:12:48.829909Z",
     "start_time": "2023-02-15T15:12:48.815402Z"
    }
   },
   "outputs": [],
   "source": [
    "estimators = [\n",
    "    ('logreg', LogisticRegression(random_state=42,\n",
    "                                 fit_intercept=False,\n",
    "                                 max_iter=175,\n",
    "                                 penalty=None,\n",
    "                                 solver='newton-cg')),\n",
    "    ('rf', RandomForestClassifier(criterion='entropy',\n",
    "                                  min_samples_split=3,\n",
    "                                  n_estimators=150,\n",
    "                                  random_state=42)),\n",
    "    ('xgb', XGBClassifier(learning_rate= 0.2,\n",
    "                          n_estimators = 200,\n",
    "                          random_state=42))\n",
    "]"
   ]
  },
  {
   "cell_type": "code",
   "execution_count": 152,
   "metadata": {
    "ExecuteTime": {
     "end_time": "2023-02-15T15:12:48.845923Z",
     "start_time": "2023-02-15T15:12:48.830909Z"
    }
   },
   "outputs": [],
   "source": [
    "stack_model = Pipeline([\n",
    "    ('ColTrans', ColTrans),\n",
    "    ('stack', StackingClassifier(estimators))\n",
    "])"
   ]
  },
  {
   "cell_type": "code",
   "execution_count": 153,
   "metadata": {
    "ExecuteTime": {
     "end_time": "2023-02-15T15:13:45.584696Z",
     "start_time": "2023-02-15T15:12:48.846924Z"
    }
   },
   "outputs": [],
   "source": [
    "stack_model.fit(X_train, y_train_adj);"
   ]
  },
  {
   "cell_type": "code",
   "execution_count": 154,
   "metadata": {
    "ExecuteTime": {
     "end_time": "2023-02-15T15:13:46.431536Z",
     "start_time": "2023-02-15T15:13:45.585696Z"
    }
   },
   "outputs": [
    {
     "data": {
      "text/plain": [
       "0.6742408154597579"
      ]
     },
     "execution_count": 154,
     "metadata": {},
     "output_type": "execute_result"
    }
   ],
   "source": [
    "stack_model.score(X_val, y_val_adj)"
   ]
  },
  {
   "cell_type": "code",
   "execution_count": 155,
   "metadata": {
    "ExecuteTime": {
     "end_time": "2023-02-15T15:13:47.272811Z",
     "start_time": "2023-02-15T15:13:46.432536Z"
    }
   },
   "outputs": [],
   "source": [
    "stack_val_pred = stack_model.predict(X_val)\n",
    "stack_val_pred = stack_val_pred+1"
   ]
  },
  {
   "cell_type": "code",
   "execution_count": 156,
   "metadata": {
    "ExecuteTime": {
     "end_time": "2023-02-15T15:13:47.288320Z",
     "start_time": "2023-02-15T15:13:47.273811Z"
    }
   },
   "outputs": [
    {
     "name": "stdout",
     "output_type": "stream",
     "text": [
      "RMSE for south (n=2744): 0.9001\n",
      "RMSE for midwest (n=626): 0.8043\n",
      "RMSE for west (n=1030): 0.3791\n",
      "RMSE for northeast (n=309): 0.7964\n",
      "Final score: 0.7199775137157071\n"
     ]
    },
    {
     "data": {
      "text/plain": [
       "0.7199775137157071"
      ]
     },
     "execution_count": 156,
     "metadata": {},
     "output_type": "execute_result"
    }
   ],
   "source": [
    "check_score(val_score, stack_val_pred)"
   ]
  },
  {
   "cell_type": "code",
   "execution_count": 157,
   "metadata": {
    "ExecuteTime": {
     "end_time": "2023-02-15T15:17:48.893098Z",
     "start_time": "2023-02-15T15:13:47.289323Z"
    }
   },
   "outputs": [],
   "source": [
    "stack_cv = cross_validate(stack_model, \n",
    "                          X_train, \n",
    "                          y_train_adj, \n",
    "                          scoring=regional_scorer, \n",
    "                          return_train_score=True)"
   ]
  },
  {
   "cell_type": "code",
   "execution_count": 158,
   "metadata": {
    "ExecuteTime": {
     "end_time": "2023-02-15T15:17:48.908397Z",
     "start_time": "2023-02-15T15:17:48.894098Z"
    }
   },
   "outputs": [
    {
     "name": "stdout",
     "output_type": "stream",
     "text": [
      "Train: -0.3922973330342381\n",
      "Test: -0.7887982868606599\n"
     ]
    },
    {
     "data": {
      "text/plain": [
       "{'fit_time': array([47.81766105, 45.8872869 , 46.54463482, 46.02023983, 46.31880093]),\n",
       " 'score_time': array([0.37714386, 0.36433125, 0.31975436, 0.37465787, 0.37444639]),\n",
       " 'test_score': array([-0.80409216, -0.76702976, -0.74844025, -0.81701968, -0.80740958]),\n",
       " 'train_score': array([-0.40927534, -0.37963539, -0.38918324, -0.39265756, -0.39073513])}"
      ]
     },
     "execution_count": 158,
     "metadata": {},
     "output_type": "execute_result"
    }
   ],
   "source": [
    "print(f\"Train: {stack_cv['train_score'].mean()}\")\n",
    "print(f\"Test: {stack_cv['test_score'].mean()}\")\n",
    "stack_cv"
   ]
  },
  {
   "cell_type": "markdown",
   "metadata": {},
   "source": [
    "Updating the scorecard."
   ]
  },
  {
   "cell_type": "code",
   "execution_count": 159,
   "metadata": {
    "ExecuteTime": {
     "end_time": "2023-02-15T15:22:48.888728Z",
     "start_time": "2023-02-15T15:17:48.909399Z"
    }
   },
   "outputs": [
    {
     "name": "stdout",
     "output_type": "stream",
     "text": [
      "RMSE for south (n=2744): 0.9001\n",
      "RMSE for midwest (n=626): 0.8043\n",
      "RMSE for west (n=1030): 0.3791\n",
      "RMSE for northeast (n=309): 0.7964\n",
      "Final score: 0.7199775137157071\n"
     ]
    },
    {
     "data": {
      "text/html": [
       "<div>\n",
       "<style scoped>\n",
       "    .dataframe tbody tr th:only-of-type {\n",
       "        vertical-align: middle;\n",
       "    }\n",
       "\n",
       "    .dataframe tbody tr th {\n",
       "        vertical-align: top;\n",
       "    }\n",
       "\n",
       "    .dataframe thead th {\n",
       "        text-align: right;\n",
       "    }\n",
       "</style>\n",
       "<table border=\"1\" class=\"dataframe\">\n",
       "  <thead>\n",
       "    <tr style=\"text-align: right;\">\n",
       "      <th></th>\n",
       "      <th>Model Name</th>\n",
       "      <th>CV_Train</th>\n",
       "      <th>CV_Test</th>\n",
       "      <th>Difference</th>\n",
       "      <th>Unseen Data</th>\n",
       "    </tr>\n",
       "  </thead>\n",
       "  <tbody>\n",
       "    <tr>\n",
       "      <th>0</th>\n",
       "      <td>dummy_model</td>\n",
       "      <td>1.658196</td>\n",
       "      <td>1.657582</td>\n",
       "      <td>Underfit: (0.001)</td>\n",
       "      <td>1.653806</td>\n",
       "    </tr>\n",
       "    <tr>\n",
       "      <th>1</th>\n",
       "      <td>LogReg_Base</td>\n",
       "      <td>1.658196</td>\n",
       "      <td>1.657582</td>\n",
       "      <td>Underfit: (0.001)</td>\n",
       "      <td>1.653806</td>\n",
       "    </tr>\n",
       "    <tr>\n",
       "      <th>2</th>\n",
       "      <td>LogReg_GS1</td>\n",
       "      <td>0.983089</td>\n",
       "      <td>0.984196</td>\n",
       "      <td>Overfit: (0.001)</td>\n",
       "      <td>0.952627</td>\n",
       "    </tr>\n",
       "    <tr>\n",
       "      <th>3</th>\n",
       "      <td>LogReg_GS2</td>\n",
       "      <td>0.978392</td>\n",
       "      <td>0.982059</td>\n",
       "      <td>Overfit: (0.004)</td>\n",
       "      <td>0.951622</td>\n",
       "    </tr>\n",
       "    <tr>\n",
       "      <th>4</th>\n",
       "      <td>LogReg_GS3</td>\n",
       "      <td>0.974411</td>\n",
       "      <td>0.981109</td>\n",
       "      <td>Overfit: (0.007)</td>\n",
       "      <td>0.952596</td>\n",
       "    </tr>\n",
       "    <tr>\n",
       "      <th>5</th>\n",
       "      <td>Random_Forest_Base</td>\n",
       "      <td>0.004530</td>\n",
       "      <td>0.836388</td>\n",
       "      <td>Overfit: (0.832)</td>\n",
       "      <td>0.773322</td>\n",
       "    </tr>\n",
       "    <tr>\n",
       "      <th>6</th>\n",
       "      <td>Random_Forest_GS1</td>\n",
       "      <td>0.052565</td>\n",
       "      <td>0.831655</td>\n",
       "      <td>Overfit: (0.779)</td>\n",
       "      <td>0.788095</td>\n",
       "    </tr>\n",
       "    <tr>\n",
       "      <th>7</th>\n",
       "      <td>Random_Forest_GS2</td>\n",
       "      <td>0.076151</td>\n",
       "      <td>0.814660</td>\n",
       "      <td>Overfit: (0.739)</td>\n",
       "      <td>0.775325</td>\n",
       "    </tr>\n",
       "    <tr>\n",
       "      <th>8</th>\n",
       "      <td>Random_Forest_GS3</td>\n",
       "      <td>0.067371</td>\n",
       "      <td>0.808106</td>\n",
       "      <td>Overfit: (0.741)</td>\n",
       "      <td>0.783564</td>\n",
       "    </tr>\n",
       "    <tr>\n",
       "      <th>9</th>\n",
       "      <td>XGBoost_Base</td>\n",
       "      <td>0.271705</td>\n",
       "      <td>0.768674</td>\n",
       "      <td>Overfit: (0.497)</td>\n",
       "      <td>0.732716</td>\n",
       "    </tr>\n",
       "    <tr>\n",
       "      <th>10</th>\n",
       "      <td>XGBoost_GS</td>\n",
       "      <td>0.211160</td>\n",
       "      <td>0.764592</td>\n",
       "      <td>Overfit: (0.553)</td>\n",
       "      <td>0.723697</td>\n",
       "    </tr>\n",
       "    <tr>\n",
       "      <th>11</th>\n",
       "      <td>SVC_Base</td>\n",
       "      <td>1.476211</td>\n",
       "      <td>1.486713</td>\n",
       "      <td>Overfit: (0.011)</td>\n",
       "      <td>1.653806</td>\n",
       "    </tr>\n",
       "    <tr>\n",
       "      <th>12</th>\n",
       "      <td>SVC_GS</td>\n",
       "      <td>1.476211</td>\n",
       "      <td>1.486713</td>\n",
       "      <td>Overfit: (0.011)</td>\n",
       "      <td>1.653806</td>\n",
       "    </tr>\n",
       "    <tr>\n",
       "      <th>13</th>\n",
       "      <td>MLP_Base</td>\n",
       "      <td>1.658196</td>\n",
       "      <td>1.657582</td>\n",
       "      <td>Underfit: (0.001)</td>\n",
       "      <td>1.653806</td>\n",
       "    </tr>\n",
       "    <tr>\n",
       "      <th>14</th>\n",
       "      <td>MLP_GS1</td>\n",
       "      <td>1.293554</td>\n",
       "      <td>1.293555</td>\n",
       "      <td>Good Fit: (0.0)</td>\n",
       "      <td>1.653806</td>\n",
       "    </tr>\n",
       "    <tr>\n",
       "      <th>15</th>\n",
       "      <td>MLP_GS2</td>\n",
       "      <td>1.293554</td>\n",
       "      <td>1.293555</td>\n",
       "      <td>Good Fit: (0.0)</td>\n",
       "      <td>1.653806</td>\n",
       "    </tr>\n",
       "    <tr>\n",
       "      <th>16</th>\n",
       "      <td>KNN_Base</td>\n",
       "      <td>0.911666</td>\n",
       "      <td>1.114483</td>\n",
       "      <td>Overfit: (0.203)</td>\n",
       "      <td>1.070038</td>\n",
       "    </tr>\n",
       "    <tr>\n",
       "      <th>17</th>\n",
       "      <td>KNN_GS1</td>\n",
       "      <td>0.000000</td>\n",
       "      <td>0.997273</td>\n",
       "      <td>Overfit: (0.997)</td>\n",
       "      <td>0.935232</td>\n",
       "    </tr>\n",
       "    <tr>\n",
       "      <th>18</th>\n",
       "      <td>KNN_GS2</td>\n",
       "      <td>0.000000</td>\n",
       "      <td>0.975513</td>\n",
       "      <td>Overfit: (0.976)</td>\n",
       "      <td>0.892046</td>\n",
       "    </tr>\n",
       "    <tr>\n",
       "      <th>19</th>\n",
       "      <td>Stack1</td>\n",
       "      <td>0.392297</td>\n",
       "      <td>0.788798</td>\n",
       "      <td>Overfit: (0.397)</td>\n",
       "      <td>0.719978</td>\n",
       "    </tr>\n",
       "  </tbody>\n",
       "</table>\n",
       "</div>"
      ],
      "text/plain": [
       "            Model Name  CV_Train   CV_Test         Difference  Unseen Data\n",
       "0          dummy_model  1.658196  1.657582  Underfit: (0.001)     1.653806\n",
       "1          LogReg_Base  1.658196  1.657582  Underfit: (0.001)     1.653806\n",
       "2           LogReg_GS1  0.983089  0.984196   Overfit: (0.001)     0.952627\n",
       "3           LogReg_GS2  0.978392  0.982059   Overfit: (0.004)     0.951622\n",
       "4           LogReg_GS3  0.974411  0.981109   Overfit: (0.007)     0.952596\n",
       "5   Random_Forest_Base  0.004530  0.836388   Overfit: (0.832)     0.773322\n",
       "6    Random_Forest_GS1  0.052565  0.831655   Overfit: (0.779)     0.788095\n",
       "7    Random_Forest_GS2  0.076151  0.814660   Overfit: (0.739)     0.775325\n",
       "8    Random_Forest_GS3  0.067371  0.808106   Overfit: (0.741)     0.783564\n",
       "9         XGBoost_Base  0.271705  0.768674   Overfit: (0.497)     0.732716\n",
       "10          XGBoost_GS  0.211160  0.764592   Overfit: (0.553)     0.723697\n",
       "11            SVC_Base  1.476211  1.486713   Overfit: (0.011)     1.653806\n",
       "12              SVC_GS  1.476211  1.486713   Overfit: (0.011)     1.653806\n",
       "13            MLP_Base  1.658196  1.657582  Underfit: (0.001)     1.653806\n",
       "14             MLP_GS1  1.293554  1.293555    Good Fit: (0.0)     1.653806\n",
       "15             MLP_GS2  1.293554  1.293555    Good Fit: (0.0)     1.653806\n",
       "16            KNN_Base  0.911666  1.114483   Overfit: (0.203)     1.070038\n",
       "17             KNN_GS1  0.000000  0.997273   Overfit: (0.997)     0.935232\n",
       "18             KNN_GS2  0.000000  0.975513   Overfit: (0.976)     0.892046\n",
       "19              Stack1  0.392297  0.788798   Overfit: (0.397)     0.719978"
      ]
     },
     "execution_count": 159,
     "metadata": {},
     "output_type": "execute_result"
    }
   ],
   "source": [
    "scores_df = update_scorecard(stack_model, 'Stack1', scores_df)\n",
    "scores_df"
   ]
  },
  {
   "cell_type": "markdown",
   "metadata": {},
   "source": [
    "### Second Stacking Classifier Model"
   ]
  },
  {
   "cell_type": "markdown",
   "metadata": {},
   "source": [
    "In this iteration of the model, I am not using the \"best\" XGBoost model and instead will be using the untuned model to compare. I am making this change because the two models have very similar results on cross validated test data, while the untuned model is much less overfit.\n",
    "\n",
    "While this model performed worse on the unseen validation data. It has a higher cross validated test score (.779) and is less overfit (.415) on the training data."
   ]
  },
  {
   "cell_type": "code",
   "execution_count": 160,
   "metadata": {
    "ExecuteTime": {
     "end_time": "2023-02-15T15:22:48.904237Z",
     "start_time": "2023-02-15T15:22:48.890230Z"
    }
   },
   "outputs": [],
   "source": [
    "estimators2 = [\n",
    "    ('logreg', LogisticRegression(random_state=42,\n",
    "                                 fit_intercept=False,\n",
    "                                 max_iter=175,\n",
    "                                 penalty=None,\n",
    "                                 solver='newton-cg')),\n",
    "    ('rf', RandomForestClassifier(criterion='entropy',\n",
    "                                  min_samples_split=3,\n",
    "                                  n_estimators=150,\n",
    "                                  random_state=42)),\n",
    "    ('xgb', XGBClassifier(random_state=42))\n",
    "]"
   ]
  },
  {
   "cell_type": "code",
   "execution_count": 161,
   "metadata": {
    "ExecuteTime": {
     "end_time": "2023-02-15T15:22:48.920245Z",
     "start_time": "2023-02-15T15:22:48.905237Z"
    }
   },
   "outputs": [],
   "source": [
    "stack_model2 = Pipeline([\n",
    "    ('ColTrans', ColTrans),\n",
    "    ('stack2', StackingClassifier(estimators2))\n",
    "])"
   ]
  },
  {
   "cell_type": "code",
   "execution_count": 162,
   "metadata": {
    "ExecuteTime": {
     "end_time": "2023-02-15T15:23:42.292393Z",
     "start_time": "2023-02-15T15:22:48.921250Z"
    }
   },
   "outputs": [],
   "source": [
    "stack_model2.fit(X_train, y_train_adj);"
   ]
  },
  {
   "cell_type": "code",
   "execution_count": 163,
   "metadata": {
    "ExecuteTime": {
     "end_time": "2023-02-15T15:23:43.121011Z",
     "start_time": "2023-02-15T15:23:42.293393Z"
    }
   },
   "outputs": [
    {
     "data": {
      "text/plain": [
       "0.6750902527075813"
      ]
     },
     "execution_count": 163,
     "metadata": {},
     "output_type": "execute_result"
    }
   ],
   "source": [
    "stack_model2.score(X_val, y_val_adj)"
   ]
  },
  {
   "cell_type": "code",
   "execution_count": 164,
   "metadata": {
    "ExecuteTime": {
     "end_time": "2023-02-15T15:23:43.978493Z",
     "start_time": "2023-02-15T15:23:43.122013Z"
    }
   },
   "outputs": [],
   "source": [
    "stack_val_pred2 = stack_model2.predict(X_val)\n",
    "stack_val_pred2 = stack_val_pred2+1"
   ]
  },
  {
   "cell_type": "code",
   "execution_count": 165,
   "metadata": {
    "ExecuteTime": {
     "end_time": "2023-02-15T15:23:43.994000Z",
     "start_time": "2023-02-15T15:23:43.979493Z"
    }
   },
   "outputs": [
    {
     "name": "stdout",
     "output_type": "stream",
     "text": [
      "RMSE for south (n=2744): 0.8956\n",
      "RMSE for midwest (n=626): 0.8152\n",
      "RMSE for west (n=1030): 0.4051\n",
      "RMSE for northeast (n=309): 0.8341\n",
      "Final score: 0.7375015647214597\n"
     ]
    },
    {
     "data": {
      "text/plain": [
       "0.7375015647214597"
      ]
     },
     "execution_count": 165,
     "metadata": {},
     "output_type": "execute_result"
    }
   ],
   "source": [
    "check_score(val_score, stack_val_pred2)"
   ]
  },
  {
   "cell_type": "code",
   "execution_count": 166,
   "metadata": {
    "ExecuteTime": {
     "end_time": "2023-02-15T15:27:23.809000Z",
     "start_time": "2023-02-15T15:23:43.995503Z"
    }
   },
   "outputs": [],
   "source": [
    "stack_cv2 = cross_validate(stack_model2, \n",
    "                          X_train, \n",
    "                          y_train_adj, \n",
    "                          scoring=regional_scorer, \n",
    "                          return_train_score=True)"
   ]
  },
  {
   "cell_type": "code",
   "execution_count": 167,
   "metadata": {
    "ExecuteTime": {
     "end_time": "2023-02-15T15:27:23.824989Z",
     "start_time": "2023-02-15T15:27:23.810000Z"
    }
   },
   "outputs": [
    {
     "name": "stdout",
     "output_type": "stream",
     "text": [
      "Train: -0.415859998890553\n",
      "Test: -0.7793028863598923\n"
     ]
    },
    {
     "data": {
      "text/plain": [
       "{'fit_time': array([43.00295115, 41.64087319, 42.15831614, 41.69835997, 42.29137802]),\n",
       " 'score_time': array([0.36788583, 0.37436676, 0.32047319, 0.37131   , 0.37013221]),\n",
       " 'test_score': array([-0.78652868, -0.75813897, -0.76706417, -0.80204771, -0.78273492]),\n",
       " 'train_score': array([-0.4189947 , -0.40629408, -0.41070106, -0.4155496 , -0.42776056])}"
      ]
     },
     "execution_count": 167,
     "metadata": {},
     "output_type": "execute_result"
    }
   ],
   "source": [
    "print(f\"Train: {stack_cv2['train_score'].mean()}\")\n",
    "print(f\"Test: {stack_cv2['test_score'].mean()}\")\n",
    "stack_cv2"
   ]
  },
  {
   "cell_type": "markdown",
   "metadata": {},
   "source": [
    "Updating the scorecard."
   ]
  },
  {
   "cell_type": "code",
   "execution_count": 168,
   "metadata": {
    "ExecuteTime": {
     "end_time": "2023-02-15T15:31:57.844788Z",
     "start_time": "2023-02-15T15:27:23.826491Z"
    }
   },
   "outputs": [
    {
     "name": "stdout",
     "output_type": "stream",
     "text": [
      "RMSE for south (n=2744): 0.8956\n",
      "RMSE for midwest (n=626): 0.8152\n",
      "RMSE for west (n=1030): 0.4051\n",
      "RMSE for northeast (n=309): 0.8341\n",
      "Final score: 0.7375015647214597\n"
     ]
    },
    {
     "data": {
      "text/html": [
       "<div>\n",
       "<style scoped>\n",
       "    .dataframe tbody tr th:only-of-type {\n",
       "        vertical-align: middle;\n",
       "    }\n",
       "\n",
       "    .dataframe tbody tr th {\n",
       "        vertical-align: top;\n",
       "    }\n",
       "\n",
       "    .dataframe thead th {\n",
       "        text-align: right;\n",
       "    }\n",
       "</style>\n",
       "<table border=\"1\" class=\"dataframe\">\n",
       "  <thead>\n",
       "    <tr style=\"text-align: right;\">\n",
       "      <th></th>\n",
       "      <th>Model Name</th>\n",
       "      <th>CV_Train</th>\n",
       "      <th>CV_Test</th>\n",
       "      <th>Difference</th>\n",
       "      <th>Unseen Data</th>\n",
       "    </tr>\n",
       "  </thead>\n",
       "  <tbody>\n",
       "    <tr>\n",
       "      <th>0</th>\n",
       "      <td>dummy_model</td>\n",
       "      <td>1.658196</td>\n",
       "      <td>1.657582</td>\n",
       "      <td>Underfit: (0.001)</td>\n",
       "      <td>1.653806</td>\n",
       "    </tr>\n",
       "    <tr>\n",
       "      <th>1</th>\n",
       "      <td>LogReg_Base</td>\n",
       "      <td>1.658196</td>\n",
       "      <td>1.657582</td>\n",
       "      <td>Underfit: (0.001)</td>\n",
       "      <td>1.653806</td>\n",
       "    </tr>\n",
       "    <tr>\n",
       "      <th>2</th>\n",
       "      <td>LogReg_GS1</td>\n",
       "      <td>0.983089</td>\n",
       "      <td>0.984196</td>\n",
       "      <td>Overfit: (0.001)</td>\n",
       "      <td>0.952627</td>\n",
       "    </tr>\n",
       "    <tr>\n",
       "      <th>3</th>\n",
       "      <td>LogReg_GS2</td>\n",
       "      <td>0.978392</td>\n",
       "      <td>0.982059</td>\n",
       "      <td>Overfit: (0.004)</td>\n",
       "      <td>0.951622</td>\n",
       "    </tr>\n",
       "    <tr>\n",
       "      <th>4</th>\n",
       "      <td>LogReg_GS3</td>\n",
       "      <td>0.974411</td>\n",
       "      <td>0.981109</td>\n",
       "      <td>Overfit: (0.007)</td>\n",
       "      <td>0.952596</td>\n",
       "    </tr>\n",
       "    <tr>\n",
       "      <th>5</th>\n",
       "      <td>Random_Forest_Base</td>\n",
       "      <td>0.004530</td>\n",
       "      <td>0.836388</td>\n",
       "      <td>Overfit: (0.832)</td>\n",
       "      <td>0.773322</td>\n",
       "    </tr>\n",
       "    <tr>\n",
       "      <th>6</th>\n",
       "      <td>Random_Forest_GS1</td>\n",
       "      <td>0.052565</td>\n",
       "      <td>0.831655</td>\n",
       "      <td>Overfit: (0.779)</td>\n",
       "      <td>0.788095</td>\n",
       "    </tr>\n",
       "    <tr>\n",
       "      <th>7</th>\n",
       "      <td>Random_Forest_GS2</td>\n",
       "      <td>0.076151</td>\n",
       "      <td>0.814660</td>\n",
       "      <td>Overfit: (0.739)</td>\n",
       "      <td>0.775325</td>\n",
       "    </tr>\n",
       "    <tr>\n",
       "      <th>8</th>\n",
       "      <td>Random_Forest_GS3</td>\n",
       "      <td>0.067371</td>\n",
       "      <td>0.808106</td>\n",
       "      <td>Overfit: (0.741)</td>\n",
       "      <td>0.783564</td>\n",
       "    </tr>\n",
       "    <tr>\n",
       "      <th>9</th>\n",
       "      <td>XGBoost_Base</td>\n",
       "      <td>0.271705</td>\n",
       "      <td>0.768674</td>\n",
       "      <td>Overfit: (0.497)</td>\n",
       "      <td>0.732716</td>\n",
       "    </tr>\n",
       "    <tr>\n",
       "      <th>10</th>\n",
       "      <td>XGBoost_GS</td>\n",
       "      <td>0.211160</td>\n",
       "      <td>0.764592</td>\n",
       "      <td>Overfit: (0.553)</td>\n",
       "      <td>0.723697</td>\n",
       "    </tr>\n",
       "    <tr>\n",
       "      <th>11</th>\n",
       "      <td>SVC_Base</td>\n",
       "      <td>1.476211</td>\n",
       "      <td>1.486713</td>\n",
       "      <td>Overfit: (0.011)</td>\n",
       "      <td>1.653806</td>\n",
       "    </tr>\n",
       "    <tr>\n",
       "      <th>12</th>\n",
       "      <td>SVC_GS</td>\n",
       "      <td>1.476211</td>\n",
       "      <td>1.486713</td>\n",
       "      <td>Overfit: (0.011)</td>\n",
       "      <td>1.653806</td>\n",
       "    </tr>\n",
       "    <tr>\n",
       "      <th>13</th>\n",
       "      <td>MLP_Base</td>\n",
       "      <td>1.658196</td>\n",
       "      <td>1.657582</td>\n",
       "      <td>Underfit: (0.001)</td>\n",
       "      <td>1.653806</td>\n",
       "    </tr>\n",
       "    <tr>\n",
       "      <th>14</th>\n",
       "      <td>MLP_GS1</td>\n",
       "      <td>1.293554</td>\n",
       "      <td>1.293555</td>\n",
       "      <td>Good Fit: (0.0)</td>\n",
       "      <td>1.653806</td>\n",
       "    </tr>\n",
       "    <tr>\n",
       "      <th>15</th>\n",
       "      <td>MLP_GS2</td>\n",
       "      <td>1.293554</td>\n",
       "      <td>1.293555</td>\n",
       "      <td>Good Fit: (0.0)</td>\n",
       "      <td>1.653806</td>\n",
       "    </tr>\n",
       "    <tr>\n",
       "      <th>16</th>\n",
       "      <td>KNN_Base</td>\n",
       "      <td>0.911666</td>\n",
       "      <td>1.114483</td>\n",
       "      <td>Overfit: (0.203)</td>\n",
       "      <td>1.070038</td>\n",
       "    </tr>\n",
       "    <tr>\n",
       "      <th>17</th>\n",
       "      <td>KNN_GS1</td>\n",
       "      <td>0.000000</td>\n",
       "      <td>0.997273</td>\n",
       "      <td>Overfit: (0.997)</td>\n",
       "      <td>0.935232</td>\n",
       "    </tr>\n",
       "    <tr>\n",
       "      <th>18</th>\n",
       "      <td>KNN_GS2</td>\n",
       "      <td>0.000000</td>\n",
       "      <td>0.975513</td>\n",
       "      <td>Overfit: (0.976)</td>\n",
       "      <td>0.892046</td>\n",
       "    </tr>\n",
       "    <tr>\n",
       "      <th>19</th>\n",
       "      <td>Stack1</td>\n",
       "      <td>0.392297</td>\n",
       "      <td>0.788798</td>\n",
       "      <td>Overfit: (0.397)</td>\n",
       "      <td>0.719978</td>\n",
       "    </tr>\n",
       "    <tr>\n",
       "      <th>20</th>\n",
       "      <td>Stack2</td>\n",
       "      <td>0.415860</td>\n",
       "      <td>0.779303</td>\n",
       "      <td>Overfit: (0.363)</td>\n",
       "      <td>0.737502</td>\n",
       "    </tr>\n",
       "  </tbody>\n",
       "</table>\n",
       "</div>"
      ],
      "text/plain": [
       "            Model Name  CV_Train   CV_Test         Difference  Unseen Data\n",
       "0          dummy_model  1.658196  1.657582  Underfit: (0.001)     1.653806\n",
       "1          LogReg_Base  1.658196  1.657582  Underfit: (0.001)     1.653806\n",
       "2           LogReg_GS1  0.983089  0.984196   Overfit: (0.001)     0.952627\n",
       "3           LogReg_GS2  0.978392  0.982059   Overfit: (0.004)     0.951622\n",
       "4           LogReg_GS3  0.974411  0.981109   Overfit: (0.007)     0.952596\n",
       "5   Random_Forest_Base  0.004530  0.836388   Overfit: (0.832)     0.773322\n",
       "6    Random_Forest_GS1  0.052565  0.831655   Overfit: (0.779)     0.788095\n",
       "7    Random_Forest_GS2  0.076151  0.814660   Overfit: (0.739)     0.775325\n",
       "8    Random_Forest_GS3  0.067371  0.808106   Overfit: (0.741)     0.783564\n",
       "9         XGBoost_Base  0.271705  0.768674   Overfit: (0.497)     0.732716\n",
       "10          XGBoost_GS  0.211160  0.764592   Overfit: (0.553)     0.723697\n",
       "11            SVC_Base  1.476211  1.486713   Overfit: (0.011)     1.653806\n",
       "12              SVC_GS  1.476211  1.486713   Overfit: (0.011)     1.653806\n",
       "13            MLP_Base  1.658196  1.657582  Underfit: (0.001)     1.653806\n",
       "14             MLP_GS1  1.293554  1.293555    Good Fit: (0.0)     1.653806\n",
       "15             MLP_GS2  1.293554  1.293555    Good Fit: (0.0)     1.653806\n",
       "16            KNN_Base  0.911666  1.114483   Overfit: (0.203)     1.070038\n",
       "17             KNN_GS1  0.000000  0.997273   Overfit: (0.997)     0.935232\n",
       "18             KNN_GS2  0.000000  0.975513   Overfit: (0.976)     0.892046\n",
       "19              Stack1  0.392297  0.788798   Overfit: (0.397)     0.719978\n",
       "20              Stack2  0.415860  0.779303   Overfit: (0.363)     0.737502"
      ]
     },
     "execution_count": 168,
     "metadata": {},
     "output_type": "execute_result"
    }
   ],
   "source": [
    "scores_df = update_scorecard(stack_model2, 'Stack2', scores_df)\n",
    "scores_df"
   ]
  },
  {
   "cell_type": "markdown",
   "metadata": {},
   "source": [
    "### Third Iteration of Stacking Classifier"
   ]
  },
  {
   "cell_type": "markdown",
   "metadata": {},
   "source": [
    "Since the Random Forest Model scored .067 on cross validated training data and .808 on cross validated test data, I will be taking it out of this version of the stacking classifier to try and further reduce overfitting.\n",
    "\n",
    "This model is less overfit than the previous iteration, however it performs worse on unseen validation data and worse on cross validated test data."
   ]
  },
  {
   "cell_type": "code",
   "execution_count": 169,
   "metadata": {
    "ExecuteTime": {
     "end_time": "2023-02-15T15:31:57.860605Z",
     "start_time": "2023-02-15T15:31:57.846291Z"
    }
   },
   "outputs": [],
   "source": [
    "estimators3 = [\n",
    "    ('logreg', LogisticRegression(random_state=42,\n",
    "                                 fit_intercept=False,\n",
    "                                 max_iter=175,\n",
    "                                 penalty=None,\n",
    "                                 solver='newton-cg')),\n",
    "    ('xgb', XGBClassifier(random_state=42))\n",
    "]"
   ]
  },
  {
   "cell_type": "code",
   "execution_count": 170,
   "metadata": {
    "ExecuteTime": {
     "end_time": "2023-02-15T15:31:57.876114Z",
     "start_time": "2023-02-15T15:31:57.861605Z"
    }
   },
   "outputs": [],
   "source": [
    "stack_model3 = Pipeline([\n",
    "    ('ColTrans', ColTrans),\n",
    "    ('stack3', StackingClassifier(estimators3))\n",
    "])"
   ]
  },
  {
   "cell_type": "code",
   "execution_count": 171,
   "metadata": {
    "ExecuteTime": {
     "end_time": "2023-02-15T15:32:28.295732Z",
     "start_time": "2023-02-15T15:31:57.877621Z"
    }
   },
   "outputs": [],
   "source": [
    "stack_model3.fit(X_train, y_train_adj);"
   ]
  },
  {
   "cell_type": "code",
   "execution_count": 172,
   "metadata": {
    "ExecuteTime": {
     "end_time": "2023-02-15T15:32:29.045421Z",
     "start_time": "2023-02-15T15:32:28.296734Z"
    }
   },
   "outputs": [
    {
     "data": {
      "text/plain": [
       "0.6719048630282438"
      ]
     },
     "execution_count": 172,
     "metadata": {},
     "output_type": "execute_result"
    }
   ],
   "source": [
    "stack_model3.score(X_val, y_val_adj)"
   ]
  },
  {
   "cell_type": "code",
   "execution_count": 173,
   "metadata": {
    "ExecuteTime": {
     "end_time": "2023-02-15T15:32:29.797013Z",
     "start_time": "2023-02-15T15:32:29.046424Z"
    }
   },
   "outputs": [],
   "source": [
    "stack_val_pred3 = stack_model3.predict(X_val)\n",
    "stack_val_pred3 = stack_val_pred3+1"
   ]
  },
  {
   "cell_type": "code",
   "execution_count": 174,
   "metadata": {
    "ExecuteTime": {
     "end_time": "2023-02-15T15:32:29.811708Z",
     "start_time": "2023-02-15T15:32:29.798013Z"
    }
   },
   "outputs": [
    {
     "name": "stdout",
     "output_type": "stream",
     "text": [
      "RMSE for south (n=2744): 0.9059\n",
      "RMSE for midwest (n=626): 0.8336\n",
      "RMSE for west (n=1030): 0.4063\n",
      "RMSE for northeast (n=309): 0.8419\n",
      "Final score: 0.7469129213950463\n"
     ]
    },
    {
     "data": {
      "text/plain": [
       "0.7469129213950463"
      ]
     },
     "execution_count": 174,
     "metadata": {},
     "output_type": "execute_result"
    }
   ],
   "source": [
    "check_score(val_score, stack_val_pred3)"
   ]
  },
  {
   "cell_type": "code",
   "execution_count": 175,
   "metadata": {
    "ExecuteTime": {
     "end_time": "2023-02-15T15:34:43.208007Z",
     "start_time": "2023-02-15T15:32:29.812709Z"
    }
   },
   "outputs": [],
   "source": [
    "stack_cv3 = cross_validate(stack_model3, \n",
    "                          X_train, \n",
    "                          y_train_adj, \n",
    "                          scoring=regional_scorer, \n",
    "                          return_train_score=True)"
   ]
  },
  {
   "cell_type": "code",
   "execution_count": 176,
   "metadata": {
    "ExecuteTime": {
     "end_time": "2023-02-15T15:34:43.223810Z",
     "start_time": "2023-02-15T15:34:43.209008Z"
    }
   },
   "outputs": [
    {
     "name": "stdout",
     "output_type": "stream",
     "text": [
      "Train: -0.4292451797483495\n",
      "Test: -0.788109006249498\n"
     ]
    },
    {
     "data": {
      "text/plain": [
       "{'fit_time': array([26.43625355, 24.73274016, 24.86071539, 24.56313562, 24.96628284]),\n",
       " 'score_time': array([0.30727243, 0.31149983, 0.2577579 , 0.31164742, 0.31376719]),\n",
       " 'test_score': array([-0.79848001, -0.76733538, -0.77473691, -0.81545725, -0.78453549]),\n",
       " 'train_score': array([-0.4207207 , -0.41142169, -0.43287377, -0.42746691, -0.45374282])}"
      ]
     },
     "execution_count": 176,
     "metadata": {},
     "output_type": "execute_result"
    }
   ],
   "source": [
    "print(f\"Train: {stack_cv3['train_score'].mean()}\")\n",
    "print(f\"Test: {stack_cv3['test_score'].mean()}\")\n",
    "stack_cv3"
   ]
  },
  {
   "cell_type": "markdown",
   "metadata": {},
   "source": [
    "Updating the scorecard."
   ]
  },
  {
   "cell_type": "code",
   "execution_count": 177,
   "metadata": {
    "ExecuteTime": {
     "end_time": "2023-02-15T15:37:26.325434Z",
     "start_time": "2023-02-15T15:34:43.224810Z"
    }
   },
   "outputs": [
    {
     "name": "stdout",
     "output_type": "stream",
     "text": [
      "RMSE for south (n=2744): 0.9059\n",
      "RMSE for midwest (n=626): 0.8336\n",
      "RMSE for west (n=1030): 0.4063\n",
      "RMSE for northeast (n=309): 0.8419\n",
      "Final score: 0.7469129213950463\n"
     ]
    },
    {
     "data": {
      "text/html": [
       "<div>\n",
       "<style scoped>\n",
       "    .dataframe tbody tr th:only-of-type {\n",
       "        vertical-align: middle;\n",
       "    }\n",
       "\n",
       "    .dataframe tbody tr th {\n",
       "        vertical-align: top;\n",
       "    }\n",
       "\n",
       "    .dataframe thead th {\n",
       "        text-align: right;\n",
       "    }\n",
       "</style>\n",
       "<table border=\"1\" class=\"dataframe\">\n",
       "  <thead>\n",
       "    <tr style=\"text-align: right;\">\n",
       "      <th></th>\n",
       "      <th>Model Name</th>\n",
       "      <th>CV_Train</th>\n",
       "      <th>CV_Test</th>\n",
       "      <th>Difference</th>\n",
       "      <th>Unseen Data</th>\n",
       "    </tr>\n",
       "  </thead>\n",
       "  <tbody>\n",
       "    <tr>\n",
       "      <th>0</th>\n",
       "      <td>dummy_model</td>\n",
       "      <td>1.658196</td>\n",
       "      <td>1.657582</td>\n",
       "      <td>Underfit: (0.001)</td>\n",
       "      <td>1.653806</td>\n",
       "    </tr>\n",
       "    <tr>\n",
       "      <th>1</th>\n",
       "      <td>LogReg_Base</td>\n",
       "      <td>1.658196</td>\n",
       "      <td>1.657582</td>\n",
       "      <td>Underfit: (0.001)</td>\n",
       "      <td>1.653806</td>\n",
       "    </tr>\n",
       "    <tr>\n",
       "      <th>2</th>\n",
       "      <td>LogReg_GS1</td>\n",
       "      <td>0.983089</td>\n",
       "      <td>0.984196</td>\n",
       "      <td>Overfit: (0.001)</td>\n",
       "      <td>0.952627</td>\n",
       "    </tr>\n",
       "    <tr>\n",
       "      <th>3</th>\n",
       "      <td>LogReg_GS2</td>\n",
       "      <td>0.978392</td>\n",
       "      <td>0.982059</td>\n",
       "      <td>Overfit: (0.004)</td>\n",
       "      <td>0.951622</td>\n",
       "    </tr>\n",
       "    <tr>\n",
       "      <th>4</th>\n",
       "      <td>LogReg_GS3</td>\n",
       "      <td>0.974411</td>\n",
       "      <td>0.981109</td>\n",
       "      <td>Overfit: (0.007)</td>\n",
       "      <td>0.952596</td>\n",
       "    </tr>\n",
       "    <tr>\n",
       "      <th>5</th>\n",
       "      <td>Random_Forest_Base</td>\n",
       "      <td>0.004530</td>\n",
       "      <td>0.836388</td>\n",
       "      <td>Overfit: (0.832)</td>\n",
       "      <td>0.773322</td>\n",
       "    </tr>\n",
       "    <tr>\n",
       "      <th>6</th>\n",
       "      <td>Random_Forest_GS1</td>\n",
       "      <td>0.052565</td>\n",
       "      <td>0.831655</td>\n",
       "      <td>Overfit: (0.779)</td>\n",
       "      <td>0.788095</td>\n",
       "    </tr>\n",
       "    <tr>\n",
       "      <th>7</th>\n",
       "      <td>Random_Forest_GS2</td>\n",
       "      <td>0.076151</td>\n",
       "      <td>0.814660</td>\n",
       "      <td>Overfit: (0.739)</td>\n",
       "      <td>0.775325</td>\n",
       "    </tr>\n",
       "    <tr>\n",
       "      <th>8</th>\n",
       "      <td>Random_Forest_GS3</td>\n",
       "      <td>0.067371</td>\n",
       "      <td>0.808106</td>\n",
       "      <td>Overfit: (0.741)</td>\n",
       "      <td>0.783564</td>\n",
       "    </tr>\n",
       "    <tr>\n",
       "      <th>9</th>\n",
       "      <td>XGBoost_Base</td>\n",
       "      <td>0.271705</td>\n",
       "      <td>0.768674</td>\n",
       "      <td>Overfit: (0.497)</td>\n",
       "      <td>0.732716</td>\n",
       "    </tr>\n",
       "    <tr>\n",
       "      <th>10</th>\n",
       "      <td>XGBoost_GS</td>\n",
       "      <td>0.211160</td>\n",
       "      <td>0.764592</td>\n",
       "      <td>Overfit: (0.553)</td>\n",
       "      <td>0.723697</td>\n",
       "    </tr>\n",
       "    <tr>\n",
       "      <th>11</th>\n",
       "      <td>SVC_Base</td>\n",
       "      <td>1.476211</td>\n",
       "      <td>1.486713</td>\n",
       "      <td>Overfit: (0.011)</td>\n",
       "      <td>1.653806</td>\n",
       "    </tr>\n",
       "    <tr>\n",
       "      <th>12</th>\n",
       "      <td>SVC_GS</td>\n",
       "      <td>1.476211</td>\n",
       "      <td>1.486713</td>\n",
       "      <td>Overfit: (0.011)</td>\n",
       "      <td>1.653806</td>\n",
       "    </tr>\n",
       "    <tr>\n",
       "      <th>13</th>\n",
       "      <td>MLP_Base</td>\n",
       "      <td>1.658196</td>\n",
       "      <td>1.657582</td>\n",
       "      <td>Underfit: (0.001)</td>\n",
       "      <td>1.653806</td>\n",
       "    </tr>\n",
       "    <tr>\n",
       "      <th>14</th>\n",
       "      <td>MLP_GS1</td>\n",
       "      <td>1.293554</td>\n",
       "      <td>1.293555</td>\n",
       "      <td>Good Fit: (0.0)</td>\n",
       "      <td>1.653806</td>\n",
       "    </tr>\n",
       "    <tr>\n",
       "      <th>15</th>\n",
       "      <td>MLP_GS2</td>\n",
       "      <td>1.293554</td>\n",
       "      <td>1.293555</td>\n",
       "      <td>Good Fit: (0.0)</td>\n",
       "      <td>1.653806</td>\n",
       "    </tr>\n",
       "    <tr>\n",
       "      <th>16</th>\n",
       "      <td>KNN_Base</td>\n",
       "      <td>0.911666</td>\n",
       "      <td>1.114483</td>\n",
       "      <td>Overfit: (0.203)</td>\n",
       "      <td>1.070038</td>\n",
       "    </tr>\n",
       "    <tr>\n",
       "      <th>17</th>\n",
       "      <td>KNN_GS1</td>\n",
       "      <td>0.000000</td>\n",
       "      <td>0.997273</td>\n",
       "      <td>Overfit: (0.997)</td>\n",
       "      <td>0.935232</td>\n",
       "    </tr>\n",
       "    <tr>\n",
       "      <th>18</th>\n",
       "      <td>KNN_GS2</td>\n",
       "      <td>0.000000</td>\n",
       "      <td>0.975513</td>\n",
       "      <td>Overfit: (0.976)</td>\n",
       "      <td>0.892046</td>\n",
       "    </tr>\n",
       "    <tr>\n",
       "      <th>19</th>\n",
       "      <td>Stack1</td>\n",
       "      <td>0.392297</td>\n",
       "      <td>0.788798</td>\n",
       "      <td>Overfit: (0.397)</td>\n",
       "      <td>0.719978</td>\n",
       "    </tr>\n",
       "    <tr>\n",
       "      <th>20</th>\n",
       "      <td>Stack2</td>\n",
       "      <td>0.415860</td>\n",
       "      <td>0.779303</td>\n",
       "      <td>Overfit: (0.363)</td>\n",
       "      <td>0.737502</td>\n",
       "    </tr>\n",
       "    <tr>\n",
       "      <th>21</th>\n",
       "      <td>Stack3</td>\n",
       "      <td>0.429245</td>\n",
       "      <td>0.788109</td>\n",
       "      <td>Overfit: (0.359)</td>\n",
       "      <td>0.746913</td>\n",
       "    </tr>\n",
       "  </tbody>\n",
       "</table>\n",
       "</div>"
      ],
      "text/plain": [
       "            Model Name  CV_Train   CV_Test         Difference  Unseen Data\n",
       "0          dummy_model  1.658196  1.657582  Underfit: (0.001)     1.653806\n",
       "1          LogReg_Base  1.658196  1.657582  Underfit: (0.001)     1.653806\n",
       "2           LogReg_GS1  0.983089  0.984196   Overfit: (0.001)     0.952627\n",
       "3           LogReg_GS2  0.978392  0.982059   Overfit: (0.004)     0.951622\n",
       "4           LogReg_GS3  0.974411  0.981109   Overfit: (0.007)     0.952596\n",
       "5   Random_Forest_Base  0.004530  0.836388   Overfit: (0.832)     0.773322\n",
       "6    Random_Forest_GS1  0.052565  0.831655   Overfit: (0.779)     0.788095\n",
       "7    Random_Forest_GS2  0.076151  0.814660   Overfit: (0.739)     0.775325\n",
       "8    Random_Forest_GS3  0.067371  0.808106   Overfit: (0.741)     0.783564\n",
       "9         XGBoost_Base  0.271705  0.768674   Overfit: (0.497)     0.732716\n",
       "10          XGBoost_GS  0.211160  0.764592   Overfit: (0.553)     0.723697\n",
       "11            SVC_Base  1.476211  1.486713   Overfit: (0.011)     1.653806\n",
       "12              SVC_GS  1.476211  1.486713   Overfit: (0.011)     1.653806\n",
       "13            MLP_Base  1.658196  1.657582  Underfit: (0.001)     1.653806\n",
       "14             MLP_GS1  1.293554  1.293555    Good Fit: (0.0)     1.653806\n",
       "15             MLP_GS2  1.293554  1.293555    Good Fit: (0.0)     1.653806\n",
       "16            KNN_Base  0.911666  1.114483   Overfit: (0.203)     1.070038\n",
       "17             KNN_GS1  0.000000  0.997273   Overfit: (0.997)     0.935232\n",
       "18             KNN_GS2  0.000000  0.975513   Overfit: (0.976)     0.892046\n",
       "19              Stack1  0.392297  0.788798   Overfit: (0.397)     0.719978\n",
       "20              Stack2  0.415860  0.779303   Overfit: (0.363)     0.737502\n",
       "21              Stack3  0.429245  0.788109   Overfit: (0.359)     0.746913"
      ]
     },
     "execution_count": 177,
     "metadata": {},
     "output_type": "execute_result"
    }
   ],
   "source": [
    "scores_df = update_scorecard(stack_model3, 'Stack3', scores_df)\n",
    "scores_df"
   ]
  },
  {
   "cell_type": "markdown",
   "metadata": {},
   "source": [
    "### Final Iteration of Stacking Classifier"
   ]
  },
  {
   "cell_type": "markdown",
   "metadata": {},
   "source": [
    "While the untuned version of K Nearest Neighbors only scored 1.11 on cross validated test data, the model was only slightly overfit. I will be adding it back into the stacking classifier to see if it is able to help with performance and overfitting.\n",
    "\n",
    "This model performs the best of all models, scoring .738 on unseen validation data and returning cross validated results of .776 for test data and .413 on training data. While it does not have the lowest validation score of all data, it does have the best combined results of all three indicators."
   ]
  },
  {
   "cell_type": "code",
   "execution_count": 178,
   "metadata": {
    "ExecuteTime": {
     "end_time": "2023-02-15T15:37:26.340635Z",
     "start_time": "2023-02-15T15:37:26.326438Z"
    }
   },
   "outputs": [],
   "source": [
    "estimators4 = [\n",
    "    ('logreg', LogisticRegression(random_state=42,\n",
    "                                 fit_intercept=False,\n",
    "                                 max_iter=175,\n",
    "                                 penalty=None,\n",
    "                                 solver='newton-cg')),\n",
    "    ('knn', KNeighborsClassifier(weights='distance')),\n",
    "    ('rf', RandomForestClassifier(criterion='entropy',\n",
    "                                  min_samples_split=3,\n",
    "                                  n_estimators=150,\n",
    "                                  random_state=42)),\n",
    "    ('xgb', XGBClassifier(random_state=42))\n",
    "]"
   ]
  },
  {
   "cell_type": "code",
   "execution_count": 179,
   "metadata": {
    "ExecuteTime": {
     "end_time": "2023-02-15T15:37:26.355648Z",
     "start_time": "2023-02-15T15:37:26.341635Z"
    }
   },
   "outputs": [],
   "source": [
    "stack_model4 = Pipeline([\n",
    "    ('ColTrans', ColTrans),\n",
    "    ('stack4', StackingClassifier(estimators4))\n",
    "])"
   ]
  },
  {
   "cell_type": "code",
   "execution_count": 180,
   "metadata": {
    "ExecuteTime": {
     "end_time": "2023-02-15T15:38:20.044734Z",
     "start_time": "2023-02-15T15:37:26.357153Z"
    }
   },
   "outputs": [],
   "source": [
    "stack_model4.fit(X_train, y_train_adj);"
   ]
  },
  {
   "cell_type": "code",
   "execution_count": 181,
   "metadata": {
    "ExecuteTime": {
     "end_time": "2023-02-15T15:38:20.939328Z",
     "start_time": "2023-02-15T15:38:20.045735Z"
    }
   },
   "outputs": [
    {
     "data": {
      "text/plain": [
       "0.675302612019537"
      ]
     },
     "execution_count": 181,
     "metadata": {},
     "output_type": "execute_result"
    }
   ],
   "source": [
    "stack_model4.score(X_val, y_val_adj)"
   ]
  },
  {
   "cell_type": "code",
   "execution_count": 182,
   "metadata": {
    "ExecuteTime": {
     "end_time": "2023-02-15T15:38:21.844400Z",
     "start_time": "2023-02-15T15:38:20.940328Z"
    }
   },
   "outputs": [],
   "source": [
    "stack_val_pred4 = stack_model4.predict(X_val)\n",
    "stack_val_pred4 = stack_val_pred4+1"
   ]
  },
  {
   "cell_type": "code",
   "execution_count": 183,
   "metadata": {
    "ExecuteTime": {
     "end_time": "2023-02-15T15:38:21.859696Z",
     "start_time": "2023-02-15T15:38:21.845400Z"
    }
   },
   "outputs": [
    {
     "name": "stdout",
     "output_type": "stream",
     "text": [
      "RMSE for south (n=2744): 0.8968\n",
      "RMSE for midwest (n=626): 0.824\n",
      "RMSE for west (n=1030): 0.399\n",
      "RMSE for northeast (n=309): 0.8341\n",
      "Final score: 0.7384900178900713\n"
     ]
    },
    {
     "data": {
      "text/plain": [
       "0.7384900178900713"
      ]
     },
     "execution_count": 183,
     "metadata": {},
     "output_type": "execute_result"
    }
   ],
   "source": [
    "check_score(val_score, stack_val_pred4)"
   ]
  },
  {
   "cell_type": "code",
   "execution_count": 184,
   "metadata": {
    "ExecuteTime": {
     "end_time": "2023-02-15T15:42:03.890485Z",
     "start_time": "2023-02-15T15:38:21.860697Z"
    }
   },
   "outputs": [],
   "source": [
    "stack_cv4 = cross_validate(stack_model4, \n",
    "                          X_train, \n",
    "                          y_train_adj, \n",
    "                          scoring=regional_scorer, \n",
    "                          return_train_score=True)"
   ]
  },
  {
   "cell_type": "code",
   "execution_count": 185,
   "metadata": {
    "ExecuteTime": {
     "end_time": "2023-02-15T15:42:03.905912Z",
     "start_time": "2023-02-15T15:42:03.891486Z"
    }
   },
   "outputs": [
    {
     "name": "stdout",
     "output_type": "stream",
     "text": [
      "Train: -0.4135086642180109\n",
      "Test: -0.7768198987829074\n"
     ]
    },
    {
     "data": {
      "text/plain": [
       "{'fit_time': array([43.68890738, 42.22858524, 42.54724526, 41.79294157, 42.31715941]),\n",
       " 'score_time': array([0.38831973, 0.40346265, 0.33923078, 0.39079547, 0.41060376]),\n",
       " 'test_score': array([-0.77884424, -0.75703243, -0.75939241, -0.80114741, -0.787683  ]),\n",
       " 'train_score': array([-0.41473293, -0.40478804, -0.40929326, -0.41881375, -0.41991534])}"
      ]
     },
     "execution_count": 185,
     "metadata": {},
     "output_type": "execute_result"
    }
   ],
   "source": [
    "print(f\"Train: {stack_cv4['train_score'].mean()}\")\n",
    "print(f\"Test: {stack_cv4['test_score'].mean()}\")\n",
    "stack_cv4"
   ]
  },
  {
   "cell_type": "markdown",
   "metadata": {},
   "source": [
    "Updating the scorecard."
   ]
  },
  {
   "cell_type": "code",
   "execution_count": 186,
   "metadata": {
    "ExecuteTime": {
     "end_time": "2023-02-15T15:46:38.519861Z",
     "start_time": "2023-02-15T15:42:03.906912Z"
    }
   },
   "outputs": [
    {
     "name": "stdout",
     "output_type": "stream",
     "text": [
      "RMSE for south (n=2744): 0.8968\n",
      "RMSE for midwest (n=626): 0.824\n",
      "RMSE for west (n=1030): 0.399\n",
      "RMSE for northeast (n=309): 0.8341\n",
      "Final score: 0.7384900178900713\n"
     ]
    },
    {
     "data": {
      "text/html": [
       "<div>\n",
       "<style scoped>\n",
       "    .dataframe tbody tr th:only-of-type {\n",
       "        vertical-align: middle;\n",
       "    }\n",
       "\n",
       "    .dataframe tbody tr th {\n",
       "        vertical-align: top;\n",
       "    }\n",
       "\n",
       "    .dataframe thead th {\n",
       "        text-align: right;\n",
       "    }\n",
       "</style>\n",
       "<table border=\"1\" class=\"dataframe\">\n",
       "  <thead>\n",
       "    <tr style=\"text-align: right;\">\n",
       "      <th></th>\n",
       "      <th>Model Name</th>\n",
       "      <th>CV_Train</th>\n",
       "      <th>CV_Test</th>\n",
       "      <th>Difference</th>\n",
       "      <th>Unseen Data</th>\n",
       "    </tr>\n",
       "  </thead>\n",
       "  <tbody>\n",
       "    <tr>\n",
       "      <th>0</th>\n",
       "      <td>dummy_model</td>\n",
       "      <td>1.658196</td>\n",
       "      <td>1.657582</td>\n",
       "      <td>Underfit: (0.001)</td>\n",
       "      <td>1.653806</td>\n",
       "    </tr>\n",
       "    <tr>\n",
       "      <th>1</th>\n",
       "      <td>LogReg_Base</td>\n",
       "      <td>1.658196</td>\n",
       "      <td>1.657582</td>\n",
       "      <td>Underfit: (0.001)</td>\n",
       "      <td>1.653806</td>\n",
       "    </tr>\n",
       "    <tr>\n",
       "      <th>2</th>\n",
       "      <td>LogReg_GS1</td>\n",
       "      <td>0.983089</td>\n",
       "      <td>0.984196</td>\n",
       "      <td>Overfit: (0.001)</td>\n",
       "      <td>0.952627</td>\n",
       "    </tr>\n",
       "    <tr>\n",
       "      <th>3</th>\n",
       "      <td>LogReg_GS2</td>\n",
       "      <td>0.978392</td>\n",
       "      <td>0.982059</td>\n",
       "      <td>Overfit: (0.004)</td>\n",
       "      <td>0.951622</td>\n",
       "    </tr>\n",
       "    <tr>\n",
       "      <th>4</th>\n",
       "      <td>LogReg_GS3</td>\n",
       "      <td>0.974411</td>\n",
       "      <td>0.981109</td>\n",
       "      <td>Overfit: (0.007)</td>\n",
       "      <td>0.952596</td>\n",
       "    </tr>\n",
       "    <tr>\n",
       "      <th>5</th>\n",
       "      <td>Random_Forest_Base</td>\n",
       "      <td>0.004530</td>\n",
       "      <td>0.836388</td>\n",
       "      <td>Overfit: (0.832)</td>\n",
       "      <td>0.773322</td>\n",
       "    </tr>\n",
       "    <tr>\n",
       "      <th>6</th>\n",
       "      <td>Random_Forest_GS1</td>\n",
       "      <td>0.052565</td>\n",
       "      <td>0.831655</td>\n",
       "      <td>Overfit: (0.779)</td>\n",
       "      <td>0.788095</td>\n",
       "    </tr>\n",
       "    <tr>\n",
       "      <th>7</th>\n",
       "      <td>Random_Forest_GS2</td>\n",
       "      <td>0.076151</td>\n",
       "      <td>0.814660</td>\n",
       "      <td>Overfit: (0.739)</td>\n",
       "      <td>0.775325</td>\n",
       "    </tr>\n",
       "    <tr>\n",
       "      <th>8</th>\n",
       "      <td>Random_Forest_GS3</td>\n",
       "      <td>0.067371</td>\n",
       "      <td>0.808106</td>\n",
       "      <td>Overfit: (0.741)</td>\n",
       "      <td>0.783564</td>\n",
       "    </tr>\n",
       "    <tr>\n",
       "      <th>9</th>\n",
       "      <td>XGBoost_Base</td>\n",
       "      <td>0.271705</td>\n",
       "      <td>0.768674</td>\n",
       "      <td>Overfit: (0.497)</td>\n",
       "      <td>0.732716</td>\n",
       "    </tr>\n",
       "    <tr>\n",
       "      <th>10</th>\n",
       "      <td>XGBoost_GS</td>\n",
       "      <td>0.211160</td>\n",
       "      <td>0.764592</td>\n",
       "      <td>Overfit: (0.553)</td>\n",
       "      <td>0.723697</td>\n",
       "    </tr>\n",
       "    <tr>\n",
       "      <th>11</th>\n",
       "      <td>SVC_Base</td>\n",
       "      <td>1.476211</td>\n",
       "      <td>1.486713</td>\n",
       "      <td>Overfit: (0.011)</td>\n",
       "      <td>1.653806</td>\n",
       "    </tr>\n",
       "    <tr>\n",
       "      <th>12</th>\n",
       "      <td>SVC_GS</td>\n",
       "      <td>1.476211</td>\n",
       "      <td>1.486713</td>\n",
       "      <td>Overfit: (0.011)</td>\n",
       "      <td>1.653806</td>\n",
       "    </tr>\n",
       "    <tr>\n",
       "      <th>13</th>\n",
       "      <td>MLP_Base</td>\n",
       "      <td>1.658196</td>\n",
       "      <td>1.657582</td>\n",
       "      <td>Underfit: (0.001)</td>\n",
       "      <td>1.653806</td>\n",
       "    </tr>\n",
       "    <tr>\n",
       "      <th>14</th>\n",
       "      <td>MLP_GS1</td>\n",
       "      <td>1.293554</td>\n",
       "      <td>1.293555</td>\n",
       "      <td>Good Fit: (0.0)</td>\n",
       "      <td>1.653806</td>\n",
       "    </tr>\n",
       "    <tr>\n",
       "      <th>15</th>\n",
       "      <td>MLP_GS2</td>\n",
       "      <td>1.293554</td>\n",
       "      <td>1.293555</td>\n",
       "      <td>Good Fit: (0.0)</td>\n",
       "      <td>1.653806</td>\n",
       "    </tr>\n",
       "    <tr>\n",
       "      <th>16</th>\n",
       "      <td>KNN_Base</td>\n",
       "      <td>0.911666</td>\n",
       "      <td>1.114483</td>\n",
       "      <td>Overfit: (0.203)</td>\n",
       "      <td>1.070038</td>\n",
       "    </tr>\n",
       "    <tr>\n",
       "      <th>17</th>\n",
       "      <td>KNN_GS1</td>\n",
       "      <td>0.000000</td>\n",
       "      <td>0.997273</td>\n",
       "      <td>Overfit: (0.997)</td>\n",
       "      <td>0.935232</td>\n",
       "    </tr>\n",
       "    <tr>\n",
       "      <th>18</th>\n",
       "      <td>KNN_GS2</td>\n",
       "      <td>0.000000</td>\n",
       "      <td>0.975513</td>\n",
       "      <td>Overfit: (0.976)</td>\n",
       "      <td>0.892046</td>\n",
       "    </tr>\n",
       "    <tr>\n",
       "      <th>19</th>\n",
       "      <td>Stack1</td>\n",
       "      <td>0.392297</td>\n",
       "      <td>0.788798</td>\n",
       "      <td>Overfit: (0.397)</td>\n",
       "      <td>0.719978</td>\n",
       "    </tr>\n",
       "    <tr>\n",
       "      <th>20</th>\n",
       "      <td>Stack2</td>\n",
       "      <td>0.415860</td>\n",
       "      <td>0.779303</td>\n",
       "      <td>Overfit: (0.363)</td>\n",
       "      <td>0.737502</td>\n",
       "    </tr>\n",
       "    <tr>\n",
       "      <th>21</th>\n",
       "      <td>Stack3</td>\n",
       "      <td>0.429245</td>\n",
       "      <td>0.788109</td>\n",
       "      <td>Overfit: (0.359)</td>\n",
       "      <td>0.746913</td>\n",
       "    </tr>\n",
       "    <tr>\n",
       "      <th>22</th>\n",
       "      <td>Stack4</td>\n",
       "      <td>0.413509</td>\n",
       "      <td>0.776820</td>\n",
       "      <td>Overfit: (0.363)</td>\n",
       "      <td>0.738490</td>\n",
       "    </tr>\n",
       "  </tbody>\n",
       "</table>\n",
       "</div>"
      ],
      "text/plain": [
       "            Model Name  CV_Train   CV_Test         Difference  Unseen Data\n",
       "0          dummy_model  1.658196  1.657582  Underfit: (0.001)     1.653806\n",
       "1          LogReg_Base  1.658196  1.657582  Underfit: (0.001)     1.653806\n",
       "2           LogReg_GS1  0.983089  0.984196   Overfit: (0.001)     0.952627\n",
       "3           LogReg_GS2  0.978392  0.982059   Overfit: (0.004)     0.951622\n",
       "4           LogReg_GS3  0.974411  0.981109   Overfit: (0.007)     0.952596\n",
       "5   Random_Forest_Base  0.004530  0.836388   Overfit: (0.832)     0.773322\n",
       "6    Random_Forest_GS1  0.052565  0.831655   Overfit: (0.779)     0.788095\n",
       "7    Random_Forest_GS2  0.076151  0.814660   Overfit: (0.739)     0.775325\n",
       "8    Random_Forest_GS3  0.067371  0.808106   Overfit: (0.741)     0.783564\n",
       "9         XGBoost_Base  0.271705  0.768674   Overfit: (0.497)     0.732716\n",
       "10          XGBoost_GS  0.211160  0.764592   Overfit: (0.553)     0.723697\n",
       "11            SVC_Base  1.476211  1.486713   Overfit: (0.011)     1.653806\n",
       "12              SVC_GS  1.476211  1.486713   Overfit: (0.011)     1.653806\n",
       "13            MLP_Base  1.658196  1.657582  Underfit: (0.001)     1.653806\n",
       "14             MLP_GS1  1.293554  1.293555    Good Fit: (0.0)     1.653806\n",
       "15             MLP_GS2  1.293554  1.293555    Good Fit: (0.0)     1.653806\n",
       "16            KNN_Base  0.911666  1.114483   Overfit: (0.203)     1.070038\n",
       "17             KNN_GS1  0.000000  0.997273   Overfit: (0.997)     0.935232\n",
       "18             KNN_GS2  0.000000  0.975513   Overfit: (0.976)     0.892046\n",
       "19              Stack1  0.392297  0.788798   Overfit: (0.397)     0.719978\n",
       "20              Stack2  0.415860  0.779303   Overfit: (0.363)     0.737502\n",
       "21              Stack3  0.429245  0.788109   Overfit: (0.359)     0.746913\n",
       "22              Stack4  0.413509  0.776820   Overfit: (0.363)     0.738490"
      ]
     },
     "execution_count": 186,
     "metadata": {},
     "output_type": "execute_result"
    }
   ],
   "source": [
    "scores_df = update_scorecard(stack_model4, 'Stack4', scores_df)\n",
    "scores_df"
   ]
  },
  {
   "cell_type": "markdown",
   "metadata": {},
   "source": [
    "# Best Model"
   ]
  },
  {
   "cell_type": "code",
   "execution_count": 233,
   "metadata": {
    "ExecuteTime": {
     "end_time": "2023-02-15T16:17:30.573506Z",
     "start_time": "2023-02-15T16:17:30.556932Z"
    }
   },
   "outputs": [
    {
     "data": {
      "text/html": [
       "<style type=\"text/css\">\n",
       "#T_89787_row2_col1, #T_89787_row2_col2, #T_89787_row2_col4, #T_89787_row3_col1, #T_89787_row3_col2, #T_89787_row3_col4, #T_89787_row4_col1, #T_89787_row4_col2, #T_89787_row4_col4, #T_89787_row5_col2, #T_89787_row5_col4, #T_89787_row6_col2, #T_89787_row6_col4, #T_89787_row7_col2, #T_89787_row7_col4, #T_89787_row8_col2, #T_89787_row8_col4, #T_89787_row9_col1, #T_89787_row9_col2, #T_89787_row9_col4, #T_89787_row10_col1, #T_89787_row10_col2, #T_89787_row10_col4, #T_89787_row16_col1, #T_89787_row17_col2, #T_89787_row17_col4, #T_89787_row18_col2, #T_89787_row18_col4, #T_89787_row19_col1, #T_89787_row19_col2, #T_89787_row19_col4, #T_89787_row20_col1, #T_89787_row20_col2, #T_89787_row20_col4, #T_89787_row21_col1, #T_89787_row21_col2, #T_89787_row21_col4, #T_89787_row22_col1, #T_89787_row22_col2, #T_89787_row22_col4 {\n",
       "  background-color: #fffd75;\n",
       "}\n",
       "</style>\n",
       "<table id=\"T_89787\">\n",
       "  <thead>\n",
       "    <tr>\n",
       "      <th class=\"blank level0\" >&nbsp;</th>\n",
       "      <th id=\"T_89787_level0_col0\" class=\"col_heading level0 col0\" >Model Name</th>\n",
       "      <th id=\"T_89787_level0_col1\" class=\"col_heading level0 col1\" >CV_Train</th>\n",
       "      <th id=\"T_89787_level0_col2\" class=\"col_heading level0 col2\" >CV_Test</th>\n",
       "      <th id=\"T_89787_level0_col3\" class=\"col_heading level0 col3\" >Difference</th>\n",
       "      <th id=\"T_89787_level0_col4\" class=\"col_heading level0 col4\" >Unseen Data</th>\n",
       "    </tr>\n",
       "  </thead>\n",
       "  <tbody>\n",
       "    <tr>\n",
       "      <th id=\"T_89787_level0_row0\" class=\"row_heading level0 row0\" >0</th>\n",
       "      <td id=\"T_89787_row0_col0\" class=\"data row0 col0\" >dummy_model</td>\n",
       "      <td id=\"T_89787_row0_col1\" class=\"data row0 col1\" >1.658196</td>\n",
       "      <td id=\"T_89787_row0_col2\" class=\"data row0 col2\" >1.657582</td>\n",
       "      <td id=\"T_89787_row0_col3\" class=\"data row0 col3\" >Underfit: (0.001)</td>\n",
       "      <td id=\"T_89787_row0_col4\" class=\"data row0 col4\" >1.653806</td>\n",
       "    </tr>\n",
       "    <tr>\n",
       "      <th id=\"T_89787_level0_row1\" class=\"row_heading level0 row1\" >1</th>\n",
       "      <td id=\"T_89787_row1_col0\" class=\"data row1 col0\" >LogReg_Base</td>\n",
       "      <td id=\"T_89787_row1_col1\" class=\"data row1 col1\" >1.658196</td>\n",
       "      <td id=\"T_89787_row1_col2\" class=\"data row1 col2\" >1.657582</td>\n",
       "      <td id=\"T_89787_row1_col3\" class=\"data row1 col3\" >Underfit: (0.001)</td>\n",
       "      <td id=\"T_89787_row1_col4\" class=\"data row1 col4\" >1.653806</td>\n",
       "    </tr>\n",
       "    <tr>\n",
       "      <th id=\"T_89787_level0_row2\" class=\"row_heading level0 row2\" >2</th>\n",
       "      <td id=\"T_89787_row2_col0\" class=\"data row2 col0\" >LogReg_GS1</td>\n",
       "      <td id=\"T_89787_row2_col1\" class=\"data row2 col1\" >0.983089</td>\n",
       "      <td id=\"T_89787_row2_col2\" class=\"data row2 col2\" >0.984196</td>\n",
       "      <td id=\"T_89787_row2_col3\" class=\"data row2 col3\" >Overfit: (0.001)</td>\n",
       "      <td id=\"T_89787_row2_col4\" class=\"data row2 col4\" >0.952627</td>\n",
       "    </tr>\n",
       "    <tr>\n",
       "      <th id=\"T_89787_level0_row3\" class=\"row_heading level0 row3\" >3</th>\n",
       "      <td id=\"T_89787_row3_col0\" class=\"data row3 col0\" >LogReg_GS2</td>\n",
       "      <td id=\"T_89787_row3_col1\" class=\"data row3 col1\" >0.978392</td>\n",
       "      <td id=\"T_89787_row3_col2\" class=\"data row3 col2\" >0.982059</td>\n",
       "      <td id=\"T_89787_row3_col3\" class=\"data row3 col3\" >Overfit: (0.004)</td>\n",
       "      <td id=\"T_89787_row3_col4\" class=\"data row3 col4\" >0.951622</td>\n",
       "    </tr>\n",
       "    <tr>\n",
       "      <th id=\"T_89787_level0_row4\" class=\"row_heading level0 row4\" >4</th>\n",
       "      <td id=\"T_89787_row4_col0\" class=\"data row4 col0\" >LogReg_GS3</td>\n",
       "      <td id=\"T_89787_row4_col1\" class=\"data row4 col1\" >0.974411</td>\n",
       "      <td id=\"T_89787_row4_col2\" class=\"data row4 col2\" >0.981109</td>\n",
       "      <td id=\"T_89787_row4_col3\" class=\"data row4 col3\" >Overfit: (0.007)</td>\n",
       "      <td id=\"T_89787_row4_col4\" class=\"data row4 col4\" >0.952596</td>\n",
       "    </tr>\n",
       "    <tr>\n",
       "      <th id=\"T_89787_level0_row5\" class=\"row_heading level0 row5\" >5</th>\n",
       "      <td id=\"T_89787_row5_col0\" class=\"data row5 col0\" >Random_Forest_Base</td>\n",
       "      <td id=\"T_89787_row5_col1\" class=\"data row5 col1\" >0.004530</td>\n",
       "      <td id=\"T_89787_row5_col2\" class=\"data row5 col2\" >0.836388</td>\n",
       "      <td id=\"T_89787_row5_col3\" class=\"data row5 col3\" >Overfit: (0.832)</td>\n",
       "      <td id=\"T_89787_row5_col4\" class=\"data row5 col4\" >0.773322</td>\n",
       "    </tr>\n",
       "    <tr>\n",
       "      <th id=\"T_89787_level0_row6\" class=\"row_heading level0 row6\" >6</th>\n",
       "      <td id=\"T_89787_row6_col0\" class=\"data row6 col0\" >Random_Forest_GS1</td>\n",
       "      <td id=\"T_89787_row6_col1\" class=\"data row6 col1\" >0.052565</td>\n",
       "      <td id=\"T_89787_row6_col2\" class=\"data row6 col2\" >0.831655</td>\n",
       "      <td id=\"T_89787_row6_col3\" class=\"data row6 col3\" >Overfit: (0.779)</td>\n",
       "      <td id=\"T_89787_row6_col4\" class=\"data row6 col4\" >0.788095</td>\n",
       "    </tr>\n",
       "    <tr>\n",
       "      <th id=\"T_89787_level0_row7\" class=\"row_heading level0 row7\" >7</th>\n",
       "      <td id=\"T_89787_row7_col0\" class=\"data row7 col0\" >Random_Forest_GS2</td>\n",
       "      <td id=\"T_89787_row7_col1\" class=\"data row7 col1\" >0.076151</td>\n",
       "      <td id=\"T_89787_row7_col2\" class=\"data row7 col2\" >0.814660</td>\n",
       "      <td id=\"T_89787_row7_col3\" class=\"data row7 col3\" >Overfit: (0.739)</td>\n",
       "      <td id=\"T_89787_row7_col4\" class=\"data row7 col4\" >0.775325</td>\n",
       "    </tr>\n",
       "    <tr>\n",
       "      <th id=\"T_89787_level0_row8\" class=\"row_heading level0 row8\" >8</th>\n",
       "      <td id=\"T_89787_row8_col0\" class=\"data row8 col0\" >Random_Forest_GS3</td>\n",
       "      <td id=\"T_89787_row8_col1\" class=\"data row8 col1\" >0.067371</td>\n",
       "      <td id=\"T_89787_row8_col2\" class=\"data row8 col2\" >0.808106</td>\n",
       "      <td id=\"T_89787_row8_col3\" class=\"data row8 col3\" >Overfit: (0.741)</td>\n",
       "      <td id=\"T_89787_row8_col4\" class=\"data row8 col4\" >0.783564</td>\n",
       "    </tr>\n",
       "    <tr>\n",
       "      <th id=\"T_89787_level0_row9\" class=\"row_heading level0 row9\" >9</th>\n",
       "      <td id=\"T_89787_row9_col0\" class=\"data row9 col0\" >XGBoost_Base</td>\n",
       "      <td id=\"T_89787_row9_col1\" class=\"data row9 col1\" >0.271705</td>\n",
       "      <td id=\"T_89787_row9_col2\" class=\"data row9 col2\" >0.768674</td>\n",
       "      <td id=\"T_89787_row9_col3\" class=\"data row9 col3\" >Overfit: (0.497)</td>\n",
       "      <td id=\"T_89787_row9_col4\" class=\"data row9 col4\" >0.732716</td>\n",
       "    </tr>\n",
       "    <tr>\n",
       "      <th id=\"T_89787_level0_row10\" class=\"row_heading level0 row10\" >10</th>\n",
       "      <td id=\"T_89787_row10_col0\" class=\"data row10 col0\" >XGBoost_GS</td>\n",
       "      <td id=\"T_89787_row10_col1\" class=\"data row10 col1\" >0.211160</td>\n",
       "      <td id=\"T_89787_row10_col2\" class=\"data row10 col2\" >0.764592</td>\n",
       "      <td id=\"T_89787_row10_col3\" class=\"data row10 col3\" >Overfit: (0.553)</td>\n",
       "      <td id=\"T_89787_row10_col4\" class=\"data row10 col4\" >0.723697</td>\n",
       "    </tr>\n",
       "    <tr>\n",
       "      <th id=\"T_89787_level0_row11\" class=\"row_heading level0 row11\" >11</th>\n",
       "      <td id=\"T_89787_row11_col0\" class=\"data row11 col0\" >SVC_Base</td>\n",
       "      <td id=\"T_89787_row11_col1\" class=\"data row11 col1\" >1.476211</td>\n",
       "      <td id=\"T_89787_row11_col2\" class=\"data row11 col2\" >1.486713</td>\n",
       "      <td id=\"T_89787_row11_col3\" class=\"data row11 col3\" >Overfit: (0.011)</td>\n",
       "      <td id=\"T_89787_row11_col4\" class=\"data row11 col4\" >1.653806</td>\n",
       "    </tr>\n",
       "    <tr>\n",
       "      <th id=\"T_89787_level0_row12\" class=\"row_heading level0 row12\" >12</th>\n",
       "      <td id=\"T_89787_row12_col0\" class=\"data row12 col0\" >SVC_GS</td>\n",
       "      <td id=\"T_89787_row12_col1\" class=\"data row12 col1\" >1.476211</td>\n",
       "      <td id=\"T_89787_row12_col2\" class=\"data row12 col2\" >1.486713</td>\n",
       "      <td id=\"T_89787_row12_col3\" class=\"data row12 col3\" >Overfit: (0.011)</td>\n",
       "      <td id=\"T_89787_row12_col4\" class=\"data row12 col4\" >1.653806</td>\n",
       "    </tr>\n",
       "    <tr>\n",
       "      <th id=\"T_89787_level0_row13\" class=\"row_heading level0 row13\" >13</th>\n",
       "      <td id=\"T_89787_row13_col0\" class=\"data row13 col0\" >MLP_Base</td>\n",
       "      <td id=\"T_89787_row13_col1\" class=\"data row13 col1\" >1.658196</td>\n",
       "      <td id=\"T_89787_row13_col2\" class=\"data row13 col2\" >1.657582</td>\n",
       "      <td id=\"T_89787_row13_col3\" class=\"data row13 col3\" >Underfit: (0.001)</td>\n",
       "      <td id=\"T_89787_row13_col4\" class=\"data row13 col4\" >1.653806</td>\n",
       "    </tr>\n",
       "    <tr>\n",
       "      <th id=\"T_89787_level0_row14\" class=\"row_heading level0 row14\" >14</th>\n",
       "      <td id=\"T_89787_row14_col0\" class=\"data row14 col0\" >MLP_GS1</td>\n",
       "      <td id=\"T_89787_row14_col1\" class=\"data row14 col1\" >1.293554</td>\n",
       "      <td id=\"T_89787_row14_col2\" class=\"data row14 col2\" >1.293555</td>\n",
       "      <td id=\"T_89787_row14_col3\" class=\"data row14 col3\" >Good Fit: (0.0)</td>\n",
       "      <td id=\"T_89787_row14_col4\" class=\"data row14 col4\" >1.653806</td>\n",
       "    </tr>\n",
       "    <tr>\n",
       "      <th id=\"T_89787_level0_row15\" class=\"row_heading level0 row15\" >15</th>\n",
       "      <td id=\"T_89787_row15_col0\" class=\"data row15 col0\" >MLP_GS2</td>\n",
       "      <td id=\"T_89787_row15_col1\" class=\"data row15 col1\" >1.293554</td>\n",
       "      <td id=\"T_89787_row15_col2\" class=\"data row15 col2\" >1.293555</td>\n",
       "      <td id=\"T_89787_row15_col3\" class=\"data row15 col3\" >Good Fit: (0.0)</td>\n",
       "      <td id=\"T_89787_row15_col4\" class=\"data row15 col4\" >1.653806</td>\n",
       "    </tr>\n",
       "    <tr>\n",
       "      <th id=\"T_89787_level0_row16\" class=\"row_heading level0 row16\" >16</th>\n",
       "      <td id=\"T_89787_row16_col0\" class=\"data row16 col0\" >KNN_Base</td>\n",
       "      <td id=\"T_89787_row16_col1\" class=\"data row16 col1\" >0.911666</td>\n",
       "      <td id=\"T_89787_row16_col2\" class=\"data row16 col2\" >1.114483</td>\n",
       "      <td id=\"T_89787_row16_col3\" class=\"data row16 col3\" >Overfit: (0.203)</td>\n",
       "      <td id=\"T_89787_row16_col4\" class=\"data row16 col4\" >1.070038</td>\n",
       "    </tr>\n",
       "    <tr>\n",
       "      <th id=\"T_89787_level0_row17\" class=\"row_heading level0 row17\" >17</th>\n",
       "      <td id=\"T_89787_row17_col0\" class=\"data row17 col0\" >KNN_GS1</td>\n",
       "      <td id=\"T_89787_row17_col1\" class=\"data row17 col1\" >0.000000</td>\n",
       "      <td id=\"T_89787_row17_col2\" class=\"data row17 col2\" >0.997273</td>\n",
       "      <td id=\"T_89787_row17_col3\" class=\"data row17 col3\" >Overfit: (0.997)</td>\n",
       "      <td id=\"T_89787_row17_col4\" class=\"data row17 col4\" >0.935232</td>\n",
       "    </tr>\n",
       "    <tr>\n",
       "      <th id=\"T_89787_level0_row18\" class=\"row_heading level0 row18\" >18</th>\n",
       "      <td id=\"T_89787_row18_col0\" class=\"data row18 col0\" >KNN_GS2</td>\n",
       "      <td id=\"T_89787_row18_col1\" class=\"data row18 col1\" >0.000000</td>\n",
       "      <td id=\"T_89787_row18_col2\" class=\"data row18 col2\" >0.975513</td>\n",
       "      <td id=\"T_89787_row18_col3\" class=\"data row18 col3\" >Overfit: (0.976)</td>\n",
       "      <td id=\"T_89787_row18_col4\" class=\"data row18 col4\" >0.892046</td>\n",
       "    </tr>\n",
       "    <tr>\n",
       "      <th id=\"T_89787_level0_row19\" class=\"row_heading level0 row19\" >19</th>\n",
       "      <td id=\"T_89787_row19_col0\" class=\"data row19 col0\" >Stack1</td>\n",
       "      <td id=\"T_89787_row19_col1\" class=\"data row19 col1\" >0.392297</td>\n",
       "      <td id=\"T_89787_row19_col2\" class=\"data row19 col2\" >0.788798</td>\n",
       "      <td id=\"T_89787_row19_col3\" class=\"data row19 col3\" >Overfit: (0.397)</td>\n",
       "      <td id=\"T_89787_row19_col4\" class=\"data row19 col4\" >0.719978</td>\n",
       "    </tr>\n",
       "    <tr>\n",
       "      <th id=\"T_89787_level0_row20\" class=\"row_heading level0 row20\" >20</th>\n",
       "      <td id=\"T_89787_row20_col0\" class=\"data row20 col0\" >Stack2</td>\n",
       "      <td id=\"T_89787_row20_col1\" class=\"data row20 col1\" >0.415860</td>\n",
       "      <td id=\"T_89787_row20_col2\" class=\"data row20 col2\" >0.779303</td>\n",
       "      <td id=\"T_89787_row20_col3\" class=\"data row20 col3\" >Overfit: (0.363)</td>\n",
       "      <td id=\"T_89787_row20_col4\" class=\"data row20 col4\" >0.737502</td>\n",
       "    </tr>\n",
       "    <tr>\n",
       "      <th id=\"T_89787_level0_row21\" class=\"row_heading level0 row21\" >21</th>\n",
       "      <td id=\"T_89787_row21_col0\" class=\"data row21 col0\" >Stack3</td>\n",
       "      <td id=\"T_89787_row21_col1\" class=\"data row21 col1\" >0.429245</td>\n",
       "      <td id=\"T_89787_row21_col2\" class=\"data row21 col2\" >0.788109</td>\n",
       "      <td id=\"T_89787_row21_col3\" class=\"data row21 col3\" >Overfit: (0.359)</td>\n",
       "      <td id=\"T_89787_row21_col4\" class=\"data row21 col4\" >0.746913</td>\n",
       "    </tr>\n",
       "    <tr>\n",
       "      <th id=\"T_89787_level0_row22\" class=\"row_heading level0 row22\" >22</th>\n",
       "      <td id=\"T_89787_row22_col0\" class=\"data row22 col0\" >Stack4</td>\n",
       "      <td id=\"T_89787_row22_col1\" class=\"data row22 col1\" >0.413509</td>\n",
       "      <td id=\"T_89787_row22_col2\" class=\"data row22 col2\" >0.776820</td>\n",
       "      <td id=\"T_89787_row22_col3\" class=\"data row22 col3\" >Overfit: (0.363)</td>\n",
       "      <td id=\"T_89787_row22_col4\" class=\"data row22 col4\" >0.738490</td>\n",
       "    </tr>\n",
       "  </tbody>\n",
       "</table>\n"
      ],
      "text/plain": [
       "<pandas.io.formats.style.Styler at 0x248e795e770>"
      ]
     },
     "execution_count": 233,
     "metadata": {},
     "output_type": "execute_result"
    }
   ],
   "source": [
    "scores_df.style.highlight_between(subset=['CV_Train', 'CV_Test','Unseen Data'], \n",
    "                                  axis=1, \n",
    "                                  left=[.2, 0, 0], \n",
    "                                  right=1, \n",
    "                                  color=\"#fffd75\")"
   ]
  },
  {
   "cell_type": "markdown",
   "metadata": {},
   "source": [
    "### Visualizing Errors"
   ]
  },
  {
   "cell_type": "markdown",
   "metadata": {},
   "source": [
    "My final model has a cross validated Regional RMSE of .7768 on validation data. My model correctly predicted the right severity level over 2/3rds of the time. On sample sites that were incorrectly predicted, 71% were only off by one point. "
   ]
  },
  {
   "cell_type": "code",
   "execution_count": 188,
   "metadata": {
    "ExecuteTime": {
     "end_time": "2023-02-15T15:46:38.550596Z",
     "start_time": "2023-02-15T15:46:38.536589Z"
    }
   },
   "outputs": [],
   "source": [
    "val_score['Error'] = abs(val_score['severity'] - val_score['pred'])"
   ]
  },
  {
   "cell_type": "code",
   "execution_count": 189,
   "metadata": {
    "ExecuteTime": {
     "end_time": "2023-02-15T15:46:38.566109Z",
     "start_time": "2023-02-15T15:46:38.551599Z"
    }
   },
   "outputs": [
    {
     "data": {
      "text/html": [
       "<div>\n",
       "<style scoped>\n",
       "    .dataframe tbody tr th:only-of-type {\n",
       "        vertical-align: middle;\n",
       "    }\n",
       "\n",
       "    .dataframe tbody tr th {\n",
       "        vertical-align: top;\n",
       "    }\n",
       "\n",
       "    .dataframe thead th {\n",
       "        text-align: right;\n",
       "    }\n",
       "</style>\n",
       "<table border=\"1\" class=\"dataframe\">\n",
       "  <thead>\n",
       "    <tr style=\"text-align: right;\">\n",
       "      <th></th>\n",
       "      <th>uid</th>\n",
       "      <th>region</th>\n",
       "      <th>severity</th>\n",
       "      <th>pred</th>\n",
       "      <th>Error</th>\n",
       "    </tr>\n",
       "  </thead>\n",
       "  <tbody>\n",
       "    <tr>\n",
       "      <th>13699</th>\n",
       "      <td>vmps</td>\n",
       "      <td>south</td>\n",
       "      <td>3</td>\n",
       "      <td>1</td>\n",
       "      <td>2</td>\n",
       "    </tr>\n",
       "    <tr>\n",
       "      <th>3143</th>\n",
       "      <td>nhqm</td>\n",
       "      <td>south</td>\n",
       "      <td>1</td>\n",
       "      <td>1</td>\n",
       "      <td>0</td>\n",
       "    </tr>\n",
       "    <tr>\n",
       "      <th>12222</th>\n",
       "      <td>anmy</td>\n",
       "      <td>midwest</td>\n",
       "      <td>1</td>\n",
       "      <td>1</td>\n",
       "      <td>0</td>\n",
       "    </tr>\n",
       "    <tr>\n",
       "      <th>13666</th>\n",
       "      <td>ltvs</td>\n",
       "      <td>west</td>\n",
       "      <td>5</td>\n",
       "      <td>4</td>\n",
       "      <td>1</td>\n",
       "    </tr>\n",
       "    <tr>\n",
       "      <th>720</th>\n",
       "      <td>pljh</td>\n",
       "      <td>northeast</td>\n",
       "      <td>3</td>\n",
       "      <td>2</td>\n",
       "      <td>1</td>\n",
       "    </tr>\n",
       "  </tbody>\n",
       "</table>\n",
       "</div>"
      ],
      "text/plain": [
       "        uid     region  severity  pred  Error\n",
       "13699  vmps      south         3     1      2\n",
       "3143   nhqm      south         1     1      0\n",
       "12222  anmy    midwest         1     1      0\n",
       "13666  ltvs       west         5     4      1\n",
       "720    pljh  northeast         3     2      1"
      ]
     },
     "execution_count": 189,
     "metadata": {},
     "output_type": "execute_result"
    }
   ],
   "source": [
    "val_score.head()"
   ]
  },
  {
   "cell_type": "code",
   "execution_count": 236,
   "metadata": {
    "ExecuteTime": {
     "end_time": "2023-02-15T16:18:19.005369Z",
     "start_time": "2023-02-15T16:18:18.995343Z"
    }
   },
   "outputs": [
    {
     "data": {
      "text/plain": [
       "Index(['date', 'uid', 'region', 'latitude', 'longitude', 'img_date',\n",
       "       'red_mean', 'red_median', 'red_max', 'red_min', 'red_sum',\n",
       "       'red_product', 'green_mean', 'green_median', 'green_max', 'green_min',\n",
       "       'green_sum', 'green_product', 'blue_mean', 'blue_median', 'blue_max',\n",
       "       'blue_min', 'blue_sum', 'blue_product', 'severity', 'missing_img_date',\n",
       "       'days_from_sat_to_sample', 'season_autumn', 'season_spring',\n",
       "       'season_summer', 'season_winter', 'elevation', 'temp_1day',\n",
       "       'temp_5_day', 'date_range', 'bbox', 'big_crop_bbox', 'small_crop_bbox',\n",
       "       'tiny_crop_bbox'],\n",
       "      dtype='object')"
      ]
     },
     "execution_count": 236,
     "metadata": {},
     "output_type": "execute_result"
    }
   ],
   "source": [
    "final_train.columns"
   ]
  },
  {
   "cell_type": "code",
   "execution_count": 237,
   "metadata": {
    "ExecuteTime": {
     "end_time": "2023-02-15T16:19:49.564478Z",
     "start_time": "2023-02-15T16:19:49.544317Z"
    }
   },
   "outputs": [],
   "source": [
    "final_val_df = final_train[['uid', 'latitude', 'longitude']]"
   ]
  },
  {
   "cell_type": "code",
   "execution_count": 242,
   "metadata": {
    "ExecuteTime": {
     "end_time": "2023-02-15T16:21:37.802188Z",
     "start_time": "2023-02-15T16:21:37.790176Z"
    }
   },
   "outputs": [],
   "source": [
    "final_val_df = gpd.GeoDataFrame(final_val_df, \n",
    "                                  geometry=gpd.points_from_xy(final_val_df['longitude'],\n",
    "                                                              final_val_df['latitude'])\n",
    "                               ).drop(['latitude', 'longitude'], axis=1)"
   ]
  },
  {
   "cell_type": "code",
   "execution_count": 243,
   "metadata": {
    "ExecuteTime": {
     "end_time": "2023-02-15T16:21:38.442826Z",
     "start_time": "2023-02-15T16:21:38.421802Z"
    }
   },
   "outputs": [
    {
     "data": {
      "text/html": [
       "<div>\n",
       "<style scoped>\n",
       "    .dataframe tbody tr th:only-of-type {\n",
       "        vertical-align: middle;\n",
       "    }\n",
       "\n",
       "    .dataframe tbody tr th {\n",
       "        vertical-align: top;\n",
       "    }\n",
       "\n",
       "    .dataframe thead th {\n",
       "        text-align: right;\n",
       "    }\n",
       "</style>\n",
       "<table border=\"1\" class=\"dataframe\">\n",
       "  <thead>\n",
       "    <tr style=\"text-align: right;\">\n",
       "      <th></th>\n",
       "      <th>uid</th>\n",
       "      <th>region</th>\n",
       "      <th>severity</th>\n",
       "      <th>pred</th>\n",
       "      <th>Error</th>\n",
       "      <th>geometry</th>\n",
       "    </tr>\n",
       "  </thead>\n",
       "  <tbody>\n",
       "    <tr>\n",
       "      <th>0</th>\n",
       "      <td>vmps</td>\n",
       "      <td>south</td>\n",
       "      <td>3</td>\n",
       "      <td>1</td>\n",
       "      <td>2</td>\n",
       "      <td>POINT (-79.12451 35.90583)</td>\n",
       "    </tr>\n",
       "    <tr>\n",
       "      <th>1</th>\n",
       "      <td>nhqm</td>\n",
       "      <td>south</td>\n",
       "      <td>1</td>\n",
       "      <td>1</td>\n",
       "      <td>0</td>\n",
       "      <td>POINT (-79.20156 35.74200)</td>\n",
       "    </tr>\n",
       "    <tr>\n",
       "      <th>2</th>\n",
       "      <td>anmy</td>\n",
       "      <td>midwest</td>\n",
       "      <td>1</td>\n",
       "      <td>1</td>\n",
       "      <td>0</td>\n",
       "      <td>POINT (-87.00000 42.38333)</td>\n",
       "    </tr>\n",
       "    <tr>\n",
       "      <th>3</th>\n",
       "      <td>ltvs</td>\n",
       "      <td>west</td>\n",
       "      <td>5</td>\n",
       "      <td>4</td>\n",
       "      <td>1</td>\n",
       "      <td>POINT (-121.79400 38.30700)</td>\n",
       "    </tr>\n",
       "    <tr>\n",
       "      <th>4</th>\n",
       "      <td>pljh</td>\n",
       "      <td>northeast</td>\n",
       "      <td>3</td>\n",
       "      <td>2</td>\n",
       "      <td>1</td>\n",
       "      <td>POINT (-78.90889 42.03819)</td>\n",
       "    </tr>\n",
       "  </tbody>\n",
       "</table>\n",
       "</div>"
      ],
      "text/plain": [
       "    uid     region  severity  pred  Error                     geometry\n",
       "0  vmps      south         3     1      2   POINT (-79.12451 35.90583)\n",
       "1  nhqm      south         1     1      0   POINT (-79.20156 35.74200)\n",
       "2  anmy    midwest         1     1      0   POINT (-87.00000 42.38333)\n",
       "3  ltvs       west         5     4      1  POINT (-121.79400 38.30700)\n",
       "4  pljh  northeast         3     2      1   POINT (-78.90889 42.03819)"
      ]
     },
     "execution_count": 243,
     "metadata": {},
     "output_type": "execute_result"
    }
   ],
   "source": [
    "plotting_final_df = pd.merge(left=val_score, right=final_val_df, how='left', on='uid')\n",
    "plotting_final_df.head()"
   ]
  },
  {
   "cell_type": "code",
   "execution_count": 244,
   "metadata": {
    "ExecuteTime": {
     "end_time": "2023-02-15T16:21:42.012826Z",
     "start_time": "2023-02-15T16:21:41.998252Z"
    }
   },
   "outputs": [],
   "source": [
    "final_error_df = plotting_final_df[plotting_final_df['Error'] != 0]"
   ]
  },
  {
   "cell_type": "markdown",
   "metadata": {},
   "source": [
    "Was 100% correct on about 2/3rds of the datapoints."
   ]
  },
  {
   "cell_type": "code",
   "execution_count": 245,
   "metadata": {
    "ExecuteTime": {
     "end_time": "2023-02-15T16:21:43.431193Z",
     "start_time": "2023-02-15T16:21:43.413074Z"
    }
   },
   "outputs": [
    {
     "data": {
      "text/plain": [
       "0.6753026120195371"
      ]
     },
     "execution_count": 245,
     "metadata": {},
     "output_type": "execute_result"
    }
   ],
   "source": [
    "1-(len(final_error_df)/len(plotting_final_df))"
   ]
  },
  {
   "cell_type": "markdown",
   "metadata": {},
   "source": [
    "71% of the missed datapoints were only off by one point. "
   ]
  },
  {
   "cell_type": "code",
   "execution_count": 246,
   "metadata": {
    "ExecuteTime": {
     "end_time": "2023-02-15T16:21:44.706909Z",
     "start_time": "2023-02-15T16:21:44.700909Z"
    }
   },
   "outputs": [
    {
     "data": {
      "text/plain": [
       "1    0.712230\n",
       "2    0.267495\n",
       "3    0.019621\n",
       "4    0.000654\n",
       "Name: Error, dtype: float64"
      ]
     },
     "execution_count": 246,
     "metadata": {},
     "output_type": "execute_result"
    }
   ],
   "source": [
    "final_error_df['Error'].value_counts(normalize=True)"
   ]
  },
  {
   "cell_type": "code",
   "execution_count": 247,
   "metadata": {
    "ExecuteTime": {
     "end_time": "2023-02-15T16:21:46.264852Z",
     "start_time": "2023-02-15T16:21:45.948976Z"
    }
   },
   "outputs": [
    {
     "data": {
      "image/png": "[encoded data removed]",
      "text/plain": [
       "<Figure size 2000x1500 with 1 Axes>"
      ]
     },
     "metadata": {},
     "output_type": "display_data"
    }
   ],
   "source": [
    "fig, ax = plt.subplots(figsize=(20,15))\n",
    "# Setting a basemap of the USA\n",
    "world = gpd.read_file(gpd.datasets.get_path(\"naturalearth_lowres\"))\n",
    "USA_map = world[world['name'] == 'United States of America'].plot(ax=ax, \n",
    "                                                                  color='#C2C2C2', \n",
    "                                                                  edgecolor='black')\n",
    "\n",
    "# Labeling the recorded severity levels\n",
    "gpd.GeoDataFrame(final_error_df).plot(ax=ax,\n",
    "                    column='Error',\n",
    "                    categorical=True,\n",
    "                    cmap='plasma_r',\n",
    "                    alpha= .6,\n",
    "                    markersize=60,\n",
    "                    legend=True,\n",
    "                    legend_kwds={'markerscale':1.25,\n",
    "                                'fontsize':'large',\n",
    "                                'title':'Error of Prediction',\n",
    "                                'title_fontsize':'x-large',\n",
    "                                'ncols':2}\n",
    "                      )\n",
    "\n",
    "\n",
    "ax.set_xlim([-128, -65])\n",
    "ax.set_ylim([23, 53])\n",
    "ax.set_axis_off()\n",
    "ax.set_title('Model Prediction Errors', fontsize=25);"
   ]
  },
  {
   "cell_type": "markdown",
   "metadata": {},
   "source": [
    "We can see that the vast majority of errors came from the southern region. "
   ]
  },
  {
   "cell_type": "code",
   "execution_count": 248,
   "metadata": {
    "ExecuteTime": {
     "end_time": "2023-02-15T16:21:50.659967Z",
     "start_time": "2023-02-15T16:21:50.652470Z"
    }
   },
   "outputs": [
    {
     "data": {
      "text/plain": [
       "south        1070\n",
       "midwest       235\n",
       "northeast     120\n",
       "west          104\n",
       "Name: region, dtype: int64"
      ]
     },
     "execution_count": 248,
     "metadata": {},
     "output_type": "execute_result"
    }
   ],
   "source": [
    "final_error_df['region'].value_counts()"
   ]
  },
  {
   "cell_type": "code",
   "execution_count": 249,
   "metadata": {
    "ExecuteTime": {
     "end_time": "2023-02-15T16:21:51.142522Z",
     "start_time": "2023-02-15T16:21:51.124814Z"
    }
   },
   "outputs": [
    {
     "data": {
      "text/plain": [
       "Error  region   \n",
       "1      south        735\n",
       "       midwest      175\n",
       "       northeast     90\n",
       "       west          89\n",
       "2      south        310\n",
       "       midwest       58\n",
       "       northeast     29\n",
       "       west          12\n",
       "3      south         24\n",
       "       west           3\n",
       "       midwest        2\n",
       "       northeast      1\n",
       "4      south          1\n",
       "Name: region, dtype: int64"
      ]
     },
     "execution_count": 249,
     "metadata": {},
     "output_type": "execute_result"
    }
   ],
   "source": [
    "final_error_df.groupby('Error')['region'].value_counts()"
   ]
  },
  {
   "cell_type": "markdown",
   "metadata": {},
   "source": [
    "# Conclusions"
   ]
  },
  {
   "cell_type": "markdown",
   "metadata": {},
   "source": [
    "## Analysis"
   ]
  },
  {
   "cell_type": "markdown",
   "metadata": {},
   "source": [
    "This analysis has run dozens of models to predict the severity of harmful algal blooms in inland bodies of water. Ultimately the best model was the Stacking Classifier using Logistic Regression, K-Nearest Neighbors, Random Forest, and XGBoost. The 5-fold cross validated score was .7768 for the Regional Root Mean Squared Error. When Tested on unseen validation data, the model scored:\n",
    "\n",
    "- RMSE for south (n=2744): 0.9059\n",
    "- RMSE for midwest (n=626): 0.8336\n",
    "- RMSE for west (n=1030): 0.4063\n",
    "- RMSE for northeast (n=309): 0.8419\n",
    "- Final score: 0.7469129213950463\n",
    "\n",
    "The model has a much better predictive ability for the western region than the other regions. This makes sense when we look at the EPA data and can visually see that the western region has a relatively consistent severity average of between about 3.5 and 4. Visually, the Northeast and Midwest appear to have the most variability in their severity, though the model is better able to predict for these regions than for the south.\n",
    "\n",
    "It is important to note that the safety of people, animals, and the environment is at stake, so the focus of this analysis was to minimize the error in the predictions rather than to achieve a high level of accuracy. The use of root mean squared error was appropriate for this purpose as it measures the deviation between the predicted values and the actual values, and the goal was to keep this deviation as low as possible.\n",
    "\n",
    "This analysis has proven that machine learning using existing EPA sample data, NASA Satellite Imagery, and NOAA climate data can be used to better predict the severity of harmful algal blooms in inland bodies of water.\n",
    "\n",
    "Additional Funding to continue research and implement improvements on the model is vital to the safety and security of our aquatic environments. In the future considerations section below, I highlight some of the areas where additional research could benefit the model."
   ]
  },
  {
   "cell_type": "markdown",
   "metadata": {},
   "source": [
    "## Future Considerations"
   ]
  },
  {
   "cell_type": "markdown",
   "metadata": {},
   "source": [
    "There are several areas for improvement that could further enhance the performance of the predictive model. These include:\n",
    "\n",
    "- Incorporating multiple satellite images for each site: Utilizing multiple satellite images for each site has the potential to significantly improve the model's predictive ability by providing more data for the model to learn from.\n",
    "\n",
    "\n",
    "- Using more climate data: In this analysis, only two points of climate data (temperature from 1 and 5 days prior to EPA sampling) were used. Incorporating more climate data points, such as wind gusts and precipitation, from the NOAA HRRR system would greatly improve the model's ability to predict HABs.\n",
    "\n",
    "\n",
    "- Using more temperature data: In this analysis, only one temperature point was taken for each day. Utilizing hourly temperature data from the NOAA HRRR system would significantly improve the model's ability to predict HABs.\n",
    "\n",
    "Additional funding and resources for continued research and implementation of these improvements are crucial for ensuring the safety and protection of the environment and the communities that rely on freshwater sources."
   ]
  },
  {
   "cell_type": "code",
   "execution_count": null,
   "metadata": {},
   "outputs": [],
   "source": []
  }
 ],
 "metadata": {
  "kernelspec": {
   "display_name": "Python (capstone)",
   "language": "python",
   "name": "capstone"
  },
  "language_info": {
   "codemirror_mode": {
    "name": "ipython",
    "version": 3
   },
   "file_extension": ".py",
   "mimetype": "text/x-python",
   "name": "python",
   "nbconvert_exporter": "python",
   "pygments_lexer": "ipython3",
   "version": "3.10.8"
  },
  "toc": {
   "base_numbering": 1,
   "nav_menu": {},
   "number_sections": true,
   "sideBar": false,
   "skip_h1_title": false,
   "title_cell": "Table of Contents",
   "title_sidebar": "Contents",
   "toc_cell": true,
   "toc_position": {},
   "toc_section_display": true,
   "toc_window_display": false
  },
  "varInspector": {
   "cols": {
    "lenName": 16,
    "lenType": 16,
    "lenVar": 40
   },
   "kernels_config": {
    "python": {
     "delete_cmd_postfix": "",
     "delete_cmd_prefix": "del ",
     "library": "var_list.py",
     "varRefreshCmd": "print(var_dic_list())"
    },
    "r": {
     "delete_cmd_postfix": ") ",
     "delete_cmd_prefix": "rm(",
     "library": "var_list.r",
     "varRefreshCmd": "cat(var_dic_list()) "
    }
   },
   "types_to_exclude": [
    "module",
    "function",
    "builtin_function_or_method",
    "instance",
    "_Feature"
   ],
   "window_display": false
  }
 },
 "nbformat": 4,
 "nbformat_minor": 4
}
