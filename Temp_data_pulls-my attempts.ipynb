{
 "cells": [
  {
   "cell_type": "markdown",
   "metadata": {
    "toc": true
   },
   "source": [
    "<h1>Table of Contents<span class=\"tocSkip\"></span></h1>\n",
    "<div class=\"toc\"><ul class=\"toc-item\"><li><span><a href=\"#Importing-the-Data\" data-toc-modified-id=\"Importing-the-Data-1\"><span class=\"toc-item-num\">1&nbsp;&nbsp;</span>Importing the Data</a></span><ul class=\"toc-item\"><li><span><a href=\"#Metadata-File\" data-toc-modified-id=\"Metadata-File-1.1\"><span class=\"toc-item-num\">1.1&nbsp;&nbsp;</span><code>Metadata</code> File</a></span></li><li><span><a href=\"#train_labels-File\" data-toc-modified-id=\"train_labels-File-1.2\"><span class=\"toc-item-num\">1.2&nbsp;&nbsp;</span><code>train_labels</code> File</a></span></li><li><span><a href=\"#Prepping-the-data-for-the-Satellite-imagery-analysis.\" data-toc-modified-id=\"Prepping-the-data-for-the-Satellite-imagery-analysis.-1.3\"><span class=\"toc-item-num\">1.3&nbsp;&nbsp;</span>Prepping the data for the Satellite imagery analysis.</a></span></li><li><span><a href=\"#Setting-up-the-DataFrame\" data-toc-modified-id=\"Setting-up-the-DataFrame-1.4\"><span class=\"toc-item-num\">1.4&nbsp;&nbsp;</span>Setting up the DataFrame</a></span></li></ul></li><li><span><a href=\"#Temperature-Data\" data-toc-modified-id=\"Temperature-Data-2\"><span class=\"toc-item-num\">2&nbsp;&nbsp;</span>Temperature Data</a></span><ul class=\"toc-item\"><li><span><a href=\"#different-approach-from-chatgpt\" data-toc-modified-id=\"different-approach-from-chatgpt-2.1\"><span class=\"toc-item-num\">2.1&nbsp;&nbsp;</span>different approach from chatgpt</a></span></li><li><span><a href=\"#This-is-now-from-chat-gpt\" data-toc-modified-id=\"This-is-now-from-chat-gpt-2.2\"><span class=\"toc-item-num\">2.2&nbsp;&nbsp;</span>This is now from chat gpt</a></span></li></ul></li><li><span><a href=\"#Now-to-automate-this:\" data-toc-modified-id=\"Now-to-automate-this:-3\"><span class=\"toc-item-num\">3&nbsp;&nbsp;</span>Now to automate this:</a></span></li><li><span><a href=\"#5-day-train-data\" data-toc-modified-id=\"5-day-train-data-4\"><span class=\"toc-item-num\">4&nbsp;&nbsp;</span>5 day train data</a></span></li><li><span><a href=\"#Pulling-Test-Data\" data-toc-modified-id=\"Pulling-Test-Data-5\"><span class=\"toc-item-num\">5&nbsp;&nbsp;</span>Pulling Test Data</a></span></li></ul></div>"
   ]
  },
  {
   "cell_type": "markdown",
   "metadata": {},
   "source": [
    "Running main notebook"
   ]
  },
  {
   "cell_type": "code",
   "execution_count": 1,
   "metadata": {
    "ExecuteTime": {
     "end_time": "2023-02-08T15:51:11.509688Z",
     "start_time": "2023-02-08T15:51:08.311393Z"
    }
   },
   "outputs": [],
   "source": [
    "import pandas as pd\n",
    "import matplotlib.pyplot as plt\n",
    "import seaborn as sns\n",
    "import numpy as np\n",
    "\n",
    "import geopandas as gpd\n",
    "from shapely.geometry import Point\n",
    "import geopy.distance as distance\n",
    "\n",
    "import planetary_computer as pc\n",
    "from pystac_client import Client\n",
    "\n",
    "from datetime import datetime, date\n",
    "from datetime import timedelta\n",
    "\n",
    "# from keras.utils import load_img, img_to_array\n",
    "import requests\n",
    "from PIL import Image\n",
    "from io import BytesIO\n",
    "\n",
    "from tqdm import tqdm\n",
    "tqdm.pandas()\n",
    "\n",
    "import rioxarray\n",
    "import cv2\n",
    "import odc.stac\n",
    "import tempfile\n",
    "import rasterio\n",
    "import os\n",
    "\n",
    "from sklearn.preprocessing import MinMaxScaler, OneHotEncoder\n",
    "from sklearn.model_selection import train_test_split, cross_validate\n",
    "from sklearn.ensemble import RandomForestClassifier\n",
    "from sklearn.dummy import DummyClassifier\n",
    "from sklearn.pipeline import Pipeline\n",
    "from sklearn.impute import SimpleImputer\n",
    "\n",
    "import functions\n",
    "import functions2\n",
    "\n",
    "import warnings\n",
    "warnings.filterwarnings('ignore')\n",
    "\n",
    "# import cfgrib\n",
    "# import boto3\n",
    "# import netCDF4\n",
    "import pygrib\n",
    "import xarray as xr"
   ]
  },
  {
   "cell_type": "markdown",
   "metadata": {},
   "source": [
    "# Importing the Data"
   ]
  },
  {
   "cell_type": "markdown",
   "metadata": {},
   "source": [
    "## `Metadata` File"
   ]
  },
  {
   "cell_type": "code",
   "execution_count": 2,
   "metadata": {
    "ExecuteTime": {
     "end_time": "2023-02-08T15:51:12.719020Z",
     "start_time": "2023-02-08T15:51:12.678157Z"
    }
   },
   "outputs": [],
   "source": [
    "# Reading in the data and bringing in date as datetime dtype\n",
    "metadata = pd.read_csv('Data/metadata.csv', parse_dates=['date'])"
   ]
  },
  {
   "cell_type": "markdown",
   "metadata": {},
   "source": [
    "## `train_labels` File"
   ]
  },
  {
   "cell_type": "code",
   "execution_count": 3,
   "metadata": {
    "ExecuteTime": {
     "end_time": "2023-02-08T15:51:13.359846Z",
     "start_time": "2023-02-08T15:51:13.334917Z"
    }
   },
   "outputs": [],
   "source": [
    "train_labels = pd.read_csv('Data/train_labels.csv')"
   ]
  },
  {
   "cell_type": "markdown",
   "metadata": {},
   "source": [
    "## Prepping the data for the Satellite imagery analysis."
   ]
  },
  {
   "cell_type": "code",
   "execution_count": 4,
   "metadata": {
    "ExecuteTime": {
     "end_time": "2023-02-08T15:51:13.904748Z",
     "start_time": "2023-02-08T15:51:13.894242Z"
    }
   },
   "outputs": [],
   "source": [
    "sat_df = metadata"
   ]
  },
  {
   "cell_type": "code",
   "execution_count": 5,
   "metadata": {
    "ExecuteTime": {
     "end_time": "2023-02-08T15:51:14.543626Z",
     "start_time": "2023-02-08T15:51:14.527028Z"
    }
   },
   "outputs": [
    {
     "data": {
      "text/html": [
       "<div>\n",
       "<style scoped>\n",
       "    .dataframe tbody tr th:only-of-type {\n",
       "        vertical-align: middle;\n",
       "    }\n",
       "\n",
       "    .dataframe tbody tr th {\n",
       "        vertical-align: top;\n",
       "    }\n",
       "\n",
       "    .dataframe thead th {\n",
       "        text-align: right;\n",
       "    }\n",
       "</style>\n",
       "<table border=\"1\" class=\"dataframe\">\n",
       "  <thead>\n",
       "    <tr style=\"text-align: right;\">\n",
       "      <th></th>\n",
       "      <th>uid</th>\n",
       "      <th>latitude</th>\n",
       "      <th>longitude</th>\n",
       "      <th>date</th>\n",
       "      <th>split</th>\n",
       "    </tr>\n",
       "  </thead>\n",
       "  <tbody>\n",
       "    <tr>\n",
       "      <th>0</th>\n",
       "      <td>aabm</td>\n",
       "      <td>39.080319</td>\n",
       "      <td>-86.430867</td>\n",
       "      <td>2018-05-14</td>\n",
       "      <td>train</td>\n",
       "    </tr>\n",
       "    <tr>\n",
       "      <th>1</th>\n",
       "      <td>aabn</td>\n",
       "      <td>36.559700</td>\n",
       "      <td>-121.510000</td>\n",
       "      <td>2016-08-31</td>\n",
       "      <td>test</td>\n",
       "    </tr>\n",
       "    <tr>\n",
       "      <th>2</th>\n",
       "      <td>aacd</td>\n",
       "      <td>35.875083</td>\n",
       "      <td>-78.878434</td>\n",
       "      <td>2020-11-19</td>\n",
       "      <td>train</td>\n",
       "    </tr>\n",
       "    <tr>\n",
       "      <th>3</th>\n",
       "      <td>aaee</td>\n",
       "      <td>35.487000</td>\n",
       "      <td>-79.062133</td>\n",
       "      <td>2016-08-24</td>\n",
       "      <td>train</td>\n",
       "    </tr>\n",
       "    <tr>\n",
       "      <th>4</th>\n",
       "      <td>aaff</td>\n",
       "      <td>38.049471</td>\n",
       "      <td>-99.827001</td>\n",
       "      <td>2019-07-23</td>\n",
       "      <td>train</td>\n",
       "    </tr>\n",
       "    <tr>\n",
       "      <th>...</th>\n",
       "      <td>...</td>\n",
       "      <td>...</td>\n",
       "      <td>...</td>\n",
       "      <td>...</td>\n",
       "      <td>...</td>\n",
       "    </tr>\n",
       "    <tr>\n",
       "      <th>23565</th>\n",
       "      <td>zzvv</td>\n",
       "      <td>36.708500</td>\n",
       "      <td>-121.749000</td>\n",
       "      <td>2014-12-02</td>\n",
       "      <td>test</td>\n",
       "    </tr>\n",
       "    <tr>\n",
       "      <th>23566</th>\n",
       "      <td>zzwo</td>\n",
       "      <td>39.792190</td>\n",
       "      <td>-99.971050</td>\n",
       "      <td>2017-06-19</td>\n",
       "      <td>train</td>\n",
       "    </tr>\n",
       "    <tr>\n",
       "      <th>23567</th>\n",
       "      <td>zzwq</td>\n",
       "      <td>35.794000</td>\n",
       "      <td>-79.012551</td>\n",
       "      <td>2015-03-24</td>\n",
       "      <td>train</td>\n",
       "    </tr>\n",
       "    <tr>\n",
       "      <th>23568</th>\n",
       "      <td>zzyb</td>\n",
       "      <td>35.742000</td>\n",
       "      <td>-79.238600</td>\n",
       "      <td>2016-11-21</td>\n",
       "      <td>train</td>\n",
       "    </tr>\n",
       "    <tr>\n",
       "      <th>23569</th>\n",
       "      <td>zzzi</td>\n",
       "      <td>39.767323</td>\n",
       "      <td>-96.028617</td>\n",
       "      <td>2015-08-31</td>\n",
       "      <td>test</td>\n",
       "    </tr>\n",
       "  </tbody>\n",
       "</table>\n",
       "<p>23570 rows × 5 columns</p>\n",
       "</div>"
      ],
      "text/plain": [
       "        uid   latitude   longitude       date  split\n",
       "0      aabm  39.080319  -86.430867 2018-05-14  train\n",
       "1      aabn  36.559700 -121.510000 2016-08-31   test\n",
       "2      aacd  35.875083  -78.878434 2020-11-19  train\n",
       "3      aaee  35.487000  -79.062133 2016-08-24  train\n",
       "4      aaff  38.049471  -99.827001 2019-07-23  train\n",
       "...     ...        ...         ...        ...    ...\n",
       "23565  zzvv  36.708500 -121.749000 2014-12-02   test\n",
       "23566  zzwo  39.792190  -99.971050 2017-06-19  train\n",
       "23567  zzwq  35.794000  -79.012551 2015-03-24  train\n",
       "23568  zzyb  35.742000  -79.238600 2016-11-21  train\n",
       "23569  zzzi  39.767323  -96.028617 2015-08-31   test\n",
       "\n",
       "[23570 rows x 5 columns]"
      ]
     },
     "execution_count": 5,
     "metadata": {},
     "output_type": "execute_result"
    }
   ],
   "source": [
    "sat_df"
   ]
  },
  {
   "cell_type": "code",
   "execution_count": 6,
   "metadata": {
    "ExecuteTime": {
     "end_time": "2023-02-08T15:51:14.885788Z",
     "start_time": "2023-02-08T15:51:14.870278Z"
    }
   },
   "outputs": [
    {
     "data": {
      "text/plain": [
       "train    17060\n",
       "test      6510\n",
       "Name: split, dtype: int64"
      ]
     },
     "execution_count": 6,
     "metadata": {},
     "output_type": "execute_result"
    }
   ],
   "source": [
    "sat_df['split'].value_counts()"
   ]
  },
  {
   "cell_type": "code",
   "execution_count": 7,
   "metadata": {
    "ExecuteTime": {
     "end_time": "2023-02-08T15:51:15.290836Z",
     "start_time": "2023-02-08T15:51:15.270312Z"
    }
   },
   "outputs": [],
   "source": [
    "sat_train = sat_df[sat_df['split'] == 'train'].copy()\n",
    "sat_test = sat_df[sat_df['split'] == 'test'].copy()"
   ]
  },
  {
   "cell_type": "markdown",
   "metadata": {},
   "source": [
    "Bringing back in the labels for sat_train."
   ]
  },
  {
   "cell_type": "code",
   "execution_count": 8,
   "metadata": {
    "ExecuteTime": {
     "end_time": "2023-02-08T15:51:15.880666Z",
     "start_time": "2023-02-08T15:51:15.862747Z"
    }
   },
   "outputs": [],
   "source": [
    "sat_train = sat_train.merge(train_labels, on='uid')"
   ]
  },
  {
   "cell_type": "markdown",
   "metadata": {},
   "source": [
    "## Setting up the DataFrame"
   ]
  },
  {
   "cell_type": "markdown",
   "metadata": {},
   "source": [
    "Here I use a custom function to add a date range that the satellites can interpret and also include bounding boxes to later manipulate the images."
   ]
  },
  {
   "cell_type": "code",
   "execution_count": 9,
   "metadata": {
    "ExecuteTime": {
     "end_time": "2023-02-08T15:51:39.556009Z",
     "start_time": "2023-02-08T15:51:16.750284Z"
    }
   },
   "outputs": [],
   "source": [
    "functions.get_important_info(sat_train, dist=31, big_crop_dist=3000, small_crop_dist=500, tiny_crop_dist=100);"
   ]
  },
  {
   "cell_type": "code",
   "execution_count": 10,
   "metadata": {
    "ExecuteTime": {
     "end_time": "2023-02-08T16:14:01.088077Z",
     "start_time": "2023-02-08T16:14:01.065063Z"
    }
   },
   "outputs": [
    {
     "data": {
      "text/html": [
       "<div>\n",
       "<style scoped>\n",
       "    .dataframe tbody tr th:only-of-type {\n",
       "        vertical-align: middle;\n",
       "    }\n",
       "\n",
       "    .dataframe tbody tr th {\n",
       "        vertical-align: top;\n",
       "    }\n",
       "\n",
       "    .dataframe thead th {\n",
       "        text-align: right;\n",
       "    }\n",
       "</style>\n",
       "<table border=\"1\" class=\"dataframe\">\n",
       "  <thead>\n",
       "    <tr style=\"text-align: right;\">\n",
       "      <th></th>\n",
       "      <th>uid</th>\n",
       "      <th>latitude</th>\n",
       "      <th>longitude</th>\n",
       "      <th>date</th>\n",
       "      <th>split</th>\n",
       "      <th>region</th>\n",
       "      <th>severity</th>\n",
       "      <th>density</th>\n",
       "      <th>date_range</th>\n",
       "      <th>bbox</th>\n",
       "      <th>big_crop_bbox</th>\n",
       "      <th>small_crop_bbox</th>\n",
       "      <th>tiny_crop_bbox</th>\n",
       "    </tr>\n",
       "  </thead>\n",
       "  <tbody>\n",
       "    <tr>\n",
       "      <th>0</th>\n",
       "      <td>aabm</td>\n",
       "      <td>39.080319</td>\n",
       "      <td>-86.430867</td>\n",
       "      <td>2018-05-14</td>\n",
       "      <td>train</td>\n",
       "      <td>midwest</td>\n",
       "      <td>1</td>\n",
       "      <td>585.0</td>\n",
       "      <td>2018-04-29/2018-05-14</td>\n",
       "      <td>[-87.00742888244132, 38.63091417147125, -85.85...</td>\n",
       "      <td>[-86.46553737052635, 39.05329612116674, -86.39...</td>\n",
       "      <td>[-86.43664511758249, 39.07581525298953, -86.42...</td>\n",
       "      <td>[-86.43202235685135, 39.079418305988106, -86.4...</td>\n",
       "    </tr>\n",
       "    <tr>\n",
       "      <th>1</th>\n",
       "      <td>aacd</td>\n",
       "      <td>35.875083</td>\n",
       "      <td>-78.878434</td>\n",
       "      <td>2020-11-19</td>\n",
       "      <td>train</td>\n",
       "      <td>south</td>\n",
       "      <td>1</td>\n",
       "      <td>290.0</td>\n",
       "      <td>2020-11-04/2020-11-19</td>\n",
       "      <td>[-79.43088170919651, 35.425434522510464, -78.3...</td>\n",
       "      <td>[-78.91165478658658, 35.84804560208817, -78.84...</td>\n",
       "      <td>[-78.88397103218583, 35.8705769758293, -78.872...</td>\n",
       "      <td>[-78.87954163128398, 35.87418198776951, -78.87...</td>\n",
       "    </tr>\n",
       "    <tr>\n",
       "      <th>2</th>\n",
       "      <td>aaee</td>\n",
       "      <td>35.487000</td>\n",
       "      <td>-79.062133</td>\n",
       "      <td>2016-08-24</td>\n",
       "      <td>train</td>\n",
       "      <td>south</td>\n",
       "      <td>1</td>\n",
       "      <td>1614.0</td>\n",
       "      <td>2016-08-09/2016-08-24</td>\n",
       "      <td>[-79.61191193921022, 35.03732231399556, -78.51...</td>\n",
       "      <td>[-79.09519299105324, 35.459960615407574, -79.0...</td>\n",
       "      <td>[-79.06764296370947, 35.48249344433146, -79.05...</td>\n",
       "      <td>[-79.06323495914324, 35.48609868913609, -79.06...</td>\n",
       "    </tr>\n",
       "  </tbody>\n",
       "</table>\n",
       "</div>"
      ],
      "text/plain": [
       "    uid   latitude  longitude       date  split   region  severity  density  \\\n",
       "0  aabm  39.080319 -86.430867 2018-05-14  train  midwest         1    585.0   \n",
       "1  aacd  35.875083 -78.878434 2020-11-19  train    south         1    290.0   \n",
       "2  aaee  35.487000 -79.062133 2016-08-24  train    south         1   1614.0   \n",
       "\n",
       "              date_range                                               bbox  \\\n",
       "0  2018-04-29/2018-05-14  [-87.00742888244132, 38.63091417147125, -85.85...   \n",
       "1  2020-11-04/2020-11-19  [-79.43088170919651, 35.425434522510464, -78.3...   \n",
       "2  2016-08-09/2016-08-24  [-79.61191193921022, 35.03732231399556, -78.51...   \n",
       "\n",
       "                                       big_crop_bbox  \\\n",
       "0  [-86.46553737052635, 39.05329612116674, -86.39...   \n",
       "1  [-78.91165478658658, 35.84804560208817, -78.84...   \n",
       "2  [-79.09519299105324, 35.459960615407574, -79.0...   \n",
       "\n",
       "                                     small_crop_bbox  \\\n",
       "0  [-86.43664511758249, 39.07581525298953, -86.42...   \n",
       "1  [-78.88397103218583, 35.8705769758293, -78.872...   \n",
       "2  [-79.06764296370947, 35.48249344433146, -79.05...   \n",
       "\n",
       "                                      tiny_crop_bbox  \n",
       "0  [-86.43202235685135, 39.079418305988106, -86.4...  \n",
       "1  [-78.87954163128398, 35.87418198776951, -78.87...  \n",
       "2  [-79.06323495914324, 35.48609868913609, -79.06...  "
      ]
     },
     "execution_count": 10,
     "metadata": {},
     "output_type": "execute_result"
    }
   ],
   "source": [
    "sat_train.head(3)"
   ]
  },
  {
   "cell_type": "code",
   "execution_count": 11,
   "metadata": {
    "ExecuteTime": {
     "end_time": "2023-02-08T16:14:10.060830Z",
     "start_time": "2023-02-08T16:14:01.608498Z"
    }
   },
   "outputs": [],
   "source": [
    "functions.get_important_info(sat_test, dist=31, big_crop_dist=3000, small_crop_dist=500, tiny_crop_dist=100);"
   ]
  },
  {
   "cell_type": "code",
   "execution_count": 12,
   "metadata": {
    "ExecuteTime": {
     "end_time": "2023-02-08T16:14:10.759434Z",
     "start_time": "2023-02-08T16:14:10.744930Z"
    }
   },
   "outputs": [
    {
     "data": {
      "text/html": [
       "<div>\n",
       "<style scoped>\n",
       "    .dataframe tbody tr th:only-of-type {\n",
       "        vertical-align: middle;\n",
       "    }\n",
       "\n",
       "    .dataframe tbody tr th {\n",
       "        vertical-align: top;\n",
       "    }\n",
       "\n",
       "    .dataframe thead th {\n",
       "        text-align: right;\n",
       "    }\n",
       "</style>\n",
       "<table border=\"1\" class=\"dataframe\">\n",
       "  <thead>\n",
       "    <tr style=\"text-align: right;\">\n",
       "      <th></th>\n",
       "      <th>uid</th>\n",
       "      <th>latitude</th>\n",
       "      <th>longitude</th>\n",
       "      <th>date</th>\n",
       "      <th>split</th>\n",
       "      <th>date_range</th>\n",
       "      <th>bbox</th>\n",
       "      <th>big_crop_bbox</th>\n",
       "      <th>small_crop_bbox</th>\n",
       "      <th>tiny_crop_bbox</th>\n",
       "    </tr>\n",
       "  </thead>\n",
       "  <tbody>\n",
       "    <tr>\n",
       "      <th>1</th>\n",
       "      <td>aabn</td>\n",
       "      <td>36.559700</td>\n",
       "      <td>-121.51000</td>\n",
       "      <td>2016-08-31</td>\n",
       "      <td>test</td>\n",
       "      <td>2016-08-16/2016-08-31</td>\n",
       "      <td>[-122.06728147535146, 36.11010270440991, -120....</td>\n",
       "      <td>[-121.5435112111439, 36.532665461053185, -121....</td>\n",
       "      <td>[-121.515585202077, 36.55519425204005, -121.50...</td>\n",
       "      <td>[-121.51111704041661, 36.558798850681036, -121...</td>\n",
       "    </tr>\n",
       "    <tr>\n",
       "      <th>12</th>\n",
       "      <td>aair</td>\n",
       "      <td>33.042600</td>\n",
       "      <td>-117.07600</td>\n",
       "      <td>2014-11-01</td>\n",
       "      <td>test</td>\n",
       "      <td>2014-10-17/2014-11-01</td>\n",
       "      <td>[-117.61009863726893, 32.59274323647839, -116....</td>\n",
       "      <td>[-117.10811706657985, 33.01554981570179, -117....</td>\n",
       "      <td>[-117.08135284459203, 33.038091644106125, -117...</td>\n",
       "      <td>[-117.07707056891928, 33.04169832908225, -117....</td>\n",
       "    </tr>\n",
       "    <tr>\n",
       "      <th>14</th>\n",
       "      <td>aajw</td>\n",
       "      <td>40.703968</td>\n",
       "      <td>-80.29305</td>\n",
       "      <td>2015-08-26</td>\n",
       "      <td>test</td>\n",
       "      <td>2015-08-11/2015-08-26</td>\n",
       "      <td>[-80.88337803767597, 40.25468908822623, -79.70...</td>\n",
       "      <td>[-80.32854854873526, 40.67695263815303, -80.25...</td>\n",
       "      <td>[-80.29896642510222, 40.69946544849961, -80.28...</td>\n",
       "      <td>[-80.29423328502216, 40.70306748998178, -80.29...</td>\n",
       "    </tr>\n",
       "  </tbody>\n",
       "</table>\n",
       "</div>"
      ],
      "text/plain": [
       "     uid   latitude  longitude       date split             date_range  \\\n",
       "1   aabn  36.559700 -121.51000 2016-08-31  test  2016-08-16/2016-08-31   \n",
       "12  aair  33.042600 -117.07600 2014-11-01  test  2014-10-17/2014-11-01   \n",
       "14  aajw  40.703968  -80.29305 2015-08-26  test  2015-08-11/2015-08-26   \n",
       "\n",
       "                                                 bbox  \\\n",
       "1   [-122.06728147535146, 36.11010270440991, -120....   \n",
       "12  [-117.61009863726893, 32.59274323647839, -116....   \n",
       "14  [-80.88337803767597, 40.25468908822623, -79.70...   \n",
       "\n",
       "                                        big_crop_bbox  \\\n",
       "1   [-121.5435112111439, 36.532665461053185, -121....   \n",
       "12  [-117.10811706657985, 33.01554981570179, -117....   \n",
       "14  [-80.32854854873526, 40.67695263815303, -80.25...   \n",
       "\n",
       "                                      small_crop_bbox  \\\n",
       "1   [-121.515585202077, 36.55519425204005, -121.50...   \n",
       "12  [-117.08135284459203, 33.038091644106125, -117...   \n",
       "14  [-80.29896642510222, 40.69946544849961, -80.28...   \n",
       "\n",
       "                                       tiny_crop_bbox  \n",
       "1   [-121.51111704041661, 36.558798850681036, -121...  \n",
       "12  [-117.07707056891928, 33.04169832908225, -117....  \n",
       "14  [-80.29423328502216, 40.70306748998178, -80.29...  "
      ]
     },
     "execution_count": 12,
     "metadata": {},
     "output_type": "execute_result"
    }
   ],
   "source": [
    "sat_test.head(3)"
   ]
  },
  {
   "cell_type": "markdown",
   "metadata": {},
   "source": [
    "# Temperature Data"
   ]
  },
  {
   "cell_type": "code",
   "execution_count": 13,
   "metadata": {
    "ExecuteTime": {
     "end_time": "2023-02-08T14:35:11.831822Z",
     "start_time": "2023-02-08T14:35:11.816823Z"
    }
   },
   "outputs": [],
   "source": [
    "sample_row = sat_train[sat_train['uid'] == 'garm']"
   ]
  },
  {
   "cell_type": "code",
   "execution_count": 14,
   "metadata": {
    "ExecuteTime": {
     "end_time": "2023-02-08T14:35:11.847821Z",
     "start_time": "2023-02-08T14:35:11.832822Z"
    }
   },
   "outputs": [
    {
     "data": {
      "text/html": [
       "<div>\n",
       "<style scoped>\n",
       "    .dataframe tbody tr th:only-of-type {\n",
       "        vertical-align: middle;\n",
       "    }\n",
       "\n",
       "    .dataframe tbody tr th {\n",
       "        vertical-align: top;\n",
       "    }\n",
       "\n",
       "    .dataframe thead th {\n",
       "        text-align: right;\n",
       "    }\n",
       "</style>\n",
       "<table border=\"1\" class=\"dataframe\">\n",
       "  <thead>\n",
       "    <tr style=\"text-align: right;\">\n",
       "      <th></th>\n",
       "      <th>uid</th>\n",
       "      <th>latitude</th>\n",
       "      <th>longitude</th>\n",
       "      <th>date</th>\n",
       "      <th>split</th>\n",
       "      <th>region</th>\n",
       "      <th>severity</th>\n",
       "      <th>density</th>\n",
       "      <th>date_range</th>\n",
       "      <th>bbox</th>\n",
       "      <th>big_crop_bbox</th>\n",
       "      <th>small_crop_bbox</th>\n",
       "      <th>tiny_crop_bbox</th>\n",
       "    </tr>\n",
       "  </thead>\n",
       "  <tbody>\n",
       "    <tr>\n",
       "      <th>3950</th>\n",
       "      <td>garm</td>\n",
       "      <td>41.98006</td>\n",
       "      <td>-110.65734</td>\n",
       "      <td>2021-09-27</td>\n",
       "      <td>train</td>\n",
       "      <td>west</td>\n",
       "      <td>5</td>\n",
       "      <td>12267752.74</td>\n",
       "      <td>2021-09-12/2021-09-27</td>\n",
       "      <td>[-111.25930520389633, 41.5308809188309, -110.0...</td>\n",
       "      <td>[-110.69353838433213, 41.953050646872555, -110...</td>\n",
       "      <td>[-110.6633730644045, 41.97555845000092, -110.6...</td>\n",
       "      <td>[-110.65854661288282, 41.97915969028358, -110....</td>\n",
       "    </tr>\n",
       "  </tbody>\n",
       "</table>\n",
       "</div>"
      ],
      "text/plain": [
       "       uid  latitude  longitude       date  split region  severity  \\\n",
       "3950  garm  41.98006 -110.65734 2021-09-27  train   west         5   \n",
       "\n",
       "          density             date_range  \\\n",
       "3950  12267752.74  2021-09-12/2021-09-27   \n",
       "\n",
       "                                                   bbox  \\\n",
       "3950  [-111.25930520389633, 41.5308809188309, -110.0...   \n",
       "\n",
       "                                          big_crop_bbox  \\\n",
       "3950  [-110.69353838433213, 41.953050646872555, -110...   \n",
       "\n",
       "                                        small_crop_bbox  \\\n",
       "3950  [-110.6633730644045, 41.97555845000092, -110.6...   \n",
       "\n",
       "                                         tiny_crop_bbox  \n",
       "3950  [-110.65854661288282, 41.97915969028358, -110....  "
      ]
     },
     "execution_count": 14,
     "metadata": {},
     "output_type": "execute_result"
    }
   ],
   "source": [
    "sample_row"
   ]
  },
  {
   "cell_type": "code",
   "execution_count": 15,
   "metadata": {
    "ExecuteTime": {
     "end_time": "2023-02-08T14:35:11.863830Z",
     "start_time": "2023-02-08T14:35:11.848822Z"
    }
   },
   "outputs": [],
   "source": [
    "# cleaning sample row\n",
    "sample_row = sample_row[['uid', 'date', 'latitude', 'longitude', 'tiny_crop_bbox']]\n",
    "sample_row = sample_row.iloc[0]"
   ]
  },
  {
   "cell_type": "code",
   "execution_count": 16,
   "metadata": {
    "ExecuteTime": {
     "end_time": "2023-02-08T14:35:11.879844Z",
     "start_time": "2023-02-08T14:35:11.864834Z"
    }
   },
   "outputs": [
    {
     "data": {
      "text/plain": [
       "uid                                                            garm\n",
       "date                                            2021-09-27 00:00:00\n",
       "latitude                                                   41.98006\n",
       "longitude                                                -110.65734\n",
       "tiny_crop_bbox    [-110.65854661288282, 41.97915969028358, -110....\n",
       "Name: 3950, dtype: object"
      ]
     },
     "execution_count": 16,
     "metadata": {},
     "output_type": "execute_result"
    }
   ],
   "source": [
    "sample_row"
   ]
  },
  {
   "cell_type": "code",
   "execution_count": 17,
   "metadata": {
    "ExecuteTime": {
     "end_time": "2023-02-08T14:35:11.895279Z",
     "start_time": "2023-02-08T14:35:11.880845Z"
    }
   },
   "outputs": [],
   "source": [
    "# creating a sample date one day prior to real sample datetime\n",
    "sample_date = sample_row['date'] - timedelta(1)"
   ]
  },
  {
   "cell_type": "code",
   "execution_count": 18,
   "metadata": {
    "ExecuteTime": {
     "end_time": "2023-02-08T14:35:11.911382Z",
     "start_time": "2023-02-08T14:35:11.896280Z"
    }
   },
   "outputs": [],
   "source": [
    "# converting to correct format\n",
    "sample_date = f'{sample_date:%Y%m%d}'"
   ]
  },
  {
   "cell_type": "code",
   "execution_count": 19,
   "metadata": {
    "ExecuteTime": {
     "end_time": "2023-02-08T14:35:11.927385Z",
     "start_time": "2023-02-08T14:35:11.912382Z"
    }
   },
   "outputs": [
    {
     "data": {
      "text/plain": [
       "'20210926'"
      ]
     },
     "execution_count": 19,
     "metadata": {},
     "output_type": "execute_result"
    }
   ],
   "source": [
    "sample_date"
   ]
  },
  {
   "cell_type": "code",
   "execution_count": 20,
   "metadata": {
    "ExecuteTime": {
     "end_time": "2023-02-08T14:35:11.943396Z",
     "start_time": "2023-02-08T14:35:11.928386Z"
    }
   },
   "outputs": [],
   "source": [
    "sample_bbox = sample_row['tiny_crop_bbox']"
   ]
  },
  {
   "cell_type": "code",
   "execution_count": 21,
   "metadata": {
    "ExecuteTime": {
     "end_time": "2023-02-08T14:35:11.959420Z",
     "start_time": "2023-02-08T14:35:11.944395Z"
    }
   },
   "outputs": [],
   "source": [
    "lat = sample_row.latitude\n",
    "lon = sample_row.longitude"
   ]
  },
  {
   "cell_type": "markdown",
   "metadata": {},
   "source": [
    "Using AWS to pull in data"
   ]
  },
  {
   "cell_type": "markdown",
   "metadata": {},
   "source": [
    "Pulling in all climate data for specific sample date"
   ]
  },
  {
   "cell_type": "code",
   "execution_count": 23,
   "metadata": {
    "ExecuteTime": {
     "end_time": "2023-02-08T14:37:00.051683Z",
     "start_time": "2023-02-08T14:37:00.046685Z"
    }
   },
   "outputs": [
    {
     "name": "stdout",
     "output_type": "stream",
     "text": [
      "https://noaa-hrrr-bdp-pds.s3.amazonaws.com/hrrr.20210926/conus/hrrr.t12z.wrfsfcf01.grib2\n"
     ]
    }
   ],
   "source": [
    "sector = \"conus\"\n",
    "cycle = 12  # noon\n",
    "forecast_hour = 1  # offset from cycle time\n",
    "product = \"wrfsfcf\"  # 3D Pressure Levels\n",
    "sample_date = sample_date  # August 8 2019\n",
    "\n",
    "file_path = f\"hrrr.t{cycle:02}z.{product}{forecast_hour:02}.grib2\"\n",
    "url = f\"https://noaa-hrrr-bdp-pds.s3.amazonaws.com/hrrr.{sample_date}/{sector}/{file_path}\"\n",
    "# print(f\"Full URL: {url}\")\n",
    "print(str(url))"
   ]
  },
  {
   "cell_type": "markdown",
   "metadata": {},
   "source": [
    "## different approach from chatgpt"
   ]
  },
  {
   "cell_type": "code",
   "execution_count": 23,
   "metadata": {
    "ExecuteTime": {
     "end_time": "2023-02-08T13:23:28.336740Z",
     "start_time": "2023-02-08T13:23:28.321734Z"
    }
   },
   "outputs": [],
   "source": [
    "# import s3fs"
   ]
  },
  {
   "cell_type": "code",
   "execution_count": null,
   "metadata": {},
   "outputs": [],
   "source": []
  },
  {
   "cell_type": "code",
   "execution_count": 24,
   "metadata": {
    "ExecuteTime": {
     "end_time": "2023-02-08T13:23:28.352412Z",
     "start_time": "2023-02-08T13:23:28.337742Z"
    }
   },
   "outputs": [],
   "source": [
    "# rds = rioxarray.open_rasterio(url)"
   ]
  },
  {
   "cell_type": "code",
   "execution_count": 25,
   "metadata": {
    "ExecuteTime": {
     "end_time": "2023-02-08T13:23:28.367418Z",
     "start_time": "2023-02-08T13:23:28.353413Z"
    }
   },
   "outputs": [],
   "source": [
    "# import tempfile\n",
    "# file = tempfile.NamedTemporaryFile(prefix=\"delete_later_\", suffix='.grib2', delete=False)\n",
    "\n",
    "# # headers = {\"Range\": f\"bytes={range_start}-{range_end}\"}\n",
    "# resp = requests.get(url)\n",
    "\n",
    "# with file as f:\n",
    "#     f.write(resp.content)"
   ]
  },
  {
   "cell_type": "markdown",
   "metadata": {},
   "source": [
    "## This is now from chat gpt"
   ]
  },
  {
   "cell_type": "code",
   "execution_count": 25,
   "metadata": {
    "ExecuteTime": {
     "end_time": "2023-02-08T14:37:25.163135Z",
     "start_time": "2023-02-08T14:37:21.558392Z"
    }
   },
   "outputs": [],
   "source": [
    "import tempfile\n",
    "file = tempfile.NamedTemporaryFile(prefix=\"delete_later_\", suffix='.grib2', delete=False)\n",
    "\n",
    "# headers = {\"Range\": f\"bytes={range_start}-{range_end}\"}\n",
    "resp = requests.get(url)\n",
    "\n",
    "with file as f:\n",
    "    f.write(resp.content)"
   ]
  },
  {
   "cell_type": "code",
   "execution_count": 26,
   "metadata": {
    "ExecuteTime": {
     "end_time": "2023-02-08T14:37:26.123427Z",
     "start_time": "2023-02-08T14:37:25.973405Z"
    }
   },
   "outputs": [],
   "source": [
    "grbs = pygrib.open(file.name)"
   ]
  },
  {
   "cell_type": "code",
   "execution_count": 34,
   "metadata": {
    "ExecuteTime": {
     "end_time": "2023-02-08T12:40:21.991112Z",
     "start_time": "2023-02-08T12:40:21.913596Z"
    }
   },
   "outputs": [
    {
     "ename": "OSError",
     "evalue": "not that many messages in file",
     "output_type": "error",
     "traceback": [
      "\u001b[1;31m---------------------------------------------------------------------------\u001b[0m",
      "\u001b[1;31mOSError\u001b[0m                                   Traceback (most recent call last)",
      "Cell \u001b[1;32mIn[34], line 1\u001b[0m\n\u001b[1;32m----> 1\u001b[0m \u001b[43mgrbs\u001b[49m\u001b[43m[\u001b[49m\u001b[38;5;241;43m609\u001b[39;49m\u001b[43m]\u001b[49m\u001b[38;5;241m.\u001b[39mlevel\n",
      "File \u001b[1;32msrc\\pygrib\\_pygrib.pyx:380\u001b[0m, in \u001b[0;36mpygrib._pygrib.open.__getitem__\u001b[1;34m()\u001b[0m\n",
      "File \u001b[1;32msrc\\pygrib\\_pygrib.pyx:492\u001b[0m, in \u001b[0;36mpygrib._pygrib.open.message\u001b[1;34m()\u001b[0m\n",
      "File \u001b[1;32msrc\\pygrib\\_pygrib.pyx:556\u001b[0m, in \u001b[0;36mpygrib._pygrib.open._advance\u001b[1;34m()\u001b[0m\n",
      "\u001b[1;31mOSError\u001b[0m: not that many messages in file"
     ]
    }
   ],
   "source": [
    "# grbs[609].level"
   ]
  },
  {
   "cell_type": "code",
   "execution_count": 27,
   "metadata": {
    "ExecuteTime": {
     "end_time": "2023-02-08T14:37:50.639861Z",
     "start_time": "2023-02-08T14:37:50.228823Z"
    }
   },
   "outputs": [
    {
     "data": {
      "text/plain": [
       "[1:Maximum/Composite radar reflectivity:dB (instant):lambert:atmosphere:level 0 -:fcst time 1 hrs:from 202109261200,\n",
       " 2:3:3 (instant):lambert:cloudTop:level 0:fcst time 1 hrs:from 202109261200,\n",
       " 3:201:201 (instant):lambert:atmosphere:level 0 -:fcst time 1 hrs:from 202109261200,\n",
       " 4:Vertically-integrated liquid:kg m**-1 (instant):lambert:atmosphere:level 0 -:fcst time 1 hrs:from 202109261200,\n",
       " 5:Visibility:m (instant):lambert:surface:level 0:fcst time 1 hrs:from 202109261200,\n",
       " 6:Derived radar reflectivity:dB (instant):lambert:heightAboveGround:level 1000 m:fcst time 1 hrs:from 202109261200,\n",
       " 7:Derived radar reflectivity:dB (instant):lambert:heightAboveGround:level 4000 m:fcst time 1 hrs:from 202109261200,\n",
       " 8:Derived radar reflectivity:dB (instant):lambert:isothermal:level 263 K:fcst time 1 hrs:from 202109261200,\n",
       " 9:Wind speed (gust):m s**-1 (instant):lambert:surface:level 0:fcst time 1 hrs:from 202109261200,\n",
       " 10:U component of wind:m s**-1 (instant):lambert:isobaricInhPa:level 25000 Pa:fcst time 1 hrs:from 202109261200,\n",
       " 11:V component of wind:m s**-1 (instant):lambert:isobaricInhPa:level 25000 Pa:fcst time 1 hrs:from 202109261200,\n",
       " 12:U component of wind:m s**-1 (instant):lambert:isobaricInhPa:level 30000 Pa:fcst time 1 hrs:from 202109261200,\n",
       " 13:V component of wind:m s**-1 (instant):lambert:isobaricInhPa:level 30000 Pa:fcst time 1 hrs:from 202109261200,\n",
       " 14:Geopotential height:gpm (instant):lambert:isobaricInhPa:level 50000 Pa:fcst time 1 hrs:from 202109261200,\n",
       " 15:Temperature:K (instant):lambert:isobaricInhPa:level 50000 Pa:fcst time 1 hrs:from 202109261200,\n",
       " 16:Dew point temperature:K (instant):lambert:isobaricInhPa:level 50000 Pa:fcst time 1 hrs:from 202109261200,\n",
       " 17:U component of wind:m s**-1 (instant):lambert:isobaricInhPa:level 50000 Pa:fcst time 1 hrs:from 202109261200,\n",
       " 18:V component of wind:m s**-1 (instant):lambert:isobaricInhPa:level 50000 Pa:fcst time 1 hrs:from 202109261200,\n",
       " 19:Geopotential height:gpm (instant):lambert:isobaricInhPa:level 70000 Pa:fcst time 1 hrs:from 202109261200,\n",
       " 20:Temperature:K (instant):lambert:isobaricInhPa:level 70000 Pa:fcst time 1 hrs:from 202109261200,\n",
       " 21:Dew point temperature:K (instant):lambert:isobaricInhPa:level 70000 Pa:fcst time 1 hrs:from 202109261200,\n",
       " 22:Geometric vertical velocity:m s**-1 (instant):lambert:isobaricInhPa:level 70000 Pa:fcst time 1 hrs:from 202109261200,\n",
       " 23:U component of wind:m s**-1 (instant):lambert:isobaricInhPa:level 70000 Pa:fcst time 1 hrs:from 202109261200,\n",
       " 24:V component of wind:m s**-1 (instant):lambert:isobaricInhPa:level 70000 Pa:fcst time 1 hrs:from 202109261200,\n",
       " 25:Geopotential height:gpm (instant):lambert:isobaricInhPa:level 85000 Pa:fcst time 1 hrs:from 202109261200,\n",
       " 26:Temperature:K (instant):lambert:isobaricInhPa:level 85000 Pa:fcst time 1 hrs:from 202109261200,\n",
       " 27:Dew point temperature:K (instant):lambert:isobaricInhPa:level 85000 Pa:fcst time 1 hrs:from 202109261200,\n",
       " 28:U component of wind:m s**-1 (instant):lambert:isobaricInhPa:level 85000 Pa:fcst time 1 hrs:from 202109261200,\n",
       " 29:V component of wind:m s**-1 (instant):lambert:isobaricInhPa:level 85000 Pa:fcst time 1 hrs:from 202109261200,\n",
       " 30:Temperature:K (instant):lambert:isobaricInhPa:level 92500 Pa:fcst time 1 hrs:from 202109261200,\n",
       " 31:Dew point temperature:K (instant):lambert:isobaricInhPa:level 92500 Pa:fcst time 1 hrs:from 202109261200,\n",
       " 32:U component of wind:m s**-1 (instant):lambert:isobaricInhPa:level 92500 Pa:fcst time 1 hrs:from 202109261200,\n",
       " 33:V component of wind:m s**-1 (instant):lambert:isobaricInhPa:level 92500 Pa:fcst time 1 hrs:from 202109261200,\n",
       " 34:Temperature:K (instant):lambert:isobaricInhPa:level 100000 Pa:fcst time 1 hrs:from 202109261200,\n",
       " 35:Dew point temperature:K (instant):lambert:isobaricInhPa:level 100000 Pa:fcst time 1 hrs:from 202109261200,\n",
       " 36:U component of wind:m s**-1 (instant):lambert:isobaricInhPa:level 100000 Pa:fcst time 1 hrs:from 202109261200,\n",
       " 37:V component of wind:m s**-1 (instant):lambert:isobaricInhPa:level 100000 Pa:fcst time 1 hrs:from 202109261200,\n",
       " 38:220:220 (max):lambert:pressureFromGroundLayer:levels 10000-100000 Pa:fcst time 0-1 hrs (max):from 202109261200,\n",
       " 39:221:221 (max):lambert:pressureFromGroundLayer:levels 10000-100000 Pa:fcst time 0-1 hrs (max):from 202109261200,\n",
       " 40:Geometric vertical velocity:m s**-1 (avg):lambert:sigmaLayer:levels 0.5-0.8 sigma value:fcst time 0-1 hrs (avg):from 202109261200,\n",
       " 41:MSLP (MAPS System Reduction):Pa (instant):lambert:meanSea:level 0:fcst time 1 hrs:from 202109261200,\n",
       " 42:Geopotential height:gpm (instant):lambert:isobaricInhPa:level 100000 Pa:fcst time 1 hrs:from 202109261200,\n",
       " 43:198:198 (max):lambert:heightAboveGround:level 1000 m:fcst time 0-1 hrs (max):from 202109261200,\n",
       " 44:Derived radar reflectivity:dB (max):lambert:isothermal:level 263 K:fcst time 0-1 hrs (max):from 202109261200,\n",
       " 45:199:199 (max):lambert:heightAboveGroundLayer:levels 5000-2000 m:fcst time 0-1 hrs (max):from 202109261200,\n",
       " 46:200:200 (min):lambert:heightAboveGroundLayer:levels 5000-2000 m:fcst time 0-1 hrs (min):from 202109261200,\n",
       " 47:199:199 (max):lambert:heightAboveGroundLayer:levels 2000-0 m:fcst time 0-1 hrs (max):from 202109261200,\n",
       " 48:200:200 (min):lambert:heightAboveGroundLayer:levels 2000-0 m:fcst time 0-1 hrs (min):from 202109261200,\n",
       " 49:199:199 (max):lambert:heightAboveGroundLayer:levels 3000-0 m:fcst time 0-1 hrs (max):from 202109261200,\n",
       " 50:200:200 (min):lambert:heightAboveGroundLayer:levels 3000-0 m:fcst time 0-1 hrs (min):from 202109261200,\n",
       " 51:Vorticity (relative):s**-1 (max):lambert:heightAboveGroundLayer:levels 2000-0 m:fcst time 0-1 hrs (max):from 202109261200,\n",
       " 52:Vorticity (relative):s**-1 (max):lambert:heightAboveGroundLayer:levels 1000-0 m:fcst time 0-1 hrs (max):from 202109261200,\n",
       " 53:Hail:m (max):lambert:atmosphere:level 0 -:fcst time 0-1 hrs (max):from 202109261200,\n",
       " 54:Hail:m (max):lambert:sigma:level 0.1 sigma value:fcst time 0-1 hrs (max):from 202109261200,\n",
       " 55:Hail:m (max):lambert:surface:level 0:fcst time 0-1 hrs (max):from 202109261200,\n",
       " 56:74:74 (max):lambert:atmosphereSingleLayer:level 0 considered as a single layer:fcst time 0-1 hrs (max):from 202109261200,\n",
       " 57:1:1 (instant):lambert:heightAboveGround:level 1 m:fcst time 1 hrs:from 202109261200,\n",
       " 58:1:1 (instant):lambert:heightAboveGround:level 2 m:fcst time 1 hrs:from 202109261200,\n",
       " 59:Lightning:dimensionless (instant):lambert:atmosphere:level 0 -:fcst time 1 hrs:from 202109261200,\n",
       " 60:U component of wind:m s**-1 (instant):lambert:heightAboveGround:level 80 m:fcst time 1 hrs:from 202109261200,\n",
       " 61:V component of wind:m s**-1 (instant):lambert:heightAboveGround:level 80 m:fcst time 1 hrs:from 202109261200,\n",
       " 62:Surface pressure:Pa (instant):lambert:surface:level 0:fcst time 1 hrs:from 202109261200,\n",
       " 63:Orography:m (instant):lambert:surface:level 0:fcst time 1 hrs:from 202109261200,\n",
       " 64:Temperature:K (instant):lambert:surface:level 0:fcst time 1 hrs:from 202109261200,\n",
       " 65:Total snowfall:m (accum):lambert:surface:level 0:fcst time 0-1 hrs (accum):from 202109261200,\n",
       " 66:Moisture availability:% (instant):lambert:depthBelowLand:level 0 m:fcst time 1 hrs:from 202109261200,\n",
       " 67:Plant canopy surface water:kg m**-2 (instant):lambert:surface:level 0:fcst time 1 hrs:from 202109261200,\n",
       " 68:Water equivalent of accumulated snow depth (deprecated):kg m**-2 (instant):lambert:surface:level 0:fcst time 1 hrs:from 202109261200,\n",
       " 69:Snow cover:% (instant):lambert:surface:level 0:fcst time 1 hrs:from 202109261200,\n",
       " 70:Snow depth:m (instant):lambert:surface:level 0:fcst time 1 hrs:from 202109261200,\n",
       " 71:2 metre temperature:K (instant):lambert:heightAboveGround:level 2 m:fcst time 1 hrs:from 202109261200,\n",
       " 72:Potential temperature:K (instant):lambert:heightAboveGround:level 2 m:fcst time 1 hrs:from 202109261200,\n",
       " 73:2 metre specific humidity:kg kg**-1 (instant):lambert:heightAboveGround:level 2 m:fcst time 1 hrs:from 202109261200,\n",
       " 74:2 metre dewpoint temperature:K (instant):lambert:heightAboveGround:level 2 m:fcst time 1 hrs:from 202109261200,\n",
       " 75:2 metre relative humidity:% (instant):lambert:heightAboveGround:level 2 m:fcst time 1 hrs:from 202109261200,\n",
       " 76:Mass density:kg m**-3 (instant):lambert:heightAboveGround:level 8 m:fcst time 1 hrs:from 202109261200,\n",
       " 77:10 metre U wind component:m s**-1 (instant):lambert:heightAboveGround:level 10 m:fcst time 1 hrs:from 202109261200,\n",
       " 78:10 metre V wind component:m s**-1 (instant):lambert:heightAboveGround:level 10 m:fcst time 1 hrs:from 202109261200,\n",
       " 79:10 metre wind speed:m s**-1 (max):lambert:heightAboveGround:level 10 m:fcst time 0-1 hrs (max):from 202109261200,\n",
       " 80:222:222 (max):lambert:heightAboveGround:level 10 m:fcst time 0-1 hrs (max):from 202109261200,\n",
       " 81:223:223 (max):lambert:heightAboveGround:level 10 m:fcst time 0-1 hrs (max):from 202109261200,\n",
       " 82:Percent frozen precipitation:% (instant):lambert:surface:level 0:fcst time 1 hrs:from 202109261200,\n",
       " 83:Precipitation rate:kg m**-2 s**-1 (instant):lambert:surface:level 0:fcst time 1 hrs:from 202109261200,\n",
       " 84:Total Precipitation:kg m**-2 (accum):lambert:surface:level 0:fcst time 0-1 hrs (accum):from 202109261200,\n",
       " 85:Water equivalent of accumulated snow depth (deprecated):kg m**-2 (accum):lambert:surface:level 0:fcst time 0-1 hrs (accum):from 202109261200,\n",
       " 86:227:227 (accum):lambert:surface:level 0:fcst time 0-1 hrs (accum):from 202109261200,\n",
       " 87:Freezing Rain:kg m**-2 (accum):lambert:surface:level 0:fcst time 0-1 hrs (accum):from 202109261200,\n",
       " 88:Storm surface runoff:kg m**-2 (accum):lambert:surface:level 0:fcst time 0-1 hrs (accum):from 202109261200,\n",
       " 89:Baseflow-groundwater runoff:kg m**-2 (accum):lambert:surface:level 0:fcst time 0-1 hrs (accum):from 202109261200,\n",
       " 90:Categorical snow:(Code table 4.222) (instant):lambert:surface:level 0:fcst time 1 hrs:from 202109261200,\n",
       " 91:Categorical ice pellets:(Code table 4.222) (instant):lambert:surface:level 0:fcst time 1 hrs:from 202109261200,\n",
       " 92:Categorical freezing rain:(Code table 4.222) (instant):lambert:surface:level 0:fcst time 1 hrs:from 202109261200,\n",
       " 93:Categorical rain:(Code table 4.222) (instant):lambert:surface:level 0:fcst time 1 hrs:from 202109261200,\n",
       " 94:Surface roughness:m (instant):lambert:surface:level 0:fcst time 1 hrs:from 202109261200,\n",
       " 95:Frictional velocity:m s**-1 (instant):lambert:surface:level 0:fcst time 1 hrs:from 202109261200,\n",
       " 96:Instantaneous surface sensible heat flux:W m**-2 (instant):lambert:surface:level 0:fcst time 1 hrs:from 202109261200,\n",
       " 97:Latent heat net flux:W m**-2 (instant):lambert:surface:level 0:fcst time 1 hrs:from 202109261200,\n",
       " 98:Vegetation:% (instant):lambert:surface:level 0:fcst time 1 hrs:from 202109261200,\n",
       " 99:231:231 (instant):lambert:surface:level 0:fcst time 1 hrs:from 202109261200,\n",
       " 100:232:232 (instant):lambert:surface:level 0:fcst time 1 hrs:from 202109261200,\n",
       " 101:Leaf Area Index:~ (instant):lambert:surface:level 0:fcst time 1 hrs:from 202109261200,\n",
       " 102:Ground heat flux:W m**-2 (instant):lambert:surface:level 0:fcst time 1 hrs:from 202109261200,\n",
       " 103:Vegetation Type:Integer(0-13) (instant):lambert:surface:level 0:fcst time 1 hrs:from 202109261200,\n",
       " 104:Surface lifted index:K (instant):lambert:isobaricLayer:levels 50000-100000 Pa:fcst time 1 hrs:from 202109261200,\n",
       " 105:Convective available potential energy:J kg**-1 (instant):lambert:surface:level 0:fcst time 1 hrs:from 202109261200,\n",
       " 106:Convective inhibition:J kg**-1 (instant):lambert:surface:level 0:fcst time 1 hrs:from 202109261200,\n",
       " 107:Precipitable water:kg m**-2 (instant):lambert:atmosphereSingleLayer:level 0 considered as a single layer:fcst time 1 hrs:from 202109261200,\n",
       " 108:102:102 (instant):lambert:atmosphereSingleLayer:level 0 considered as a single layer:fcst time 1 hrs:from 202109261200,\n",
       " 109:Total column vertically-integrated mass density:kg m**-2 (instant):lambert:atmosphereSingleLayer:level 0 considered as a single layer:fcst time 1 hrs:from 202109261200,\n",
       " 110:Total column-integrated cloud water:kg m**-2 (instant):lambert:atmosphere:level 0 -:fcst time 1 hrs:from 202109261200,\n",
       " 111:Total column-integrated cloud ice:kg m**-2 (instant):lambert:atmosphere:level 0 -:fcst time 1 hrs:from 202109261200,\n",
       " 112:Total Cloud Cover:% (instant):lambert:boundaryLayerCloudLayer:level 0:fcst time 1 hrs:from 202109261200,\n",
       " 113:Low cloud cover:% (instant):lambert:lowCloudLayer:level 0:fcst time 1 hrs:from 202109261200,\n",
       " 114:Medium cloud cover:% (instant):lambert:middleCloudLayer:level 0:fcst time 1 hrs:from 202109261200,\n",
       " 115:High cloud cover:% (instant):lambert:highCloudLayer:level 0:fcst time 1 hrs:from 202109261200,\n",
       " 116:Total Cloud Cover:% (instant):lambert:atmosphere:level 0 -:fcst time 1 hrs:from 202109261200,\n",
       " 117:Geopotential height:gpm (instant):lambert:cloudCeiling:level 0:fcst time 1 hrs:from 202109261200,\n",
       " 118:Geopotential height:gpm (instant):lambert:cloudBase:level 0:fcst time 1 hrs:from 202109261200,\n",
       " 119:Pressure:Pa (instant):lambert:cloudBase:level 0:fcst time 1 hrs:from 202109261200,\n",
       " 120:Pressure:Pa (instant):lambert:cloudTop:level 0:fcst time 1 hrs:from 202109261200,\n",
       " 121:Geopotential height:gpm (instant):lambert:cloudTop:level 0:fcst time 1 hrs:from 202109261200,\n",
       " 122:Upward long-wave radiation flux:W m**-2 (instant):lambert:nominalTop:level 0:fcst time 1 hrs:from 202109261200,\n",
       " 123:Downward short-wave radiation flux:W m**-2 (instant):lambert:surface:level 0:fcst time 1 hrs:from 202109261200,\n",
       " 124:Downward long-wave radiation flux:W m**-2 (instant):lambert:surface:level 0:fcst time 1 hrs:from 202109261200,\n",
       " 125:Upward short-wave radiation flux:W m**-2 (instant):lambert:surface:level 0:fcst time 1 hrs:from 202109261200,\n",
       " 126:Upward long-wave radiation flux:W m**-2 (instant):lambert:surface:level 0:fcst time 1 hrs:from 202109261200,\n",
       " 127:Cloud Forcing Net Solar Flux:W m**-2 (instant):lambert:surface:level 0:fcst time 1 hrs:from 202109261200,\n",
       " 128:Visible Beam Downward Solar Flux:W m**-2 (instant):lambert:surface:level 0:fcst time 1 hrs:from 202109261200,\n",
       " 129:Visible Diffuse Downward Solar Flux:W m**-2 (instant):lambert:surface:level 0:fcst time 1 hrs:from 202109261200,\n",
       " 130:Upward short-wave radiation flux:W m**-2 (instant):lambert:nominalTop:level 0:fcst time 1 hrs:from 202109261200,\n",
       " 131:Storm relative helicity:m**2 s**-2 (instant):lambert:heightAboveGroundLayer:levels 3000-0 m:fcst time 1 hrs:from 202109261200,\n",
       " 132:Storm relative helicity:m**2 s**-2 (instant):lambert:heightAboveGroundLayer:levels 1000-0 m:fcst time 1 hrs:from 202109261200,\n",
       " 133:U-component storm motion:m s**-1 (instant):lambert:heightAboveGroundLayer:levels 0-6000 m:fcst time 1 hrs:from 202109261200,\n",
       " 134:V-component storm motion:m s**-1 (instant):lambert:heightAboveGroundLayer:levels 0-6000 m:fcst time 1 hrs:from 202109261200,\n",
       " 135:Vertical u-component shear:s**-1 (instant):lambert:heightAboveGroundLayer:levels 0-1000 m:fcst time 1 hrs:from 202109261200,\n",
       " 136:Vertical v-component shear:s**-1 (instant):lambert:heightAboveGroundLayer:levels 0-1000 m:fcst time 1 hrs:from 202109261200,\n",
       " 137:Vertical u-component shear:s**-1 (instant):lambert:heightAboveGroundLayer:levels 0-6000 m:fcst time 1 hrs:from 202109261200,\n",
       " 138:Vertical v-component shear:s**-1 (instant):lambert:heightAboveGroundLayer:levels 0-6000 m:fcst time 1 hrs:from 202109261200,\n",
       " 139:Geopotential height:gpm (instant):lambert:isothermZero:level 0:fcst time 1 hrs:from 202109261200,\n",
       " 140:Relative humidity:% (instant):lambert:isothermZero:level 0:fcst time 1 hrs:from 202109261200,\n",
       " 141:Pressure:Pa (instant):lambert:isothermZero:level 0:fcst time 1 hrs:from 202109261200,\n",
       " 142:Geopotential height:gpm (instant):lambert:highestTroposphericFreezing:level 0:fcst time 1 hrs:from 202109261200,\n",
       " 143:Relative humidity:% (instant):lambert:highestTroposphericFreezing:level 0:fcst time 1 hrs:from 202109261200,\n",
       " 144:Pressure:Pa (instant):lambert:highestTroposphericFreezing:level 0:fcst time 1 hrs:from 202109261200,\n",
       " 145:Geopotential height:gpm (instant):lambert:isothermal:level 263 K:fcst time 1 hrs:from 202109261200,\n",
       " 146:Geopotential height:gpm (instant):lambert:isothermal:level 253 K:fcst time 1 hrs:from 202109261200,\n",
       " 147:Best (4-layer) lifted index:K (instant):lambert:pressureFromGroundLayer:levels 18000-0 Pa:fcst time 1 hrs:from 202109261200,\n",
       " 148:Convective available potential energy:J kg**-1 (instant):lambert:pressureFromGroundLayer:levels 18000-0 Pa:fcst time 1 hrs:from 202109261200,\n",
       " 149:Convective inhibition:J kg**-1 (instant):lambert:pressureFromGroundLayer:levels 18000-0 Pa:fcst time 1 hrs:from 202109261200,\n",
       " 150:Boundary layer height:m (instant):lambert:surface:level 0:fcst time 1 hrs:from 202109261200,\n",
       " 151:Geopotential height:gpm (instant):lambert:adiabaticCondensation:level 0:fcst time 1 hrs:from 202109261200,\n",
       " 152:Convective available potential energy:J kg**-1 (instant):lambert:pressureFromGroundLayer:levels 9000-0 Pa:fcst time 1 hrs:from 202109261200,\n",
       " 153:Convective inhibition:J kg**-1 (instant):lambert:pressureFromGroundLayer:levels 9000-0 Pa:fcst time 1 hrs:from 202109261200,\n",
       " 154:Convective available potential energy:J kg**-1 (instant):lambert:pressureFromGroundLayer:levels 25500-0 Pa:fcst time 1 hrs:from 202109261200,\n",
       " 155:Convective inhibition:J kg**-1 (instant):lambert:pressureFromGroundLayer:levels 25500-0 Pa:fcst time 1 hrs:from 202109261200,\n",
       " 156:Geopotential height:gpm (instant):lambert:equilibrium:level 0:fcst time 1 hrs:from 202109261200,\n",
       " 157:Pressure of level from which parcel was lifted:Pa (instant):lambert:pressureFromGroundLayer:levels 25500-0 Pa:fcst time 1 hrs:from 202109261200,\n",
       " 158:Convective available potential energy:J kg**-1 (instant):lambert:heightAboveGroundLayer:levels 0-3000 m:fcst time 1 hrs:from 202109261200,\n",
       " 159:Geopotential height:gpm (instant):lambert:unknown:level 0:fcst time 1 hrs:from 202109261200,\n",
       " 160:204:204 (instant):lambert:surface:level 0:fcst time 1 hrs:from 202109261200,\n",
       " 161:206:206 (instant):lambert:heightAboveGroundLayer:levels 0-500 m:fcst time 1 hrs:from 202109261200,\n",
       " 162:Layer Thickness:m (instant):lambert:unknown:levels 261-256 K:fcst time 1 hrs:from 202109261200,\n",
       " 163:205:205 (instant):lambert:heightAboveGroundLayer:levels 0-3000 m:fcst time 1 hrs:from 202109261200,\n",
       " 164:242:242 (instant):lambert:atmosphere:level 0 -:fcst time 1 hrs:from 202109261200,\n",
       " 165:Land-sea mask:(0 - 1) (instant):lambert:surface:level 0:fcst time 1 hrs:from 202109261200,\n",
       " 166:Sea ice area fraction:(0 - 1) (instant):lambert:surface:level 0:fcst time 1 hrs:from 202109261200,\n",
       " 167:Simulated Brightness Temperature for GOES 12, Channel 3:K (instant):lambert:nominalTop:level 0:fcst time 1 hrs:from 202109261200,\n",
       " 168:Simulated Brightness Temperature for GOES 12, Channel 4:K (instant):lambert:nominalTop:level 0:fcst time 1 hrs:from 202109261200,\n",
       " 169:Simulated Brightness Temperature for GOES 11, Channel 3:K (instant):lambert:nominalTop:level 0:fcst time 1 hrs:from 202109261200,\n",
       " 170:Simulated Brightness Temperature for GOES 11, Channel 4:K (instant):lambert:nominalTop:level 0:fcst time 1 hrs:from 202109261200]"
      ]
     },
     "execution_count": 27,
     "metadata": {},
     "output_type": "execute_result"
    }
   ],
   "source": [
    "grbs.select()"
   ]
  },
  {
   "cell_type": "code",
   "execution_count": 28,
   "metadata": {
    "ExecuteTime": {
     "end_time": "2023-02-08T14:37:52.401315Z",
     "start_time": "2023-02-08T14:37:52.188796Z"
    }
   },
   "outputs": [],
   "source": [
    "surface_grb = grbs.select(level=0)"
   ]
  },
  {
   "cell_type": "code",
   "execution_count": 29,
   "metadata": {
    "ExecuteTime": {
     "end_time": "2023-02-08T14:37:53.184876Z",
     "start_time": "2023-02-08T14:37:53.132874Z"
    }
   },
   "outputs": [
    {
     "data": {
      "text/plain": [
       "[1:Maximum/Composite radar reflectivity:dB (instant):lambert:atmosphere:level 0 -:fcst time 1 hrs:from 202109261200,\n",
       " 2:3:3 (instant):lambert:cloudTop:level 0:fcst time 1 hrs:from 202109261200,\n",
       " 3:201:201 (instant):lambert:atmosphere:level 0 -:fcst time 1 hrs:from 202109261200,\n",
       " 4:Vertically-integrated liquid:kg m**-1 (instant):lambert:atmosphere:level 0 -:fcst time 1 hrs:from 202109261200,\n",
       " 5:Visibility:m (instant):lambert:surface:level 0:fcst time 1 hrs:from 202109261200,\n",
       " 9:Wind speed (gust):m s**-1 (instant):lambert:surface:level 0:fcst time 1 hrs:from 202109261200,\n",
       " 41:MSLP (MAPS System Reduction):Pa (instant):lambert:meanSea:level 0:fcst time 1 hrs:from 202109261200,\n",
       " 53:Hail:m (max):lambert:atmosphere:level 0 -:fcst time 0-1 hrs (max):from 202109261200,\n",
       " 54:Hail:m (max):lambert:sigma:level 0.1 sigma value:fcst time 0-1 hrs (max):from 202109261200,\n",
       " 55:Hail:m (max):lambert:surface:level 0:fcst time 0-1 hrs (max):from 202109261200,\n",
       " 56:74:74 (max):lambert:atmosphereSingleLayer:level 0 considered as a single layer:fcst time 0-1 hrs (max):from 202109261200,\n",
       " 59:Lightning:dimensionless (instant):lambert:atmosphere:level 0 -:fcst time 1 hrs:from 202109261200,\n",
       " 62:Surface pressure:Pa (instant):lambert:surface:level 0:fcst time 1 hrs:from 202109261200,\n",
       " 63:Orography:m (instant):lambert:surface:level 0:fcst time 1 hrs:from 202109261200,\n",
       " 64:Temperature:K (instant):lambert:surface:level 0:fcst time 1 hrs:from 202109261200,\n",
       " 65:Total snowfall:m (accum):lambert:surface:level 0:fcst time 0-1 hrs (accum):from 202109261200,\n",
       " 66:Moisture availability:% (instant):lambert:depthBelowLand:level 0 m:fcst time 1 hrs:from 202109261200,\n",
       " 67:Plant canopy surface water:kg m**-2 (instant):lambert:surface:level 0:fcst time 1 hrs:from 202109261200,\n",
       " 68:Water equivalent of accumulated snow depth (deprecated):kg m**-2 (instant):lambert:surface:level 0:fcst time 1 hrs:from 202109261200,\n",
       " 69:Snow cover:% (instant):lambert:surface:level 0:fcst time 1 hrs:from 202109261200,\n",
       " 70:Snow depth:m (instant):lambert:surface:level 0:fcst time 1 hrs:from 202109261200,\n",
       " 82:Percent frozen precipitation:% (instant):lambert:surface:level 0:fcst time 1 hrs:from 202109261200,\n",
       " 83:Precipitation rate:kg m**-2 s**-1 (instant):lambert:surface:level 0:fcst time 1 hrs:from 202109261200,\n",
       " 84:Total Precipitation:kg m**-2 (accum):lambert:surface:level 0:fcst time 0-1 hrs (accum):from 202109261200,\n",
       " 85:Water equivalent of accumulated snow depth (deprecated):kg m**-2 (accum):lambert:surface:level 0:fcst time 0-1 hrs (accum):from 202109261200,\n",
       " 86:227:227 (accum):lambert:surface:level 0:fcst time 0-1 hrs (accum):from 202109261200,\n",
       " 87:Freezing Rain:kg m**-2 (accum):lambert:surface:level 0:fcst time 0-1 hrs (accum):from 202109261200,\n",
       " 88:Storm surface runoff:kg m**-2 (accum):lambert:surface:level 0:fcst time 0-1 hrs (accum):from 202109261200,\n",
       " 89:Baseflow-groundwater runoff:kg m**-2 (accum):lambert:surface:level 0:fcst time 0-1 hrs (accum):from 202109261200,\n",
       " 90:Categorical snow:(Code table 4.222) (instant):lambert:surface:level 0:fcst time 1 hrs:from 202109261200,\n",
       " 91:Categorical ice pellets:(Code table 4.222) (instant):lambert:surface:level 0:fcst time 1 hrs:from 202109261200,\n",
       " 92:Categorical freezing rain:(Code table 4.222) (instant):lambert:surface:level 0:fcst time 1 hrs:from 202109261200,\n",
       " 93:Categorical rain:(Code table 4.222) (instant):lambert:surface:level 0:fcst time 1 hrs:from 202109261200,\n",
       " 94:Surface roughness:m (instant):lambert:surface:level 0:fcst time 1 hrs:from 202109261200,\n",
       " 95:Frictional velocity:m s**-1 (instant):lambert:surface:level 0:fcst time 1 hrs:from 202109261200,\n",
       " 96:Instantaneous surface sensible heat flux:W m**-2 (instant):lambert:surface:level 0:fcst time 1 hrs:from 202109261200,\n",
       " 97:Latent heat net flux:W m**-2 (instant):lambert:surface:level 0:fcst time 1 hrs:from 202109261200,\n",
       " 98:Vegetation:% (instant):lambert:surface:level 0:fcst time 1 hrs:from 202109261200,\n",
       " 99:231:231 (instant):lambert:surface:level 0:fcst time 1 hrs:from 202109261200,\n",
       " 100:232:232 (instant):lambert:surface:level 0:fcst time 1 hrs:from 202109261200,\n",
       " 101:Leaf Area Index:~ (instant):lambert:surface:level 0:fcst time 1 hrs:from 202109261200,\n",
       " 102:Ground heat flux:W m**-2 (instant):lambert:surface:level 0:fcst time 1 hrs:from 202109261200,\n",
       " 103:Vegetation Type:Integer(0-13) (instant):lambert:surface:level 0:fcst time 1 hrs:from 202109261200,\n",
       " 105:Convective available potential energy:J kg**-1 (instant):lambert:surface:level 0:fcst time 1 hrs:from 202109261200,\n",
       " 106:Convective inhibition:J kg**-1 (instant):lambert:surface:level 0:fcst time 1 hrs:from 202109261200,\n",
       " 107:Precipitable water:kg m**-2 (instant):lambert:atmosphereSingleLayer:level 0 considered as a single layer:fcst time 1 hrs:from 202109261200,\n",
       " 108:102:102 (instant):lambert:atmosphereSingleLayer:level 0 considered as a single layer:fcst time 1 hrs:from 202109261200,\n",
       " 109:Total column vertically-integrated mass density:kg m**-2 (instant):lambert:atmosphereSingleLayer:level 0 considered as a single layer:fcst time 1 hrs:from 202109261200,\n",
       " 110:Total column-integrated cloud water:kg m**-2 (instant):lambert:atmosphere:level 0 -:fcst time 1 hrs:from 202109261200,\n",
       " 111:Total column-integrated cloud ice:kg m**-2 (instant):lambert:atmosphere:level 0 -:fcst time 1 hrs:from 202109261200,\n",
       " 112:Total Cloud Cover:% (instant):lambert:boundaryLayerCloudLayer:level 0:fcst time 1 hrs:from 202109261200,\n",
       " 113:Low cloud cover:% (instant):lambert:lowCloudLayer:level 0:fcst time 1 hrs:from 202109261200,\n",
       " 114:Medium cloud cover:% (instant):lambert:middleCloudLayer:level 0:fcst time 1 hrs:from 202109261200,\n",
       " 115:High cloud cover:% (instant):lambert:highCloudLayer:level 0:fcst time 1 hrs:from 202109261200,\n",
       " 116:Total Cloud Cover:% (instant):lambert:atmosphere:level 0 -:fcst time 1 hrs:from 202109261200,\n",
       " 117:Geopotential height:gpm (instant):lambert:cloudCeiling:level 0:fcst time 1 hrs:from 202109261200,\n",
       " 118:Geopotential height:gpm (instant):lambert:cloudBase:level 0:fcst time 1 hrs:from 202109261200,\n",
       " 119:Pressure:Pa (instant):lambert:cloudBase:level 0:fcst time 1 hrs:from 202109261200,\n",
       " 120:Pressure:Pa (instant):lambert:cloudTop:level 0:fcst time 1 hrs:from 202109261200,\n",
       " 121:Geopotential height:gpm (instant):lambert:cloudTop:level 0:fcst time 1 hrs:from 202109261200,\n",
       " 122:Upward long-wave radiation flux:W m**-2 (instant):lambert:nominalTop:level 0:fcst time 1 hrs:from 202109261200,\n",
       " 123:Downward short-wave radiation flux:W m**-2 (instant):lambert:surface:level 0:fcst time 1 hrs:from 202109261200,\n",
       " 124:Downward long-wave radiation flux:W m**-2 (instant):lambert:surface:level 0:fcst time 1 hrs:from 202109261200,\n",
       " 125:Upward short-wave radiation flux:W m**-2 (instant):lambert:surface:level 0:fcst time 1 hrs:from 202109261200,\n",
       " 126:Upward long-wave radiation flux:W m**-2 (instant):lambert:surface:level 0:fcst time 1 hrs:from 202109261200,\n",
       " 127:Cloud Forcing Net Solar Flux:W m**-2 (instant):lambert:surface:level 0:fcst time 1 hrs:from 202109261200,\n",
       " 128:Visible Beam Downward Solar Flux:W m**-2 (instant):lambert:surface:level 0:fcst time 1 hrs:from 202109261200,\n",
       " 129:Visible Diffuse Downward Solar Flux:W m**-2 (instant):lambert:surface:level 0:fcst time 1 hrs:from 202109261200,\n",
       " 130:Upward short-wave radiation flux:W m**-2 (instant):lambert:nominalTop:level 0:fcst time 1 hrs:from 202109261200,\n",
       " 133:U-component storm motion:m s**-1 (instant):lambert:heightAboveGroundLayer:levels 0-6000 m:fcst time 1 hrs:from 202109261200,\n",
       " 134:V-component storm motion:m s**-1 (instant):lambert:heightAboveGroundLayer:levels 0-6000 m:fcst time 1 hrs:from 202109261200,\n",
       " 135:Vertical u-component shear:s**-1 (instant):lambert:heightAboveGroundLayer:levels 0-1000 m:fcst time 1 hrs:from 202109261200,\n",
       " 136:Vertical v-component shear:s**-1 (instant):lambert:heightAboveGroundLayer:levels 0-1000 m:fcst time 1 hrs:from 202109261200,\n",
       " 137:Vertical u-component shear:s**-1 (instant):lambert:heightAboveGroundLayer:levels 0-6000 m:fcst time 1 hrs:from 202109261200,\n",
       " 138:Vertical v-component shear:s**-1 (instant):lambert:heightAboveGroundLayer:levels 0-6000 m:fcst time 1 hrs:from 202109261200,\n",
       " 139:Geopotential height:gpm (instant):lambert:isothermZero:level 0:fcst time 1 hrs:from 202109261200,\n",
       " 140:Relative humidity:% (instant):lambert:isothermZero:level 0:fcst time 1 hrs:from 202109261200,\n",
       " 141:Pressure:Pa (instant):lambert:isothermZero:level 0:fcst time 1 hrs:from 202109261200,\n",
       " 142:Geopotential height:gpm (instant):lambert:highestTroposphericFreezing:level 0:fcst time 1 hrs:from 202109261200,\n",
       " 143:Relative humidity:% (instant):lambert:highestTroposphericFreezing:level 0:fcst time 1 hrs:from 202109261200,\n",
       " 144:Pressure:Pa (instant):lambert:highestTroposphericFreezing:level 0:fcst time 1 hrs:from 202109261200,\n",
       " 150:Boundary layer height:m (instant):lambert:surface:level 0:fcst time 1 hrs:from 202109261200,\n",
       " 151:Geopotential height:gpm (instant):lambert:adiabaticCondensation:level 0:fcst time 1 hrs:from 202109261200,\n",
       " 156:Geopotential height:gpm (instant):lambert:equilibrium:level 0:fcst time 1 hrs:from 202109261200,\n",
       " 158:Convective available potential energy:J kg**-1 (instant):lambert:heightAboveGroundLayer:levels 0-3000 m:fcst time 1 hrs:from 202109261200,\n",
       " 159:Geopotential height:gpm (instant):lambert:unknown:level 0:fcst time 1 hrs:from 202109261200,\n",
       " 160:204:204 (instant):lambert:surface:level 0:fcst time 1 hrs:from 202109261200,\n",
       " 161:206:206 (instant):lambert:heightAboveGroundLayer:levels 0-500 m:fcst time 1 hrs:from 202109261200,\n",
       " 163:205:205 (instant):lambert:heightAboveGroundLayer:levels 0-3000 m:fcst time 1 hrs:from 202109261200,\n",
       " 164:242:242 (instant):lambert:atmosphere:level 0 -:fcst time 1 hrs:from 202109261200,\n",
       " 165:Land-sea mask:(0 - 1) (instant):lambert:surface:level 0:fcst time 1 hrs:from 202109261200,\n",
       " 166:Sea ice area fraction:(0 - 1) (instant):lambert:surface:level 0:fcst time 1 hrs:from 202109261200,\n",
       " 167:Simulated Brightness Temperature for GOES 12, Channel 3:K (instant):lambert:nominalTop:level 0:fcst time 1 hrs:from 202109261200,\n",
       " 168:Simulated Brightness Temperature for GOES 12, Channel 4:K (instant):lambert:nominalTop:level 0:fcst time 1 hrs:from 202109261200,\n",
       " 169:Simulated Brightness Temperature for GOES 11, Channel 3:K (instant):lambert:nominalTop:level 0:fcst time 1 hrs:from 202109261200,\n",
       " 170:Simulated Brightness Temperature for GOES 11, Channel 4:K (instant):lambert:nominalTop:level 0:fcst time 1 hrs:from 202109261200]"
      ]
     },
     "execution_count": 29,
     "metadata": {},
     "output_type": "execute_result"
    }
   ],
   "source": [
    "surface_grb"
   ]
  },
  {
   "cell_type": "markdown",
   "metadata": {},
   "source": [
    "keep:\n",
    "- 144\n",
    "- 143\n",
    "- 120\n",
    "- 119\n",
    "- 109 (weight of clouds)\n",
    "- 107\n",
    "- 88 (important, this is surface runoff)\n",
    "- 84\n",
    "- 83\n",
    "- 64\n",
    "- 62\n",
    "- 9\n",
    "- 5 (says visibility but could be indicator of particles in air)"
   ]
  },
  {
   "cell_type": "code",
   "execution_count": null,
   "metadata": {},
   "outputs": [],
   "source": []
  },
  {
   "cell_type": "code",
   "execution_count": 30,
   "metadata": {
    "ExecuteTime": {
     "end_time": "2023-02-08T14:37:56.656377Z",
     "start_time": "2023-02-08T14:37:56.428964Z"
    }
   },
   "outputs": [],
   "source": [
    "temp_grb = grbs.select(name='Temperature')"
   ]
  },
  {
   "cell_type": "code",
   "execution_count": 31,
   "metadata": {
    "ExecuteTime": {
     "end_time": "2023-02-08T14:37:57.338815Z",
     "start_time": "2023-02-08T14:37:57.324814Z"
    }
   },
   "outputs": [
    {
     "data": {
      "text/plain": [
       "[15:Temperature:K (instant):lambert:isobaricInhPa:level 50000 Pa:fcst time 1 hrs:from 202109261200,\n",
       " 20:Temperature:K (instant):lambert:isobaricInhPa:level 70000 Pa:fcst time 1 hrs:from 202109261200,\n",
       " 26:Temperature:K (instant):lambert:isobaricInhPa:level 85000 Pa:fcst time 1 hrs:from 202109261200,\n",
       " 30:Temperature:K (instant):lambert:isobaricInhPa:level 92500 Pa:fcst time 1 hrs:from 202109261200,\n",
       " 34:Temperature:K (instant):lambert:isobaricInhPa:level 100000 Pa:fcst time 1 hrs:from 202109261200,\n",
       " 64:Temperature:K (instant):lambert:surface:level 0:fcst time 1 hrs:from 202109261200]"
      ]
     },
     "execution_count": 31,
     "metadata": {},
     "output_type": "execute_result"
    }
   ],
   "source": [
    "temp_grb"
   ]
  },
  {
   "cell_type": "code",
   "execution_count": 32,
   "metadata": {
    "ExecuteTime": {
     "end_time": "2023-02-08T14:37:59.201724Z",
     "start_time": "2023-02-08T14:37:59.196566Z"
    }
   },
   "outputs": [],
   "source": [
    "temp_grb = temp_grb[-1]"
   ]
  },
  {
   "cell_type": "code",
   "execution_count": 33,
   "metadata": {
    "ExecuteTime": {
     "end_time": "2023-02-08T14:38:00.479998Z",
     "start_time": "2023-02-08T14:38:00.460998Z"
    }
   },
   "outputs": [
    {
     "data": {
      "text/plain": [
       "64:Temperature:K (instant):lambert:surface:level 0:fcst time 1 hrs:from 202109261200"
      ]
     },
     "execution_count": 33,
     "metadata": {},
     "output_type": "execute_result"
    }
   ],
   "source": [
    "temp_grb"
   ]
  },
  {
   "cell_type": "code",
   "execution_count": 34,
   "metadata": {
    "ExecuteTime": {
     "end_time": "2023-02-08T14:38:01.349483Z",
     "start_time": "2023-02-08T14:38:01.340488Z"
    },
    "scrolled": false
   },
   "outputs": [
    {
     "data": {
      "text/plain": [
       "['globalDomain',\n",
       " 'GRIBEditionNumber',\n",
       " 'tablesVersionLatestOfficial',\n",
       " 'tablesVersionLatest',\n",
       " 'grib2divider',\n",
       " 'angleSubdivisions',\n",
       " 'missingValue',\n",
       " 'ieeeFloats',\n",
       " 'isHindcast',\n",
       " 'section0Length',\n",
       " 'identifier',\n",
       " 'discipline',\n",
       " 'editionNumber',\n",
       " 'totalLength',\n",
       " 'sectionNumber',\n",
       " 'section1Length',\n",
       " 'numberOfSection',\n",
       " 'centre',\n",
       " 'centreDescription',\n",
       " 'subCentre',\n",
       " 'tablesVersion',\n",
       " 'masterDir',\n",
       " 'localTablesVersion',\n",
       " 'significanceOfReferenceTime',\n",
       " 'year',\n",
       " 'month',\n",
       " 'day',\n",
       " 'hour',\n",
       " 'minute',\n",
       " 'second',\n",
       " 'dataDate',\n",
       " 'julianDay',\n",
       " 'dataTime',\n",
       " 'productionStatusOfProcessedData',\n",
       " 'typeOfProcessedData',\n",
       " 'md5Section1',\n",
       " 'selectStepTemplateInterval',\n",
       " 'selectStepTemplateInstant',\n",
       " 'stepType',\n",
       " 'is_chemical',\n",
       " 'is_chemical_distfn',\n",
       " 'is_chemical_srcsink',\n",
       " 'is_aerosol',\n",
       " 'is_aerosol_optical',\n",
       " 'setCalendarId',\n",
       " 'deleteCalendarId',\n",
       " 'sectionNumber',\n",
       " 'grib2LocalSectionPresent',\n",
       " 'deleteLocalDefinition',\n",
       " 'sectionNumber',\n",
       " 'gridDescriptionSectionPresent',\n",
       " 'section3Length',\n",
       " 'numberOfSection',\n",
       " 'sourceOfGridDefinition',\n",
       " 'numberOfDataPoints',\n",
       " 'numberOfOctectsForNumberOfPoints',\n",
       " 'interpretationOfNumberOfPoints',\n",
       " 'PLPresent',\n",
       " 'gridDefinitionTemplateNumber',\n",
       " 'gridDefinitionDescription',\n",
       " 'shapeOfTheEarth',\n",
       " 'scaleFactorOfRadiusOfSphericalEarth',\n",
       " 'scaledValueOfRadiusOfSphericalEarth',\n",
       " 'scaleFactorOfEarthMajorAxis',\n",
       " 'scaledValueOfEarthMajorAxis',\n",
       " 'scaleFactorOfEarthMinorAxis',\n",
       " 'scaledValueOfEarthMinorAxis',\n",
       " 'radius',\n",
       " 'Nx',\n",
       " 'Ny',\n",
       " 'latitudeOfFirstGridPoint',\n",
       " 'latitudeOfFirstGridPointInDegrees',\n",
       " 'longitudeOfFirstGridPoint',\n",
       " 'longitudeOfFirstGridPointInDegrees',\n",
       " 'resolutionAndComponentFlags',\n",
       " 'resolutionAndComponentFlags1',\n",
       " 'resolutionAndComponentFlags2',\n",
       " 'iDirectionIncrementGiven',\n",
       " 'jDirectionIncrementGiven',\n",
       " 'uvRelativeToGrid',\n",
       " 'resolutionAndComponentFlags6',\n",
       " 'resolutionAndComponentFlags7',\n",
       " 'resolutionAndComponentFlags8',\n",
       " 'ijDirectionIncrementGiven',\n",
       " 'LaD',\n",
       " 'LaDInDegrees',\n",
       " 'LoV',\n",
       " 'LoVInDegrees',\n",
       " 'Dx',\n",
       " 'DxInMetres',\n",
       " 'Dy',\n",
       " 'DyInMetres',\n",
       " 'projectionCentreFlag',\n",
       " 'scanningMode',\n",
       " 'iScansNegatively',\n",
       " 'jScansPositively',\n",
       " 'jPointsAreConsecutive',\n",
       " 'alternativeRowScanning',\n",
       " 'iScansPositively',\n",
       " 'jScansNegatively',\n",
       " 'scanningMode5',\n",
       " 'scanningMode6',\n",
       " 'scanningMode7',\n",
       " 'scanningMode8',\n",
       " 'Latin1',\n",
       " 'Latin1InDegrees',\n",
       " 'Latin2',\n",
       " 'Latin2InDegrees',\n",
       " 'latitudeOfSouthernPole',\n",
       " 'latitudeOfSouthernPoleInDegrees',\n",
       " 'longitudeOfSouthernPole',\n",
       " 'longitudeOfSouthernPoleInDegrees',\n",
       " 'latLonValues',\n",
       " 'latitudes',\n",
       " 'longitudes',\n",
       " 'distinctLatitudes',\n",
       " 'distinctLongitudes',\n",
       " 'gridType',\n",
       " 'md5Section3',\n",
       " 'sectionNumber',\n",
       " 'section4Length',\n",
       " 'numberOfSection',\n",
       " 'NV',\n",
       " 'neitherPresent',\n",
       " 'datasetForLocal',\n",
       " 'productDefinitionTemplateNumber',\n",
       " 'genVertHeightCoords',\n",
       " 'parameterCategory',\n",
       " 'parameterNumber',\n",
       " 'parameterUnits',\n",
       " 'parameterName',\n",
       " 'typeOfGeneratingProcess',\n",
       " 'backgroundProcess',\n",
       " 'generatingProcessIdentifier',\n",
       " 'hoursAfterDataCutoff',\n",
       " 'minutesAfterDataCutoff',\n",
       " 'indicatorOfUnitOfTimeRange',\n",
       " 'stepUnits',\n",
       " 'forecastTime',\n",
       " 'startStep',\n",
       " 'endStep',\n",
       " 'stepRange',\n",
       " 'stepTypeInternal',\n",
       " 'validityDate',\n",
       " 'validityTime',\n",
       " 'typeOfFirstFixedSurface',\n",
       " 'unitsOfFirstFixedSurface',\n",
       " 'nameOfFirstFixedSurface',\n",
       " 'scaleFactorOfFirstFixedSurface',\n",
       " 'scaledValueOfFirstFixedSurface',\n",
       " 'typeOfSecondFixedSurface',\n",
       " 'unitsOfSecondFixedSurface',\n",
       " 'nameOfSecondFixedSurface',\n",
       " 'scaleFactorOfSecondFixedSurface',\n",
       " 'scaledValueOfSecondFixedSurface',\n",
       " 'pressureUnits',\n",
       " 'typeOfLevel',\n",
       " 'level',\n",
       " 'bottomLevel',\n",
       " 'topLevel',\n",
       " 'tempPressureUnits',\n",
       " 'levtype',\n",
       " 'paramIdECMF',\n",
       " 'paramId',\n",
       " 'shortNameECMF',\n",
       " 'shortName',\n",
       " 'unitsECMF',\n",
       " 'units',\n",
       " 'nameECMF',\n",
       " 'name',\n",
       " 'cfNameECMF',\n",
       " 'cfName',\n",
       " 'cfVarNameECMF',\n",
       " 'cfVarName',\n",
       " 'modelName',\n",
       " 'ifsParam',\n",
       " 'PVPresent',\n",
       " 'deletePV',\n",
       " 'md5Section4',\n",
       " 'lengthOfHeaders',\n",
       " 'md5Headers',\n",
       " 'sectionNumber',\n",
       " 'section5Length',\n",
       " 'numberOfSection',\n",
       " 'numberOfValues',\n",
       " 'dataRepresentationTemplateNumber',\n",
       " 'packingType',\n",
       " 'referenceValue',\n",
       " 'referenceValueError',\n",
       " 'binaryScaleFactor',\n",
       " 'decimalScaleFactor',\n",
       " 'optimizeScaleFactor',\n",
       " 'bitsPerValue',\n",
       " 'typeOfOriginalFieldValues',\n",
       " 'groupSplittingMethodUsed',\n",
       " 'missingValueManagementUsed',\n",
       " 'primaryMissingValueSubstitute',\n",
       " 'secondaryMissingValueSubstitute',\n",
       " 'numberOfGroupsOfDataValues',\n",
       " 'referenceForGroupWidths',\n",
       " 'numberOfBitsUsedForTheGroupWidths',\n",
       " 'referenceForGroupLengths',\n",
       " 'lengthIncrementForTheGroupLengths',\n",
       " 'trueLengthOfLastGroup',\n",
       " 'numberOfBitsForScaledGroupLengths',\n",
       " 'orderOfSpatialDifferencing',\n",
       " 'numberOfOctetsExtraDescriptors',\n",
       " 'md5Section5',\n",
       " 'sectionNumber',\n",
       " 'section6Length',\n",
       " 'numberOfSection',\n",
       " 'bitMapIndicator',\n",
       " 'bitmapPresent',\n",
       " 'missingValuesPresent',\n",
       " 'md5Section6',\n",
       " 'sectionNumber',\n",
       " 'section7Length',\n",
       " 'numberOfSection',\n",
       " 'codedValues',\n",
       " 'values',\n",
       " 'maximum',\n",
       " 'minimum',\n",
       " 'average',\n",
       " 'standardDeviation',\n",
       " 'skewness',\n",
       " 'kurtosis',\n",
       " 'isConstant',\n",
       " 'numberOfMissing',\n",
       " 'changeDecimalPrecision',\n",
       " 'decimalPrecision',\n",
       " 'setBitsPerValue',\n",
       " 'getNumberOfValues',\n",
       " 'scaleValuesBy',\n",
       " 'offsetValuesBy',\n",
       " 'productType',\n",
       " 'md5Section7',\n",
       " 'section8Length',\n",
       " 'analDate',\n",
       " 'validDate']"
      ]
     },
     "execution_count": 34,
     "metadata": {},
     "output_type": "execute_result"
    }
   ],
   "source": [
    "temp_grb.keys()"
   ]
  },
  {
   "cell_type": "code",
   "execution_count": 35,
   "metadata": {
    "ExecuteTime": {
     "end_time": "2023-02-08T14:38:07.635412Z",
     "start_time": "2023-02-08T14:38:07.428404Z"
    }
   },
   "outputs": [],
   "source": [
    "lats, lons = temp_grb.latlons()"
   ]
  },
  {
   "cell_type": "code",
   "execution_count": 36,
   "metadata": {
    "ExecuteTime": {
     "end_time": "2023-02-08T14:38:08.070238Z",
     "start_time": "2023-02-08T14:38:08.052239Z"
    }
   },
   "outputs": [
    {
     "data": {
      "text/plain": [
       "((1059, 1799),\n",
       " 21.138123000000004,\n",
       " 52.61565330680793,\n",
       " (1059, 1799),\n",
       " -134.09547973426314,\n",
       " -60.91719277183784)"
      ]
     },
     "execution_count": 36,
     "metadata": {},
     "output_type": "execute_result"
    }
   ],
   "source": [
    "lats.shape, lats.min(), lats.max(), lons.shape, lons.min(), lons.max()"
   ]
  },
  {
   "cell_type": "code",
   "execution_count": 37,
   "metadata": {
    "ExecuteTime": {
     "end_time": "2023-02-08T14:38:08.742385Z",
     "start_time": "2023-02-08T14:38:08.717387Z"
    }
   },
   "outputs": [
    {
     "data": {
      "text/plain": [
       "(1059, 1799)"
      ]
     },
     "execution_count": 37,
     "metadata": {},
     "output_type": "execute_result"
    }
   ],
   "source": [
    "temp_grb.values.shape"
   ]
  },
  {
   "cell_type": "code",
   "execution_count": 38,
   "metadata": {
    "ExecuteTime": {
     "end_time": "2023-02-08T14:38:09.609318Z",
     "start_time": "2023-02-08T14:38:09.397186Z"
    }
   },
   "outputs": [],
   "source": [
    "# lats = temp_grb.latitudes\n",
    "# longs = temp_grb.longitudes\n",
    "lats, longs = temp_grb.latlons()\n",
    "temps = temp_grb.values"
   ]
  },
  {
   "cell_type": "markdown",
   "metadata": {},
   "source": [
    "Setting up DFs"
   ]
  },
  {
   "cell_type": "code",
   "execution_count": 39,
   "metadata": {
    "ExecuteTime": {
     "end_time": "2023-02-08T14:38:10.227157Z",
     "start_time": "2023-02-08T14:38:10.220159Z"
    }
   },
   "outputs": [],
   "source": [
    "lats_df = pd.DataFrame(lats)"
   ]
  },
  {
   "cell_type": "code",
   "execution_count": 40,
   "metadata": {
    "ExecuteTime": {
     "end_time": "2023-02-08T14:38:10.670329Z",
     "start_time": "2023-02-08T14:38:10.668327Z"
    }
   },
   "outputs": [],
   "source": [
    "longs_df = pd.DataFrame(longs)"
   ]
  },
  {
   "cell_type": "markdown",
   "metadata": {},
   "source": [
    "Setting up samples"
   ]
  },
  {
   "cell_type": "code",
   "execution_count": 41,
   "metadata": {
    "ExecuteTime": {
     "end_time": "2023-02-08T14:38:11.695171Z",
     "start_time": "2023-02-08T14:38:11.684169Z"
    }
   },
   "outputs": [],
   "source": [
    "sample_lat = sample_row.latitude"
   ]
  },
  {
   "cell_type": "code",
   "execution_count": 42,
   "metadata": {
    "ExecuteTime": {
     "end_time": "2023-02-08T14:38:12.407655Z",
     "start_time": "2023-02-08T14:38:12.397144Z"
    }
   },
   "outputs": [],
   "source": [
    "sample_long = sample_row.longitude"
   ]
  },
  {
   "cell_type": "markdown",
   "metadata": {},
   "source": [
    "Lats_df"
   ]
  },
  {
   "cell_type": "code",
   "execution_count": 43,
   "metadata": {
    "ExecuteTime": {
     "end_time": "2023-02-08T14:38:12.960067Z",
     "start_time": "2023-02-08T14:38:12.932066Z"
    }
   },
   "outputs": [],
   "source": [
    "test_lats_df = lats_df[(lats_df >(sample_lat-.05)) & (lats_df < (sample_lat+.05))].dropna(how='all')"
   ]
  },
  {
   "cell_type": "code",
   "execution_count": 44,
   "metadata": {
    "ExecuteTime": {
     "end_time": "2023-02-08T14:38:13.322473Z",
     "start_time": "2023-02-08T14:38:13.315473Z"
    }
   },
   "outputs": [],
   "source": [
    "test_lats_df = test_lats_df.dropna(axis=1, how='all')"
   ]
  },
  {
   "cell_type": "code",
   "execution_count": 45,
   "metadata": {
    "ExecuteTime": {
     "end_time": "2023-02-08T14:38:14.015890Z",
     "start_time": "2023-02-08T14:38:13.996382Z"
    }
   },
   "outputs": [
    {
     "data": {
      "text/html": [
       "<div>\n",
       "<style scoped>\n",
       "    .dataframe tbody tr th:only-of-type {\n",
       "        vertical-align: middle;\n",
       "    }\n",
       "\n",
       "    .dataframe tbody tr th {\n",
       "        vertical-align: top;\n",
       "    }\n",
       "\n",
       "    .dataframe thead th {\n",
       "        text-align: right;\n",
       "    }\n",
       "</style>\n",
       "<table border=\"1\" class=\"dataframe\">\n",
       "  <thead>\n",
       "    <tr style=\"text-align: right;\">\n",
       "      <th></th>\n",
       "      <th>0</th>\n",
       "      <th>1</th>\n",
       "      <th>2</th>\n",
       "      <th>3</th>\n",
       "      <th>4</th>\n",
       "      <th>5</th>\n",
       "      <th>6</th>\n",
       "      <th>7</th>\n",
       "      <th>8</th>\n",
       "      <th>9</th>\n",
       "      <th>...</th>\n",
       "      <th>1789</th>\n",
       "      <th>1790</th>\n",
       "      <th>1791</th>\n",
       "      <th>1792</th>\n",
       "      <th>1793</th>\n",
       "      <th>1794</th>\n",
       "      <th>1795</th>\n",
       "      <th>1796</th>\n",
       "      <th>1797</th>\n",
       "      <th>1798</th>\n",
       "    </tr>\n",
       "  </thead>\n",
       "  <tbody>\n",
       "    <tr>\n",
       "      <th>657</th>\n",
       "      <td>NaN</td>\n",
       "      <td>NaN</td>\n",
       "      <td>NaN</td>\n",
       "      <td>NaN</td>\n",
       "      <td>NaN</td>\n",
       "      <td>NaN</td>\n",
       "      <td>NaN</td>\n",
       "      <td>NaN</td>\n",
       "      <td>NaN</td>\n",
       "      <td>NaN</td>\n",
       "      <td>...</td>\n",
       "      <td>NaN</td>\n",
       "      <td>NaN</td>\n",
       "      <td>NaN</td>\n",
       "      <td>NaN</td>\n",
       "      <td>NaN</td>\n",
       "      <td>NaN</td>\n",
       "      <td>NaN</td>\n",
       "      <td>NaN</td>\n",
       "      <td>NaN</td>\n",
       "      <td>NaN</td>\n",
       "    </tr>\n",
       "    <tr>\n",
       "      <th>658</th>\n",
       "      <td>NaN</td>\n",
       "      <td>NaN</td>\n",
       "      <td>NaN</td>\n",
       "      <td>NaN</td>\n",
       "      <td>NaN</td>\n",
       "      <td>NaN</td>\n",
       "      <td>NaN</td>\n",
       "      <td>NaN</td>\n",
       "      <td>NaN</td>\n",
       "      <td>NaN</td>\n",
       "      <td>...</td>\n",
       "      <td>NaN</td>\n",
       "      <td>NaN</td>\n",
       "      <td>NaN</td>\n",
       "      <td>NaN</td>\n",
       "      <td>NaN</td>\n",
       "      <td>NaN</td>\n",
       "      <td>NaN</td>\n",
       "      <td>NaN</td>\n",
       "      <td>NaN</td>\n",
       "      <td>NaN</td>\n",
       "    </tr>\n",
       "    <tr>\n",
       "      <th>659</th>\n",
       "      <td>NaN</td>\n",
       "      <td>NaN</td>\n",
       "      <td>NaN</td>\n",
       "      <td>NaN</td>\n",
       "      <td>NaN</td>\n",
       "      <td>NaN</td>\n",
       "      <td>NaN</td>\n",
       "      <td>NaN</td>\n",
       "      <td>NaN</td>\n",
       "      <td>NaN</td>\n",
       "      <td>...</td>\n",
       "      <td>NaN</td>\n",
       "      <td>NaN</td>\n",
       "      <td>NaN</td>\n",
       "      <td>NaN</td>\n",
       "      <td>NaN</td>\n",
       "      <td>NaN</td>\n",
       "      <td>NaN</td>\n",
       "      <td>NaN</td>\n",
       "      <td>NaN</td>\n",
       "      <td>NaN</td>\n",
       "    </tr>\n",
       "    <tr>\n",
       "      <th>660</th>\n",
       "      <td>NaN</td>\n",
       "      <td>NaN</td>\n",
       "      <td>NaN</td>\n",
       "      <td>NaN</td>\n",
       "      <td>NaN</td>\n",
       "      <td>NaN</td>\n",
       "      <td>NaN</td>\n",
       "      <td>NaN</td>\n",
       "      <td>NaN</td>\n",
       "      <td>NaN</td>\n",
       "      <td>...</td>\n",
       "      <td>NaN</td>\n",
       "      <td>NaN</td>\n",
       "      <td>NaN</td>\n",
       "      <td>NaN</td>\n",
       "      <td>NaN</td>\n",
       "      <td>NaN</td>\n",
       "      <td>NaN</td>\n",
       "      <td>NaN</td>\n",
       "      <td>NaN</td>\n",
       "      <td>NaN</td>\n",
       "    </tr>\n",
       "    <tr>\n",
       "      <th>661</th>\n",
       "      <td>NaN</td>\n",
       "      <td>NaN</td>\n",
       "      <td>NaN</td>\n",
       "      <td>NaN</td>\n",
       "      <td>NaN</td>\n",
       "      <td>NaN</td>\n",
       "      <td>NaN</td>\n",
       "      <td>NaN</td>\n",
       "      <td>NaN</td>\n",
       "      <td>NaN</td>\n",
       "      <td>...</td>\n",
       "      <td>NaN</td>\n",
       "      <td>NaN</td>\n",
       "      <td>NaN</td>\n",
       "      <td>NaN</td>\n",
       "      <td>NaN</td>\n",
       "      <td>NaN</td>\n",
       "      <td>NaN</td>\n",
       "      <td>NaN</td>\n",
       "      <td>NaN</td>\n",
       "      <td>NaN</td>\n",
       "    </tr>\n",
       "    <tr>\n",
       "      <th>...</th>\n",
       "      <td>...</td>\n",
       "      <td>...</td>\n",
       "      <td>...</td>\n",
       "      <td>...</td>\n",
       "      <td>...</td>\n",
       "      <td>...</td>\n",
       "      <td>...</td>\n",
       "      <td>...</td>\n",
       "      <td>...</td>\n",
       "      <td>...</td>\n",
       "      <td>...</td>\n",
       "      <td>...</td>\n",
       "      <td>...</td>\n",
       "      <td>...</td>\n",
       "      <td>...</td>\n",
       "      <td>...</td>\n",
       "      <td>...</td>\n",
       "      <td>...</td>\n",
       "      <td>...</td>\n",
       "      <td>...</td>\n",
       "      <td>...</td>\n",
       "    </tr>\n",
       "    <tr>\n",
       "      <th>820</th>\n",
       "      <td>NaN</td>\n",
       "      <td>NaN</td>\n",
       "      <td>41.933616</td>\n",
       "      <td>41.943114</td>\n",
       "      <td>41.952602</td>\n",
       "      <td>41.962081</td>\n",
       "      <td>41.971551</td>\n",
       "      <td>41.981011</td>\n",
       "      <td>41.990462</td>\n",
       "      <td>41.999903</td>\n",
       "      <td>...</td>\n",
       "      <td>42.003175</td>\n",
       "      <td>41.993737</td>\n",
       "      <td>41.984289</td>\n",
       "      <td>41.974832</td>\n",
       "      <td>41.965366</td>\n",
       "      <td>41.955890</td>\n",
       "      <td>41.946405</td>\n",
       "      <td>41.936911</td>\n",
       "      <td>NaN</td>\n",
       "      <td>NaN</td>\n",
       "    </tr>\n",
       "    <tr>\n",
       "      <th>821</th>\n",
       "      <td>41.939783</td>\n",
       "      <td>41.949302</td>\n",
       "      <td>41.958813</td>\n",
       "      <td>41.968314</td>\n",
       "      <td>41.977805</td>\n",
       "      <td>41.987287</td>\n",
       "      <td>41.996760</td>\n",
       "      <td>42.006223</td>\n",
       "      <td>42.015677</td>\n",
       "      <td>42.025122</td>\n",
       "      <td>...</td>\n",
       "      <td>42.028395</td>\n",
       "      <td>42.018954</td>\n",
       "      <td>42.009503</td>\n",
       "      <td>42.000043</td>\n",
       "      <td>41.990573</td>\n",
       "      <td>41.981094</td>\n",
       "      <td>41.971606</td>\n",
       "      <td>41.962108</td>\n",
       "      <td>41.952601</td>\n",
       "      <td>41.943085</td>\n",
       "    </tr>\n",
       "    <tr>\n",
       "      <th>822</th>\n",
       "      <td>41.964970</td>\n",
       "      <td>41.974493</td>\n",
       "      <td>41.984007</td>\n",
       "      <td>41.993511</td>\n",
       "      <td>42.003006</td>\n",
       "      <td>42.012491</td>\n",
       "      <td>42.021967</td>\n",
       "      <td>NaN</td>\n",
       "      <td>NaN</td>\n",
       "      <td>NaN</td>\n",
       "      <td>...</td>\n",
       "      <td>NaN</td>\n",
       "      <td>NaN</td>\n",
       "      <td>NaN</td>\n",
       "      <td>42.025251</td>\n",
       "      <td>42.015778</td>\n",
       "      <td>42.006296</td>\n",
       "      <td>41.996805</td>\n",
       "      <td>41.987304</td>\n",
       "      <td>41.977793</td>\n",
       "      <td>41.968274</td>\n",
       "    </tr>\n",
       "    <tr>\n",
       "      <th>823</th>\n",
       "      <td>41.990156</td>\n",
       "      <td>41.999682</td>\n",
       "      <td>42.009199</td>\n",
       "      <td>42.018706</td>\n",
       "      <td>42.028204</td>\n",
       "      <td>NaN</td>\n",
       "      <td>NaN</td>\n",
       "      <td>NaN</td>\n",
       "      <td>NaN</td>\n",
       "      <td>NaN</td>\n",
       "      <td>...</td>\n",
       "      <td>NaN</td>\n",
       "      <td>NaN</td>\n",
       "      <td>NaN</td>\n",
       "      <td>NaN</td>\n",
       "      <td>NaN</td>\n",
       "      <td>NaN</td>\n",
       "      <td>42.022001</td>\n",
       "      <td>42.012497</td>\n",
       "      <td>42.002983</td>\n",
       "      <td>41.993460</td>\n",
       "    </tr>\n",
       "    <tr>\n",
       "      <th>824</th>\n",
       "      <td>42.015340</td>\n",
       "      <td>42.024869</td>\n",
       "      <td>NaN</td>\n",
       "      <td>NaN</td>\n",
       "      <td>NaN</td>\n",
       "      <td>NaN</td>\n",
       "      <td>NaN</td>\n",
       "      <td>NaN</td>\n",
       "      <td>NaN</td>\n",
       "      <td>NaN</td>\n",
       "      <td>...</td>\n",
       "      <td>NaN</td>\n",
       "      <td>NaN</td>\n",
       "      <td>NaN</td>\n",
       "      <td>NaN</td>\n",
       "      <td>NaN</td>\n",
       "      <td>NaN</td>\n",
       "      <td>NaN</td>\n",
       "      <td>NaN</td>\n",
       "      <td>42.028171</td>\n",
       "      <td>42.018645</td>\n",
       "    </tr>\n",
       "  </tbody>\n",
       "</table>\n",
       "<p>168 rows × 1799 columns</p>\n",
       "</div>"
      ],
      "text/plain": [
       "          0          1          2          3          4          5     \\\n",
       "657        NaN        NaN        NaN        NaN        NaN        NaN   \n",
       "658        NaN        NaN        NaN        NaN        NaN        NaN   \n",
       "659        NaN        NaN        NaN        NaN        NaN        NaN   \n",
       "660        NaN        NaN        NaN        NaN        NaN        NaN   \n",
       "661        NaN        NaN        NaN        NaN        NaN        NaN   \n",
       "..         ...        ...        ...        ...        ...        ...   \n",
       "820        NaN        NaN  41.933616  41.943114  41.952602  41.962081   \n",
       "821  41.939783  41.949302  41.958813  41.968314  41.977805  41.987287   \n",
       "822  41.964970  41.974493  41.984007  41.993511  42.003006  42.012491   \n",
       "823  41.990156  41.999682  42.009199  42.018706  42.028204        NaN   \n",
       "824  42.015340  42.024869        NaN        NaN        NaN        NaN   \n",
       "\n",
       "          6          7          8          9     ...       1789       1790  \\\n",
       "657        NaN        NaN        NaN        NaN  ...        NaN        NaN   \n",
       "658        NaN        NaN        NaN        NaN  ...        NaN        NaN   \n",
       "659        NaN        NaN        NaN        NaN  ...        NaN        NaN   \n",
       "660        NaN        NaN        NaN        NaN  ...        NaN        NaN   \n",
       "661        NaN        NaN        NaN        NaN  ...        NaN        NaN   \n",
       "..         ...        ...        ...        ...  ...        ...        ...   \n",
       "820  41.971551  41.981011  41.990462  41.999903  ...  42.003175  41.993737   \n",
       "821  41.996760  42.006223  42.015677  42.025122  ...  42.028395  42.018954   \n",
       "822  42.021967        NaN        NaN        NaN  ...        NaN        NaN   \n",
       "823        NaN        NaN        NaN        NaN  ...        NaN        NaN   \n",
       "824        NaN        NaN        NaN        NaN  ...        NaN        NaN   \n",
       "\n",
       "          1791       1792       1793       1794       1795       1796  \\\n",
       "657        NaN        NaN        NaN        NaN        NaN        NaN   \n",
       "658        NaN        NaN        NaN        NaN        NaN        NaN   \n",
       "659        NaN        NaN        NaN        NaN        NaN        NaN   \n",
       "660        NaN        NaN        NaN        NaN        NaN        NaN   \n",
       "661        NaN        NaN        NaN        NaN        NaN        NaN   \n",
       "..         ...        ...        ...        ...        ...        ...   \n",
       "820  41.984289  41.974832  41.965366  41.955890  41.946405  41.936911   \n",
       "821  42.009503  42.000043  41.990573  41.981094  41.971606  41.962108   \n",
       "822        NaN  42.025251  42.015778  42.006296  41.996805  41.987304   \n",
       "823        NaN        NaN        NaN        NaN  42.022001  42.012497   \n",
       "824        NaN        NaN        NaN        NaN        NaN        NaN   \n",
       "\n",
       "          1797       1798  \n",
       "657        NaN        NaN  \n",
       "658        NaN        NaN  \n",
       "659        NaN        NaN  \n",
       "660        NaN        NaN  \n",
       "661        NaN        NaN  \n",
       "..         ...        ...  \n",
       "820        NaN        NaN  \n",
       "821  41.952601  41.943085  \n",
       "822  41.977793  41.968274  \n",
       "823  42.002983  41.993460  \n",
       "824  42.028171  42.018645  \n",
       "\n",
       "[168 rows x 1799 columns]"
      ]
     },
     "execution_count": 45,
     "metadata": {},
     "output_type": "execute_result"
    }
   ],
   "source": [
    "test_lats_df"
   ]
  },
  {
   "cell_type": "markdown",
   "metadata": {},
   "source": [
    "Longs_df"
   ]
  },
  {
   "cell_type": "code",
   "execution_count": 46,
   "metadata": {
    "ExecuteTime": {
     "end_time": "2023-02-08T14:38:14.991999Z",
     "start_time": "2023-02-08T14:38:14.971998Z"
    }
   },
   "outputs": [],
   "source": [
    "test_longs_df = longs_df[(longs_df >(sample_long-.05)) & (longs_df < (sample_long+.05))].dropna(how='all')"
   ]
  },
  {
   "cell_type": "code",
   "execution_count": 47,
   "metadata": {
    "ExecuteTime": {
     "end_time": "2023-02-08T14:38:15.447856Z",
     "start_time": "2023-02-08T14:38:15.427858Z"
    }
   },
   "outputs": [],
   "source": [
    "test_longs_df = test_longs_df.dropna(axis=1, how='all')"
   ]
  },
  {
   "cell_type": "code",
   "execution_count": 48,
   "metadata": {
    "ExecuteTime": {
     "end_time": "2023-02-08T14:38:15.954041Z",
     "start_time": "2023-02-08T14:38:15.940041Z"
    }
   },
   "outputs": [
    {
     "data": {
      "text/html": [
       "<div>\n",
       "<style scoped>\n",
       "    .dataframe tbody tr th:only-of-type {\n",
       "        vertical-align: middle;\n",
       "    }\n",
       "\n",
       "    .dataframe tbody tr th {\n",
       "        vertical-align: top;\n",
       "    }\n",
       "\n",
       "    .dataframe thead th {\n",
       "        text-align: right;\n",
       "    }\n",
       "</style>\n",
       "<table border=\"1\" class=\"dataframe\">\n",
       "  <thead>\n",
       "    <tr style=\"text-align: right;\">\n",
       "      <th></th>\n",
       "      <th>437</th>\n",
       "      <th>438</th>\n",
       "      <th>439</th>\n",
       "      <th>440</th>\n",
       "      <th>441</th>\n",
       "      <th>442</th>\n",
       "      <th>443</th>\n",
       "      <th>444</th>\n",
       "      <th>445</th>\n",
       "      <th>446</th>\n",
       "      <th>...</th>\n",
       "      <th>583</th>\n",
       "      <th>584</th>\n",
       "      <th>585</th>\n",
       "      <th>586</th>\n",
       "      <th>587</th>\n",
       "      <th>588</th>\n",
       "      <th>589</th>\n",
       "      <th>590</th>\n",
       "      <th>591</th>\n",
       "      <th>592</th>\n",
       "    </tr>\n",
       "  </thead>\n",
       "  <tbody>\n",
       "    <tr>\n",
       "      <th>0</th>\n",
       "      <td>-110.70588</td>\n",
       "      <td>-110.677696</td>\n",
       "      <td>-110.649510</td>\n",
       "      <td>-110.621320</td>\n",
       "      <td>NaN</td>\n",
       "      <td>NaN</td>\n",
       "      <td>NaN</td>\n",
       "      <td>NaN</td>\n",
       "      <td>NaN</td>\n",
       "      <td>NaN</td>\n",
       "      <td>...</td>\n",
       "      <td>NaN</td>\n",
       "      <td>NaN</td>\n",
       "      <td>NaN</td>\n",
       "      <td>NaN</td>\n",
       "      <td>NaN</td>\n",
       "      <td>NaN</td>\n",
       "      <td>NaN</td>\n",
       "      <td>NaN</td>\n",
       "      <td>NaN</td>\n",
       "      <td>NaN</td>\n",
       "    </tr>\n",
       "    <tr>\n",
       "      <th>1</th>\n",
       "      <td>NaN</td>\n",
       "      <td>-110.681761</td>\n",
       "      <td>-110.653566</td>\n",
       "      <td>-110.625368</td>\n",
       "      <td>NaN</td>\n",
       "      <td>NaN</td>\n",
       "      <td>NaN</td>\n",
       "      <td>NaN</td>\n",
       "      <td>NaN</td>\n",
       "      <td>NaN</td>\n",
       "      <td>...</td>\n",
       "      <td>NaN</td>\n",
       "      <td>NaN</td>\n",
       "      <td>NaN</td>\n",
       "      <td>NaN</td>\n",
       "      <td>NaN</td>\n",
       "      <td>NaN</td>\n",
       "      <td>NaN</td>\n",
       "      <td>NaN</td>\n",
       "      <td>NaN</td>\n",
       "      <td>NaN</td>\n",
       "    </tr>\n",
       "    <tr>\n",
       "      <th>2</th>\n",
       "      <td>NaN</td>\n",
       "      <td>-110.685828</td>\n",
       "      <td>-110.657624</td>\n",
       "      <td>-110.629418</td>\n",
       "      <td>NaN</td>\n",
       "      <td>NaN</td>\n",
       "      <td>NaN</td>\n",
       "      <td>NaN</td>\n",
       "      <td>NaN</td>\n",
       "      <td>NaN</td>\n",
       "      <td>...</td>\n",
       "      <td>NaN</td>\n",
       "      <td>NaN</td>\n",
       "      <td>NaN</td>\n",
       "      <td>NaN</td>\n",
       "      <td>NaN</td>\n",
       "      <td>NaN</td>\n",
       "      <td>NaN</td>\n",
       "      <td>NaN</td>\n",
       "      <td>NaN</td>\n",
       "      <td>NaN</td>\n",
       "    </tr>\n",
       "    <tr>\n",
       "      <th>3</th>\n",
       "      <td>NaN</td>\n",
       "      <td>-110.689897</td>\n",
       "      <td>-110.661685</td>\n",
       "      <td>-110.633471</td>\n",
       "      <td>NaN</td>\n",
       "      <td>NaN</td>\n",
       "      <td>NaN</td>\n",
       "      <td>NaN</td>\n",
       "      <td>NaN</td>\n",
       "      <td>NaN</td>\n",
       "      <td>...</td>\n",
       "      <td>NaN</td>\n",
       "      <td>NaN</td>\n",
       "      <td>NaN</td>\n",
       "      <td>NaN</td>\n",
       "      <td>NaN</td>\n",
       "      <td>NaN</td>\n",
       "      <td>NaN</td>\n",
       "      <td>NaN</td>\n",
       "      <td>NaN</td>\n",
       "      <td>NaN</td>\n",
       "    </tr>\n",
       "    <tr>\n",
       "      <th>4</th>\n",
       "      <td>NaN</td>\n",
       "      <td>-110.693969</td>\n",
       "      <td>-110.665749</td>\n",
       "      <td>-110.637526</td>\n",
       "      <td>-110.6093</td>\n",
       "      <td>NaN</td>\n",
       "      <td>NaN</td>\n",
       "      <td>NaN</td>\n",
       "      <td>NaN</td>\n",
       "      <td>NaN</td>\n",
       "      <td>...</td>\n",
       "      <td>NaN</td>\n",
       "      <td>NaN</td>\n",
       "      <td>NaN</td>\n",
       "      <td>NaN</td>\n",
       "      <td>NaN</td>\n",
       "      <td>NaN</td>\n",
       "      <td>NaN</td>\n",
       "      <td>NaN</td>\n",
       "      <td>NaN</td>\n",
       "      <td>NaN</td>\n",
       "    </tr>\n",
       "    <tr>\n",
       "      <th>...</th>\n",
       "      <td>...</td>\n",
       "      <td>...</td>\n",
       "      <td>...</td>\n",
       "      <td>...</td>\n",
       "      <td>...</td>\n",
       "      <td>...</td>\n",
       "      <td>...</td>\n",
       "      <td>...</td>\n",
       "      <td>...</td>\n",
       "      <td>...</td>\n",
       "      <td>...</td>\n",
       "      <td>...</td>\n",
       "      <td>...</td>\n",
       "      <td>...</td>\n",
       "      <td>...</td>\n",
       "      <td>...</td>\n",
       "      <td>...</td>\n",
       "      <td>...</td>\n",
       "      <td>...</td>\n",
       "      <td>...</td>\n",
       "      <td>...</td>\n",
       "    </tr>\n",
       "    <tr>\n",
       "      <th>1054</th>\n",
       "      <td>NaN</td>\n",
       "      <td>NaN</td>\n",
       "      <td>NaN</td>\n",
       "      <td>NaN</td>\n",
       "      <td>NaN</td>\n",
       "      <td>NaN</td>\n",
       "      <td>NaN</td>\n",
       "      <td>NaN</td>\n",
       "      <td>NaN</td>\n",
       "      <td>NaN</td>\n",
       "      <td>...</td>\n",
       "      <td>NaN</td>\n",
       "      <td>NaN</td>\n",
       "      <td>NaN</td>\n",
       "      <td>NaN</td>\n",
       "      <td>NaN</td>\n",
       "      <td>NaN</td>\n",
       "      <td>NaN</td>\n",
       "      <td>-110.675420</td>\n",
       "      <td>-110.633382</td>\n",
       "      <td>NaN</td>\n",
       "    </tr>\n",
       "    <tr>\n",
       "      <th>1055</th>\n",
       "      <td>NaN</td>\n",
       "      <td>NaN</td>\n",
       "      <td>NaN</td>\n",
       "      <td>NaN</td>\n",
       "      <td>NaN</td>\n",
       "      <td>NaN</td>\n",
       "      <td>NaN</td>\n",
       "      <td>NaN</td>\n",
       "      <td>NaN</td>\n",
       "      <td>NaN</td>\n",
       "      <td>...</td>\n",
       "      <td>NaN</td>\n",
       "      <td>NaN</td>\n",
       "      <td>NaN</td>\n",
       "      <td>NaN</td>\n",
       "      <td>NaN</td>\n",
       "      <td>NaN</td>\n",
       "      <td>NaN</td>\n",
       "      <td>-110.681482</td>\n",
       "      <td>-110.639425</td>\n",
       "      <td>NaN</td>\n",
       "    </tr>\n",
       "    <tr>\n",
       "      <th>1056</th>\n",
       "      <td>NaN</td>\n",
       "      <td>NaN</td>\n",
       "      <td>NaN</td>\n",
       "      <td>NaN</td>\n",
       "      <td>NaN</td>\n",
       "      <td>NaN</td>\n",
       "      <td>NaN</td>\n",
       "      <td>NaN</td>\n",
       "      <td>NaN</td>\n",
       "      <td>NaN</td>\n",
       "      <td>...</td>\n",
       "      <td>NaN</td>\n",
       "      <td>NaN</td>\n",
       "      <td>NaN</td>\n",
       "      <td>NaN</td>\n",
       "      <td>NaN</td>\n",
       "      <td>NaN</td>\n",
       "      <td>NaN</td>\n",
       "      <td>-110.687549</td>\n",
       "      <td>-110.645473</td>\n",
       "      <td>NaN</td>\n",
       "    </tr>\n",
       "    <tr>\n",
       "      <th>1057</th>\n",
       "      <td>NaN</td>\n",
       "      <td>NaN</td>\n",
       "      <td>NaN</td>\n",
       "      <td>NaN</td>\n",
       "      <td>NaN</td>\n",
       "      <td>NaN</td>\n",
       "      <td>NaN</td>\n",
       "      <td>NaN</td>\n",
       "      <td>NaN</td>\n",
       "      <td>NaN</td>\n",
       "      <td>...</td>\n",
       "      <td>NaN</td>\n",
       "      <td>NaN</td>\n",
       "      <td>NaN</td>\n",
       "      <td>NaN</td>\n",
       "      <td>NaN</td>\n",
       "      <td>NaN</td>\n",
       "      <td>NaN</td>\n",
       "      <td>-110.693621</td>\n",
       "      <td>-110.651527</td>\n",
       "      <td>-110.609427</td>\n",
       "    </tr>\n",
       "    <tr>\n",
       "      <th>1058</th>\n",
       "      <td>NaN</td>\n",
       "      <td>NaN</td>\n",
       "      <td>NaN</td>\n",
       "      <td>NaN</td>\n",
       "      <td>NaN</td>\n",
       "      <td>NaN</td>\n",
       "      <td>NaN</td>\n",
       "      <td>NaN</td>\n",
       "      <td>NaN</td>\n",
       "      <td>NaN</td>\n",
       "      <td>...</td>\n",
       "      <td>NaN</td>\n",
       "      <td>NaN</td>\n",
       "      <td>NaN</td>\n",
       "      <td>NaN</td>\n",
       "      <td>NaN</td>\n",
       "      <td>NaN</td>\n",
       "      <td>NaN</td>\n",
       "      <td>-110.699700</td>\n",
       "      <td>-110.657586</td>\n",
       "      <td>-110.615467</td>\n",
       "    </tr>\n",
       "  </tbody>\n",
       "</table>\n",
       "<p>1059 rows × 156 columns</p>\n",
       "</div>"
      ],
      "text/plain": [
       "            437         438         439         440       441  442  443  444  \\\n",
       "0    -110.70588 -110.677696 -110.649510 -110.621320       NaN  NaN  NaN  NaN   \n",
       "1           NaN -110.681761 -110.653566 -110.625368       NaN  NaN  NaN  NaN   \n",
       "2           NaN -110.685828 -110.657624 -110.629418       NaN  NaN  NaN  NaN   \n",
       "3           NaN -110.689897 -110.661685 -110.633471       NaN  NaN  NaN  NaN   \n",
       "4           NaN -110.693969 -110.665749 -110.637526 -110.6093  NaN  NaN  NaN   \n",
       "...         ...         ...         ...         ...       ...  ...  ...  ...   \n",
       "1054        NaN         NaN         NaN         NaN       NaN  NaN  NaN  NaN   \n",
       "1055        NaN         NaN         NaN         NaN       NaN  NaN  NaN  NaN   \n",
       "1056        NaN         NaN         NaN         NaN       NaN  NaN  NaN  NaN   \n",
       "1057        NaN         NaN         NaN         NaN       NaN  NaN  NaN  NaN   \n",
       "1058        NaN         NaN         NaN         NaN       NaN  NaN  NaN  NaN   \n",
       "\n",
       "      445  446  ...  583  584  585  586  587  588  589         590  \\\n",
       "0     NaN  NaN  ...  NaN  NaN  NaN  NaN  NaN  NaN  NaN         NaN   \n",
       "1     NaN  NaN  ...  NaN  NaN  NaN  NaN  NaN  NaN  NaN         NaN   \n",
       "2     NaN  NaN  ...  NaN  NaN  NaN  NaN  NaN  NaN  NaN         NaN   \n",
       "3     NaN  NaN  ...  NaN  NaN  NaN  NaN  NaN  NaN  NaN         NaN   \n",
       "4     NaN  NaN  ...  NaN  NaN  NaN  NaN  NaN  NaN  NaN         NaN   \n",
       "...   ...  ...  ...  ...  ...  ...  ...  ...  ...  ...         ...   \n",
       "1054  NaN  NaN  ...  NaN  NaN  NaN  NaN  NaN  NaN  NaN -110.675420   \n",
       "1055  NaN  NaN  ...  NaN  NaN  NaN  NaN  NaN  NaN  NaN -110.681482   \n",
       "1056  NaN  NaN  ...  NaN  NaN  NaN  NaN  NaN  NaN  NaN -110.687549   \n",
       "1057  NaN  NaN  ...  NaN  NaN  NaN  NaN  NaN  NaN  NaN -110.693621   \n",
       "1058  NaN  NaN  ...  NaN  NaN  NaN  NaN  NaN  NaN  NaN -110.699700   \n",
       "\n",
       "             591         592  \n",
       "0            NaN         NaN  \n",
       "1            NaN         NaN  \n",
       "2            NaN         NaN  \n",
       "3            NaN         NaN  \n",
       "4            NaN         NaN  \n",
       "...          ...         ...  \n",
       "1054 -110.633382         NaN  \n",
       "1055 -110.639425         NaN  \n",
       "1056 -110.645473         NaN  \n",
       "1057 -110.651527 -110.609427  \n",
       "1058 -110.657586 -110.615467  \n",
       "\n",
       "[1059 rows x 156 columns]"
      ]
     },
     "execution_count": 48,
     "metadata": {},
     "output_type": "execute_result"
    }
   ],
   "source": [
    "test_longs_df"
   ]
  },
  {
   "cell_type": "code",
   "execution_count": 49,
   "metadata": {
    "ExecuteTime": {
     "end_time": "2023-02-08T14:38:16.565039Z",
     "start_time": "2023-02-08T14:38:16.531546Z"
    }
   },
   "outputs": [],
   "source": [
    "longs_matches = test_longs_df.where(test_longs_df.notnull()).where(test_lats_df.notnull()).dropna(how='all')"
   ]
  },
  {
   "cell_type": "code",
   "execution_count": 50,
   "metadata": {
    "ExecuteTime": {
     "end_time": "2023-02-08T14:38:17.132147Z",
     "start_time": "2023-02-08T14:38:17.125148Z"
    }
   },
   "outputs": [
    {
     "data": {
      "text/html": [
       "<div>\n",
       "<style scoped>\n",
       "    .dataframe tbody tr th:only-of-type {\n",
       "        vertical-align: middle;\n",
       "    }\n",
       "\n",
       "    .dataframe tbody tr th {\n",
       "        vertical-align: top;\n",
       "    }\n",
       "\n",
       "    .dataframe thead th {\n",
       "        text-align: right;\n",
       "    }\n",
       "</style>\n",
       "<table border=\"1\" class=\"dataframe\">\n",
       "  <thead>\n",
       "    <tr style=\"text-align: right;\">\n",
       "      <th></th>\n",
       "      <th>536</th>\n",
       "      <th>537</th>\n",
       "      <th>538</th>\n",
       "    </tr>\n",
       "  </thead>\n",
       "  <tbody>\n",
       "    <tr>\n",
       "      <th>683</th>\n",
       "      <td>-110.694255</td>\n",
       "      <td>-110.658418</td>\n",
       "      <td>-110.622577</td>\n",
       "    </tr>\n",
       "    <tr>\n",
       "      <th>684</th>\n",
       "      <td>-110.699429</td>\n",
       "      <td>-110.663579</td>\n",
       "      <td>-110.627724</td>\n",
       "    </tr>\n",
       "    <tr>\n",
       "      <th>685</th>\n",
       "      <td>-110.704608</td>\n",
       "      <td>-110.668744</td>\n",
       "      <td>-110.632876</td>\n",
       "    </tr>\n",
       "  </tbody>\n",
       "</table>\n",
       "</div>"
      ],
      "text/plain": [
       "            536         537         538\n",
       "683 -110.694255 -110.658418 -110.622577\n",
       "684 -110.699429 -110.663579 -110.627724\n",
       "685 -110.704608 -110.668744 -110.632876"
      ]
     },
     "execution_count": 50,
     "metadata": {},
     "output_type": "execute_result"
    }
   ],
   "source": [
    "longs_matches.dropna(axis=1, how='all')"
   ]
  },
  {
   "cell_type": "code",
   "execution_count": 51,
   "metadata": {
    "ExecuteTime": {
     "end_time": "2023-02-08T14:38:17.744867Z",
     "start_time": "2023-02-08T14:38:17.740867Z"
    }
   },
   "outputs": [
    {
     "data": {
      "text/plain": [
       "-110.65734"
      ]
     },
     "execution_count": 51,
     "metadata": {},
     "output_type": "execute_result"
    }
   ],
   "source": [
    "sample_long"
   ]
  },
  {
   "cell_type": "code",
   "execution_count": 52,
   "metadata": {
    "ExecuteTime": {
     "end_time": "2023-02-08T14:38:18.093915Z",
     "start_time": "2023-02-08T14:38:18.075912Z"
    }
   },
   "outputs": [
    {
     "data": {
      "text/html": [
       "<div>\n",
       "<style scoped>\n",
       "    .dataframe tbody tr th:only-of-type {\n",
       "        vertical-align: middle;\n",
       "    }\n",
       "\n",
       "    .dataframe tbody tr th {\n",
       "        vertical-align: top;\n",
       "    }\n",
       "\n",
       "    .dataframe thead th {\n",
       "        text-align: right;\n",
       "    }\n",
       "</style>\n",
       "<table border=\"1\" class=\"dataframe\">\n",
       "  <thead>\n",
       "    <tr style=\"text-align: right;\">\n",
       "      <th></th>\n",
       "      <th>536</th>\n",
       "      <th>537</th>\n",
       "      <th>538</th>\n",
       "    </tr>\n",
       "  </thead>\n",
       "  <tbody>\n",
       "    <tr>\n",
       "      <th>683</th>\n",
       "      <td>41.946362</td>\n",
       "      <td>41.950204</td>\n",
       "      <td>41.954036</td>\n",
       "    </tr>\n",
       "    <tr>\n",
       "      <th>684</th>\n",
       "      <td>41.973015</td>\n",
       "      <td>41.976858</td>\n",
       "      <td>41.980691</td>\n",
       "    </tr>\n",
       "    <tr>\n",
       "      <th>685</th>\n",
       "      <td>41.999666</td>\n",
       "      <td>42.003511</td>\n",
       "      <td>42.007345</td>\n",
       "    </tr>\n",
       "    <tr>\n",
       "      <th>686</th>\n",
       "      <td>42.026316</td>\n",
       "      <td>NaN</td>\n",
       "      <td>NaN</td>\n",
       "    </tr>\n",
       "  </tbody>\n",
       "</table>\n",
       "</div>"
      ],
      "text/plain": [
       "           536        537        538\n",
       "683  41.946362  41.950204  41.954036\n",
       "684  41.973015  41.976858  41.980691\n",
       "685  41.999666  42.003511  42.007345\n",
       "686  42.026316        NaN        NaN"
      ]
     },
     "execution_count": 52,
     "metadata": {},
     "output_type": "execute_result"
    }
   ],
   "source": [
    "test_lats_df[[536, 537, 538]].dropna(how='all')"
   ]
  },
  {
   "cell_type": "code",
   "execution_count": 53,
   "metadata": {
    "ExecuteTime": {
     "end_time": "2023-02-08T14:38:18.360285Z",
     "start_time": "2023-02-08T14:38:18.356287Z"
    }
   },
   "outputs": [],
   "source": [
    "temp_results = pd.DataFrame(temps)[[536,537, 538]].loc[[683, 684, 685]]"
   ]
  },
  {
   "cell_type": "code",
   "execution_count": 54,
   "metadata": {
    "ExecuteTime": {
     "end_time": "2023-02-08T14:38:19.006731Z",
     "start_time": "2023-02-08T14:38:18.996225Z"
    }
   },
   "outputs": [
    {
     "data": {
      "text/html": [
       "<div>\n",
       "<style scoped>\n",
       "    .dataframe tbody tr th:only-of-type {\n",
       "        vertical-align: middle;\n",
       "    }\n",
       "\n",
       "    .dataframe tbody tr th {\n",
       "        vertical-align: top;\n",
       "    }\n",
       "\n",
       "    .dataframe thead th {\n",
       "        text-align: right;\n",
       "    }\n",
       "</style>\n",
       "<table border=\"1\" class=\"dataframe\">\n",
       "  <thead>\n",
       "    <tr style=\"text-align: right;\">\n",
       "      <th></th>\n",
       "      <th>536</th>\n",
       "      <th>537</th>\n",
       "      <th>538</th>\n",
       "    </tr>\n",
       "  </thead>\n",
       "  <tbody>\n",
       "    <tr>\n",
       "      <th>683</th>\n",
       "      <td>273.316284</td>\n",
       "      <td>273.441284</td>\n",
       "      <td>273.628784</td>\n",
       "    </tr>\n",
       "    <tr>\n",
       "      <th>684</th>\n",
       "      <td>272.816284</td>\n",
       "      <td>272.691284</td>\n",
       "      <td>273.441284</td>\n",
       "    </tr>\n",
       "    <tr>\n",
       "      <th>685</th>\n",
       "      <td>271.941284</td>\n",
       "      <td>272.066284</td>\n",
       "      <td>272.691284</td>\n",
       "    </tr>\n",
       "  </tbody>\n",
       "</table>\n",
       "</div>"
      ],
      "text/plain": [
       "            536         537         538\n",
       "683  273.316284  273.441284  273.628784\n",
       "684  272.816284  272.691284  273.441284\n",
       "685  271.941284  272.066284  272.691284"
      ]
     },
     "execution_count": 54,
     "metadata": {},
     "output_type": "execute_result"
    }
   ],
   "source": [
    "temp_results"
   ]
  },
  {
   "cell_type": "code",
   "execution_count": 55,
   "metadata": {
    "ExecuteTime": {
     "end_time": "2023-02-08T14:38:19.429751Z",
     "start_time": "2023-02-08T14:38:19.419753Z"
    }
   },
   "outputs": [
    {
     "data": {
      "text/plain": [
       "272.8926730685764"
      ]
     },
     "execution_count": 55,
     "metadata": {},
     "output_type": "execute_result"
    }
   ],
   "source": [
    "temp_results.mean().mean()"
   ]
  },
  {
   "cell_type": "code",
   "execution_count": null,
   "metadata": {},
   "outputs": [],
   "source": []
  },
  {
   "cell_type": "markdown",
   "metadata": {},
   "source": [
    "# Now to automate this:"
   ]
  },
  {
   "cell_type": "markdown",
   "metadata": {},
   "source": [
    "I made copies of this notebook and ran them simultaneously because each batch pull takes about an hour and I didnt want to spend a half day waiting."
   ]
  },
  {
   "cell_type": "code",
   "execution_count": 13,
   "metadata": {
    "ExecuteTime": {
     "end_time": "2023-02-08T16:14:26.931125Z",
     "start_time": "2023-02-08T16:14:26.912582Z"
    }
   },
   "outputs": [],
   "source": [
    "climate_train_df = sat_train[['uid', 'date', 'latitude', 'longitude']]"
   ]
  },
  {
   "cell_type": "code",
   "execution_count": 14,
   "metadata": {
    "ExecuteTime": {
     "end_time": "2023-02-08T16:14:28.155713Z",
     "start_time": "2023-02-08T16:14:28.144206Z"
    }
   },
   "outputs": [],
   "source": [
    "climate_train_df['temp_1day'] = np.NaN"
   ]
  },
  {
   "cell_type": "code",
   "execution_count": 15,
   "metadata": {
    "ExecuteTime": {
     "end_time": "2023-02-08T16:14:29.071620Z",
     "start_time": "2023-02-08T16:14:29.065113Z"
    }
   },
   "outputs": [
    {
     "data": {
      "text/html": [
       "<div>\n",
       "<style scoped>\n",
       "    .dataframe tbody tr th:only-of-type {\n",
       "        vertical-align: middle;\n",
       "    }\n",
       "\n",
       "    .dataframe tbody tr th {\n",
       "        vertical-align: top;\n",
       "    }\n",
       "\n",
       "    .dataframe thead th {\n",
       "        text-align: right;\n",
       "    }\n",
       "</style>\n",
       "<table border=\"1\" class=\"dataframe\">\n",
       "  <thead>\n",
       "    <tr style=\"text-align: right;\">\n",
       "      <th></th>\n",
       "      <th>uid</th>\n",
       "      <th>date</th>\n",
       "      <th>latitude</th>\n",
       "      <th>longitude</th>\n",
       "      <th>temp_1day</th>\n",
       "    </tr>\n",
       "  </thead>\n",
       "  <tbody>\n",
       "    <tr>\n",
       "      <th>0</th>\n",
       "      <td>aabm</td>\n",
       "      <td>2018-05-14</td>\n",
       "      <td>39.080319</td>\n",
       "      <td>-86.430867</td>\n",
       "      <td>NaN</td>\n",
       "    </tr>\n",
       "    <tr>\n",
       "      <th>1</th>\n",
       "      <td>aacd</td>\n",
       "      <td>2020-11-19</td>\n",
       "      <td>35.875083</td>\n",
       "      <td>-78.878434</td>\n",
       "      <td>NaN</td>\n",
       "    </tr>\n",
       "    <tr>\n",
       "      <th>2</th>\n",
       "      <td>aaee</td>\n",
       "      <td>2016-08-24</td>\n",
       "      <td>35.487000</td>\n",
       "      <td>-79.062133</td>\n",
       "      <td>NaN</td>\n",
       "    </tr>\n",
       "    <tr>\n",
       "      <th>3</th>\n",
       "      <td>aaff</td>\n",
       "      <td>2019-07-23</td>\n",
       "      <td>38.049471</td>\n",
       "      <td>-99.827001</td>\n",
       "      <td>NaN</td>\n",
       "    </tr>\n",
       "    <tr>\n",
       "      <th>4</th>\n",
       "      <td>aafl</td>\n",
       "      <td>2021-08-23</td>\n",
       "      <td>39.474744</td>\n",
       "      <td>-86.898353</td>\n",
       "      <td>NaN</td>\n",
       "    </tr>\n",
       "  </tbody>\n",
       "</table>\n",
       "</div>"
      ],
      "text/plain": [
       "    uid       date   latitude  longitude  temp_1day\n",
       "0  aabm 2018-05-14  39.080319 -86.430867        NaN\n",
       "1  aacd 2020-11-19  35.875083 -78.878434        NaN\n",
       "2  aaee 2016-08-24  35.487000 -79.062133        NaN\n",
       "3  aaff 2019-07-23  38.049471 -99.827001        NaN\n",
       "4  aafl 2021-08-23  39.474744 -86.898353        NaN"
      ]
     },
     "execution_count": 15,
     "metadata": {},
     "output_type": "execute_result"
    }
   ],
   "source": [
    "climate_train_df.head()"
   ]
  },
  {
   "cell_type": "code",
   "execution_count": 22,
   "metadata": {
    "ExecuteTime": {
     "end_time": "2023-02-08T16:19:49.802043Z",
     "start_time": "2023-02-08T16:19:49.790849Z"
    }
   },
   "outputs": [],
   "source": [
    "climate_train_df_499 = climate_train_df.head(500)"
   ]
  },
  {
   "cell_type": "code",
   "execution_count": 23,
   "metadata": {
    "ExecuteTime": {
     "end_time": "2023-02-08T16:19:54.541499Z",
     "start_time": "2023-02-08T16:19:54.526966Z"
    }
   },
   "outputs": [
    {
     "data": {
      "text/html": [
       "<div>\n",
       "<style scoped>\n",
       "    .dataframe tbody tr th:only-of-type {\n",
       "        vertical-align: middle;\n",
       "    }\n",
       "\n",
       "    .dataframe tbody tr th {\n",
       "        vertical-align: top;\n",
       "    }\n",
       "\n",
       "    .dataframe thead th {\n",
       "        text-align: right;\n",
       "    }\n",
       "</style>\n",
       "<table border=\"1\" class=\"dataframe\">\n",
       "  <thead>\n",
       "    <tr style=\"text-align: right;\">\n",
       "      <th></th>\n",
       "      <th>uid</th>\n",
       "      <th>date</th>\n",
       "      <th>latitude</th>\n",
       "      <th>longitude</th>\n",
       "      <th>temp_1day</th>\n",
       "    </tr>\n",
       "  </thead>\n",
       "  <tbody>\n",
       "    <tr>\n",
       "      <th>0</th>\n",
       "      <td>aabm</td>\n",
       "      <td>2018-05-14</td>\n",
       "      <td>39.080319</td>\n",
       "      <td>-86.430867</td>\n",
       "      <td>299.407155</td>\n",
       "    </tr>\n",
       "    <tr>\n",
       "      <th>1</th>\n",
       "      <td>aacd</td>\n",
       "      <td>2020-11-19</td>\n",
       "      <td>35.875083</td>\n",
       "      <td>-78.878434</td>\n",
       "      <td>287.311218</td>\n",
       "    </tr>\n",
       "    <tr>\n",
       "      <th>2</th>\n",
       "      <td>aaee</td>\n",
       "      <td>2016-08-24</td>\n",
       "      <td>35.487000</td>\n",
       "      <td>-79.062133</td>\n",
       "      <td>NaN</td>\n",
       "    </tr>\n",
       "    <tr>\n",
       "      <th>3</th>\n",
       "      <td>aaff</td>\n",
       "      <td>2019-07-23</td>\n",
       "      <td>38.049471</td>\n",
       "      <td>-99.827001</td>\n",
       "      <td>311.259369</td>\n",
       "    </tr>\n",
       "    <tr>\n",
       "      <th>4</th>\n",
       "      <td>aafl</td>\n",
       "      <td>2021-08-23</td>\n",
       "      <td>39.474744</td>\n",
       "      <td>-86.898353</td>\n",
       "      <td>312.196950</td>\n",
       "    </tr>\n",
       "    <tr>\n",
       "      <th>...</th>\n",
       "      <td>...</td>\n",
       "      <td>...</td>\n",
       "      <td>...</td>\n",
       "      <td>...</td>\n",
       "      <td>...</td>\n",
       "    </tr>\n",
       "    <tr>\n",
       "      <th>495</th>\n",
       "      <td>atma</td>\n",
       "      <td>2021-03-09</td>\n",
       "      <td>37.136600</td>\n",
       "      <td>-120.762000</td>\n",
       "      <td>NaN</td>\n",
       "    </tr>\n",
       "    <tr>\n",
       "      <th>496</th>\n",
       "      <td>atmh</td>\n",
       "      <td>2017-07-11</td>\n",
       "      <td>40.987450</td>\n",
       "      <td>-90.399810</td>\n",
       "      <td>NaN</td>\n",
       "    </tr>\n",
       "    <tr>\n",
       "      <th>497</th>\n",
       "      <td>atnl</td>\n",
       "      <td>2021-04-28</td>\n",
       "      <td>35.875611</td>\n",
       "      <td>-78.882660</td>\n",
       "      <td>NaN</td>\n",
       "    </tr>\n",
       "    <tr>\n",
       "      <th>498</th>\n",
       "      <td>atnq</td>\n",
       "      <td>2013-08-13</td>\n",
       "      <td>37.600300</td>\n",
       "      <td>-121.224000</td>\n",
       "      <td>NaN</td>\n",
       "    </tr>\n",
       "    <tr>\n",
       "      <th>499</th>\n",
       "      <td>atnr</td>\n",
       "      <td>2016-05-11</td>\n",
       "      <td>35.624760</td>\n",
       "      <td>-78.705932</td>\n",
       "      <td>NaN</td>\n",
       "    </tr>\n",
       "  </tbody>\n",
       "</table>\n",
       "<p>500 rows × 5 columns</p>\n",
       "</div>"
      ],
      "text/plain": [
       "      uid       date   latitude   longitude   temp_1day\n",
       "0    aabm 2018-05-14  39.080319  -86.430867  299.407155\n",
       "1    aacd 2020-11-19  35.875083  -78.878434  287.311218\n",
       "2    aaee 2016-08-24  35.487000  -79.062133         NaN\n",
       "3    aaff 2019-07-23  38.049471  -99.827001  311.259369\n",
       "4    aafl 2021-08-23  39.474744  -86.898353  312.196950\n",
       "..    ...        ...        ...         ...         ...\n",
       "495  atma 2021-03-09  37.136600 -120.762000         NaN\n",
       "496  atmh 2017-07-11  40.987450  -90.399810         NaN\n",
       "497  atnl 2021-04-28  35.875611  -78.882660         NaN\n",
       "498  atnq 2013-08-13  37.600300 -121.224000         NaN\n",
       "499  atnr 2016-05-11  35.624760  -78.705932         NaN\n",
       "\n",
       "[500 rows x 5 columns]"
      ]
     },
     "execution_count": 23,
     "metadata": {},
     "output_type": "execute_result"
    }
   ],
   "source": [
    "climate_train_df_499"
   ]
  },
  {
   "cell_type": "code",
   "execution_count": 24,
   "metadata": {
    "ExecuteTime": {
     "end_time": "2023-02-08T16:53:40.915193Z",
     "start_time": "2023-02-08T16:21:40.327202Z"
    }
   },
   "outputs": [],
   "source": [
    "for index in range(len(climate_train_df_499)):\n",
    "    row = climate_train_df_499.iloc[index]\n",
    "    \n",
    "    # getting temp data from one day prior\n",
    "    sample_date = row['date'] - timedelta(1)\n",
    "    sample_date = f'{sample_date:%Y%m%d}'\n",
    "    \n",
    "    # setting variables for lat/lon\n",
    "    sample_lat = row.latitude\n",
    "    sample_lon = row.longitude\n",
    "\n",
    "    # setting up access point to NOAA HRRR\n",
    "    sector = \"conus\" # continental united states\n",
    "    cycle = 18  # noon CST (times are in UTC)\n",
    "    forecast_hour = 1  # offset from cycle time\n",
    "    product = \"wrfsfcf\"  # 2D Pressure Levels\n",
    "    sample_date = sample_date  # sample date\n",
    "    file_path = f\"hrrr.t{cycle:02}z.{product}{forecast_hour:02}.grib2\"\n",
    "    url = f\"https://noaa-hrrr-bdp-pds.s3.amazonaws.com/hrrr.{sample_date}/{sector}/{file_path}\"\n",
    "    \n",
    "    # pulling the data from the request\n",
    "    resp = requests.get(url)\n",
    "    \n",
    "    # setting up temp file it will delete when closed\n",
    "    file = tempfile.NamedTemporaryFile(prefix=\"delete_later_\", delete=False)\n",
    "    \n",
    "    # now pulling actual data\n",
    "    with file as f:\n",
    "        f.write(resp.content)\n",
    "    try:\n",
    "        grbs = pygrib.open(file.name)\n",
    "\n",
    "        # grabbing surface temperature\n",
    "        temp_grb = grbs.select(name='Temperature', level=0)[0]\n",
    "\n",
    "        # getting lat/lon and temp matrices from results\n",
    "        lats, lons = temp_grb.latlons()\n",
    "        temps = temp_grb.values\n",
    "\n",
    "        # setting up lat/lon dfs\n",
    "        lats_df = pd.DataFrame(lats)\n",
    "        lons_df = pd.DataFrame(lons)\n",
    "\n",
    "        # slicing for location\n",
    "        lats_df = lats_df[(lats_df >(sample_lat-.05)) & (lats_df < (sample_lat+.05))].dropna(how='all')\n",
    "        lons_df = lons_df[(lons_df >(sample_lon-.05)) & (lons_df < (sample_lon+.05))].dropna(how='all')\n",
    "\n",
    "        # getting matching coordinates\n",
    "        matches = lons_df.where(lons_df.notnull()).where(lats_df.notnull()).dropna(how='all').dropna(axis=1, how='all')\n",
    "\n",
    "        # getting temperature results\n",
    "        temp_results = pd.DataFrame(temps)[matches.columns].loc[matches.index]\n",
    "\n",
    "        # getting the average\n",
    "        temp_results = temp_results.mean().mean()\n",
    "\n",
    "        # adding results back to row\n",
    "        climate_train_df['temp_1day'].loc[row.name] = temp_results\n",
    "        grbs.close()\n",
    "        file.close()\n",
    "        os.remove(file.name)\n",
    "    except:\n",
    "        climate_train_df['temp_1day'].loc[row.name] = np.NaN\n",
    "        grbs.close()\n",
    "        file.close()\n",
    "        os.remove(file.name)"
   ]
  },
  {
   "cell_type": "code",
   "execution_count": 25,
   "metadata": {
    "ExecuteTime": {
     "end_time": "2023-02-08T16:54:00.711675Z",
     "start_time": "2023-02-08T16:54:00.702167Z"
    }
   },
   "outputs": [
    {
     "data": {
      "text/plain": [
       "uid            0\n",
       "date           0\n",
       "latitude       0\n",
       "longitude      0\n",
       "temp_1day    108\n",
       "dtype: int64"
      ]
     },
     "execution_count": 25,
     "metadata": {},
     "output_type": "execute_result"
    }
   ],
   "source": [
    "climate_train_df.head(500).isna().sum()"
   ]
  },
  {
   "cell_type": "markdown",
   "metadata": {},
   "source": [
    "First batch was a success. Doing second, larger batch"
   ]
  },
  {
   "cell_type": "code",
   "execution_count": 26,
   "metadata": {
    "ExecuteTime": {
     "end_time": "2023-02-08T16:56:22.556970Z",
     "start_time": "2023-02-08T16:56:22.549967Z"
    }
   },
   "outputs": [],
   "source": [
    "climate_train_df_500_1499 = climate_train_df[500:1500]"
   ]
  },
  {
   "cell_type": "code",
   "execution_count": 27,
   "metadata": {
    "ExecuteTime": {
     "end_time": "2023-02-08T16:57:14.872170Z",
     "start_time": "2023-02-08T16:57:14.853155Z"
    }
   },
   "outputs": [
    {
     "data": {
      "text/html": [
       "<div>\n",
       "<style scoped>\n",
       "    .dataframe tbody tr th:only-of-type {\n",
       "        vertical-align: middle;\n",
       "    }\n",
       "\n",
       "    .dataframe tbody tr th {\n",
       "        vertical-align: top;\n",
       "    }\n",
       "\n",
       "    .dataframe thead th {\n",
       "        text-align: right;\n",
       "    }\n",
       "</style>\n",
       "<table border=\"1\" class=\"dataframe\">\n",
       "  <thead>\n",
       "    <tr style=\"text-align: right;\">\n",
       "      <th></th>\n",
       "      <th>uid</th>\n",
       "      <th>date</th>\n",
       "      <th>latitude</th>\n",
       "      <th>longitude</th>\n",
       "      <th>temp_1day</th>\n",
       "    </tr>\n",
       "  </thead>\n",
       "  <tbody>\n",
       "    <tr>\n",
       "      <th>500</th>\n",
       "      <td>atog</td>\n",
       "      <td>2018-08-16</td>\n",
       "      <td>36.170000</td>\n",
       "      <td>-79.072168</td>\n",
       "      <td>NaN</td>\n",
       "    </tr>\n",
       "    <tr>\n",
       "      <th>501</th>\n",
       "      <td>atqn</td>\n",
       "      <td>2018-03-22</td>\n",
       "      <td>35.647290</td>\n",
       "      <td>-79.272622</td>\n",
       "      <td>NaN</td>\n",
       "    </tr>\n",
       "    <tr>\n",
       "      <th>502</th>\n",
       "      <td>atsh</td>\n",
       "      <td>2017-05-16</td>\n",
       "      <td>37.967400</td>\n",
       "      <td>-121.464000</td>\n",
       "      <td>NaN</td>\n",
       "    </tr>\n",
       "    <tr>\n",
       "      <th>503</th>\n",
       "      <td>atue</td>\n",
       "      <td>2016-09-13</td>\n",
       "      <td>37.214100</td>\n",
       "      <td>-120.561000</td>\n",
       "      <td>NaN</td>\n",
       "    </tr>\n",
       "    <tr>\n",
       "      <th>504</th>\n",
       "      <td>atvb</td>\n",
       "      <td>2017-04-18</td>\n",
       "      <td>35.693307</td>\n",
       "      <td>-79.187151</td>\n",
       "      <td>NaN</td>\n",
       "    </tr>\n",
       "    <tr>\n",
       "      <th>...</th>\n",
       "      <td>...</td>\n",
       "      <td>...</td>\n",
       "      <td>...</td>\n",
       "      <td>...</td>\n",
       "      <td>...</td>\n",
       "    </tr>\n",
       "    <tr>\n",
       "      <th>1495</th>\n",
       "      <td>chvo</td>\n",
       "      <td>2015-07-07</td>\n",
       "      <td>35.696660</td>\n",
       "      <td>-79.180923</td>\n",
       "      <td>NaN</td>\n",
       "    </tr>\n",
       "    <tr>\n",
       "      <th>1496</th>\n",
       "      <td>chwm</td>\n",
       "      <td>2018-07-23</td>\n",
       "      <td>39.022356</td>\n",
       "      <td>-86.481656</td>\n",
       "      <td>NaN</td>\n",
       "    </tr>\n",
       "    <tr>\n",
       "      <th>1497</th>\n",
       "      <td>chxt</td>\n",
       "      <td>2020-09-24</td>\n",
       "      <td>35.688330</td>\n",
       "      <td>-79.196395</td>\n",
       "      <td>NaN</td>\n",
       "    </tr>\n",
       "    <tr>\n",
       "      <th>1498</th>\n",
       "      <td>chxv</td>\n",
       "      <td>2015-07-23</td>\n",
       "      <td>35.742000</td>\n",
       "      <td>-79.211010</td>\n",
       "      <td>NaN</td>\n",
       "    </tr>\n",
       "    <tr>\n",
       "      <th>1499</th>\n",
       "      <td>chzo</td>\n",
       "      <td>2021-05-24</td>\n",
       "      <td>35.659080</td>\n",
       "      <td>-79.250723</td>\n",
       "      <td>NaN</td>\n",
       "    </tr>\n",
       "  </tbody>\n",
       "</table>\n",
       "<p>1000 rows × 5 columns</p>\n",
       "</div>"
      ],
      "text/plain": [
       "       uid       date   latitude   longitude  temp_1day\n",
       "500   atog 2018-08-16  36.170000  -79.072168        NaN\n",
       "501   atqn 2018-03-22  35.647290  -79.272622        NaN\n",
       "502   atsh 2017-05-16  37.967400 -121.464000        NaN\n",
       "503   atue 2016-09-13  37.214100 -120.561000        NaN\n",
       "504   atvb 2017-04-18  35.693307  -79.187151        NaN\n",
       "...    ...        ...        ...         ...        ...\n",
       "1495  chvo 2015-07-07  35.696660  -79.180923        NaN\n",
       "1496  chwm 2018-07-23  39.022356  -86.481656        NaN\n",
       "1497  chxt 2020-09-24  35.688330  -79.196395        NaN\n",
       "1498  chxv 2015-07-23  35.742000  -79.211010        NaN\n",
       "1499  chzo 2021-05-24  35.659080  -79.250723        NaN\n",
       "\n",
       "[1000 rows x 5 columns]"
      ]
     },
     "execution_count": 27,
     "metadata": {},
     "output_type": "execute_result"
    }
   ],
   "source": [
    "climate_train_df_500_1499"
   ]
  },
  {
   "cell_type": "code",
   "execution_count": 28,
   "metadata": {
    "ExecuteTime": {
     "end_time": "2023-02-08T18:49:17.587107Z",
     "start_time": "2023-02-08T16:58:47.844600Z"
    }
   },
   "outputs": [],
   "source": [
    "for index in range(len(climate_train_df_500_1499)):\n",
    "    row = climate_train_df_500_1499.iloc[index]\n",
    "    \n",
    "    # getting temp data from one day prior\n",
    "    sample_date = row['date'] - timedelta(1)\n",
    "    sample_date = f'{sample_date:%Y%m%d}'\n",
    "    \n",
    "    # setting variables for lat/lon\n",
    "    sample_lat = row.latitude\n",
    "    sample_lon = row.longitude\n",
    "\n",
    "    # setting up access point to NOAA HRRR\n",
    "    sector = \"conus\" # continental united states\n",
    "    cycle = 18  # noon CST (times are in UTC)\n",
    "    forecast_hour = 1  # offset from cycle time\n",
    "    product = \"wrfsfcf\"  # 2D Pressure Levels\n",
    "    sample_date = sample_date  # sample date\n",
    "    file_path = f\"hrrr.t{cycle:02}z.{product}{forecast_hour:02}.grib2\"\n",
    "    url = f\"https://noaa-hrrr-bdp-pds.s3.amazonaws.com/hrrr.{sample_date}/{sector}/{file_path}\"\n",
    "    \n",
    "    # pulling the data from the request\n",
    "    resp = requests.get(url)\n",
    "    \n",
    "    # setting up temp file it will delete when closed\n",
    "    file = tempfile.NamedTemporaryFile(prefix=\"delete_later_\", delete=False)\n",
    "    \n",
    "    # now pulling actual data\n",
    "    with file as f:\n",
    "        f.write(resp.content)\n",
    "    try:\n",
    "        grbs = pygrib.open(file.name)\n",
    "\n",
    "        # grabbing surface temperature\n",
    "        temp_grb = grbs.select(name='Temperature', level=0)[0]\n",
    "\n",
    "        # getting lat/lon and temp matrices from results\n",
    "        lats, lons = temp_grb.latlons()\n",
    "        temps = temp_grb.values\n",
    "\n",
    "        # setting up lat/lon dfs\n",
    "        lats_df = pd.DataFrame(lats)\n",
    "        lons_df = pd.DataFrame(lons)\n",
    "\n",
    "        # slicing for location\n",
    "        lats_df = lats_df[(lats_df >(sample_lat-.05)) & (lats_df < (sample_lat+.05))].dropna(how='all')\n",
    "        lons_df = lons_df[(lons_df >(sample_lon-.05)) & (lons_df < (sample_lon+.05))].dropna(how='all')\n",
    "\n",
    "        # getting matching coordinates\n",
    "        matches = lons_df.where(lons_df.notnull()).where(lats_df.notnull()).dropna(how='all').dropna(axis=1, how='all')\n",
    "\n",
    "        # getting temperature results\n",
    "        temp_results = pd.DataFrame(temps)[matches.columns].loc[matches.index]\n",
    "\n",
    "        # getting the average\n",
    "        temp_results = temp_results.mean().mean()\n",
    "\n",
    "        # adding results back to row\n",
    "        climate_train_df['temp_1day'].loc[row.name] = temp_results\n",
    "        grbs.close()\n",
    "        file.close()\n",
    "        os.remove(file.name)\n",
    "    except:\n",
    "        climate_train_df['temp_1day'].loc[row.name] = np.NaN\n",
    "        grbs.close()\n",
    "        file.close()\n",
    "        os.remove(file.name)"
   ]
  },
  {
   "cell_type": "code",
   "execution_count": 29,
   "metadata": {
    "ExecuteTime": {
     "end_time": "2023-02-08T18:50:35.219581Z",
     "start_time": "2023-02-08T18:50:35.207517Z"
    }
   },
   "outputs": [
    {
     "data": {
      "text/plain": [
       "177"
      ]
     },
     "execution_count": 29,
     "metadata": {},
     "output_type": "execute_result"
    }
   ],
   "source": [
    "climate_train_df_500_1499['temp_1day'].isna().sum()"
   ]
  },
  {
   "cell_type": "code",
   "execution_count": 30,
   "metadata": {
    "ExecuteTime": {
     "end_time": "2023-02-08T18:50:46.018615Z",
     "start_time": "2023-02-08T18:50:46.007100Z"
    }
   },
   "outputs": [],
   "source": [
    "climate_train_0_1499 = pd.concat([climate_train_df_499, climate_train_df_500_1499])"
   ]
  },
  {
   "cell_type": "code",
   "execution_count": 32,
   "metadata": {
    "ExecuteTime": {
     "end_time": "2023-02-08T18:51:30.324407Z",
     "start_time": "2023-02-08T18:51:30.313898Z"
    }
   },
   "outputs": [],
   "source": [
    "climate_train_0_1499.to_pickle('../pickles/temperature_1_day/train_0_to_1499.pkl')"
   ]
  },
  {
   "cell_type": "code",
   "execution_count": null,
   "metadata": {},
   "outputs": [],
   "source": []
  },
  {
   "cell_type": "code",
   "execution_count": null,
   "metadata": {},
   "outputs": [],
   "source": []
  },
  {
   "cell_type": "code",
   "execution_count": 33,
   "metadata": {
    "ExecuteTime": {
     "end_time": "2023-02-09T01:59:42.103315Z",
     "start_time": "2023-02-09T01:59:42.096305Z"
    }
   },
   "outputs": [],
   "source": [
    "train_1499 = pd.read_pickle('../pickles/temperature_1_day/train_0_to_1499.pkl')"
   ]
  },
  {
   "cell_type": "code",
   "execution_count": 34,
   "metadata": {
    "ExecuteTime": {
     "end_time": "2023-02-09T01:59:45.483659Z",
     "start_time": "2023-02-09T01:59:45.472151Z"
    }
   },
   "outputs": [],
   "source": [
    "train_1645 = pd.read_pickle('../pickles/temperature_1_day/train_1500_to_1645.pkl')"
   ]
  },
  {
   "cell_type": "code",
   "execution_count": 35,
   "metadata": {
    "ExecuteTime": {
     "end_time": "2023-02-09T01:59:48.428826Z",
     "start_time": "2023-02-09T01:59:48.407812Z"
    }
   },
   "outputs": [],
   "source": [
    "train_2499 = pd.read_pickle('../pickles/temperature_1_day/train_1646_to_2499.pkl')"
   ]
  },
  {
   "cell_type": "code",
   "execution_count": 36,
   "metadata": {
    "ExecuteTime": {
     "end_time": "2023-02-09T01:59:49.978715Z",
     "start_time": "2023-02-09T01:59:49.969205Z"
    }
   },
   "outputs": [],
   "source": [
    "train_2613 = pd.read_pickle('../pickles/temperature_1_day/train_2500_to_2613.pkl')"
   ]
  },
  {
   "cell_type": "code",
   "execution_count": 37,
   "metadata": {
    "ExecuteTime": {
     "end_time": "2023-02-09T01:59:51.000309Z",
     "start_time": "2023-02-09T01:59:50.992793Z"
    }
   },
   "outputs": [],
   "source": [
    "train_3499 = pd.read_pickle('../pickles/temperature_1_day/train_2614_to_3499.pkl')"
   ]
  },
  {
   "cell_type": "code",
   "execution_count": 38,
   "metadata": {
    "ExecuteTime": {
     "end_time": "2023-02-09T01:59:53.588763Z",
     "start_time": "2023-02-09T01:59:53.567752Z"
    }
   },
   "outputs": [],
   "source": [
    "train_4999 = pd.read_pickle('../pickles/temperature_1_day/train_3500_to_4999.pkl')"
   ]
  },
  {
   "cell_type": "code",
   "execution_count": 39,
   "metadata": {
    "ExecuteTime": {
     "end_time": "2023-02-09T01:59:55.101068Z",
     "start_time": "2023-02-09T01:59:55.088026Z"
    }
   },
   "outputs": [],
   "source": [
    "train_5046 = pd.read_pickle('../pickles/temperature_1_day/train_5000_to_5046.pkl')"
   ]
  },
  {
   "cell_type": "code",
   "execution_count": 40,
   "metadata": {
    "ExecuteTime": {
     "end_time": "2023-02-09T01:59:55.885295Z",
     "start_time": "2023-02-09T01:59:55.872789Z"
    }
   },
   "outputs": [],
   "source": [
    "train_6499 = pd.read_pickle('../pickles/temperature_1_day/train_5047_to_6499.pkl')"
   ]
  },
  {
   "cell_type": "code",
   "execution_count": 41,
   "metadata": {
    "ExecuteTime": {
     "end_time": "2023-02-09T01:59:57.722169Z",
     "start_time": "2023-02-09T01:59:57.711659Z"
    }
   },
   "outputs": [],
   "source": [
    "train_6554 = pd.read_pickle('../pickles/temperature_1_day/train_6500_to_6554.pkl')"
   ]
  },
  {
   "cell_type": "code",
   "execution_count": 42,
   "metadata": {
    "ExecuteTime": {
     "end_time": "2023-02-09T01:59:59.314068Z",
     "start_time": "2023-02-09T01:59:59.296215Z"
    }
   },
   "outputs": [],
   "source": [
    "train_7999 = pd.read_pickle('../pickles/temperature_1_day/train_6555_to_7999.pkl')"
   ]
  },
  {
   "cell_type": "code",
   "execution_count": 43,
   "metadata": {
    "ExecuteTime": {
     "end_time": "2023-02-09T02:00:00.671178Z",
     "start_time": "2023-02-09T02:00:00.656668Z"
    }
   },
   "outputs": [],
   "source": [
    "train_9999 = pd.read_pickle('../pickles/temperature_1_day/train_8000_to_9999.pkl')"
   ]
  },
  {
   "cell_type": "code",
   "execution_count": 44,
   "metadata": {
    "ExecuteTime": {
     "end_time": "2023-02-09T02:00:01.689772Z",
     "start_time": "2023-02-09T02:00:01.672758Z"
    }
   },
   "outputs": [],
   "source": [
    "train_11999 = pd.read_pickle('../pickles/temperature_1_day/train_10000_to_11999.pkl')"
   ]
  },
  {
   "cell_type": "code",
   "execution_count": null,
   "metadata": {},
   "outputs": [],
   "source": []
  },
  {
   "cell_type": "code",
   "execution_count": null,
   "metadata": {},
   "outputs": [],
   "source": []
  },
  {
   "cell_type": "code",
   "execution_count": null,
   "metadata": {},
   "outputs": [],
   "source": []
  },
  {
   "cell_type": "code",
   "execution_count": 45,
   "metadata": {
    "ExecuteTime": {
     "end_time": "2023-02-09T02:02:22.948975Z",
     "start_time": "2023-02-09T02:02:22.936471Z"
    }
   },
   "outputs": [],
   "source": [
    "train_list = [train_1499, train_1645, train_2499, train_2613, train_3499, train_4999, \n",
    "             train_5046, train_6499, train_6554, train_7999, train_9999, train_11999]"
   ]
  },
  {
   "cell_type": "code",
   "execution_count": 46,
   "metadata": {
    "ExecuteTime": {
     "end_time": "2023-02-09T02:02:50.459330Z",
     "start_time": "2023-02-09T02:02:50.440172Z"
    }
   },
   "outputs": [],
   "source": [
    "train_zero_11999 = pd.concat(train_list)"
   ]
  },
  {
   "cell_type": "code",
   "execution_count": 50,
   "metadata": {
    "ExecuteTime": {
     "end_time": "2023-02-09T02:03:51.932344Z",
     "start_time": "2023-02-09T02:03:51.927342Z"
    }
   },
   "outputs": [],
   "source": [
    "train_zero_11999.to_pickle('../pickles/temperature_1_day/zero_to_11999.pkl')"
   ]
  },
  {
   "cell_type": "code",
   "execution_count": 51,
   "metadata": {
    "ExecuteTime": {
     "end_time": "2023-02-09T13:15:02.799992Z",
     "start_time": "2023-02-09T13:15:02.772980Z"
    }
   },
   "outputs": [],
   "source": [
    "train_12000_to_13999 = pd.read_pickle('../pickles/temperature_1_day/train_12000_to_13999.pkl')"
   ]
  },
  {
   "cell_type": "code",
   "execution_count": 52,
   "metadata": {
    "ExecuteTime": {
     "end_time": "2023-02-09T13:15:22.716966Z",
     "start_time": "2023-02-09T13:15:22.708458Z"
    }
   },
   "outputs": [],
   "source": [
    "train_14000_to_end = pd.read_pickle('../pickles/temperature_1_day/train_14000_to_end.pkl')"
   ]
  },
  {
   "cell_type": "code",
   "execution_count": 53,
   "metadata": {
    "ExecuteTime": {
     "end_time": "2023-02-09T13:16:02.359996Z",
     "start_time": "2023-02-09T13:16:02.347979Z"
    }
   },
   "outputs": [],
   "source": [
    "train_temp_1_day_full_df = pd.concat([train_zero_11999, train_12000_to_13999, train_14000_to_end])"
   ]
  },
  {
   "cell_type": "code",
   "execution_count": 55,
   "metadata": {
    "ExecuteTime": {
     "end_time": "2023-02-09T13:16:47.701903Z",
     "start_time": "2023-02-09T13:16:47.687871Z"
    }
   },
   "outputs": [],
   "source": [
    "train_temp_1_day_full_df.to_pickle('../pickles/temperature_1_day/day_1_temp_train_data.pkl')"
   ]
  },
  {
   "cell_type": "code",
   "execution_count": null,
   "metadata": {},
   "outputs": [],
   "source": []
  },
  {
   "cell_type": "code",
   "execution_count": 56,
   "metadata": {
    "ExecuteTime": {
     "end_time": "2023-02-09T13:18:09.116292Z",
     "start_time": "2023-02-09T13:18:09.100783Z"
    }
   },
   "outputs": [],
   "source": [
    "train_1_day = pd.read_pickle('../pickles/temperature_1_day/day_1_temp_train_data.pkl')"
   ]
  },
  {
   "cell_type": "code",
   "execution_count": 58,
   "metadata": {
    "ExecuteTime": {
     "end_time": "2023-02-09T13:18:29.445739Z",
     "start_time": "2023-02-09T13:18:29.437232Z"
    }
   },
   "outputs": [
    {
     "data": {
      "text/plain": [
       "uid             0\n",
       "date            0\n",
       "latitude        0\n",
       "longitude       0\n",
       "temp_1day    3225\n",
       "dtype: int64"
      ]
     },
     "execution_count": 58,
     "metadata": {},
     "output_type": "execute_result"
    }
   ],
   "source": [
    "train_1_day.isna().sum()"
   ]
  },
  {
   "cell_type": "markdown",
   "metadata": {},
   "source": [
    "# 5 day train data"
   ]
  },
  {
   "cell_type": "code",
   "execution_count": 59,
   "metadata": {
    "ExecuteTime": {
     "end_time": "2023-02-09T13:19:22.942472Z",
     "start_time": "2023-02-09T13:19:22.924458Z"
    }
   },
   "outputs": [],
   "source": [
    "climate_5_day_zero_to_2999 = climate_train_df[:3000].drop('temp_1day', axis=1)"
   ]
  },
  {
   "cell_type": "code",
   "execution_count": 64,
   "metadata": {
    "ExecuteTime": {
     "end_time": "2023-02-09T13:21:31.924592Z",
     "start_time": "2023-02-09T13:21:31.911086Z"
    }
   },
   "outputs": [],
   "source": [
    "climate_5_day_zero_to_2999 = climate_5_day_zero_to_2999.drop('temp_1day', axis=1)"
   ]
  },
  {
   "cell_type": "code",
   "execution_count": 65,
   "metadata": {
    "ExecuteTime": {
     "end_time": "2023-02-09T13:21:51.208848Z",
     "start_time": "2023-02-09T13:21:51.195825Z"
    }
   },
   "outputs": [],
   "source": [
    "climate_5_day_zero_to_2999['temp_5_day'] = np.NaN"
   ]
  },
  {
   "cell_type": "code",
   "execution_count": 66,
   "metadata": {
    "ExecuteTime": {
     "end_time": "2023-02-09T13:21:55.049006Z",
     "start_time": "2023-02-09T13:21:55.035991Z"
    }
   },
   "outputs": [
    {
     "data": {
      "text/html": [
       "<div>\n",
       "<style scoped>\n",
       "    .dataframe tbody tr th:only-of-type {\n",
       "        vertical-align: middle;\n",
       "    }\n",
       "\n",
       "    .dataframe tbody tr th {\n",
       "        vertical-align: top;\n",
       "    }\n",
       "\n",
       "    .dataframe thead th {\n",
       "        text-align: right;\n",
       "    }\n",
       "</style>\n",
       "<table border=\"1\" class=\"dataframe\">\n",
       "  <thead>\n",
       "    <tr style=\"text-align: right;\">\n",
       "      <th></th>\n",
       "      <th>uid</th>\n",
       "      <th>date</th>\n",
       "      <th>latitude</th>\n",
       "      <th>longitude</th>\n",
       "      <th>temp_5_day</th>\n",
       "    </tr>\n",
       "  </thead>\n",
       "  <tbody>\n",
       "    <tr>\n",
       "      <th>0</th>\n",
       "      <td>aabm</td>\n",
       "      <td>2018-05-14</td>\n",
       "      <td>39.080319</td>\n",
       "      <td>-86.430867</td>\n",
       "      <td>NaN</td>\n",
       "    </tr>\n",
       "    <tr>\n",
       "      <th>1</th>\n",
       "      <td>aacd</td>\n",
       "      <td>2020-11-19</td>\n",
       "      <td>35.875083</td>\n",
       "      <td>-78.878434</td>\n",
       "      <td>NaN</td>\n",
       "    </tr>\n",
       "    <tr>\n",
       "      <th>2</th>\n",
       "      <td>aaee</td>\n",
       "      <td>2016-08-24</td>\n",
       "      <td>35.487000</td>\n",
       "      <td>-79.062133</td>\n",
       "      <td>NaN</td>\n",
       "    </tr>\n",
       "    <tr>\n",
       "      <th>3</th>\n",
       "      <td>aaff</td>\n",
       "      <td>2019-07-23</td>\n",
       "      <td>38.049471</td>\n",
       "      <td>-99.827001</td>\n",
       "      <td>NaN</td>\n",
       "    </tr>\n",
       "    <tr>\n",
       "      <th>4</th>\n",
       "      <td>aafl</td>\n",
       "      <td>2021-08-23</td>\n",
       "      <td>39.474744</td>\n",
       "      <td>-86.898353</td>\n",
       "      <td>NaN</td>\n",
       "    </tr>\n",
       "    <tr>\n",
       "      <th>...</th>\n",
       "      <td>...</td>\n",
       "      <td>...</td>\n",
       "      <td>...</td>\n",
       "      <td>...</td>\n",
       "      <td>...</td>\n",
       "    </tr>\n",
       "    <tr>\n",
       "      <th>2995</th>\n",
       "      <td>enyn</td>\n",
       "      <td>2020-12-08</td>\n",
       "      <td>38.483122</td>\n",
       "      <td>-75.129692</td>\n",
       "      <td>NaN</td>\n",
       "    </tr>\n",
       "    <tr>\n",
       "      <th>2996</th>\n",
       "      <td>eobk</td>\n",
       "      <td>2017-12-14</td>\n",
       "      <td>35.980000</td>\n",
       "      <td>-78.784478</td>\n",
       "      <td>NaN</td>\n",
       "    </tr>\n",
       "    <tr>\n",
       "      <th>2997</th>\n",
       "      <td>eobs</td>\n",
       "      <td>2018-10-18</td>\n",
       "      <td>35.871294</td>\n",
       "      <td>-78.848110</td>\n",
       "      <td>NaN</td>\n",
       "    </tr>\n",
       "    <tr>\n",
       "      <th>2998</th>\n",
       "      <td>eocm</td>\n",
       "      <td>2015-09-17</td>\n",
       "      <td>35.733860</td>\n",
       "      <td>-79.078891</td>\n",
       "      <td>NaN</td>\n",
       "    </tr>\n",
       "    <tr>\n",
       "      <th>2999</th>\n",
       "      <td>eodb</td>\n",
       "      <td>2017-12-05</td>\n",
       "      <td>37.360900</td>\n",
       "      <td>-120.549000</td>\n",
       "      <td>NaN</td>\n",
       "    </tr>\n",
       "  </tbody>\n",
       "</table>\n",
       "<p>3000 rows × 5 columns</p>\n",
       "</div>"
      ],
      "text/plain": [
       "       uid       date   latitude   longitude  temp_5_day\n",
       "0     aabm 2018-05-14  39.080319  -86.430867         NaN\n",
       "1     aacd 2020-11-19  35.875083  -78.878434         NaN\n",
       "2     aaee 2016-08-24  35.487000  -79.062133         NaN\n",
       "3     aaff 2019-07-23  38.049471  -99.827001         NaN\n",
       "4     aafl 2021-08-23  39.474744  -86.898353         NaN\n",
       "...    ...        ...        ...         ...         ...\n",
       "2995  enyn 2020-12-08  38.483122  -75.129692         NaN\n",
       "2996  eobk 2017-12-14  35.980000  -78.784478         NaN\n",
       "2997  eobs 2018-10-18  35.871294  -78.848110         NaN\n",
       "2998  eocm 2015-09-17  35.733860  -79.078891         NaN\n",
       "2999  eodb 2017-12-05  37.360900 -120.549000         NaN\n",
       "\n",
       "[3000 rows x 5 columns]"
      ]
     },
     "execution_count": 66,
     "metadata": {},
     "output_type": "execute_result"
    }
   ],
   "source": [
    "climate_5_day_zero_to_2999"
   ]
  },
  {
   "cell_type": "code",
   "execution_count": 67,
   "metadata": {
    "ExecuteTime": {
     "end_time": "2023-02-09T17:37:20.709761Z",
     "start_time": "2023-02-09T13:22:31.979837Z"
    }
   },
   "outputs": [],
   "source": [
    "for index in range(len(climate_5_day_zero_to_2999)):\n",
    "    row = climate_5_day_zero_to_2999.iloc[index]\n",
    "    \n",
    "    # getting temp data from one day prior\n",
    "    sample_date = row['date'] - timedelta(5)\n",
    "    sample_date = f'{sample_date:%Y%m%d}'\n",
    "    \n",
    "    # setting variables for lat/lon\n",
    "    sample_lat = row.latitude\n",
    "    sample_lon = row.longitude\n",
    "\n",
    "    # setting up access point to NOAA HRRR\n",
    "    sector = \"conus\" # continental united states\n",
    "    cycle = 18  # noon CST (times are in UTC)\n",
    "    forecast_hour = 1  # offset from cycle time\n",
    "    product = \"wrfsfcf\"  # 2D Pressure Levels\n",
    "    sample_date = sample_date  # sample date\n",
    "    file_path = f\"hrrr.t{cycle:02}z.{product}{forecast_hour:02}.grib2\"\n",
    "    url = f\"https://noaa-hrrr-bdp-pds.s3.amazonaws.com/hrrr.{sample_date}/{sector}/{file_path}\"\n",
    "    \n",
    "    # pulling the data from the request\n",
    "    resp = requests.get(url)\n",
    "    \n",
    "    # setting up temp file it will delete when closed\n",
    "    file = tempfile.NamedTemporaryFile(prefix=\"delete_later_\", delete=False)\n",
    "    \n",
    "    # now pulling actual data\n",
    "    with file as f:\n",
    "        f.write(resp.content)\n",
    "    try:\n",
    "        grbs = pygrib.open(file.name)\n",
    "\n",
    "        # grabbing surface temperature\n",
    "        temp_grb = grbs.select(name='Temperature', level=0)[0]\n",
    "\n",
    "        # getting lat/lon and temp matrices from results\n",
    "        lats, lons = temp_grb.latlons()\n",
    "        temps = temp_grb.values\n",
    "\n",
    "        # setting up lat/lon dfs\n",
    "        lats_df = pd.DataFrame(lats)\n",
    "        lons_df = pd.DataFrame(lons)\n",
    "\n",
    "        # slicing for location\n",
    "        lats_df = lats_df[(lats_df >(sample_lat-.05)) & (lats_df < (sample_lat+.05))].dropna(how='all')\n",
    "        lons_df = lons_df[(lons_df >(sample_lon-.05)) & (lons_df < (sample_lon+.05))].dropna(how='all')\n",
    "\n",
    "        # getting matching coordinates\n",
    "        matches = lons_df.where(lons_df.notnull()).where(lats_df.notnull()).dropna(how='all').dropna(axis=1, how='all')\n",
    "\n",
    "        # getting temperature results\n",
    "        temp_results = pd.DataFrame(temps)[matches.columns].loc[matches.index]\n",
    "\n",
    "        # getting the average\n",
    "        temp_results = temp_results.mean().mean()\n",
    "\n",
    "        # adding results back to row\n",
    "        climate_5_day_zero_to_2999['temp_5_day'].loc[row.name] = temp_results\n",
    "        grbs.close()\n",
    "        file.close()\n",
    "        os.remove(file.name)\n",
    "    except:\n",
    "        climate_5_day_zero_to_2999['temp_5_day'].loc[row.name] = np.NaN\n",
    "        grbs.close()\n",
    "        file.close()\n",
    "        os.remove(file.name)"
   ]
  },
  {
   "cell_type": "code",
   "execution_count": 69,
   "metadata": {
    "ExecuteTime": {
     "end_time": "2023-02-09T17:43:36.980455Z",
     "start_time": "2023-02-09T17:43:36.974947Z"
    }
   },
   "outputs": [
    {
     "data": {
      "text/plain": [
       "uid             0\n",
       "date            0\n",
       "latitude        0\n",
       "longitude       0\n",
       "temp_5_day    505\n",
       "dtype: int64"
      ]
     },
     "execution_count": 69,
     "metadata": {},
     "output_type": "execute_result"
    }
   ],
   "source": [
    "climate_5_day_zero_to_2999.isna().sum()"
   ]
  },
  {
   "cell_type": "code",
   "execution_count": 70,
   "metadata": {
    "ExecuteTime": {
     "end_time": "2023-02-09T17:45:07.278261Z",
     "start_time": "2023-02-09T17:45:07.267751Z"
    }
   },
   "outputs": [],
   "source": [
    "climate_5_day_zero_to_2999.to_pickle('../pickles/temperature_5_day/test_5_day_zero_to_2999.pkl')"
   ]
  },
  {
   "cell_type": "code",
   "execution_count": null,
   "metadata": {},
   "outputs": [],
   "source": []
  },
  {
   "cell_type": "markdown",
   "metadata": {},
   "source": [
    "More batch pulling"
   ]
  },
  {
   "cell_type": "code",
   "execution_count": 71,
   "metadata": {
    "ExecuteTime": {
     "end_time": "2023-02-09T17:46:00.169556Z",
     "start_time": "2023-02-09T17:46:00.154039Z"
    }
   },
   "outputs": [],
   "source": [
    "climate_5_day_9000_to_11999 = climate_train_df[9000:12000].drop('temp_1day', axis=1)"
   ]
  },
  {
   "cell_type": "code",
   "execution_count": 73,
   "metadata": {
    "ExecuteTime": {
     "end_time": "2023-02-09T17:46:23.392890Z",
     "start_time": "2023-02-09T17:46:23.385386Z"
    }
   },
   "outputs": [],
   "source": [
    "climate_5_day_9000_to_11999['temp_5_day'] = np.NaN"
   ]
  },
  {
   "cell_type": "code",
   "execution_count": 75,
   "metadata": {
    "ExecuteTime": {
     "end_time": "2023-02-09T17:46:33.922694Z",
     "start_time": "2023-02-09T17:46:33.904679Z"
    }
   },
   "outputs": [
    {
     "data": {
      "text/html": [
       "<div>\n",
       "<style scoped>\n",
       "    .dataframe tbody tr th:only-of-type {\n",
       "        vertical-align: middle;\n",
       "    }\n",
       "\n",
       "    .dataframe tbody tr th {\n",
       "        vertical-align: top;\n",
       "    }\n",
       "\n",
       "    .dataframe thead th {\n",
       "        text-align: right;\n",
       "    }\n",
       "</style>\n",
       "<table border=\"1\" class=\"dataframe\">\n",
       "  <thead>\n",
       "    <tr style=\"text-align: right;\">\n",
       "      <th></th>\n",
       "      <th>uid</th>\n",
       "      <th>date</th>\n",
       "      <th>latitude</th>\n",
       "      <th>longitude</th>\n",
       "      <th>temp_5_day</th>\n",
       "    </tr>\n",
       "  </thead>\n",
       "  <tbody>\n",
       "    <tr>\n",
       "      <th>9000</th>\n",
       "      <td>nrlc</td>\n",
       "      <td>2013-07-30</td>\n",
       "      <td>35.911388</td>\n",
       "      <td>-79.169003</td>\n",
       "      <td>NaN</td>\n",
       "    </tr>\n",
       "    <tr>\n",
       "      <th>9001</th>\n",
       "      <td>nrlp</td>\n",
       "      <td>2020-01-09</td>\n",
       "      <td>35.906016</td>\n",
       "      <td>-79.126002</td>\n",
       "      <td>NaN</td>\n",
       "    </tr>\n",
       "    <tr>\n",
       "      <th>9002</th>\n",
       "      <td>nrlw</td>\n",
       "      <td>2016-05-12</td>\n",
       "      <td>37.400800</td>\n",
       "      <td>-122.069000</td>\n",
       "      <td>NaN</td>\n",
       "    </tr>\n",
       "    <tr>\n",
       "      <th>9003</th>\n",
       "      <td>nrmk</td>\n",
       "      <td>2018-08-28</td>\n",
       "      <td>40.309670</td>\n",
       "      <td>-75.182017</td>\n",
       "      <td>NaN</td>\n",
       "    </tr>\n",
       "    <tr>\n",
       "      <th>9004</th>\n",
       "      <td>nrnd</td>\n",
       "      <td>2020-01-09</td>\n",
       "      <td>35.889338</td>\n",
       "      <td>-78.992524</td>\n",
       "      <td>NaN</td>\n",
       "    </tr>\n",
       "    <tr>\n",
       "      <th>...</th>\n",
       "      <td>...</td>\n",
       "      <td>...</td>\n",
       "      <td>...</td>\n",
       "      <td>...</td>\n",
       "      <td>...</td>\n",
       "    </tr>\n",
       "    <tr>\n",
       "      <th>11995</th>\n",
       "      <td>sfco</td>\n",
       "      <td>2019-11-14</td>\n",
       "      <td>35.790000</td>\n",
       "      <td>-79.030644</td>\n",
       "      <td>NaN</td>\n",
       "    </tr>\n",
       "    <tr>\n",
       "      <th>11996</th>\n",
       "      <td>sfdi</td>\n",
       "      <td>2014-02-24</td>\n",
       "      <td>35.976000</td>\n",
       "      <td>-78.723580</td>\n",
       "      <td>NaN</td>\n",
       "    </tr>\n",
       "    <tr>\n",
       "      <th>11997</th>\n",
       "      <td>sfdl</td>\n",
       "      <td>2018-09-20</td>\n",
       "      <td>36.010000</td>\n",
       "      <td>-78.964437</td>\n",
       "      <td>NaN</td>\n",
       "    </tr>\n",
       "    <tr>\n",
       "      <th>11998</th>\n",
       "      <td>sfeh</td>\n",
       "      <td>2018-08-28</td>\n",
       "      <td>35.717606</td>\n",
       "      <td>-79.142018</td>\n",
       "      <td>NaN</td>\n",
       "    </tr>\n",
       "    <tr>\n",
       "      <th>11999</th>\n",
       "      <td>sfei</td>\n",
       "      <td>2018-06-13</td>\n",
       "      <td>35.902475</td>\n",
       "      <td>-79.097666</td>\n",
       "      <td>NaN</td>\n",
       "    </tr>\n",
       "  </tbody>\n",
       "</table>\n",
       "<p>3000 rows × 5 columns</p>\n",
       "</div>"
      ],
      "text/plain": [
       "        uid       date   latitude   longitude  temp_5_day\n",
       "9000   nrlc 2013-07-30  35.911388  -79.169003         NaN\n",
       "9001   nrlp 2020-01-09  35.906016  -79.126002         NaN\n",
       "9002   nrlw 2016-05-12  37.400800 -122.069000         NaN\n",
       "9003   nrmk 2018-08-28  40.309670  -75.182017         NaN\n",
       "9004   nrnd 2020-01-09  35.889338  -78.992524         NaN\n",
       "...     ...        ...        ...         ...         ...\n",
       "11995  sfco 2019-11-14  35.790000  -79.030644         NaN\n",
       "11996  sfdi 2014-02-24  35.976000  -78.723580         NaN\n",
       "11997  sfdl 2018-09-20  36.010000  -78.964437         NaN\n",
       "11998  sfeh 2018-08-28  35.717606  -79.142018         NaN\n",
       "11999  sfei 2018-06-13  35.902475  -79.097666         NaN\n",
       "\n",
       "[3000 rows x 5 columns]"
      ]
     },
     "execution_count": 75,
     "metadata": {},
     "output_type": "execute_result"
    }
   ],
   "source": [
    "climate_5_day_9000_to_11999"
   ]
  },
  {
   "cell_type": "code",
   "execution_count": 76,
   "metadata": {
    "ExecuteTime": {
     "end_time": "2023-02-09T22:31:48.996450Z",
     "start_time": "2023-02-09T17:47:11.703435Z"
    }
   },
   "outputs": [],
   "source": [
    "for index in range(len(climate_5_day_9000_to_11999)):\n",
    "    row = climate_5_day_9000_to_11999.iloc[index]\n",
    "    \n",
    "    # getting temp data from one day prior\n",
    "    sample_date = row['date'] - timedelta(5)\n",
    "    sample_date = f'{sample_date:%Y%m%d}'\n",
    "    \n",
    "    # setting variables for lat/lon\n",
    "    sample_lat = row.latitude\n",
    "    sample_lon = row.longitude\n",
    "\n",
    "    # setting up access point to NOAA HRRR\n",
    "    sector = \"conus\" # continental united states\n",
    "    cycle = 18  # noon CST (times are in UTC)\n",
    "    forecast_hour = 1  # offset from cycle time\n",
    "    product = \"wrfsfcf\"  # 2D Pressure Levels\n",
    "    sample_date = sample_date  # sample date\n",
    "    file_path = f\"hrrr.t{cycle:02}z.{product}{forecast_hour:02}.grib2\"\n",
    "    url = f\"https://noaa-hrrr-bdp-pds.s3.amazonaws.com/hrrr.{sample_date}/{sector}/{file_path}\"\n",
    "    \n",
    "    # pulling the data from the request\n",
    "    resp = requests.get(url)\n",
    "    \n",
    "    # setting up temp file it will delete when closed\n",
    "    file = tempfile.NamedTemporaryFile(prefix=\"delete_later_\", delete=False)\n",
    "    \n",
    "    # now pulling actual data\n",
    "    with file as f:\n",
    "        f.write(resp.content)\n",
    "    try:\n",
    "        grbs = pygrib.open(file.name)\n",
    "\n",
    "        # grabbing surface temperature\n",
    "        temp_grb = grbs.select(name='Temperature', level=0)[0]\n",
    "\n",
    "        # getting lat/lon and temp matrices from results\n",
    "        lats, lons = temp_grb.latlons()\n",
    "        temps = temp_grb.values\n",
    "\n",
    "        # setting up lat/lon dfs\n",
    "        lats_df = pd.DataFrame(lats)\n",
    "        lons_df = pd.DataFrame(lons)\n",
    "\n",
    "        # slicing for location\n",
    "        lats_df = lats_df[(lats_df >(sample_lat-.05)) & (lats_df < (sample_lat+.05))].dropna(how='all')\n",
    "        lons_df = lons_df[(lons_df >(sample_lon-.05)) & (lons_df < (sample_lon+.05))].dropna(how='all')\n",
    "\n",
    "        # getting matching coordinates\n",
    "        matches = lons_df.where(lons_df.notnull()).where(lats_df.notnull()).dropna(how='all').dropna(axis=1, how='all')\n",
    "\n",
    "        # getting temperature results\n",
    "        temp_results = pd.DataFrame(temps)[matches.columns].loc[matches.index]\n",
    "\n",
    "        # getting the average\n",
    "        temp_results = temp_results.mean().mean()\n",
    "\n",
    "        # adding results back to row\n",
    "        climate_5_day_9000_to_11999['temp_5_day'].loc[row.name] = temp_results\n",
    "        grbs.close()\n",
    "        file.close()\n",
    "        os.remove(file.name)\n",
    "    except:\n",
    "        climate_5_day_9000_to_11999['temp_5_day'].loc[row.name] = np.NaN\n",
    "        grbs.close()\n",
    "        file.close()\n",
    "        os.remove(file.name)"
   ]
  },
  {
   "cell_type": "code",
   "execution_count": 77,
   "metadata": {
    "ExecuteTime": {
     "end_time": "2023-02-09T22:32:48.465850Z",
     "start_time": "2023-02-09T22:32:48.458844Z"
    }
   },
   "outputs": [
    {
     "data": {
      "text/plain": [
       "uid             0\n",
       "date            0\n",
       "latitude        0\n",
       "longitude       0\n",
       "temp_5_day    510\n",
       "dtype: int64"
      ]
     },
     "execution_count": 77,
     "metadata": {},
     "output_type": "execute_result"
    }
   ],
   "source": [
    "climate_5_day_9000_to_11999.isna().sum()"
   ]
  },
  {
   "cell_type": "code",
   "execution_count": 78,
   "metadata": {
    "ExecuteTime": {
     "end_time": "2023-02-09T22:33:32.999226Z",
     "start_time": "2023-02-09T22:33:32.986388Z"
    }
   },
   "outputs": [],
   "source": [
    "climate_5_day_9000_to_11999.to_pickle('../pickles/temperature_5_day/test_5_day_9000_to_11999.pkl')"
   ]
  },
  {
   "cell_type": "code",
   "execution_count": null,
   "metadata": {},
   "outputs": [],
   "source": []
  },
  {
   "cell_type": "markdown",
   "metadata": {},
   "source": [
    "# Pulling Test Data"
   ]
  },
  {
   "cell_type": "code",
   "execution_count": 79,
   "metadata": {
    "ExecuteTime": {
     "end_time": "2023-02-09T22:34:31.979661Z",
     "start_time": "2023-02-09T22:34:31.962634Z"
    }
   },
   "outputs": [
    {
     "data": {
      "text/html": [
       "<div>\n",
       "<style scoped>\n",
       "    .dataframe tbody tr th:only-of-type {\n",
       "        vertical-align: middle;\n",
       "    }\n",
       "\n",
       "    .dataframe tbody tr th {\n",
       "        vertical-align: top;\n",
       "    }\n",
       "\n",
       "    .dataframe thead th {\n",
       "        text-align: right;\n",
       "    }\n",
       "</style>\n",
       "<table border=\"1\" class=\"dataframe\">\n",
       "  <thead>\n",
       "    <tr style=\"text-align: right;\">\n",
       "      <th></th>\n",
       "      <th>uid</th>\n",
       "      <th>latitude</th>\n",
       "      <th>longitude</th>\n",
       "      <th>date</th>\n",
       "      <th>split</th>\n",
       "      <th>date_range</th>\n",
       "      <th>bbox</th>\n",
       "      <th>big_crop_bbox</th>\n",
       "      <th>small_crop_bbox</th>\n",
       "      <th>tiny_crop_bbox</th>\n",
       "    </tr>\n",
       "  </thead>\n",
       "  <tbody>\n",
       "    <tr>\n",
       "      <th>1</th>\n",
       "      <td>aabn</td>\n",
       "      <td>36.559700</td>\n",
       "      <td>-121.510000</td>\n",
       "      <td>2016-08-31</td>\n",
       "      <td>test</td>\n",
       "      <td>2016-08-16/2016-08-31</td>\n",
       "      <td>[-122.06728147535146, 36.11010270440991, -120....</td>\n",
       "      <td>[-121.5435112111439, 36.532665461053185, -121....</td>\n",
       "      <td>[-121.515585202077, 36.55519425204005, -121.50...</td>\n",
       "      <td>[-121.51111704041661, 36.558798850681036, -121...</td>\n",
       "    </tr>\n",
       "    <tr>\n",
       "      <th>12</th>\n",
       "      <td>aair</td>\n",
       "      <td>33.042600</td>\n",
       "      <td>-117.076000</td>\n",
       "      <td>2014-11-01</td>\n",
       "      <td>test</td>\n",
       "      <td>2014-10-17/2014-11-01</td>\n",
       "      <td>[-117.61009863726893, 32.59274323647839, -116....</td>\n",
       "      <td>[-117.10811706657985, 33.01554981570179, -117....</td>\n",
       "      <td>[-117.08135284459203, 33.038091644106125, -117...</td>\n",
       "      <td>[-117.07707056891928, 33.04169832908225, -117....</td>\n",
       "    </tr>\n",
       "    <tr>\n",
       "      <th>14</th>\n",
       "      <td>aajw</td>\n",
       "      <td>40.703968</td>\n",
       "      <td>-80.293050</td>\n",
       "      <td>2015-08-26</td>\n",
       "      <td>test</td>\n",
       "      <td>2015-08-11/2015-08-26</td>\n",
       "      <td>[-80.88337803767597, 40.25468908822623, -79.70...</td>\n",
       "      <td>[-80.32854854873526, 40.67695263815303, -80.25...</td>\n",
       "      <td>[-80.29896642510222, 40.69946544849961, -80.28...</td>\n",
       "      <td>[-80.29423328502216, 40.70306748998178, -80.29...</td>\n",
       "    </tr>\n",
       "    <tr>\n",
       "      <th>15</th>\n",
       "      <td>aalr</td>\n",
       "      <td>38.972500</td>\n",
       "      <td>-94.672930</td>\n",
       "      <td>2019-08-26</td>\n",
       "      <td>test</td>\n",
       "      <td>2019-08-11/2019-08-26</td>\n",
       "      <td>[-95.24861707921355, 38.52308678636033, -94.09...</td>\n",
       "      <td>[-94.70754807529491, 38.94547655142336, -94.63...</td>\n",
       "      <td>[-94.67869967948583, 38.967996100618144, -94.6...</td>\n",
       "      <td>[-94.67408393589864, 38.9715992204025, -94.671...</td>\n",
       "    </tr>\n",
       "    <tr>\n",
       "      <th>16</th>\n",
       "      <td>aalw</td>\n",
       "      <td>34.279000</td>\n",
       "      <td>-118.905000</td>\n",
       "      <td>2018-01-08</td>\n",
       "      <td>test</td>\n",
       "      <td>2017-12-24/2018-01-08</td>\n",
       "      <td>[-119.4467929788552, 33.8292330501594, -118.36...</td>\n",
       "      <td>[-118.9375797794295, 34.25195523312282, -118.8...</td>\n",
       "      <td>[-118.91042996341874, 34.27449254715601, -118....</td>\n",
       "      <td>[-118.90608599268474, 34.278098509696896, -118...</td>\n",
       "    </tr>\n",
       "    <tr>\n",
       "      <th>...</th>\n",
       "      <td>...</td>\n",
       "      <td>...</td>\n",
       "      <td>...</td>\n",
       "      <td>...</td>\n",
       "      <td>...</td>\n",
       "      <td>...</td>\n",
       "      <td>...</td>\n",
       "      <td>...</td>\n",
       "      <td>...</td>\n",
       "      <td>...</td>\n",
       "    </tr>\n",
       "    <tr>\n",
       "      <th>23556</th>\n",
       "      <td>zzpn</td>\n",
       "      <td>40.136410</td>\n",
       "      <td>-80.473740</td>\n",
       "      <td>2019-07-08</td>\n",
       "      <td>test</td>\n",
       "      <td>2019-06-23/2019-07-08</td>\n",
       "      <td>[-81.05912818813123, 39.68708689981045, -79.88...</td>\n",
       "      <td>[-80.50894147707801, 40.109391977843785, -80.4...</td>\n",
       "      <td>[-80.47960691314455, 40.13190700508773, -80.46...</td>\n",
       "      <td>[-80.47491338263055, 40.135509401298535, -80.4...</td>\n",
       "    </tr>\n",
       "    <tr>\n",
       "      <th>23560</th>\n",
       "      <td>zzrv</td>\n",
       "      <td>36.875400</td>\n",
       "      <td>-121.561000</td>\n",
       "      <td>2019-09-17</td>\n",
       "      <td>test</td>\n",
       "      <td>2019-09-02/2019-09-17</td>\n",
       "      <td>[-122.12056637153098, 36.42582654778677, -121....</td>\n",
       "      <td>[-121.59464861835495, 36.84836689796303, -121....</td>\n",
       "      <td>[-121.56660810328488, 36.87089449155248, -121....</td>\n",
       "      <td>[-121.56212162065822, 36.874498898584385, -121...</td>\n",
       "    </tr>\n",
       "    <tr>\n",
       "      <th>23563</th>\n",
       "      <td>zzsx</td>\n",
       "      <td>34.210000</td>\n",
       "      <td>-78.929389</td>\n",
       "      <td>2019-07-16</td>\n",
       "      <td>test</td>\n",
       "      <td>2019-07-01/2019-07-16</td>\n",
       "      <td>[-79.47074052554173, 33.76022799509967, -78.38...</td>\n",
       "      <td>[-78.96194266651197, 34.18295492826331, -78.89...</td>\n",
       "      <td>[-78.93481499668458, 34.20549249633833, -78.92...</td>\n",
       "      <td>[-78.93047456934094, 34.20909849953312, -78.92...</td>\n",
       "    </tr>\n",
       "    <tr>\n",
       "      <th>23565</th>\n",
       "      <td>zzvv</td>\n",
       "      <td>36.708500</td>\n",
       "      <td>-121.749000</td>\n",
       "      <td>2014-12-02</td>\n",
       "      <td>test</td>\n",
       "      <td>2014-11-17/2014-12-02</td>\n",
       "      <td>[-122.3073539765973, 36.258913932623976, -121....</td>\n",
       "      <td>[-121.78257570833028, 36.68146613773213, -121....</td>\n",
       "      <td>[-121.7545959516109, 36.70399436483295, -121.7...</td>\n",
       "      <td>[-121.75011919032339, 36.70759887324003, -121....</td>\n",
       "    </tr>\n",
       "    <tr>\n",
       "      <th>23569</th>\n",
       "      <td>zzzi</td>\n",
       "      <td>39.767323</td>\n",
       "      <td>-96.028617</td>\n",
       "      <td>2015-08-31</td>\n",
       "      <td>test</td>\n",
       "      <td>2015-08-16/2015-08-31</td>\n",
       "      <td>[-96.61086748501152, 39.3179712460976, -95.446...</td>\n",
       "      <td>[-96.06362978280316, 39.740303252567635, -95.9...</td>\n",
       "      <td>[-96.03445246408948, 39.7628197175223, -96.022...</td>\n",
       "      <td>[-96.02978409281948, 39.76642234378483, -96.02...</td>\n",
       "    </tr>\n",
       "  </tbody>\n",
       "</table>\n",
       "<p>6510 rows × 10 columns</p>\n",
       "</div>"
      ],
      "text/plain": [
       "        uid   latitude   longitude       date split             date_range  \\\n",
       "1      aabn  36.559700 -121.510000 2016-08-31  test  2016-08-16/2016-08-31   \n",
       "12     aair  33.042600 -117.076000 2014-11-01  test  2014-10-17/2014-11-01   \n",
       "14     aajw  40.703968  -80.293050 2015-08-26  test  2015-08-11/2015-08-26   \n",
       "15     aalr  38.972500  -94.672930 2019-08-26  test  2019-08-11/2019-08-26   \n",
       "16     aalw  34.279000 -118.905000 2018-01-08  test  2017-12-24/2018-01-08   \n",
       "...     ...        ...         ...        ...   ...                    ...   \n",
       "23556  zzpn  40.136410  -80.473740 2019-07-08  test  2019-06-23/2019-07-08   \n",
       "23560  zzrv  36.875400 -121.561000 2019-09-17  test  2019-09-02/2019-09-17   \n",
       "23563  zzsx  34.210000  -78.929389 2019-07-16  test  2019-07-01/2019-07-16   \n",
       "23565  zzvv  36.708500 -121.749000 2014-12-02  test  2014-11-17/2014-12-02   \n",
       "23569  zzzi  39.767323  -96.028617 2015-08-31  test  2015-08-16/2015-08-31   \n",
       "\n",
       "                                                    bbox  \\\n",
       "1      [-122.06728147535146, 36.11010270440991, -120....   \n",
       "12     [-117.61009863726893, 32.59274323647839, -116....   \n",
       "14     [-80.88337803767597, 40.25468908822623, -79.70...   \n",
       "15     [-95.24861707921355, 38.52308678636033, -94.09...   \n",
       "16     [-119.4467929788552, 33.8292330501594, -118.36...   \n",
       "...                                                  ...   \n",
       "23556  [-81.05912818813123, 39.68708689981045, -79.88...   \n",
       "23560  [-122.12056637153098, 36.42582654778677, -121....   \n",
       "23563  [-79.47074052554173, 33.76022799509967, -78.38...   \n",
       "23565  [-122.3073539765973, 36.258913932623976, -121....   \n",
       "23569  [-96.61086748501152, 39.3179712460976, -95.446...   \n",
       "\n",
       "                                           big_crop_bbox  \\\n",
       "1      [-121.5435112111439, 36.532665461053185, -121....   \n",
       "12     [-117.10811706657985, 33.01554981570179, -117....   \n",
       "14     [-80.32854854873526, 40.67695263815303, -80.25...   \n",
       "15     [-94.70754807529491, 38.94547655142336, -94.63...   \n",
       "16     [-118.9375797794295, 34.25195523312282, -118.8...   \n",
       "...                                                  ...   \n",
       "23556  [-80.50894147707801, 40.109391977843785, -80.4...   \n",
       "23560  [-121.59464861835495, 36.84836689796303, -121....   \n",
       "23563  [-78.96194266651197, 34.18295492826331, -78.89...   \n",
       "23565  [-121.78257570833028, 36.68146613773213, -121....   \n",
       "23569  [-96.06362978280316, 39.740303252567635, -95.9...   \n",
       "\n",
       "                                         small_crop_bbox  \\\n",
       "1      [-121.515585202077, 36.55519425204005, -121.50...   \n",
       "12     [-117.08135284459203, 33.038091644106125, -117...   \n",
       "14     [-80.29896642510222, 40.69946544849961, -80.28...   \n",
       "15     [-94.67869967948583, 38.967996100618144, -94.6...   \n",
       "16     [-118.91042996341874, 34.27449254715601, -118....   \n",
       "...                                                  ...   \n",
       "23556  [-80.47960691314455, 40.13190700508773, -80.46...   \n",
       "23560  [-121.56660810328488, 36.87089449155248, -121....   \n",
       "23563  [-78.93481499668458, 34.20549249633833, -78.92...   \n",
       "23565  [-121.7545959516109, 36.70399436483295, -121.7...   \n",
       "23569  [-96.03445246408948, 39.7628197175223, -96.022...   \n",
       "\n",
       "                                          tiny_crop_bbox  \n",
       "1      [-121.51111704041661, 36.558798850681036, -121...  \n",
       "12     [-117.07707056891928, 33.04169832908225, -117....  \n",
       "14     [-80.29423328502216, 40.70306748998178, -80.29...  \n",
       "15     [-94.67408393589864, 38.9715992204025, -94.671...  \n",
       "16     [-118.90608599268474, 34.278098509696896, -118...  \n",
       "...                                                  ...  \n",
       "23556  [-80.47491338263055, 40.135509401298535, -80.4...  \n",
       "23560  [-121.56212162065822, 36.874498898584385, -121...  \n",
       "23563  [-78.93047456934094, 34.20909849953312, -78.92...  \n",
       "23565  [-121.75011919032339, 36.70759887324003, -121....  \n",
       "23569  [-96.02978409281948, 39.76642234378483, -96.02...  \n",
       "\n",
       "[6510 rows x 10 columns]"
      ]
     },
     "execution_count": 79,
     "metadata": {},
     "output_type": "execute_result"
    }
   ],
   "source": [
    "sat_test"
   ]
  },
  {
   "cell_type": "code",
   "execution_count": 83,
   "metadata": {
    "ExecuteTime": {
     "end_time": "2023-02-09T22:38:31.234814Z",
     "start_time": "2023-02-09T22:38:31.215787Z"
    }
   },
   "outputs": [],
   "source": [
    "test_5_day_0_to_3255 = sat_test[['uid', 'date', 'latitude', 'longitude']][:3255].copy()"
   ]
  },
  {
   "cell_type": "code",
   "execution_count": 84,
   "metadata": {
    "ExecuteTime": {
     "end_time": "2023-02-09T22:38:31.854802Z",
     "start_time": "2023-02-09T22:38:31.847299Z"
    }
   },
   "outputs": [],
   "source": [
    "test_5_day_0_to_3255['temp_5_day'] = np.NaN"
   ]
  },
  {
   "cell_type": "code",
   "execution_count": 85,
   "metadata": {
    "ExecuteTime": {
     "end_time": "2023-02-09T22:38:42.700966Z",
     "start_time": "2023-02-09T22:38:42.687910Z"
    }
   },
   "outputs": [
    {
     "data": {
      "text/html": [
       "<div>\n",
       "<style scoped>\n",
       "    .dataframe tbody tr th:only-of-type {\n",
       "        vertical-align: middle;\n",
       "    }\n",
       "\n",
       "    .dataframe tbody tr th {\n",
       "        vertical-align: top;\n",
       "    }\n",
       "\n",
       "    .dataframe thead th {\n",
       "        text-align: right;\n",
       "    }\n",
       "</style>\n",
       "<table border=\"1\" class=\"dataframe\">\n",
       "  <thead>\n",
       "    <tr style=\"text-align: right;\">\n",
       "      <th></th>\n",
       "      <th>uid</th>\n",
       "      <th>date</th>\n",
       "      <th>latitude</th>\n",
       "      <th>longitude</th>\n",
       "      <th>temp_5_day</th>\n",
       "    </tr>\n",
       "  </thead>\n",
       "  <tbody>\n",
       "    <tr>\n",
       "      <th>1</th>\n",
       "      <td>aabn</td>\n",
       "      <td>2016-08-31</td>\n",
       "      <td>36.559700</td>\n",
       "      <td>-121.510000</td>\n",
       "      <td>NaN</td>\n",
       "    </tr>\n",
       "    <tr>\n",
       "      <th>12</th>\n",
       "      <td>aair</td>\n",
       "      <td>2014-11-01</td>\n",
       "      <td>33.042600</td>\n",
       "      <td>-117.076000</td>\n",
       "      <td>NaN</td>\n",
       "    </tr>\n",
       "    <tr>\n",
       "      <th>14</th>\n",
       "      <td>aajw</td>\n",
       "      <td>2015-08-26</td>\n",
       "      <td>40.703968</td>\n",
       "      <td>-80.293050</td>\n",
       "      <td>NaN</td>\n",
       "    </tr>\n",
       "    <tr>\n",
       "      <th>15</th>\n",
       "      <td>aalr</td>\n",
       "      <td>2019-08-26</td>\n",
       "      <td>38.972500</td>\n",
       "      <td>-94.672930</td>\n",
       "      <td>NaN</td>\n",
       "    </tr>\n",
       "    <tr>\n",
       "      <th>16</th>\n",
       "      <td>aalw</td>\n",
       "      <td>2018-01-08</td>\n",
       "      <td>34.279000</td>\n",
       "      <td>-118.905000</td>\n",
       "      <td>NaN</td>\n",
       "    </tr>\n",
       "    <tr>\n",
       "      <th>...</th>\n",
       "      <td>...</td>\n",
       "      <td>...</td>\n",
       "      <td>...</td>\n",
       "      <td>...</td>\n",
       "      <td>...</td>\n",
       "    </tr>\n",
       "    <tr>\n",
       "      <th>11825</th>\n",
       "      <td>mzkw</td>\n",
       "      <td>2018-08-28</td>\n",
       "      <td>34.210000</td>\n",
       "      <td>-78.924915</td>\n",
       "      <td>NaN</td>\n",
       "    </tr>\n",
       "    <tr>\n",
       "      <th>11835</th>\n",
       "      <td>mzos</td>\n",
       "      <td>2019-09-29</td>\n",
       "      <td>35.130000</td>\n",
       "      <td>-78.724077</td>\n",
       "      <td>NaN</td>\n",
       "    </tr>\n",
       "    <tr>\n",
       "      <th>11839</th>\n",
       "      <td>mzqi</td>\n",
       "      <td>2017-07-12</td>\n",
       "      <td>40.910270</td>\n",
       "      <td>-79.221386</td>\n",
       "      <td>NaN</td>\n",
       "    </tr>\n",
       "    <tr>\n",
       "      <th>11843</th>\n",
       "      <td>mztb</td>\n",
       "      <td>2020-09-29</td>\n",
       "      <td>36.963400</td>\n",
       "      <td>-121.491000</td>\n",
       "      <td>NaN</td>\n",
       "    </tr>\n",
       "    <tr>\n",
       "      <th>11851</th>\n",
       "      <td>nacj</td>\n",
       "      <td>2020-12-09</td>\n",
       "      <td>35.550000</td>\n",
       "      <td>-78.020000</td>\n",
       "      <td>NaN</td>\n",
       "    </tr>\n",
       "  </tbody>\n",
       "</table>\n",
       "<p>3255 rows × 5 columns</p>\n",
       "</div>"
      ],
      "text/plain": [
       "        uid       date   latitude   longitude  temp_5_day\n",
       "1      aabn 2016-08-31  36.559700 -121.510000         NaN\n",
       "12     aair 2014-11-01  33.042600 -117.076000         NaN\n",
       "14     aajw 2015-08-26  40.703968  -80.293050         NaN\n",
       "15     aalr 2019-08-26  38.972500  -94.672930         NaN\n",
       "16     aalw 2018-01-08  34.279000 -118.905000         NaN\n",
       "...     ...        ...        ...         ...         ...\n",
       "11825  mzkw 2018-08-28  34.210000  -78.924915         NaN\n",
       "11835  mzos 2019-09-29  35.130000  -78.724077         NaN\n",
       "11839  mzqi 2017-07-12  40.910270  -79.221386         NaN\n",
       "11843  mztb 2020-09-29  36.963400 -121.491000         NaN\n",
       "11851  nacj 2020-12-09  35.550000  -78.020000         NaN\n",
       "\n",
       "[3255 rows x 5 columns]"
      ]
     },
     "execution_count": 85,
     "metadata": {},
     "output_type": "execute_result"
    }
   ],
   "source": [
    "test_5_day_0_to_3255"
   ]
  },
  {
   "cell_type": "code",
   "execution_count": null,
   "metadata": {
    "ExecuteTime": {
     "start_time": "2023-02-09T22:39:19.214Z"
    }
   },
   "outputs": [],
   "source": [
    "for index in range(len(test_5_day_0_to_3255)):\n",
    "    row = test_5_day_0_to_3255.iloc[index]\n",
    "    \n",
    "    # getting temp data from one day prior\n",
    "    sample_date = row['date'] - timedelta(5)\n",
    "    sample_date = f'{sample_date:%Y%m%d}'\n",
    "    \n",
    "    # setting variables for lat/lon\n",
    "    sample_lat = row.latitude\n",
    "    sample_lon = row.longitude\n",
    "\n",
    "    # setting up access point to NOAA HRRR\n",
    "    sector = \"conus\" # continental united states\n",
    "    cycle = 18  # noon CST (times are in UTC)\n",
    "    forecast_hour = 1  # offset from cycle time\n",
    "    product = \"wrfsfcf\"  # 2D Pressure Levels\n",
    "    sample_date = sample_date  # sample date\n",
    "    file_path = f\"hrrr.t{cycle:02}z.{product}{forecast_hour:02}.grib2\"\n",
    "    url = f\"https://noaa-hrrr-bdp-pds.s3.amazonaws.com/hrrr.{sample_date}/{sector}/{file_path}\"\n",
    "    \n",
    "    # pulling the data from the request\n",
    "    resp = requests.get(url)\n",
    "    \n",
    "    # setting up temp file it will delete when closed\n",
    "    file = tempfile.NamedTemporaryFile(prefix=\"delete_later_\", delete=False)\n",
    "    \n",
    "    # now pulling actual data\n",
    "    with file as f:\n",
    "        f.write(resp.content)\n",
    "    try:\n",
    "        grbs = pygrib.open(file.name)\n",
    "\n",
    "        # grabbing surface temperature\n",
    "        temp_grb = grbs.select(name='Temperature', level=0)[0]\n",
    "\n",
    "        # getting lat/lon and temp matrices from results\n",
    "        lats, lons = temp_grb.latlons()\n",
    "        temps = temp_grb.values\n",
    "\n",
    "        # setting up lat/lon dfs\n",
    "        lats_df = pd.DataFrame(lats)\n",
    "        lons_df = pd.DataFrame(lons)\n",
    "\n",
    "        # slicing for location\n",
    "        lats_df = lats_df[(lats_df >(sample_lat-.05)) & (lats_df < (sample_lat+.05))].dropna(how='all')\n",
    "        lons_df = lons_df[(lons_df >(sample_lon-.05)) & (lons_df < (sample_lon+.05))].dropna(how='all')\n",
    "\n",
    "        # getting matching coordinates\n",
    "        matches = lons_df.where(lons_df.notnull()).where(lats_df.notnull()).dropna(how='all').dropna(axis=1, how='all')\n",
    "\n",
    "        # getting temperature results\n",
    "        temp_results = pd.DataFrame(temps)[matches.columns].loc[matches.index]\n",
    "\n",
    "        # getting the average\n",
    "        temp_results = temp_results.mean().mean()\n",
    "\n",
    "        # adding results back to row\n",
    "        test_5_day_0_to_3255['temp_5_day'].loc[row.name] = temp_results\n",
    "        grbs.close()\n",
    "        file.close()\n",
    "        os.remove(file.name)\n",
    "    except:\n",
    "        test_5_day_0_to_3255['temp_5_day'].loc[row.name] = np.NaN\n",
    "        grbs.close()\n",
    "        file.close()\n",
    "        os.remove(file.name)"
   ]
  },
  {
   "cell_type": "code",
   "execution_count": null,
   "metadata": {},
   "outputs": [],
   "source": []
  }
 ],
 "metadata": {
  "kernelspec": {
   "display_name": "Python (capstone)",
   "language": "python",
   "name": "capstone"
  },
  "language_info": {
   "codemirror_mode": {
    "name": "ipython",
    "version": 3
   },
   "file_extension": ".py",
   "mimetype": "text/x-python",
   "name": "python",
   "nbconvert_exporter": "python",
   "pygments_lexer": "ipython3",
   "version": "3.10.8"
  },
  "toc": {
   "base_numbering": 1,
   "nav_menu": {},
   "number_sections": true,
   "sideBar": false,
   "skip_h1_title": false,
   "title_cell": "Table of Contents",
   "title_sidebar": "Contents",
   "toc_cell": true,
   "toc_position": {},
   "toc_section_display": true,
   "toc_window_display": false
  },
  "varInspector": {
   "cols": {
    "lenName": 16,
    "lenType": 16,
    "lenVar": 40
   },
   "kernels_config": {
    "python": {
     "delete_cmd_postfix": "",
     "delete_cmd_prefix": "del ",
     "library": "var_list.py",
     "varRefreshCmd": "print(var_dic_list())"
    },
    "r": {
     "delete_cmd_postfix": ") ",
     "delete_cmd_prefix": "rm(",
     "library": "var_list.r",
     "varRefreshCmd": "cat(var_dic_list()) "
    }
   },
   "types_to_exclude": [
    "module",
    "function",
    "builtin_function_or_method",
    "instance",
    "_Feature"
   ],
   "window_display": false
  }
 },
 "nbformat": 4,
 "nbformat_minor": 4
}
